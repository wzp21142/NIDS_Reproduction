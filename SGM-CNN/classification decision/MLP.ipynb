{
 "cells": [
  {
   "cell_type": "code",
   "execution_count": 1,
   "metadata": {},
   "outputs": [],
   "source": [
    "import os\n",
    "# os.environ[\"CUDA_VISIBLE_DEVICES\"] = \"1\""
   ]
  },
  {
   "cell_type": "code",
   "execution_count": 2,
   "metadata": {},
   "outputs": [
    {
     "name": "stderr",
     "output_type": "stream",
     "text": [
      "Using TensorFlow backend.\n",
      "f:\\anaconda\\envs\\py37\\lib\\site-packages\\tensorflow\\python\\framework\\dtypes.py:526: FutureWarning: Passing (type, 1) or '1type' as a synonym of type is deprecated; in a future version of numpy, it will be understood as (type, (1,)) / '(1,)type'.\n",
      "  _np_qint8 = np.dtype([(\"qint8\", np.int8, 1)])\n",
      "f:\\anaconda\\envs\\py37\\lib\\site-packages\\tensorflow\\python\\framework\\dtypes.py:527: FutureWarning: Passing (type, 1) or '1type' as a synonym of type is deprecated; in a future version of numpy, it will be understood as (type, (1,)) / '(1,)type'.\n",
      "  _np_quint8 = np.dtype([(\"quint8\", np.uint8, 1)])\n",
      "f:\\anaconda\\envs\\py37\\lib\\site-packages\\tensorflow\\python\\framework\\dtypes.py:528: FutureWarning: Passing (type, 1) or '1type' as a synonym of type is deprecated; in a future version of numpy, it will be understood as (type, (1,)) / '(1,)type'.\n",
      "  _np_qint16 = np.dtype([(\"qint16\", np.int16, 1)])\n",
      "f:\\anaconda\\envs\\py37\\lib\\site-packages\\tensorflow\\python\\framework\\dtypes.py:529: FutureWarning: Passing (type, 1) or '1type' as a synonym of type is deprecated; in a future version of numpy, it will be understood as (type, (1,)) / '(1,)type'.\n",
      "  _np_quint16 = np.dtype([(\"quint16\", np.uint16, 1)])\n",
      "f:\\anaconda\\envs\\py37\\lib\\site-packages\\tensorflow\\python\\framework\\dtypes.py:530: FutureWarning: Passing (type, 1) or '1type' as a synonym of type is deprecated; in a future version of numpy, it will be understood as (type, (1,)) / '(1,)type'.\n",
      "  _np_qint32 = np.dtype([(\"qint32\", np.int32, 1)])\n",
      "f:\\anaconda\\envs\\py37\\lib\\site-packages\\tensorflow\\python\\framework\\dtypes.py:535: FutureWarning: Passing (type, 1) or '1type' as a synonym of type is deprecated; in a future version of numpy, it will be understood as (type, (1,)) / '(1,)type'.\n",
      "  np_resource = np.dtype([(\"resource\", np.ubyte, 1)])\n"
     ]
    }
   ],
   "source": [
    "import numpy as np\n",
    "import pandas as pd\n",
    "from keras.utils import np_utils\n",
    "from keras.models import Sequential\n",
    "from keras.layers import Dense\n",
    "from keras.layers import Dropout\n",
    "\n",
    "\n",
    "import matplotlib.pyplot as plt\n",
    "import os"
   ]
  },
  {
   "cell_type": "code",
   "execution_count": 3,
   "metadata": {},
   "outputs": [
    {
     "name": "stdout",
     "output_type": "stream",
     "text": [
      "(1778030, 12) (1778030, 1) (508012, 12) (508012, 1) (254005, 12) (254005, 1)\n"
     ]
    }
   ],
   "source": [
    "x_train = np.load('E:/IDS/alldata/12/RUS+SMOTE/data.npy')\n",
    "y_train = np.load('E:/IDS/alldata/12/RUS+SMOTE/label_10.npy')\n",
    "\n",
    "x_test = np.load('E:/IDS/alldata/12/test/data.npy')\n",
    "y_test = np.load('E:/IDS/alldata/12/test/label_10.npy')\n",
    "\n",
    "x_val = np.load('E:/IDS/alldata/12/val/data.npy')\n",
    "y_val = np.load('E:/IDS/alldata/12/val/label_10.npy')\n",
    "\n",
    "print(x_train.shape,y_train.shape,x_test.shape,y_test.shape,x_val.shape,y_val.shape)"
   ]
  },
  {
   "cell_type": "code",
   "execution_count": 4,
   "metadata": {},
   "outputs": [
    {
     "name": "stdout",
     "output_type": "stream",
     "text": [
      "Shape of data (BEFORE encode): (1778030, 1)\n",
      "Shape of data (AFTER  encode): (1778030, 10)\n",
      "\n",
      "Shape of data (BEFORE encode): (508012, 1)\n",
      "Shape of data (AFTER  encode): (508012, 10)\n",
      "\n",
      "Shape of data (BEFORE encode): (254005, 1)\n",
      "Shape of data (AFTER  encode): (254005, 10)\n",
      "\n"
     ]
    }
   ],
   "source": [
    "from keras.utils import to_categorical\n",
    "def encode(data):\n",
    "    print('Shape of data (BEFORE encode): %s' % str(data.shape)) \n",
    "    encoded = to_categorical(data)\n",
    "    print('Shape of data (AFTER  encode): %s\\n' % str(encoded.shape))  \n",
    "    return encoded\n",
    "\n",
    "y_train_onehot = encode(y_train)\n",
    "y_test_onehot = encode(y_test)\n",
    "y_val_onehot = encode(y_val)"
   ]
  },
  {
   "cell_type": "code",
   "execution_count": 5,
   "metadata": {},
   "outputs": [
    {
     "name": "stdout",
     "output_type": "stream",
     "text": [
      "WARNING:tensorflow:From f:\\anaconda\\envs\\py37\\lib\\site-packages\\tensorflow\\python\\framework\\op_def_library.py:263: colocate_with (from tensorflow.python.framework.ops) is deprecated and will be removed in a future version.\n",
      "Instructions for updating:\n",
      "Colocations handled automatically by placer.\n",
      "_________________________________________________________________\n",
      "Layer (type)                 Output Shape              Param #   \n",
      "=================================================================\n",
      "dense_1 (Dense)              (None, 128)               1664      \n",
      "_________________________________________________________________\n",
      "dense_2 (Dense)              (None, 128)               16512     \n",
      "_________________________________________________________________\n",
      "dense_3 (Dense)              (None, 64)                8256      \n",
      "_________________________________________________________________\n",
      "dense_4 (Dense)              (None, 32)                2080      \n",
      "_________________________________________________________________\n",
      "dense_5 (Dense)              (None, 10)                330       \n",
      "=================================================================\n",
      "Total params: 28,842\n",
      "Trainable params: 28,842\n",
      "Non-trainable params: 0\n",
      "_________________________________________________________________\n",
      "None\n"
     ]
    }
   ],
   "source": [
    "from keras import regularizers \n",
    "\n",
    "model = Sequential()\n",
    "model.add(Dense(input_dim = 12,\n",
    "                units = 128,\n",
    "                activation = 'relu')) \n",
    "\n",
    "\n",
    "model.add(Dense(units = 128,activation = 'relu'))\n",
    "\n",
    "model.add(Dense(units = 64, activation = 'relu'))\n",
    "\n",
    "model.add(Dense(units = 32, activation = 'relu'))\n",
    "\n",
    "model.add(Dense(units = 10,activation = 'softmax'))\n",
    "\n",
    "print(model.summary())"
   ]
  },
  {
   "cell_type": "markdown",
   "metadata": {},
   "source": [
    "# train"
   ]
  },
  {
   "cell_type": "code",
   "execution_count": 6,
   "metadata": {},
   "outputs": [
    {
     "name": "stdout",
     "output_type": "stream",
     "text": [
      "WARNING:tensorflow:From f:\\anaconda\\envs\\py37\\lib\\site-packages\\tensorflow\\python\\ops\\math_ops.py:3066: to_int32 (from tensorflow.python.ops.math_ops) is deprecated and will be removed in a future version.\n",
      "Instructions for updating:\n",
      "Use tf.cast instead.\n",
      "Train on 1778030 samples, validate on 254005 samples\n",
      "Epoch 1/100\n",
      " - 8s - loss: 0.9007 - acc: 0.6461 - val_loss: 0.1359 - val_acc: 0.9601\n",
      "Epoch 2/100\n",
      " - 8s - loss: 0.7941 - acc: 0.6848 - val_loss: 0.1312 - val_acc: 0.9632\n",
      "Epoch 3/100\n",
      " - 8s - loss: 0.7705 - acc: 0.6926 - val_loss: 0.1375 - val_acc: 0.9607\n",
      "Epoch 4/100\n",
      " - 8s - loss: 0.7582 - acc: 0.6967 - val_loss: 0.1241 - val_acc: 0.9644\n",
      "Epoch 5/100\n",
      " - 8s - loss: 0.7438 - acc: 0.7013 - val_loss: 0.1271 - val_acc: 0.9638\n",
      "Epoch 6/100\n",
      " - 8s - loss: 0.7499 - acc: 0.6988 - val_loss: 0.1253 - val_acc: 0.9638\n",
      "Epoch 7/100\n",
      " - 8s - loss: 0.7404 - acc: 0.7019 - val_loss: 0.1219 - val_acc: 0.9646\n",
      "Epoch 8/100\n",
      " - 8s - loss: 0.7403 - acc: 0.7017 - val_loss: 0.1299 - val_acc: 0.9638\n",
      "Epoch 9/100\n",
      " - 8s - loss: 0.7281 - acc: 0.7057 - val_loss: 0.1249 - val_acc: 0.9648\n",
      "Epoch 10/100\n",
      " - 8s - loss: 0.7275 - acc: 0.7056 - val_loss: 0.1334 - val_acc: 0.9654\n",
      "Epoch 11/100\n",
      " - 8s - loss: 0.7263 - acc: 0.7057 - val_loss: 0.1304 - val_acc: 0.9635\n",
      "Epoch 12/100\n",
      " - 8s - loss: 0.7237 - acc: 0.7071 - val_loss: 0.1273 - val_acc: 0.9655\n",
      "Epoch 13/100\n",
      " - 8s - loss: 0.7152 - acc: 0.7107 - val_loss: 0.1278 - val_acc: 0.9654\n",
      "Epoch 14/100\n",
      " - 8s - loss: 0.7112 - acc: 0.7114 - val_loss: 0.1262 - val_acc: 0.9645\n",
      "Epoch 15/100\n",
      " - 8s - loss: 0.7146 - acc: 0.7100 - val_loss: 0.1285 - val_acc: 0.9628\n",
      "Epoch 16/100\n",
      " - 8s - loss: 0.7159 - acc: 0.7089 - val_loss: 0.1311 - val_acc: 0.9638\n",
      "Epoch 17/100\n",
      " - 8s - loss: 0.7083 - acc: 0.7109 - val_loss: 0.1575 - val_acc: 0.9594\n",
      "Epoch 18/100\n",
      " - 8s - loss: 0.7243 - acc: 0.7060 - val_loss: 0.1241 - val_acc: 0.9646\n",
      "Epoch 19/100\n",
      " - 8s - loss: 0.7158 - acc: 0.7083 - val_loss: 0.1294 - val_acc: 0.9641\n",
      "Epoch 20/100\n",
      " - 8s - loss: 0.7147 - acc: 0.7092 - val_loss: 0.1220 - val_acc: 0.9668\n",
      "Epoch 21/100\n",
      " - 8s - loss: 0.7160 - acc: 0.7096 - val_loss: 0.1267 - val_acc: 0.9655\n",
      "Epoch 22/100\n",
      " - 8s - loss: 0.7104 - acc: 0.7121 - val_loss: 0.1372 - val_acc: 0.9637\n",
      "Epoch 23/100\n",
      " - 8s - loss: 0.7089 - acc: 0.7125 - val_loss: 0.1235 - val_acc: 0.9679\n",
      "Epoch 24/100\n",
      " - 8s - loss: 0.7031 - acc: 0.7142 - val_loss: 0.1380 - val_acc: 0.9653\n",
      "Epoch 25/100\n",
      " - 8s - loss: 0.7064 - acc: 0.7130 - val_loss: 0.1284 - val_acc: 0.9666\n",
      "Epoch 26/100\n",
      " - 8s - loss: 0.7062 - acc: 0.7134 - val_loss: 0.1320 - val_acc: 0.9673\n",
      "Epoch 27/100\n",
      " - 8s - loss: 0.7076 - acc: 0.7137 - val_loss: 0.1324 - val_acc: 0.9666\n",
      "Epoch 28/100\n",
      " - 8s - loss: 0.7040 - acc: 0.7148 - val_loss: 0.1234 - val_acc: 0.9649\n",
      "Epoch 29/100\n",
      " - 8s - loss: 0.7013 - acc: 0.7154 - val_loss: 0.1251 - val_acc: 0.9659\n",
      "Epoch 30/100\n",
      " - 8s - loss: 0.7005 - acc: 0.7133 - val_loss: 0.1318 - val_acc: 0.9644\n",
      "Epoch 31/100\n",
      " - 8s - loss: 0.6921 - acc: 0.7172 - val_loss: 0.1259 - val_acc: 0.9659\n",
      "Epoch 32/100\n",
      " - 8s - loss: 0.6906 - acc: 0.7180 - val_loss: 0.1253 - val_acc: 0.9660\n",
      "Epoch 33/100\n",
      " - 8s - loss: 0.6959 - acc: 0.7145 - val_loss: 0.1246 - val_acc: 0.9643\n",
      "Epoch 34/100\n",
      " - 8s - loss: 0.6926 - acc: 0.7150 - val_loss: 0.1288 - val_acc: 0.9624\n",
      "Epoch 35/100\n",
      " - 8s - loss: 0.6902 - acc: 0.7159 - val_loss: 0.1282 - val_acc: 0.9644\n",
      "Epoch 36/100\n",
      " - 8s - loss: 0.6883 - acc: 0.7170 - val_loss: 0.1264 - val_acc: 0.9640\n",
      "Epoch 37/100\n",
      " - 8s - loss: 0.6899 - acc: 0.7171 - val_loss: 0.1277 - val_acc: 0.9647\n",
      "Epoch 38/100\n",
      " - 8s - loss: 0.6896 - acc: 0.7169 - val_loss: 0.1341 - val_acc: 0.9642\n",
      "Epoch 39/100\n",
      " - 8s - loss: 0.6880 - acc: 0.7173 - val_loss: 0.1263 - val_acc: 0.9643\n",
      "Epoch 40/100\n",
      " - 8s - loss: 0.6859 - acc: 0.7182 - val_loss: 0.1268 - val_acc: 0.9627\n",
      "Epoch 41/100\n",
      " - 8s - loss: 0.6921 - acc: 0.7172 - val_loss: 0.1262 - val_acc: 0.9643\n",
      "Epoch 42/100\n",
      " - 8s - loss: 0.6878 - acc: 0.7193 - val_loss: 0.1291 - val_acc: 0.9645\n",
      "Epoch 43/100\n",
      " - 8s - loss: 0.6875 - acc: 0.7196 - val_loss: 0.1377 - val_acc: 0.9663\n",
      "Epoch 44/100\n",
      " - 8s - loss: 0.6884 - acc: 0.7199 - val_loss: 0.1263 - val_acc: 0.9663\n",
      "Epoch 45/100\n",
      " - 8s - loss: 0.6867 - acc: 0.7201 - val_loss: 0.1373 - val_acc: 0.9625\n",
      "Epoch 46/100\n",
      " - 8s - loss: 0.6839 - acc: 0.7207 - val_loss: 0.1497 - val_acc: 0.9642\n",
      "Epoch 47/100\n",
      " - 8s - loss: 0.6843 - acc: 0.7207 - val_loss: 0.1289 - val_acc: 0.9666\n",
      "Epoch 48/100\n",
      " - 8s - loss: 0.6867 - acc: 0.7205 - val_loss: 0.1271 - val_acc: 0.9664\n",
      "Epoch 49/100\n",
      " - 8s - loss: 0.6799 - acc: 0.7217 - val_loss: 0.1490 - val_acc: 0.9643\n",
      "Epoch 50/100\n",
      " - 8s - loss: 0.6797 - acc: 0.7221 - val_loss: 0.1314 - val_acc: 0.9656\n",
      "Epoch 51/100\n",
      " - 8s - loss: 0.6815 - acc: 0.7214 - val_loss: 0.1264 - val_acc: 0.9658\n",
      "Epoch 52/100\n",
      " - 8s - loss: 0.6791 - acc: 0.7222 - val_loss: 0.1283 - val_acc: 0.9653\n",
      "Epoch 53/100\n",
      " - 8s - loss: 0.6734 - acc: 0.7242 - val_loss: 0.1313 - val_acc: 0.9656\n",
      "train_time: 431.3923547267914\n"
     ]
    }
   ],
   "source": [
    "import keras\n",
    "\n",
    "import time\n",
    "time_start = time.time()\n",
    "\n",
    "callback_list = [keras.callbacks.EarlyStopping(monitor='val_acc',patience=30,),  \n",
    "                keras.callbacks.ModelCheckpoint(filepath='my_model.h5',monitor='val_acc',save_best_only=True,)]\n",
    "\n",
    "model.compile(loss = \"categorical_crossentropy\",optimizer = \"nadam\", metrics = [\"accuracy\"])\n",
    "history = model.fit(x = x_train,y = y_train_onehot,\n",
    "                epochs = 100,\n",
    "                batch_size = 256,\n",
    "                verbose = 2,\n",
    "                callbacks=callback_list,\n",
    "                validation_data=(x_val, y_val_onehot) )\n",
    "\n",
    "time_end = time.time()\n",
    "train_time = time_end - time_start\n",
    "print(\"train_time:\",train_time)"
   ]
  },
  {
   "cell_type": "code",
   "execution_count": 7,
   "metadata": {},
   "outputs": [],
   "source": [
    "model.save('E:/IDS/alldata/12/RUS+SMOTE/MLP_RUS_10.h5')"
   ]
  },
  {
   "cell_type": "markdown",
   "metadata": {},
   "source": [
    "# TEST"
   ]
  },
  {
   "cell_type": "code",
   "execution_count": 10,
   "metadata": {},
   "outputs": [
    {
     "name": "stdout",
     "output_type": "stream",
     "text": [
      "508012/508012 [==============================] - 4s 7us/step\n",
      "test_loss =  0.1321668957872958 test_accuracy =  0.9651484610604443\n"
     ]
    }
   ],
   "source": [
    "\n",
    "scores = model.evaluate(x_test, y_test_onehot)\n",
    "print(\"test_loss = \", scores[0],\"test_accuracy = \", scores[1])"
   ]
  },
  {
   "cell_type": "code",
   "execution_count": 11,
   "metadata": {},
   "outputs": [
    {
     "name": "stdout",
     "output_type": "stream",
     "text": [
      "test_time: 2.7548773288726807\n"
     ]
    }
   ],
   "source": [
    "import time\n",
    "time_start = time.time()\n",
    "\n",
    "y_pred_onehot  = model.predict(x_test)  #返回的是在类别上的概率分布。It returns the probability distribution on the category\n",
    "y_pred_label=np.argmax(y_pred_onehot,axis=1)#概率最大的类别就是预测类别。The category with the highest probability is the prediction category\n",
    "\n",
    "time_end = time.time()\n",
    "test_time = time_end - time_start\n",
    "print(\"test_time:\",test_time)\n",
    "\n",
    "np.savetxt(\"E:/IDS/alldata/12/RUS+SMOTE/MLP_y_pred_10.txt\",y_pred_label)  \n"
   ]
  },
  {
   "cell_type": "code",
   "execution_count": 12,
   "metadata": {},
   "outputs": [],
   "source": [
    "y_true_onehot=y_test_onehot\n",
    "y_true_label=np.argmax(y_true_onehot,axis=1)\n",
    "np.savetxt(\"E:/IDS/alldata/12/RUS+SMOTE/MLP_y_true_10.txt\",y_true_label) "
   ]
  },
  {
   "cell_type": "code",
   "execution_count": 13,
   "metadata": {},
   "outputs": [
    {
     "data": {
      "image/png": "[encoded data removed]",
      "text/plain": [
       "<Figure size 1000x1000 with 2 Axes>"
      ]
     },
     "metadata": {
      "needs_background": "light"
     },
     "output_type": "display_data"
    }
   ],
   "source": [
    "# -*-coding:utf-8-*-\n",
    "from sklearn.metrics import confusion_matrix\n",
    "import matplotlib.pyplot as plt\n",
    "import numpy as np\n",
    "\n",
    "labels = ['Normal','Analysis','Backdoor','DoS','Exploits','Fuzzers','Generic','Reconnaissance','Shellcode','Worms']\n",
    "          \n",
    "y_true = y_true_label\n",
    "y_pred  = y_pred_label \n",
    "\n",
    "\n",
    "tick_marks = np.array(range(len(labels))) + 0.5\n",
    "\n",
    "def plot_confusion_matrix(cm, title='Confusion Matrix', cmap=plt.cm.binary):\n",
    "    plt.imshow(cm, interpolation='nearest', cmap=plt.cm.Blues) \n",
    "    plt.title(title)\n",
    "    plt.colorbar()\n",
    "    xlocations = np.array(range(len(labels)))\n",
    "    plt.xticks(xlocations, labels, rotation=90)\n",
    "    plt.yticks(xlocations, labels)\n",
    "    plt.ylabel('True label')\n",
    "    plt.xlabel('Predicted label')\n",
    "\n",
    "\n",
    "cm = confusion_matrix(y_true, y_pred)  \n",
    "np.set_printoptions(precision=2)  \n",
    "cm_normalized = cm.astype('float') / cm.sum(axis=1)[:, np.newaxis] \n",
    "\n",
    "plt.figure(figsize=(10, 10), dpi=100)\n",
    "\n",
    "ind_array = np.arange(len(labels))\n",
    "x, y = np.meshgrid(ind_array, ind_array)\n",
    "\n",
    "for x_val, y_val in zip(x.flatten(), y.flatten()):\n",
    "    c = cm_normalized[y_val][x_val]\n",
    "    if c > 0.001:\n",
    "        plt.text(x_val, y_val, \"%0.2f\" % (c,), color='red', fontsize=7, va='center', ha='center')\n",
    "# offset the tick\n",
    "plt.gca().set_xticks(tick_marks, minor=True)\n",
    "plt.gca().set_yticks(tick_marks, minor=True)\n",
    "plt.gca().xaxis.set_ticks_position('none')\n",
    "plt.gca().yaxis.set_ticks_position('none')\n",
    "plt.grid(True, which='minor', linestyle='-')\n",
    "plt.gcf().subplots_adjust(bottom=0.15)\n",
    "\n",
    "plot_confusion_matrix(cm_normalized, title='MLP_12_10_ROS Normalized confusion matrix')  \n",
    "#plt.savefig('/home/hll/IDS/alldata/cm/confusion_matrix.png', format='png')  \n",
    "plt.show()\n"
   ]
  },
  {
   "cell_type": "code",
   "execution_count": 14,
   "metadata": {},
   "outputs": [
    {
     "name": "stdout",
     "output_type": "stream",
     "text": [
      "[[436888    334    539    329    551   3783      5     70    932    324]\n",
      " [     0    180    207    124     22      2      0      0      0      0]\n",
      " [     0     90    248     96      7      6      1     10      8      0]\n",
      " [     3    597   1134    986    310    113      4     37     68     17]\n",
      " [     4    835   1687   1306   4019    386     56    376    163     74]\n",
      " [     1    113    349    157    138   3312      0     47    629    103]\n",
      " [     2     91    173    201    250    162  42122     14     52     30]\n",
      " [     0     92    193    129     42     22      2   2295     19      3]\n",
      " [     0      0      3      5      5     43      0      3    237      7]\n",
      " [     0      0      0      0     10      1      0      4      0     20]]\n"
     ]
    }
   ],
   "source": [
    "print(cm)  "
   ]
  },
  {
   "cell_type": "markdown",
   "metadata": {},
   "source": [
    "# multi-class evaluation indicators"
   ]
  },
  {
   "cell_type": "code",
   "execution_count": 15,
   "metadata": {},
   "outputs": [
    {
     "name": "stdout",
     "output_type": "stream",
     "text": [
      "                precision    recall  f1-score   support\n",
      "\n",
      "        Normal       1.00      0.98      0.99    443755\n",
      "      Analysis       0.08      0.34      0.13       535\n",
      "      Backdoor       0.05      0.53      0.10       466\n",
      "           DoS       0.30      0.30      0.30      3269\n",
      "      Exploits       0.75      0.45      0.56      8906\n",
      "       Fuzzers       0.42      0.68      0.52      4849\n",
      "       Generic       1.00      0.98      0.99     43097\n",
      "Reconnaissance       0.80      0.82      0.81      2797\n",
      "     Shellcode       0.11      0.78      0.20       303\n",
      "         Worms       0.03      0.57      0.07        35\n",
      "\n",
      "      accuracy                           0.97    508012\n",
      "     macro avg       0.46      0.64      0.47    508012\n",
      "  weighted avg       0.98      0.97      0.97    508012\n",
      "\n"
     ]
    }
   ],
   "source": [
    "from sklearn import metrics\n",
    "from sklearn.metrics import classification_report\n",
    "\n",
    "target_names = ['Normal','Analysis','Backdoor','DoS','Exploits','Fuzzers','Generic','Reconnaissance','Shellcode','Worms']\n",
    "print(classification_report(y_true,y_pred,target_names=target_names))"
   ]
  },
  {
   "cell_type": "code",
   "execution_count": 16,
   "metadata": {},
   "outputs": [
    {
     "name": "stdout",
     "output_type": "stream",
     "text": [
      "acc: 0.965148461059975\n",
      "pre: 0.981916760828667\n",
      "DR=recall: 0.965148461059975\n",
      "f1: 0.9720948109874137\n"
     ]
    }
   ],
   "source": [
    "acc = metrics.accuracy_score(y_true,y_pred) \n",
    "f1 = metrics.f1_score(y_true, y_pred,average='weighted')\n",
    "pre = metrics.precision_score(y_true, y_pred, labels=None, pos_label=1, average='weighted')  #DR\n",
    "recall = metrics.recall_score(y_true, y_pred, labels=None, pos_label=1, average='weighted', sample_weight=None)\n",
    "\n",
    "\n",
    "print(\"acc:\",acc)\n",
    "print(\"pre:\",pre)\n",
    "print(\"DR=recall:\",recall)\n",
    "print(\"f1:\",f1)\n"
   ]
  },
  {
   "cell_type": "markdown",
   "metadata": {},
   "source": [
    "# # binary-class evaluation indicators"
   ]
  },
  {
   "cell_type": "code",
   "execution_count": null,
   "metadata": {},
   "outputs": [],
   "source": [
    "TP=cm[1,1]\n",
    "FP=cm[0,1]\n",
    "FN=cm[1,0]\n",
    "TN=cm[0,0]\n",
    "\n",
    "acc = (TP+TN)/(TP+TN+FP+FN)\n",
    "print(\"acc:\",acc)\n",
    "\n",
    "DR = TP/(TP+FN)  \n",
    "print(\"DR:\",DR)\n",
    "\n",
    "FPR = FP/(FP+TN)  #FAR\n",
    "print(\"FPR:\",FPR)\n",
    "\n",
    "recall =TP/(TP+FN)\n",
    "print(\"recall：\",recall)  \n",
    "\n",
    "precision = TP/(TP+FP)\n",
    "print(\"precision:\",precision)\n",
    "\n",
    "f1 = (2*precision*recall)/(precision+recall)\n",
    "print(\"f1:\",f1)"
   ]
  }
 ],
 "metadata": {
  "kernelspec": {
   "display_name": "Python 3",
   "language": "python",
   "name": "python3"
  },
  "language_info": {
   "codemirror_mode": {
    "name": "ipython",
    "version": 3
   },
   "file_extension": ".py",
   "mimetype": "text/x-python",
   "name": "python",
   "nbconvert_exporter": "python",
   "pygments_lexer": "ipython3",
   "version": "3.6.9"
  }
 },
 "nbformat": 4,
 "nbformat_minor": 2
}

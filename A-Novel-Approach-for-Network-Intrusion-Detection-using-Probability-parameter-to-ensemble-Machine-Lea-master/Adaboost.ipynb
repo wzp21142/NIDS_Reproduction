{
 "cells": [
  {
   "cell_type": "code",
   "execution_count": 1,
   "metadata": {},
   "outputs": [],
   "source": [
    "import pandas as pd"
   ]
  },
  {
   "cell_type": "code",
   "execution_count": 5,
   "metadata": {},
   "outputs": [],
   "source": [
    "df = pd.read_csv(\"data/my.csv\", index_col=None,header=None)#do for test too"
   ]
  },
  {
   "cell_type": "code",
   "execution_count": 6,
   "metadata": {},
   "outputs": [
    {
     "data": {
      "text/plain": "   0    1         2   3    4     5   6   7   8   9   ...   32    33    34  \\\n0   0  tcp  ftp_data  SF  491     0   0   0   0   0  ...   25  0.17  0.03   \n1   0  udp     other  SF  146     0   0   0   0   0  ...    1  0.00  0.60   \n2   0  tcp   private  S0    0     0   0   0   0   0  ...   26  0.10  0.05   \n3   0  tcp      http  SF  232  8153   0   0   0   0  ...  255  1.00  0.00   \n4   0  tcp      http  SF  199   420   0   0   0   0  ...  255  1.00  0.00   \n\n     35    36    37    38    39    40       41  \n0  0.17  0.00  0.00  0.00  0.05  0.00   normal  \n1  0.88  0.00  0.00  0.00  0.00  0.00   normal  \n2  0.00  0.00  1.00  1.00  0.00  0.00  neptune  \n3  0.03  0.04  0.03  0.01  0.00  0.01   normal  \n4  0.00  0.00  0.00  0.00  0.00  0.00   normal  \n\n[5 rows x 42 columns]",
      "text/html": "<div>\n<style scoped>\n    .dataframe tbody tr th:only-of-type {\n        vertical-align: middle;\n    }\n\n    .dataframe tbody tr th {\n        vertical-align: top;\n    }\n\n    .dataframe thead th {\n        text-align: right;\n    }\n</style>\n<table border=\"1\" class=\"dataframe\">\n  <thead>\n    <tr style=\"text-align: right;\">\n      <th></th>\n      <th>0</th>\n      <th>1</th>\n      <th>2</th>\n      <th>3</th>\n      <th>4</th>\n      <th>5</th>\n      <th>6</th>\n      <th>7</th>\n      <th>8</th>\n      <th>9</th>\n      <th>...</th>\n      <th>32</th>\n      <th>33</th>\n      <th>34</th>\n      <th>35</th>\n      <th>36</th>\n      <th>37</th>\n      <th>38</th>\n      <th>39</th>\n      <th>40</th>\n      <th>41</th>\n    </tr>\n  </thead>\n  <tbody>\n    <tr>\n      <th>0</th>\n      <td>0</td>\n      <td>tcp</td>\n      <td>ftp_data</td>\n      <td>SF</td>\n      <td>491</td>\n      <td>0</td>\n      <td>0</td>\n      <td>0</td>\n      <td>0</td>\n      <td>0</td>\n      <td>...</td>\n      <td>25</td>\n      <td>0.17</td>\n      <td>0.03</td>\n      <td>0.17</td>\n      <td>0.00</td>\n      <td>0.00</td>\n      <td>0.00</td>\n      <td>0.05</td>\n      <td>0.00</td>\n      <td>normal</td>\n    </tr>\n    <tr>\n      <th>1</th>\n      <td>0</td>\n      <td>udp</td>\n      <td>other</td>\n      <td>SF</td>\n      <td>146</td>\n      <td>0</td>\n      <td>0</td>\n      <td>0</td>\n      <td>0</td>\n      <td>0</td>\n      <td>...</td>\n      <td>1</td>\n      <td>0.00</td>\n      <td>0.60</td>\n      <td>0.88</td>\n      <td>0.00</td>\n      <td>0.00</td>\n      <td>0.00</td>\n      <td>0.00</td>\n      <td>0.00</td>\n      <td>normal</td>\n    </tr>\n    <tr>\n      <th>2</th>\n      <td>0</td>\n      <td>tcp</td>\n      <td>private</td>\n      <td>S0</td>\n      <td>0</td>\n      <td>0</td>\n      <td>0</td>\n      <td>0</td>\n      <td>0</td>\n      <td>0</td>\n      <td>...</td>\n      <td>26</td>\n      <td>0.10</td>\n      <td>0.05</td>\n      <td>0.00</td>\n      <td>0.00</td>\n      <td>1.00</td>\n      <td>1.00</td>\n      <td>0.00</td>\n      <td>0.00</td>\n      <td>neptune</td>\n    </tr>\n    <tr>\n      <th>3</th>\n      <td>0</td>\n      <td>tcp</td>\n      <td>http</td>\n      <td>SF</td>\n      <td>232</td>\n      <td>8153</td>\n      <td>0</td>\n      <td>0</td>\n      <td>0</td>\n      <td>0</td>\n      <td>...</td>\n      <td>255</td>\n      <td>1.00</td>\n      <td>0.00</td>\n      <td>0.03</td>\n      <td>0.04</td>\n      <td>0.03</td>\n      <td>0.01</td>\n      <td>0.00</td>\n      <td>0.01</td>\n      <td>normal</td>\n    </tr>\n    <tr>\n      <th>4</th>\n      <td>0</td>\n      <td>tcp</td>\n      <td>http</td>\n      <td>SF</td>\n      <td>199</td>\n      <td>420</td>\n      <td>0</td>\n      <td>0</td>\n      <td>0</td>\n      <td>0</td>\n      <td>...</td>\n      <td>255</td>\n      <td>1.00</td>\n      <td>0.00</td>\n      <td>0.00</td>\n      <td>0.00</td>\n      <td>0.00</td>\n      <td>0.00</td>\n      <td>0.00</td>\n      <td>0.00</td>\n      <td>normal</td>\n    </tr>\n  </tbody>\n</table>\n<p>5 rows × 42 columns</p>\n</div>"
     },
     "execution_count": 6,
     "metadata": {},
     "output_type": "execute_result"
    }
   ],
   "source": [
    "df.head()"
   ]
  },
  {
   "cell_type": "code",
   "execution_count": 8,
   "metadata": {},
   "outputs": [
    {
     "data": {
      "text/plain": "Counter({'normal': 67343,\n         'neptune': 41214,\n         'warezclient': 890,\n         'ipsweep': 3599,\n         'portsweep': 2931,\n         'teardrop': 892,\n         'nmap': 1493,\n         'satan': 3633,\n         'smurf': 2646,\n         'pod': 201,\n         'back': 956,\n         'guess_passwd': 53,\n         'ftp_write': 8,\n         'multihop': 7,\n         'rootkit': 10,\n         'buffer_overflow': 30,\n         'imap': 11,\n         'warezmaster': 20,\n         'phf': 4,\n         'land': 18,\n         'loadmodule': 9,\n         'spy': 2,\n         'perl': 3})"
     },
     "execution_count": 8,
     "metadata": {},
     "output_type": "execute_result"
    }
   ],
   "source": [
    "y = df[df.columns[-1]].values\n",
    "from collections import Counter\n",
    "#num = Counter(y)\n",
    "#n=num.get('normal')\n",
    "Counter(y)"
   ]
  },
  {
   "cell_type": "code",
   "execution_count": 9,
   "metadata": {},
   "outputs": [],
   "source": [
    "from sklearn.preprocessing import LabelEncoder\n",
    "encodings = dict()\n",
    "for c in df.columns:\n",
    "    #print df[c].dtype\n",
    "    if df[c].dtype == \"object\":\n",
    "        encodings[c] = LabelEncoder() #to give numerical label to char type labels.\n",
    "        encodings[c]\n",
    "        df[c] = encodings[c].fit_transform(df[c])"
   ]
  },
  {
   "cell_type": "code",
   "execution_count": 11,
   "metadata": {},
   "outputs": [],
   "source": [
    "y = df.pop(df.columns[-1]).values\n",
    "X = df.values"
   ]
  },
  {
   "cell_type": "code",
   "execution_count": 15,
   "metadata": {},
   "outputs": [],
   "source": [
    "from sklearn.preprocessing import OneHotEncoder\n",
    "from sklearn.compose import ColumnTransformer\n",
    "onehotencoder = ColumnTransformer([('t', OneHotEncoder(), [1])], remainder='passthrough')\n",
    "X = onehotencoder.fit_transform(X)\n"
   ]
  },
  {
   "cell_type": "code",
   "execution_count": 16,
   "metadata": {},
   "outputs": [],
   "source": [
    "from sklearn.preprocessing import StandardScaler #normalization\n",
    "X = StandardScaler().fit_transform(X)"
   ]
  },
  {
   "cell_type": "code",
   "execution_count": 17,
   "metadata": {},
   "outputs": [],
   "source": [
    "from sklearn.decomposition import PCA\n",
    "\n",
    "pca = PCA(n_components=2)\n",
    "principalComponents = pca.fit_transform(X)\n",
    "principalDfX = pd.DataFrame(data = principalComponents)"
   ]
  },
  {
   "cell_type": "code",
   "execution_count": 18,
   "metadata": {},
   "outputs": [
    {
     "name": "stdout",
     "output_type": "stream",
     "text": [
      "Counter({11: 67343, 9: 41214, 17: 3633, 5: 3599, 15: 2931, 18: 2646, 10: 1493, 0: 956, 20: 892, 21: 890, 14: 201, 3: 53, 1: 30, 22: 20, 6: 18, 4: 11, 16: 10, 7: 9, 2: 8, 8: 7, 13: 4, 12: 3, 19: 2})\n"
     ]
    }
   ],
   "source": [
    "principalDfX.head()\n",
    "print(Counter(y))"
   ]
  },
  {
   "cell_type": "code",
   "execution_count": 19,
   "metadata": {},
   "outputs": [],
   "source": [
    "from sklearn.model_selection import train_test_split\n",
    "X_train, X_test, y_train, y_test = train_test_split(principalDfX, y, test_size=0.2, random_state=42)#random for splitting same data when run again.\n",
    "#X_train, X_val, y_train, y_val = train_test_split(X_train, y_train, test_size=0.25, random_state=42)"
   ]
  },
  {
   "cell_type": "code",
   "execution_count": 20,
   "metadata": {},
   "outputs": [],
   "source": [
    "from sklearn.tree import DecisionTreeClassifier\n",
    "clf1 = DecisionTreeClassifier(random_state=0)"
   ]
  },
  {
   "cell_type": "code",
   "execution_count": 22,
   "metadata": {},
   "outputs": [
    {
     "data": {
      "text/plain": "AdaBoostClassifier(base_estimator=DecisionTreeClassifier(random_state=0),\n                   n_estimators=10, random_state=0)"
     },
     "execution_count": 22,
     "metadata": {},
     "output_type": "execute_result"
    }
   ],
   "source": [
    "from sklearn.ensemble import AdaBoostClassifier\n",
    "\n",
    "clf = AdaBoostClassifier(base_estimator=clf1,n_estimators=10,random_state=0)\n",
    "clf.fit(X_train, y_train) "
   ]
  },
  {
   "cell_type": "code",
   "execution_count": 23,
   "metadata": {},
   "outputs": [
    {
     "name": "stdout",
     "output_type": "stream",
     "text": [
      "Counter({11: 13456, 9: 8225, 5: 736, 17: 725, 15: 575, 18: 530, 10: 319, 0: 194, 20: 182, 21: 181, 14: 40, 3: 10, 22: 7, 4: 4, 6: 3, 1: 3, 2: 2, 7: 1, 8: 1, 16: 1})\n",
      "Counter({11: 13422, 9: 8228, 17: 738, 5: 733, 15: 573, 18: 534, 10: 313, 21: 202, 20: 188, 0: 185, 14: 43, 3: 11, 1: 9, 22: 8, 6: 3, 4: 1, 19: 1, 16: 1, 13: 1, 12: 1})\n"
     ]
    }
   ],
   "source": [
    "y_pred = clf.predict(X_test) # test the output \n",
    "print(Counter(y_pred))\n",
    "print(Counter(y_test))"
   ]
  },
  {
   "cell_type": "code",
   "execution_count": 24,
   "metadata": {},
   "outputs": [
    {
     "name": "stdout",
     "output_type": "stream",
     "text": [
      "Confusion Matrix :\n",
      "[[  110     0     1     0     0     0     0     0     0     0     0    64\n",
      "      0     0     0     0     0     0     6     0     2     2     0]\n",
      " [    0     0     0     0     0     0     0     0     0     0     0     8\n",
      "      0     0     0     0     0     0     0     0     0     1     0]\n",
      " [    0     0     0     0     0     0     0     0     0     0     0     0\n",
      "      0     0     0     0     0     0     0     0     0     0     0]\n",
      " [    0     0     0     8     0     0     0     0     0     0     0     2\n",
      "      0     0     0     1     0     0     0     0     0     0     0]\n",
      " [    0     0     0     0     1     0     0     0     0     0     0     0\n",
      "      0     0     0     0     0     0     0     0     0     0     0]\n",
      " [    0     0     0     0     0   696     0     0     0     0    14    17\n",
      "      0     0     1     5     0     0     0     0     0     0     0]\n",
      " [    0     0     0     0     0     0     0     0     0     1     0     2\n",
      "      0     0     0     0     0     0     0     0     0     0     0]\n",
      " [    0     0     0     0     0     0     0     0     0     0     0     0\n",
      "      0     0     0     0     0     0     0     0     0     0     0]\n",
      " [    0     0     0     0     0     0     0     0     0     0     0     0\n",
      "      0     0     0     0     0     0     0     0     0     0     0]\n",
      " [    0     0     0     1     0     0     0     0     0  8197     5     9\n",
      "      0     0     0    11     0     5     0     0     0     0     0]\n",
      " [    3     0     0     0     0    15     0     0     0     0   281    12\n",
      "      0     0     1     0     0     1     0     0     0     0     0]\n",
      " [   74     1     1     1     3    18     3     1     0    11    16 12944\n",
      "      0     0     8    13     1    92   139     0    47    47     2]\n",
      " [    0     0     0     0     0     0     0     0     0     0     0     1\n",
      "      0     0     0     0     0     0     0     0     0     0     0]\n",
      " [    0     0     0     0     0     0     0     0     0     0     0     1\n",
      "      0     0     0     0     0     0     0     0     0     0     0]\n",
      " [    0     2     0     0     0     0     0     0     0     0     0    11\n",
      "      0     0    30     0     0     0     0     0     0     0     0]\n",
      " [    0     0     0     0     0     4     0     0     0    13     0    13\n",
      "      0     0     0   536     0     6     0     0     1     0     0]\n",
      " [    0     0     0     0     0     0     0     0     0     0     0     1\n",
      "      0     0     0     0     0     0     0     0     0     0     0]\n",
      " [    1     0     0     0     0     1     0     0     0     3     3   102\n",
      "      0     0     0     9     0   614     1     0     2     2     0]\n",
      " [    6     0     0     0     0     0     0     0     0     0     0   141\n",
      "      0     0     0     0     0     3   384     0     0     0     0]\n",
      " [    0     0     0     0     0     0     0     0     0     0     0     1\n",
      "      0     0     0     0     0     0     0     0     0     0     0]\n",
      " [    0     0     0     0     0     0     0     0     0     0     0    54\n",
      "      0     0     0     0     0     4     0     0   130     0     0]\n",
      " [    0     0     0     0     0     2     0     0     0     0     0    71\n",
      "      0     0     0     0     0     0     0     0     0   129     0]\n",
      " [    0     0     0     0     0     0     0     0     1     0     0     2\n",
      "      0     0     0     0     0     0     0     0     0     0     5]]\n",
      "Accuracy Score : 0.9551498313157373\n",
      "Report : \n",
      "              precision    recall  f1-score   support\n",
      "\n",
      "           0       0.57      0.59      0.58       185\n",
      "           1       0.00      0.00      0.00         9\n",
      "           2       0.00      0.00      0.00         0\n",
      "           3       0.80      0.73      0.76        11\n",
      "           4       0.25      1.00      0.40         1\n",
      "           5       0.95      0.95      0.95       733\n",
      "           6       0.00      0.00      0.00         3\n",
      "           7       0.00      0.00      0.00         0\n",
      "           8       0.00      0.00      0.00         0\n",
      "           9       1.00      1.00      1.00      8228\n",
      "          10       0.88      0.90      0.89       313\n",
      "          11       0.96      0.96      0.96     13422\n",
      "          12       0.00      0.00      0.00         1\n",
      "          13       0.00      0.00      0.00         1\n",
      "          14       0.75      0.70      0.72        43\n",
      "          15       0.93      0.94      0.93       573\n",
      "          16       0.00      0.00      0.00         1\n",
      "          17       0.85      0.83      0.84       738\n",
      "          18       0.72      0.72      0.72       534\n",
      "          19       0.00      0.00      0.00         1\n",
      "          20       0.71      0.69      0.70       188\n",
      "          21       0.71      0.64      0.67       202\n",
      "          22       0.71      0.62      0.67         8\n",
      "\n",
      "    accuracy                           0.96     25195\n",
      "   macro avg       0.47      0.49      0.47     25195\n",
      "weighted avg       0.95      0.96      0.95     25195\n",
      "\n"
     ]
    },
    {
     "name": "stderr",
     "output_type": "stream",
     "text": [
      "D:\\Anaconda3\\lib\\site-packages\\sklearn\\metrics\\_classification.py:1221: UndefinedMetricWarning: Precision and F-score are ill-defined and being set to 0.0 in labels with no predicted samples. Use `zero_division` parameter to control this behavior.\n",
      "  _warn_prf(average, modifier, msg_start, len(result))\n",
      "D:\\Anaconda3\\lib\\site-packages\\sklearn\\metrics\\_classification.py:1221: UndefinedMetricWarning: Recall and F-score are ill-defined and being set to 0.0 in labels with no true samples. Use `zero_division` parameter to control this behavior.\n",
      "  _warn_prf(average, modifier, msg_start, len(result))\n"
     ]
    }
   ],
   "source": [
    "# Python script for confusion matrix creation. \n",
    "from sklearn.metrics import confusion_matrix \n",
    "from sklearn.metrics import accuracy_score \n",
    "from sklearn.metrics import classification_report \n",
    " \n",
    "results = confusion_matrix(y_test, y_pred) \n",
    "print('Confusion Matrix :')\n",
    "print(results) \n",
    "print('Accuracy Score :',accuracy_score(y_test, y_pred))\n",
    "print('Report : ')\n",
    "print(classification_report(y_test, y_pred))\n"
   ]
  },
  {
   "cell_type": "code",
   "execution_count": 25,
   "metadata": {},
   "outputs": [
    {
     "name": "stderr",
     "output_type": "stream",
     "text": [
      "D:\\Anaconda3\\lib\\site-packages\\sklearn\\model_selection\\_split.py:670: UserWarning: The least populated class in y has only 1 members, which is less than n_splits=10.\n",
      "  warnings.warn((\"The least populated class in y has only %d\"\n",
      "D:\\Anaconda3\\lib\\site-packages\\sklearn\\metrics\\_classification.py:1221: UndefinedMetricWarning: Precision and F-score are ill-defined and being set to 0.0 in labels with no predicted samples. Use `zero_division` parameter to control this behavior.\n",
      "  _warn_prf(average, modifier, msg_start, len(result))\n"
     ]
    },
    {
     "name": "stdout",
     "output_type": "stream",
     "text": [
      "Accuracy Score : 0.9564785965190815\n",
      "Report : \n",
      "              precision    recall  f1-score   support\n",
      "\n",
      "           0       0.59      0.56      0.57       771\n",
      "           1       0.24      0.19      0.21        21\n",
      "           2       0.40      0.25      0.31         8\n",
      "           3       0.78      0.83      0.80        42\n",
      "           4       0.00      0.00      0.00        10\n",
      "           5       0.95      0.96      0.96      2866\n",
      "           6       0.12      0.07      0.09        15\n",
      "           7       0.00      0.00      0.00         9\n",
      "           8       0.17      0.14      0.15         7\n",
      "           9       1.00      1.00      1.00     32986\n",
      "          10       0.91      0.91      0.91      1180\n",
      "          11       0.96      0.97      0.96     53921\n",
      "          12       0.00      0.00      0.00         2\n",
      "          13       0.00      0.00      0.00         3\n",
      "          14       0.69      0.68      0.68       158\n",
      "          15       0.94      0.93      0.93      2358\n",
      "          16       0.00      0.00      0.00         9\n",
      "          17       0.83      0.80      0.82      2895\n",
      "          18       0.72      0.70      0.71      2112\n",
      "          19       0.00      0.00      0.00         1\n",
      "          20       0.73      0.74      0.73       704\n",
      "          21       0.72      0.68      0.70       688\n",
      "          22       0.67      0.50      0.57        12\n",
      "\n",
      "    accuracy                           0.96    100778\n",
      "   macro avg       0.50      0.47      0.48    100778\n",
      "weighted avg       0.96      0.96      0.96    100778\n",
      "\n"
     ]
    }
   ],
   "source": [
    "from sklearn.model_selection import cross_val_predict\n",
    "from sklearn.model_selection import StratifiedKFold\n",
    "skf = StratifiedKFold(n_splits=10)\n",
    "predicted = cross_val_predict(clf, X_train, y_train, cv=skf)\n",
    "print('Accuracy Score :',accuracy_score(y_train, predicted))\n",
    "print('Report : ')\n",
    "print(classification_report(y_train, predicted))\n"
   ]
  },
  {
   "cell_type": "code",
   "execution_count": null,
   "metadata": {},
   "outputs": [],
   "source": []
  }
 ],
 "metadata": {
  "kernelspec": {
   "display_name": "Python 3",
   "language": "python",
   "name": "python3"
  },
  "language_info": {
   "codemirror_mode": {
    "name": "ipython",
    "version": 3
   },
   "file_extension": ".py",
   "mimetype": "text/x-python",
   "name": "python",
   "nbconvert_exporter": "python",
   "pygments_lexer": "ipython3",
   "version": "3.6.4"
  }
 },
 "nbformat": 4,
 "nbformat_minor": 2
}
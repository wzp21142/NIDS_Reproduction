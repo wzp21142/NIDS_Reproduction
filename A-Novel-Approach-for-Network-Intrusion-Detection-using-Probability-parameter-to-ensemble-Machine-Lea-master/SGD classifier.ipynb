{
 "cells": [
  {
   "cell_type": "code",
   "execution_count": 13,
   "metadata": {},
   "outputs": [],
   "source": [
    "import numpy as np\n",
    "import pandas as pd\n",
    "from sklearn.kernel_approximation import RBFSampler\n",
    "from sklearn.linear_model import SGDClassifier\n",
    "from sklearn.metrics import classification_report\n",
    "from sklearn import metrics\n",
    "from sklearn.metrics import (precision_score, recall_score,f1_score, accuracy_score,mean_squared_error,mean_absolute_error)\n",
    "from sklearn.preprocessing import Normalizer\n"
   ]
  },
  {
   "cell_type": "code",
   "execution_count": 14,
   "metadata": {},
   "outputs": [
    {
     "data": {
      "text/plain": "        0  tcp  ftp_data  SF  491   0.1  0.2  0.3  0.4  0.5  ...   25  0.17.1  \\\n2932    0  tcp      http  SF  317  2491    0    0    0    0  ...  255    1.00   \n73581   0  tcp   private  S0    0     0    0    0    0    0  ...   10    0.04   \n20957   0  tcp   private  S0    0     0    0    0    0    0  ...    5    0.02   \n125086  0  udp  domain_u  SF   44   130    0    0    0    0  ...  212    0.81   \n56125   0  udp  domain_u  SF   44   133    0    0    0    0  ...  126    0.60   \n\n        0.03  0.17.2  0.24  0.25  0.26  0.05  0.27   normal  \n2932    0.00    0.01  0.02   0.0   0.0  0.00   0.0   normal  \n73581   0.06    0.00  0.00   1.0   1.0  0.00   0.0  neptune  \n20957   0.09    0.00  0.00   1.0   1.0  0.00   0.0  neptune  \n125086  0.03    0.81  0.01   0.0   0.0  0.13   0.0   normal  \n56125   0.01    0.00  0.00   0.0   0.0  0.00   0.0   normal  \n\n[5 rows x 42 columns]",
      "text/html": "<div>\n<style scoped>\n    .dataframe tbody tr th:only-of-type {\n        vertical-align: middle;\n    }\n\n    .dataframe tbody tr th {\n        vertical-align: top;\n    }\n\n    .dataframe thead th {\n        text-align: right;\n    }\n</style>\n<table border=\"1\" class=\"dataframe\">\n  <thead>\n    <tr style=\"text-align: right;\">\n      <th></th>\n      <th>0</th>\n      <th>tcp</th>\n      <th>ftp_data</th>\n      <th>SF</th>\n      <th>491</th>\n      <th>0.1</th>\n      <th>0.2</th>\n      <th>0.3</th>\n      <th>0.4</th>\n      <th>0.5</th>\n      <th>...</th>\n      <th>25</th>\n      <th>0.17.1</th>\n      <th>0.03</th>\n      <th>0.17.2</th>\n      <th>0.24</th>\n      <th>0.25</th>\n      <th>0.26</th>\n      <th>0.05</th>\n      <th>0.27</th>\n      <th>normal</th>\n    </tr>\n  </thead>\n  <tbody>\n    <tr>\n      <th>2932</th>\n      <td>0</td>\n      <td>tcp</td>\n      <td>http</td>\n      <td>SF</td>\n      <td>317</td>\n      <td>2491</td>\n      <td>0</td>\n      <td>0</td>\n      <td>0</td>\n      <td>0</td>\n      <td>...</td>\n      <td>255</td>\n      <td>1.00</td>\n      <td>0.00</td>\n      <td>0.01</td>\n      <td>0.02</td>\n      <td>0.0</td>\n      <td>0.0</td>\n      <td>0.00</td>\n      <td>0.0</td>\n      <td>normal</td>\n    </tr>\n    <tr>\n      <th>73581</th>\n      <td>0</td>\n      <td>tcp</td>\n      <td>private</td>\n      <td>S0</td>\n      <td>0</td>\n      <td>0</td>\n      <td>0</td>\n      <td>0</td>\n      <td>0</td>\n      <td>0</td>\n      <td>...</td>\n      <td>10</td>\n      <td>0.04</td>\n      <td>0.06</td>\n      <td>0.00</td>\n      <td>0.00</td>\n      <td>1.0</td>\n      <td>1.0</td>\n      <td>0.00</td>\n      <td>0.0</td>\n      <td>neptune</td>\n    </tr>\n    <tr>\n      <th>20957</th>\n      <td>0</td>\n      <td>tcp</td>\n      <td>private</td>\n      <td>S0</td>\n      <td>0</td>\n      <td>0</td>\n      <td>0</td>\n      <td>0</td>\n      <td>0</td>\n      <td>0</td>\n      <td>...</td>\n      <td>5</td>\n      <td>0.02</td>\n      <td>0.09</td>\n      <td>0.00</td>\n      <td>0.00</td>\n      <td>1.0</td>\n      <td>1.0</td>\n      <td>0.00</td>\n      <td>0.0</td>\n      <td>neptune</td>\n    </tr>\n    <tr>\n      <th>125086</th>\n      <td>0</td>\n      <td>udp</td>\n      <td>domain_u</td>\n      <td>SF</td>\n      <td>44</td>\n      <td>130</td>\n      <td>0</td>\n      <td>0</td>\n      <td>0</td>\n      <td>0</td>\n      <td>...</td>\n      <td>212</td>\n      <td>0.81</td>\n      <td>0.03</td>\n      <td>0.81</td>\n      <td>0.01</td>\n      <td>0.0</td>\n      <td>0.0</td>\n      <td>0.13</td>\n      <td>0.0</td>\n      <td>normal</td>\n    </tr>\n    <tr>\n      <th>56125</th>\n      <td>0</td>\n      <td>udp</td>\n      <td>domain_u</td>\n      <td>SF</td>\n      <td>44</td>\n      <td>133</td>\n      <td>0</td>\n      <td>0</td>\n      <td>0</td>\n      <td>0</td>\n      <td>...</td>\n      <td>126</td>\n      <td>0.60</td>\n      <td>0.01</td>\n      <td>0.00</td>\n      <td>0.00</td>\n      <td>0.0</td>\n      <td>0.0</td>\n      <td>0.00</td>\n      <td>0.0</td>\n      <td>normal</td>\n    </tr>\n  </tbody>\n</table>\n<p>5 rows × 42 columns</p>\n</div>"
     },
     "execution_count": 14,
     "metadata": {},
     "output_type": "execute_result"
    }
   ],
   "source": [
    "data=pd.read_csv('data/my.csv', index_col=None)\n",
    "traindata = data.sample(frac=0.7)\n",
    "testdata =data[~data.index.isin(traindata.index)]\n",
    "\n",
    "traindata.head()"
   ]
  },
  {
   "cell_type": "code",
   "execution_count": 15,
   "metadata": {},
   "outputs": [],
   "source": [
    "from sklearn.preprocessing import LabelEncoder\n",
    "encodings = dict()\n",
    "for c in traindata.columns:\n",
    "    #print df[c].dtype\n",
    "    if traindata[c].dtype == \"object\":\n",
    "        encodings[c] = LabelEncoder() #to give numerical label to char type labels.\n",
    "        encodings[c]\n",
    "        traindata[c] = encodings[c].fit_transform(traindata[c])"
   ]
  },
  {
   "cell_type": "code",
   "execution_count": 16,
   "metadata": {},
   "outputs": [
    {
     "name": "stderr",
     "output_type": "stream",
     "text": [
      "<ipython-input-16-0a51b2024455>:7: SettingWithCopyWarning: \n",
      "A value is trying to be set on a copy of a slice from a DataFrame.\n",
      "Try using .loc[row_indexer,col_indexer] = value instead\n",
      "\n",
      "See the caveats in the documentation: https://pandas.pydata.org/pandas-docs/stable/user_guide/indexing.html#returning-a-view-versus-a-copy\n",
      "  testdata[c] = encodings1[c].fit_transform(testdata[c])\n"
     ]
    }
   ],
   "source": [
    "encodings1 = dict()\n",
    "for c in testdata.columns:\n",
    "    #print df[c].dtype\n",
    "    if testdata[c].dtype == \"object\":\n",
    "        encodings1[c] = LabelEncoder() #to give numerical label to char type labels.\n",
    "        encodings1[c]\n",
    "        testdata[c] = encodings1[c].fit_transform(testdata[c])"
   ]
  },
  {
   "cell_type": "code",
   "execution_count": 17,
   "metadata": {},
   "outputs": [],
   "source": [
    "X = traindata.iloc[:,0:41]\n",
    "Y = traindata.iloc[:,41]\n",
    "C = testdata.iloc[:,41]\n",
    "T = testdata.iloc[:,0:41]\n",
    "\n",
    "\n",
    "scaler = Normalizer().fit(X)\n",
    "trainX = scaler.transform(X)\n",
    "\n",
    "scaler = Normalizer().fit(T)\n",
    "testT = scaler.transform(T)\n",
    "\n",
    "\n",
    "traindata = np.array(trainX)\n",
    "trainlabel = np.array(Y)\n",
    "\n",
    "testdata = np.array(testT)\n",
    "testlabel = np.array(C)\n"
   ]
  },
  {
   "cell_type": "code",
   "execution_count": 18,
   "metadata": {},
   "outputs": [
    {
     "name": "stdout",
     "output_type": "stream",
     "text": [
      "Classifier trained in 2.274 seconds.\n"
     ]
    },
    {
     "data": {
      "text/plain": "SGDClassifier(alpha=1, loss='squared_hinge')"
     },
     "execution_count": 18,
     "metadata": {},
     "output_type": "execute_result"
    }
   ],
   "source": [
    "from time import time\n",
    "\n",
    "from sklearn import linear_model\n",
    "clf = linear_model.SGDClassifier(max_iter=1000, tol=1e-3,loss='squared_hinge',alpha = 1)\n",
    "t0 = time()\n",
    "clf.fit(traindata,trainlabel)\n",
    "tt = time() - t0\n",
    "print (\"Classifier trained in {} seconds.\".format(round(tt, 3)))\n",
    "clf"
   ]
  },
  {
   "cell_type": "code",
   "execution_count": 19,
   "metadata": {},
   "outputs": [
    {
     "name": "stdout",
     "output_type": "stream",
     "text": [
      "Predicted in 0.015 seconds\n"
     ]
    }
   ],
   "source": [
    "#Predictions on the test data\n",
    "t0 = time()\n",
    "pred = clf.predict(testdata)\n",
    "tt = time() - t0\n",
    "print (\"Predicted in {} seconds\".format(round(tt,3)))"
   ]
  },
  {
   "cell_type": "code",
   "execution_count": 20,
   "metadata": {},
   "outputs": [
    {
     "name": "stdout",
     "output_type": "stream",
     "text": [
      "Confusion Matrix :\n",
      "[[    0     0     0     0     0     0     0     0     0     0     0   284\n",
      "      0     0     0     0     0     0     0     0     0     0]\n",
      " [    0     0     0     0     0     0     0     0     0     0     0    15\n",
      "      0     0     0     0     0     0     0     0     0     0]\n",
      " [    0     0     0     0     0     0     0     0     0     0     0     2\n",
      "      0     0     0     0     0     0     0     0     0     0]\n",
      " [    0     0     0     0     0     0     0     0     0     0     0    12\n",
      "      0     0     0     0     0     0     0     0     0     0]\n",
      " [    0     0     0     0     0     0     0     0     0     0     0     3\n",
      "      0     0     0     0     0     0     0     0     0     0]\n",
      " [    0     0     0     0     0     0     0     0     0    48     0   986\n",
      "      0     0     0     0     0     0     0     0     0     0]\n",
      " [    0     0     0     0     0     0     0     0     0     0     0     3\n",
      "      0     0     0     0     0     0     0     0     0     0]\n",
      " [    0     0     0     0     0     0     0     0     0     0     0     3\n",
      "      0     0     0     0     0     0     0     0     0     0]\n",
      " [    0     0     0     0     0     0     0     0     0     0     0     2\n",
      "      0     0     0     0     0     0     0     0     0     0]\n",
      " [    0     0     0     0     0     0     0     0     0 12292     0    89\n",
      "      0     0     0     0     0     0     0     0     0     0]\n",
      " [    0     0     0     0     0     0     0     0     0    58     0   362\n",
      "      0     0     0     0     0     0     0     0     0     0]\n",
      " [    0     0     0     0     0     0     0     0     0   187     0 19992\n",
      "      0     0     0     0     0     0     0     0     0     0]\n",
      " [    0     0     0     0     0     0     0     0     0     0     0     2\n",
      "      0     0     0     0     0     0     0     0     0     0]\n",
      " [    0     0     0     0     0     0     0     0     0     0     0    62\n",
      "      0     0     0     0     0     0     0     0     0     0]\n",
      " [    0     0     0     0     0     0     0     0     0   585     0   332\n",
      "      0     0     0     0     0     0     0     0     0     0]\n",
      " [    0     0     0     0     0     0     0     0     0     0     0     5\n",
      "      0     0     0     0     0     0     0     0     0     0]\n",
      " [    0     0     0     0     0     0     0     0     0  1085     0    32\n",
      "      0     0     0     0     0     0     0     0     0     0]\n",
      " [    0     0     0     0     0     0     0     0     0     0     0   791\n",
      "      0     0     0     0     0     0     0     0     0     0]\n",
      " [    0     0     0     0     0     0     0     0     0     0     0     1\n",
      "      0     0     0     0     0     0     0     0     0     0]\n",
      " [    0     0     0     0     0     0     0     0     0   211     0    69\n",
      "      0     0     0     0     0     0     0     0     0     0]\n",
      " [    0     0     0     0     0     0     0     0     0     0     0   272\n",
      "      0     0     0     0     0     0     0     0     0     0]\n",
      " [    0     0     0     0     0     0     0     0     0     0     0     7\n",
      "      0     0     0     0     0     0     0     0     0     0]]\n",
      "Accuracy Score : 0.8542548687552921\n",
      "Report : \n",
      "              precision    recall  f1-score   support\n",
      "\n",
      "           0       0.00      0.00      0.00       284\n",
      "           1       0.00      0.00      0.00        15\n",
      "           2       0.00      0.00      0.00         2\n",
      "           3       0.00      0.00      0.00        12\n",
      "           4       0.00      0.00      0.00         3\n",
      "           5       0.00      0.00      0.00      1034\n",
      "           6       0.00      0.00      0.00         3\n",
      "           7       0.00      0.00      0.00         3\n",
      "           8       0.00      0.00      0.00         2\n",
      "           9       0.85      0.99      0.92     12381\n",
      "          10       0.00      0.00      0.00       420\n",
      "          11       0.86      0.99      0.92     20179\n",
      "          12       0.00      0.00      0.00         2\n",
      "          13       0.00      0.00      0.00        62\n",
      "          14       0.00      0.00      0.00       917\n",
      "          15       0.00      0.00      0.00         5\n",
      "          16       0.00      0.00      0.00      1117\n",
      "          17       0.00      0.00      0.00       791\n",
      "          18       0.00      0.00      0.00         1\n",
      "          19       0.00      0.00      0.00       280\n",
      "          20       0.00      0.00      0.00       272\n",
      "          21       0.00      0.00      0.00         7\n",
      "\n",
      "    accuracy                           0.85     37792\n",
      "   macro avg       0.08      0.09      0.08     37792\n",
      "weighted avg       0.74      0.85      0.79     37792\n",
      "\n"
     ]
    },
    {
     "name": "stderr",
     "output_type": "stream",
     "text": [
      "D:\\Anaconda3\\lib\\site-packages\\sklearn\\metrics\\_classification.py:1221: UndefinedMetricWarning: Precision and F-score are ill-defined and being set to 0.0 in labels with no predicted samples. Use `zero_division` parameter to control this behavior.\n",
      "  _warn_prf(average, modifier, msg_start, len(result))\n"
     ]
    }
   ],
   "source": [
    "# Python script for confusion matrix creation. \n",
    "from sklearn.metrics import confusion_matrix \n",
    "from sklearn.metrics import accuracy_score \n",
    "from sklearn.metrics import classification_report \n",
    " \n",
    "results = confusion_matrix(testlabel, pred) \n",
    "print('Confusion Matrix :')\n",
    "print(results) \n",
    "print('Accuracy Score :',accuracy_score(testlabel, pred))\n",
    "print('Report : ')\n",
    "print(classification_report(testlabel, pred))\n"
   ]
  },
  {
   "cell_type": "code",
   "execution_count": 21,
   "metadata": {},
   "outputs": [
    {
     "name": "stderr",
     "output_type": "stream",
     "text": [
      "D:\\Anaconda3\\lib\\site-packages\\sklearn\\model_selection\\_split.py:670: UserWarning: The least populated class in y has only 1 members, which is less than n_splits=10.\n",
      "  warnings.warn((\"The least populated class in y has only %d\"\n",
      "D:\\Anaconda3\\lib\\site-packages\\sklearn\\metrics\\_classification.py:1221: UndefinedMetricWarning: Precision and F-score are ill-defined and being set to 0.0 in labels with no predicted samples. Use `zero_division` parameter to control this behavior.\n",
      "  _warn_prf(average, modifier, msg_start, len(result))\n"
     ]
    },
    {
     "name": "stdout",
     "output_type": "stream",
     "text": [
      "Accuracy Score : 0.8539804944431844\n",
      "Report : \n",
      "              precision    recall  f1-score   support\n",
      "\n",
      "           0       0.00      0.00      0.00       672\n",
      "           1       0.00      0.00      0.00        15\n",
      "           2       0.00      0.00      0.00         6\n",
      "           3       0.00      0.00      0.00        41\n",
      "           4       0.00      0.00      0.00         8\n",
      "           5       0.00      0.00      0.00      2565\n",
      "           6       0.00      0.00      0.00        15\n",
      "           7       0.00      0.00      0.00         6\n",
      "           8       0.00      0.00      0.00         5\n",
      "           9       0.85      0.99      0.92     28833\n",
      "          10       0.00      0.00      0.00      1073\n",
      "          11       0.85      0.99      0.92     47163\n",
      "          12       0.00      0.00      0.00         3\n",
      "          13       0.00      0.00      0.00         2\n",
      "          14       0.00      0.00      0.00       139\n",
      "          15       0.00      0.00      0.00      2014\n",
      "          16       0.00      0.00      0.00         5\n",
      "          17       0.00      0.00      0.00      2516\n",
      "          18       0.00      0.00      0.00      1855\n",
      "          19       0.00      0.00      0.00         1\n",
      "          20       0.00      0.00      0.00       612\n",
      "          21       0.00      0.00      0.00       618\n",
      "          22       0.00      0.00      0.00        13\n",
      "\n",
      "    accuracy                           0.85     88180\n",
      "   macro avg       0.07      0.09      0.08     88180\n",
      "weighted avg       0.74      0.85      0.79     88180\n",
      "\n",
      "Predicted in 19.35 seconds\n"
     ]
    }
   ],
   "source": [
    "t0 = time()\n",
    "from sklearn.model_selection import cross_val_predict\n",
    "from sklearn.model_selection import StratifiedKFold\n",
    "skf = StratifiedKFold(n_splits=10)\n",
    "predicted = cross_val_predict(clf, traindata,trainlabel, cv=skf)\n",
    "print('Accuracy Score :',accuracy_score(trainlabel, predicted))\n",
    "print('Report : ')\n",
    "print(classification_report(trainlabel, predicted))\n",
    "tt = time() - t0\n",
    "print (\"Predicted in {} seconds\".format(round(tt,3)))"
   ]
  },
  {
   "cell_type": "code",
   "execution_count": 22,
   "metadata": {},
   "outputs": [
    {
     "name": "stderr",
     "output_type": "stream",
     "text": [
      "D:\\Anaconda3\\lib\\site-packages\\sklearn\\model_selection\\_split.py:670: UserWarning: The least populated class in y has only 1 members, which is less than n_splits=10.\n",
      "  warnings.warn((\"The least populated class in y has only %d\"\n"
     ]
    },
    {
     "name": "stdout",
     "output_type": "stream",
     "text": [
      "Predicted in 7.091 seconds\n"
     ]
    }
   ],
   "source": [
    "#Predictions on the test data\n",
    "t0 = time()\n",
    "pred = cross_val_predict(clf, testdata,testlabel, cv=skf)\n",
    "tt = time() - t0\n",
    "print (\"Predicted in {} seconds\".format(round(tt,3)))"
   ]
  },
  {
   "cell_type": "code",
   "execution_count": 23,
   "metadata": {},
   "outputs": [
    {
     "name": "stdout",
     "output_type": "stream",
     "text": [
      "Confusion Matrix :\n",
      "[[    0     0     0     0     0     0     0     0     0     0     0   284\n",
      "      0     0     0     0     0     0     0     0     0     0]\n",
      " [    0     0     0     0     0     0     0     0     0     0     0    15\n",
      "      0     0     0     0     0     0     0     0     0     0]\n",
      " [    0     0     0     0     0     0     0     0     0     0     0     2\n",
      "      0     0     0     0     0     0     0     0     0     0]\n",
      " [    0     0     0     0     0     0     0     0     0     0     0    12\n",
      "      0     0     0     0     0     0     0     0     0     0]\n",
      " [    0     0     0     0     0     0     0     0     0     0     0     3\n",
      "      0     0     0     0     0     0     0     0     0     0]\n",
      " [    0     0     0     0     0     0     0     0     0    49     0   985\n",
      "      0     0     0     0     0     0     0     0     0     0]\n",
      " [    0     0     0     0     0     0     0     0     0     0     0     3\n",
      "      0     0     0     0     0     0     0     0     0     0]\n",
      " [    0     0     0     0     0     0     0     0     0     0     0     3\n",
      "      0     0     0     0     0     0     0     0     0     0]\n",
      " [    0     0     0     0     0     0     0     0     0     0     0     2\n",
      "      0     0     0     0     0     0     0     0     0     0]\n",
      " [    0     0     0     0     0     0     0     0     0 12292     0    89\n",
      "      0     0     0     0     0     0     0     0     0     0]\n",
      " [    0     0     0     0     0     0     0     0     0    58     0   362\n",
      "      0     0     0     0     0     0     0     0     0     0]\n",
      " [    0     0     0     0     0     0     0     0     0   199     0 19980\n",
      "      0     0     0     0     0     0     0     0     0     0]\n",
      " [    0     0     0     0     0     0     0     0     0     0     0     2\n",
      "      0     0     0     0     0     0     0     0     0     0]\n",
      " [    0     0     0     0     0     0     0     0     0     0     0    62\n",
      "      0     0     0     0     0     0     0     0     0     0]\n",
      " [    0     0     0     0     0     0     0     0     0   585     0   332\n",
      "      0     0     0     0     0     0     0     0     0     0]\n",
      " [    0     0     0     0     0     0     0     0     0     0     0     5\n",
      "      0     0     0     0     0     0     0     0     0     0]\n",
      " [    0     0     0     0     0     0     0     0     0  1087     0    30\n",
      "      0     0     0     0     0     0     0     0     0     0]\n",
      " [    0     0     0     0     0     0     0     0     0     0     0   791\n",
      "      0     0     0     0     0     0     0     0     0     0]\n",
      " [    0     0     0     0     0     0     0     0     0     0     0     1\n",
      "      0     0     0     0     0     0     0     0     0     0]\n",
      " [    0     0     0     0     0     0     0     0     0   211     0    69\n",
      "      0     0     0     0     0     0     0     0     0     0]\n",
      " [    0     0     0     0     0     0     0     0     0     0     0   272\n",
      "      0     0     0     0     0     0     0     0     0     0]\n",
      " [    0     0     0     0     0     0     0     0     0     0     0     7\n",
      "      0     0     0     0     0     0     0     0     0     0]]\n",
      "Accuracy Score : 0.8539373412362404\n",
      "Report : \n",
      "              precision    recall  f1-score   support\n",
      "\n",
      "           0       0.00      0.00      0.00       284\n",
      "           1       0.00      0.00      0.00        15\n",
      "           2       0.00      0.00      0.00         2\n",
      "           3       0.00      0.00      0.00        12\n",
      "           4       0.00      0.00      0.00         3\n",
      "           5       0.00      0.00      0.00      1034\n",
      "           6       0.00      0.00      0.00         3\n",
      "           7       0.00      0.00      0.00         3\n",
      "           8       0.00      0.00      0.00         2\n",
      "           9       0.85      0.99      0.92     12381\n",
      "          10       0.00      0.00      0.00       420\n",
      "          11       0.86      0.99      0.92     20179\n",
      "          12       0.00      0.00      0.00         2\n",
      "          13       0.00      0.00      0.00        62\n",
      "          14       0.00      0.00      0.00       917\n",
      "          15       0.00      0.00      0.00         5\n",
      "          16       0.00      0.00      0.00      1117\n",
      "          17       0.00      0.00      0.00       791\n",
      "          18       0.00      0.00      0.00         1\n",
      "          19       0.00      0.00      0.00       280\n",
      "          20       0.00      0.00      0.00       272\n",
      "          21       0.00      0.00      0.00         7\n",
      "\n",
      "    accuracy                           0.85     37792\n",
      "   macro avg       0.08      0.09      0.08     37792\n",
      "weighted avg       0.74      0.85      0.79     37792\n",
      "\n"
     ]
    },
    {
     "name": "stderr",
     "output_type": "stream",
     "text": [
      "D:\\Anaconda3\\lib\\site-packages\\sklearn\\metrics\\_classification.py:1221: UndefinedMetricWarning: Precision and F-score are ill-defined and being set to 0.0 in labels with no predicted samples. Use `zero_division` parameter to control this behavior.\n",
      "  _warn_prf(average, modifier, msg_start, len(result))\n"
     ]
    }
   ],
   "source": [
    "# Python script for confusion matrix creation. \n",
    "from sklearn.metrics import confusion_matrix \n",
    "from sklearn.metrics import accuracy_score \n",
    "from sklearn.metrics import classification_report \n",
    " \n",
    "results = confusion_matrix(testlabel, pred) \n",
    "print('Confusion Matrix :')\n",
    "print(results) \n",
    "print('Accuracy Score :',accuracy_score(testlabel, pred))\n",
    "print('Report : ')\n",
    "print(classification_report(testlabel, pred))\n"
   ]
  },
  {
   "cell_type": "code",
   "execution_count": 23,
   "metadata": {},
   "outputs": [],
   "source": []
  }
 ],
 "metadata": {
  "kernelspec": {
   "display_name": "Python 3",
   "language": "python",
   "name": "python3"
  },
  "language_info": {
   "codemirror_mode": {
    "name": "ipython",
    "version": 3
   },
   "file_extension": ".py",
   "mimetype": "text/x-python",
   "name": "python",
   "nbconvert_exporter": "python",
   "pygments_lexer": "ipython3",
   "version": "3.6.4"
  }
 },
 "nbformat": 4,
 "nbformat_minor": 2
}
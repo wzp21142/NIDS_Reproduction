{
 "cells": [
  {
   "cell_type": "code",
   "execution_count": 1,
   "metadata": {},
   "outputs": [],
   "source": [
    "#loading the data\n",
    "import pandas as pd\n",
    "from time import time\n",
    "df = pd.read_csv(\"data/my.csv\", index_col=None)\n"
   ]
  },
  {
   "cell_type": "code",
   "execution_count": 2,
   "metadata": {},
   "outputs": [],
   "source": [
    "from sklearn.preprocessing import LabelEncoder\n",
    "encodings = dict()\n",
    "for c in df.columns:\n",
    "    #print df[c].dtype\n",
    "    if df[c].dtype == \"object\":\n",
    "        encodings[c] = LabelEncoder() #to give numerical label to char type labels.\n",
    "        encodings[c]\n",
    "        df[c] = encodings[c].fit_transform(df[c])"
   ]
  },
  {
   "cell_type": "code",
   "execution_count": 3,
   "metadata": {},
   "outputs": [],
   "source": [
    "y = df.pop(df.columns[-1]).values\n",
    "X = df.values"
   ]
  },
  {
   "cell_type": "code",
   "execution_count": 4,
   "metadata": {},
   "outputs": [],
   "source": [
    "from sklearn.preprocessing import StandardScaler #normalization\n",
    "X= StandardScaler().fit_transform(X)\n"
   ]
  },
  {
   "cell_type": "code",
   "execution_count": 5,
   "metadata": {},
   "outputs": [],
   "source": [
    "from sklearn.model_selection import train_test_split\n",
    "X_train, X_test, y_train, y_test = train_test_split(X, y, test_size=0.2, random_state=42)#random for splitting same data when run again.\n",
    "#X_train, X_val, y_train, y_val = train_test_split(X_train, y_train, test_size=0.25, random_state=42)"
   ]
  },
  {
   "cell_type": "code",
   "execution_count": 6,
   "metadata": {},
   "outputs": [
    {
     "name": "stdout",
     "output_type": "stream",
     "text": [
      "Classifier trained in 89.906 seconds.\n"
     ]
    },
    {
     "data": {
      "text/plain": "MLPClassifier(alpha=1)"
     },
     "execution_count": 6,
     "metadata": {},
     "output_type": "execute_result"
    }
   ],
   "source": [
    "#Training a classifier\n",
    "from sklearn.neural_network import MLPClassifier\n",
    "clf = MLPClassifier(alpha=1)\n",
    "t0 = time()\n",
    "clf.fit(X_train, y_train)\n",
    "tt = time() - t0\n",
    "print (\"Classifier trained in {} seconds.\".format(round(tt, 3)))\n",
    "clf"
   ]
  },
  {
   "cell_type": "code",
   "execution_count": 7,
   "metadata": {},
   "outputs": [
    {
     "name": "stdout",
     "output_type": "stream",
     "text": [
      "Predicted in 0.071 seconds\n"
     ]
    }
   ],
   "source": [
    "#Predictions on the test data\n",
    "t0 = time()\n",
    "pred = clf.predict(X_test)\n",
    "tt = time() - t0\n",
    "print (\"Predicted in {} seconds\".format(round(tt,3)))"
   ]
  },
  {
   "cell_type": "code",
   "execution_count": 8,
   "metadata": {},
   "outputs": [
    {
     "name": "stdout",
     "output_type": "stream",
     "text": [
      "Confusion Matrix :\n",
      "[[  117     0     0     0     0     0     0     0     0     0    84     0\n",
      "      0     0     0     0     0     0     0     0     0     0]\n",
      " [    0     0     0     0     0     0     0     0     1     0     2     0\n",
      "      0     0     0     0     0     0     0     0     4     0]\n",
      " [    0     0    11     0     0     0     0     0     0     1     2     0\n",
      "      0     0     0     0     0     0     0     0     0     0]\n",
      " [    0     0     0     0     0     0     0     0     0     2     0     0\n",
      "      0     0     0     0     0     0     0     0     0     0]\n",
      " [    0     0     0     0   718     0     0     0     0    11    14     0\n",
      "      0     0     0     0     0     0     0     0     0     0]\n",
      " [    0     0     0     0     0     0     0     0     0     0     2     0\n",
      "      0     0     0     0     0     0     0     0     0     0]\n",
      " [    0     0     0     0     0     0     0     0     0     0     2     0\n",
      "      0     0     0     0     0     0     0     0     1     0]\n",
      " [    0     0     0     0     0     0     0     0     0     0     1     0\n",
      "      0     0     0     0     0     0     0     0     0     0]\n",
      " [    0     0     0     0     1     0     0     0  8236     0     0     0\n",
      "      0     0     1     0     0     0     0     0     0     0]\n",
      " [    0     0     0     0     3     0     0     0     0   241    54     0\n",
      "      0     0     0     0     0     0     0     0     0     0]\n",
      " [    8     0     0     0    47     0     0     0     8     1 13283     0\n",
      "      0     0     4     0     8     2     0     0    25     0]\n",
      " [    0     0     0     0     0     0     0     0     0     0     1     0\n",
      "      0     0     0     0     0     0     0     0     0     0]\n",
      " [    0     0     0     0     0     0     0     0     0     0     1     0\n",
      "      0     0     0     0     0     0     0     0     0     0]\n",
      " [    0     0     0     0    14     0     0     0     0     2     1     0\n",
      "      0    19     0     0     0     0     0     0     0     0]\n",
      " [    0     0     0     0     1     0     0     0    25     0    13     0\n",
      "      0     0   543     0     1     0     0     0     0     0]\n",
      " [    0     0     0     0     0     0     0     0     0     0     2     0\n",
      "      0     0     0     0     0     0     0     0     0     0]\n",
      " [    0     0     0     0     0     0     0     0     0     0    35     0\n",
      "      0     0     1     0   713     0     0     0     0     0]\n",
      " [    0     0     0     0     0     0     0     0     0     0    19     0\n",
      "      0     0     0     0     0   532     0     0     0     0]\n",
      " [    0     0     0     0     0     0     0     0     0     0     1     0\n",
      "      0     0     0     0     0     0     0     0     0     0]\n",
      " [    0     0     0     0     0     0     0     0     0     0     2     0\n",
      "      0     0     0     0     1     0     0   193     0     0]\n",
      " [    0     0     0     0     0     0     0     0     0     0    54     0\n",
      "      0     0     0     0     0     0     0     0   122     0]\n",
      " [    0     0     0     0     0     0     0     0     0     0     4     0\n",
      "      0     0     0     0     0     0     0     0     0     0]]\n",
      "Accuracy Score : 0.9814645763048224\n",
      "Report : \n",
      "              precision    recall  f1-score   support\n",
      "\n",
      "           0       0.94      0.58      0.72       201\n",
      "           1       0.00      0.00      0.00         7\n",
      "           3       1.00      0.79      0.88        14\n",
      "           4       0.00      0.00      0.00         2\n",
      "           5       0.92      0.97      0.94       743\n",
      "           6       0.00      0.00      0.00         2\n",
      "           7       0.00      0.00      0.00         3\n",
      "           8       0.00      0.00      0.00         1\n",
      "           9       1.00      1.00      1.00      8238\n",
      "          10       0.93      0.81      0.87       298\n",
      "          11       0.98      0.99      0.99     13386\n",
      "          12       0.00      0.00      0.00         1\n",
      "          13       0.00      0.00      0.00         1\n",
      "          14       1.00      0.53      0.69        36\n",
      "          15       0.99      0.93      0.96       583\n",
      "          16       0.00      0.00      0.00         2\n",
      "          17       0.99      0.95      0.97       749\n",
      "          18       1.00      0.97      0.98       551\n",
      "          19       0.00      0.00      0.00         1\n",
      "          20       1.00      0.98      0.99       196\n",
      "          21       0.80      0.69      0.74       176\n",
      "          22       0.00      0.00      0.00         4\n",
      "\n",
      "    accuracy                           0.98     25195\n",
      "   macro avg       0.52      0.46      0.49     25195\n",
      "weighted avg       0.98      0.98      0.98     25195\n",
      "\n"
     ]
    },
    {
     "name": "stderr",
     "output_type": "stream",
     "text": [
      "D:\\Anaconda3\\lib\\site-packages\\sklearn\\metrics\\_classification.py:1221: UndefinedMetricWarning: Precision and F-score are ill-defined and being set to 0.0 in labels with no predicted samples. Use `zero_division` parameter to control this behavior.\n",
      "  _warn_prf(average, modifier, msg_start, len(result))\n"
     ]
    }
   ],
   "source": [
    "# Python script for confusion matrix creation. \n",
    "from sklearn.metrics import confusion_matrix \n",
    "from sklearn.metrics import accuracy_score \n",
    "from sklearn.metrics import classification_report \n",
    " \n",
    "results = confusion_matrix(y_test, pred) \n",
    "print('Confusion Matrix :')\n",
    "print(results) \n",
    "print('Accuracy Score :',accuracy_score(y_test, pred))\n",
    "print('Report : ')\n",
    "print(classification_report(y_test, pred))\n"
   ]
  },
  {
   "cell_type": "code",
   "execution_count": 9,
   "metadata": {},
   "outputs": [
    {
     "name": "stderr",
     "output_type": "stream",
     "text": [
      "D:\\Anaconda3\\lib\\site-packages\\sklearn\\model_selection\\_split.py:670: UserWarning: The least populated class in y has only 1 members, which is less than n_splits=10.\n",
      "  warnings.warn((\"The least populated class in y has only %d\"\n",
      "D:\\Anaconda3\\lib\\site-packages\\sklearn\\metrics\\_classification.py:1221: UndefinedMetricWarning: Precision and F-score are ill-defined and being set to 0.0 in labels with no predicted samples. Use `zero_division` parameter to control this behavior.\n",
      "  _warn_prf(average, modifier, msg_start, len(result))\n"
     ]
    },
    {
     "name": "stdout",
     "output_type": "stream",
     "text": [
      "Accuracy Score : 0.9785764608988162\n",
      "Report : \n",
      "              precision    recall  f1-score   support\n",
      "\n",
      "           0       0.97      0.54      0.69       755\n",
      "           1       0.00      0.00      0.00        23\n",
      "           2       0.00      0.00      0.00         8\n",
      "           3       0.97      1.00      0.99        39\n",
      "           4       0.00      0.00      0.00         9\n",
      "           5       0.93      0.96      0.94      2856\n",
      "           6       0.60      0.38      0.46        16\n",
      "           7       0.00      0.00      0.00         6\n",
      "           8       0.00      0.00      0.00         6\n",
      "           9       1.00      1.00      1.00     32976\n",
      "          10       0.93      0.80      0.86      1195\n",
      "          11       0.97      0.99      0.98     53956\n",
      "          12       0.00      0.00      0.00         2\n",
      "          13       0.00      0.00      0.00         3\n",
      "          14       0.99      0.47      0.64       165\n",
      "          15       0.98      0.95      0.97      2348\n",
      "          16       0.00      0.00      0.00         8\n",
      "          17       0.98      0.92      0.95      2884\n",
      "          18       1.00      0.95      0.97      2095\n",
      "          19       0.00      0.00      0.00         1\n",
      "          20       1.00      0.99      1.00       696\n",
      "          21       0.86      0.28      0.42       714\n",
      "          22       0.00      0.00      0.00        16\n",
      "\n",
      "    accuracy                           0.98    100777\n",
      "   macro avg       0.53      0.44      0.47    100777\n",
      "weighted avg       0.98      0.98      0.98    100777\n",
      "\n",
      "Predicted in 755.448 seconds\n"
     ]
    }
   ],
   "source": [
    "t0 = time()\n",
    "from sklearn.model_selection import cross_val_predict\n",
    "from sklearn.model_selection import StratifiedKFold\n",
    "skf = StratifiedKFold(n_splits=10)\n",
    "predicted = cross_val_predict(clf, X_train, y_train, cv=skf)\n",
    "print('Accuracy Score :',accuracy_score(y_train, predicted))\n",
    "print('Report : ')\n",
    "print(classification_report(y_train, predicted))\n",
    "tt = time() - t0\n",
    "print (\"Predicted in {} seconds\".format(round(tt,3)))"
   ]
  },
  {
   "cell_type": "code",
   "execution_count": 9,
   "metadata": {
    "collapsed": true
   },
   "outputs": [],
   "source": []
  }
 ],
 "metadata": {
  "kernelspec": {
   "display_name": "Python 3",
   "language": "python",
   "name": "python3"
  },
  "language_info": {
   "codemirror_mode": {
    "name": "ipython",
    "version": 3
   },
   "file_extension": ".py",
   "mimetype": "text/x-python",
   "name": "python",
   "nbconvert_exporter": "python",
   "pygments_lexer": "ipython3",
   "version": "3.6.4"
  }
 },
 "nbformat": 4,
 "nbformat_minor": 2
}
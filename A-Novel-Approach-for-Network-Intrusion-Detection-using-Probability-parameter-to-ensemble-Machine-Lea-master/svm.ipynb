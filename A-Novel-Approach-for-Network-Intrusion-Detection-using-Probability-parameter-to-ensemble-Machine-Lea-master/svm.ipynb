{
 "cells": [
  {
   "cell_type": "code",
   "execution_count": 1,
   "metadata": {},
   "outputs": [],
   "source": [
    "import pandas as pd"
   ]
  },
  {
   "cell_type": "code",
   "execution_count": 2,
   "metadata": {},
   "outputs": [],
   "source": [
    "df = pd.read_csv(\"data/my.csv\", index_col=None)"
   ]
  },
  {
   "cell_type": "code",
   "execution_count": 3,
   "metadata": {},
   "outputs": [],
   "source": [
    "# df=df.drop(['land','su_attempted','num_outbound_cmds','is_host_login','urgent','num_failed_logins','su_attempted','num_file_creations','num_shells','srv_diff_host_rate'], axis = 1)\n"
   ]
  },
  {
   "cell_type": "code",
   "execution_count": 4,
   "metadata": {},
   "outputs": [
    {
     "data": {
      "text/plain": "   0  tcp ftp_data   SF  491   0.1  0.2  0.3  0.4  0.5  ...   25  0.17.1  \\\n0  0  udp    other   SF  146     0    0    0    0    0  ...    1    0.00   \n1  0  tcp  private   S0    0     0    0    0    0    0  ...   26    0.10   \n2  0  tcp     http   SF  232  8153    0    0    0    0  ...  255    1.00   \n3  0  tcp     http   SF  199   420    0    0    0    0  ...  255    1.00   \n4  0  tcp  private  REJ    0     0    0    0    0    0  ...   19    0.07   \n\n   0.03  0.17.2  0.24  0.25  0.26  0.05  0.27   normal  \n0  0.60    0.88  0.00  0.00  0.00   0.0  0.00   normal  \n1  0.05    0.00  0.00  1.00  1.00   0.0  0.00  neptune  \n2  0.00    0.03  0.04  0.03  0.01   0.0  0.01   normal  \n3  0.00    0.00  0.00  0.00  0.00   0.0  0.00   normal  \n4  0.07    0.00  0.00  0.00  0.00   1.0  1.00  neptune  \n\n[5 rows x 42 columns]",
      "text/html": "<div>\n<style scoped>\n    .dataframe tbody tr th:only-of-type {\n        vertical-align: middle;\n    }\n\n    .dataframe tbody tr th {\n        vertical-align: top;\n    }\n\n    .dataframe thead th {\n        text-align: right;\n    }\n</style>\n<table border=\"1\" class=\"dataframe\">\n  <thead>\n    <tr style=\"text-align: right;\">\n      <th></th>\n      <th>0</th>\n      <th>tcp</th>\n      <th>ftp_data</th>\n      <th>SF</th>\n      <th>491</th>\n      <th>0.1</th>\n      <th>0.2</th>\n      <th>0.3</th>\n      <th>0.4</th>\n      <th>0.5</th>\n      <th>...</th>\n      <th>25</th>\n      <th>0.17.1</th>\n      <th>0.03</th>\n      <th>0.17.2</th>\n      <th>0.24</th>\n      <th>0.25</th>\n      <th>0.26</th>\n      <th>0.05</th>\n      <th>0.27</th>\n      <th>normal</th>\n    </tr>\n  </thead>\n  <tbody>\n    <tr>\n      <th>0</th>\n      <td>0</td>\n      <td>udp</td>\n      <td>other</td>\n      <td>SF</td>\n      <td>146</td>\n      <td>0</td>\n      <td>0</td>\n      <td>0</td>\n      <td>0</td>\n      <td>0</td>\n      <td>...</td>\n      <td>1</td>\n      <td>0.00</td>\n      <td>0.60</td>\n      <td>0.88</td>\n      <td>0.00</td>\n      <td>0.00</td>\n      <td>0.00</td>\n      <td>0.0</td>\n      <td>0.00</td>\n      <td>normal</td>\n    </tr>\n    <tr>\n      <th>1</th>\n      <td>0</td>\n      <td>tcp</td>\n      <td>private</td>\n      <td>S0</td>\n      <td>0</td>\n      <td>0</td>\n      <td>0</td>\n      <td>0</td>\n      <td>0</td>\n      <td>0</td>\n      <td>...</td>\n      <td>26</td>\n      <td>0.10</td>\n      <td>0.05</td>\n      <td>0.00</td>\n      <td>0.00</td>\n      <td>1.00</td>\n      <td>1.00</td>\n      <td>0.0</td>\n      <td>0.00</td>\n      <td>neptune</td>\n    </tr>\n    <tr>\n      <th>2</th>\n      <td>0</td>\n      <td>tcp</td>\n      <td>http</td>\n      <td>SF</td>\n      <td>232</td>\n      <td>8153</td>\n      <td>0</td>\n      <td>0</td>\n      <td>0</td>\n      <td>0</td>\n      <td>...</td>\n      <td>255</td>\n      <td>1.00</td>\n      <td>0.00</td>\n      <td>0.03</td>\n      <td>0.04</td>\n      <td>0.03</td>\n      <td>0.01</td>\n      <td>0.0</td>\n      <td>0.01</td>\n      <td>normal</td>\n    </tr>\n    <tr>\n      <th>3</th>\n      <td>0</td>\n      <td>tcp</td>\n      <td>http</td>\n      <td>SF</td>\n      <td>199</td>\n      <td>420</td>\n      <td>0</td>\n      <td>0</td>\n      <td>0</td>\n      <td>0</td>\n      <td>...</td>\n      <td>255</td>\n      <td>1.00</td>\n      <td>0.00</td>\n      <td>0.00</td>\n      <td>0.00</td>\n      <td>0.00</td>\n      <td>0.00</td>\n      <td>0.0</td>\n      <td>0.00</td>\n      <td>normal</td>\n    </tr>\n    <tr>\n      <th>4</th>\n      <td>0</td>\n      <td>tcp</td>\n      <td>private</td>\n      <td>REJ</td>\n      <td>0</td>\n      <td>0</td>\n      <td>0</td>\n      <td>0</td>\n      <td>0</td>\n      <td>0</td>\n      <td>...</td>\n      <td>19</td>\n      <td>0.07</td>\n      <td>0.07</td>\n      <td>0.00</td>\n      <td>0.00</td>\n      <td>0.00</td>\n      <td>0.00</td>\n      <td>1.0</td>\n      <td>1.00</td>\n      <td>neptune</td>\n    </tr>\n  </tbody>\n</table>\n<p>5 rows × 42 columns</p>\n</div>"
     },
     "execution_count": 4,
     "metadata": {},
     "output_type": "execute_result"
    }
   ],
   "source": [
    "df.head()"
   ]
  },
  {
   "cell_type": "code",
   "execution_count": 4,
   "metadata": {},
   "outputs": [],
   "source": []
  },
  {
   "cell_type": "code",
   "execution_count": 5,
   "metadata": {},
   "outputs": [
    {
     "data": {
      "text/plain": "Counter({'normal': 67342,\n         'neptune': 41214,\n         'warezclient': 890,\n         'ipsweep': 3599,\n         'portsweep': 2931,\n         'teardrop': 892,\n         'nmap': 1493,\n         'satan': 3633,\n         'smurf': 2646,\n         'pod': 201,\n         'back': 956,\n         'guess_passwd': 53,\n         'ftp_write': 8,\n         'multihop': 7,\n         'rootkit': 10,\n         'buffer_overflow': 30,\n         'imap': 11,\n         'warezmaster': 20,\n         'phf': 4,\n         'land': 18,\n         'loadmodule': 9,\n         'spy': 2,\n         'perl': 3})"
     },
     "execution_count": 5,
     "metadata": {},
     "output_type": "execute_result"
    }
   ],
   "source": [
    "y = df[df.columns[-1]].values\n",
    "from collections import Counter\n",
    "#num = Counter(y)\n",
    "#n=num.get('normal')\n",
    "Counter(y)"
   ]
  },
  {
   "cell_type": "code",
   "execution_count": 6,
   "metadata": {},
   "outputs": [],
   "source": [
    "from sklearn.preprocessing import LabelEncoder\n",
    "encodings = dict()\n",
    "for c in df.columns:\n",
    "    #print df[c].dtype\n",
    "    if df[c].dtype == \"object\":\n",
    "        encodings[c] = LabelEncoder() #to give numerical label to char type labels.\n",
    "        encodings[c]\n",
    "        df[c] = encodings[c].fit_transform(df[c])"
   ]
  },
  {
   "cell_type": "code",
   "execution_count": 7,
   "metadata": {},
   "outputs": [],
   "source": [
    "y = df.pop(df.columns[-1]).values\n",
    "X = df.values"
   ]
  },
  {
   "cell_type": "code",
   "execution_count": 8,
   "metadata": {},
   "outputs": [],
   "source": [
    "from sklearn.preprocessing import OneHotEncoder\n",
    "from sklearn.compose import ColumnTransformer\n",
    "onehotencoder = ColumnTransformer([('t', OneHotEncoder(), [1])], remainder='passthrough')\n",
    "\n",
    "X = onehotencoder.fit_transform(X)\n"
   ]
  },
  {
   "cell_type": "code",
   "execution_count": 9,
   "metadata": {},
   "outputs": [],
   "source": [
    "from sklearn.preprocessing import StandardScaler #normalization\n",
    "X = StandardScaler().fit_transform(X)"
   ]
  },
  {
   "cell_type": "code",
   "execution_count": 10,
   "metadata": {},
   "outputs": [],
   "source": [
    "from sklearn.decomposition import PCA\n",
    "\n",
    "pca = PCA(n_components=2)\n",
    "principalComponents = pca.fit_transform(X)\n",
    "principalDfX = pd.DataFrame(data = principalComponents)"
   ]
  },
  {
   "cell_type": "code",
   "execution_count": 11,
   "metadata": {},
   "outputs": [
    {
     "name": "stdout",
     "output_type": "stream",
     "text": [
      "Counter({11: 67342, 9: 41214, 17: 3633, 5: 3599, 15: 2931, 18: 2646, 10: 1493, 0: 956, 20: 892, 21: 890, 14: 201, 3: 53, 1: 30, 22: 20, 6: 18, 4: 11, 16: 10, 7: 9, 2: 8, 8: 7, 13: 4, 12: 3, 19: 2})\n"
     ]
    }
   ],
   "source": [
    "principalDfX.head()\n",
    "print(Counter(y))"
   ]
  },
  {
   "cell_type": "code",
   "execution_count": 12,
   "metadata": {},
   "outputs": [],
   "source": [
    "from sklearn.model_selection import train_test_split\n",
    "X_train, X_test, y_train, y_test = train_test_split(principalDfX, y, test_size=0.2, random_state=42)#random for splitting same data when run again.\n",
    "#X_train, X_val, y_train, y_val = train_test_split(X_train, y_train, test_size=0.25, random_state=42)"
   ]
  },
  {
   "cell_type": "code",
   "execution_count": 13,
   "metadata": {},
   "outputs": [
    {
     "data": {
      "text/plain": "SVC(decision_function_shape='ovo', gamma='auto')"
     },
     "execution_count": 13,
     "metadata": {},
     "output_type": "execute_result"
    }
   ],
   "source": [
    "from sklearn.svm import SVC\n",
    "\n",
    "clf = SVC(gamma='auto',decision_function_shape='ovo')\n",
    "clf.fit(X_train, y_train)"
   ]
  },
  {
   "cell_type": "code",
   "execution_count": 14,
   "metadata": {},
   "outputs": [
    {
     "name": "stdout",
     "output_type": "stream",
     "text": [
      "Counter({11: 14871, 9: 8296, 5: 680, 15: 580, 17: 494, 10: 267, 20: 6, 3: 1})\n",
      "Counter({11: 13386, 9: 8238, 17: 749, 5: 743, 15: 583, 18: 551, 10: 298, 0: 201, 20: 196, 21: 176, 14: 36, 3: 14, 1: 7, 22: 4, 7: 3, 6: 2, 4: 2, 16: 2, 12: 1, 19: 1, 8: 1, 13: 1})\n"
     ]
    }
   ],
   "source": [
    "y_pred=clf.predict(X_test)\n",
    "print(Counter(y_pred))\n",
    "print(Counter(y_test))"
   ]
  },
  {
   "cell_type": "code",
   "execution_count": 15,
   "metadata": {},
   "outputs": [
    {
     "name": "stdout",
     "output_type": "stream",
     "text": [
      "Confusion Matrix :\n",
      "[[    0     0     0     0     0     0     0     0     0     0   201     0\n",
      "      0     0     0     0     0     0     0     0     0     0]\n",
      " [    0     0     0     0     1     0     0     0     0     0     5     0\n",
      "      0     0     0     0     0     0     0     1     0     0]\n",
      " [    0     0     0     0     0     0     0     0     1     0    12     0\n",
      "      0     0     1     0     0     0     0     0     0     0]\n",
      " [    0     0     0     0     0     0     0     0     0     0     2     0\n",
      "      0     0     0     0     0     0     0     0     0     0]\n",
      " [    0     0     0     0   633     0     0     0     0    20    68     0\n",
      "      0     0    22     0     0     0     0     0     0     0]\n",
      " [    0     0     0     0     0     0     0     0     0     0     2     0\n",
      "      0     0     0     0     0     0     0     0     0     0]\n",
      " [    0     0     0     0     0     0     0     0     0     0     3     0\n",
      "      0     0     0     0     0     0     0     0     0     0]\n",
      " [    0     0     0     0     0     0     0     0     0     0     1     0\n",
      "      0     0     0     0     0     0     0     0     0     0]\n",
      " [    0     0     0     0     0     0     0     0  8222     5     3     0\n",
      "      0     0     8     0     0     0     0     0     0     0]\n",
      " [    0     0     0     0     7     0     0     0     0   235    56     0\n",
      "      0     0     0     0     0     0     0     0     0     0]\n",
      " [    0     0     1     0    26     0     0     0     9     6 13316     0\n",
      "      0     0    17     0    11     0     0     0     0     0]\n",
      " [    0     0     0     0     0     0     0     0     0     0     1     0\n",
      "      0     0     0     0     0     0     0     0     0     0]\n",
      " [    0     0     0     0     0     0     0     0     0     0     1     0\n",
      "      0     0     0     0     0     0     0     0     0     0]\n",
      " [    0     0     0     0    13     0     0     0     0     1    22     0\n",
      "      0     0     0     0     0     0     0     0     0     0]\n",
      " [    0     0     0     0     0     0     0     0    35     0    15     0\n",
      "      0     0   526     0     7     0     0     0     0     0]\n",
      " [    0     0     0     0     0     0     0     0     0     0     2     0\n",
      "      0     0     0     0     0     0     0     0     0     0]\n",
      " [    0     0     0     0     0     0     0     0    29     0   242     0\n",
      "      0     0     6     0   472     0     0     0     0     0]\n",
      " [    0     0     0     0     0     0     0     0     0     0   551     0\n",
      "      0     0     0     0     0     0     0     0     0     0]\n",
      " [    0     0     0     0     0     0     0     0     0     0     1     0\n",
      "      0     0     0     0     0     0     0     0     0     0]\n",
      " [    0     0     0     0     0     0     0     0     0     0   187     0\n",
      "      0     0     0     0     4     0     0     5     0     0]\n",
      " [    0     0     0     0     0     0     0     0     0     0   176     0\n",
      "      0     0     0     0     0     0     0     0     0     0]\n",
      " [    0     0     0     0     0     0     0     0     0     0     4     0\n",
      "      0     0     0     0     0     0     0     0     0     0]]\n",
      "Accuracy Score : 0.9291129192300059\n",
      "Report : \n",
      "              precision    recall  f1-score   support\n",
      "\n",
      "           0       0.00      0.00      0.00       201\n",
      "           1       0.00      0.00      0.00         7\n",
      "           3       0.00      0.00      0.00        14\n",
      "           4       0.00      0.00      0.00         2\n",
      "           5       0.93      0.85      0.89       743\n",
      "           6       0.00      0.00      0.00         2\n",
      "           7       0.00      0.00      0.00         3\n",
      "           8       0.00      0.00      0.00         1\n",
      "           9       0.99      1.00      0.99      8238\n",
      "          10       0.88      0.79      0.83       298\n",
      "          11       0.90      0.99      0.94     13386\n",
      "          12       0.00      0.00      0.00         1\n",
      "          13       0.00      0.00      0.00         1\n",
      "          14       0.00      0.00      0.00        36\n",
      "          15       0.91      0.90      0.90       583\n",
      "          16       0.00      0.00      0.00         2\n",
      "          17       0.96      0.63      0.76       749\n",
      "          18       0.00      0.00      0.00       551\n",
      "          19       0.00      0.00      0.00         1\n",
      "          20       0.83      0.03      0.05       196\n",
      "          21       0.00      0.00      0.00       176\n",
      "          22       0.00      0.00      0.00         4\n",
      "\n",
      "    accuracy                           0.93     25195\n",
      "   macro avg       0.29      0.24      0.24     25195\n",
      "weighted avg       0.89      0.93      0.91     25195\n",
      "\n"
     ]
    },
    {
     "name": "stderr",
     "output_type": "stream",
     "text": [
      "D:\\Anaconda3\\lib\\site-packages\\sklearn\\metrics\\_classification.py:1221: UndefinedMetricWarning: Precision and F-score are ill-defined and being set to 0.0 in labels with no predicted samples. Use `zero_division` parameter to control this behavior.\n",
      "  _warn_prf(average, modifier, msg_start, len(result))\n"
     ]
    }
   ],
   "source": [
    "# Python script for confusion matrix creation. \n",
    "from sklearn.metrics import confusion_matrix \n",
    "from sklearn.metrics import accuracy_score \n",
    "from sklearn.metrics import classification_report \n",
    " \n",
    "results = confusion_matrix(y_test, y_pred) \n",
    "print('Confusion Matrix :')\n",
    "print(results) \n",
    "print('Accuracy Score :',accuracy_score(y_test, y_pred))\n",
    "print('Report : ')\n",
    "print(classification_report(y_test, y_pred))\n"
   ]
  },
  {
   "cell_type": "code",
   "execution_count": 16,
   "metadata": {},
   "outputs": [
    {
     "name": "stderr",
     "output_type": "stream",
     "text": [
      "D:\\Anaconda3\\lib\\site-packages\\sklearn\\model_selection\\_split.py:670: UserWarning: The least populated class in y has only 1 members, which is less than n_splits=10.\n",
      "  warnings.warn((\"The least populated class in y has only %d\"\n",
      "D:\\Anaconda3\\lib\\site-packages\\sklearn\\metrics\\_classification.py:1221: UndefinedMetricWarning: Precision and F-score are ill-defined and being set to 0.0 in labels with no predicted samples. Use `zero_division` parameter to control this behavior.\n",
      "  _warn_prf(average, modifier, msg_start, len(result))\n"
     ]
    },
    {
     "name": "stdout",
     "output_type": "stream",
     "text": [
      "Accuracy Score : 0.9321273703325164\n",
      "Report : \n",
      "              precision    recall  f1-score   support\n",
      "\n",
      "           0       0.00      0.00      0.00       755\n",
      "           1       0.00      0.00      0.00        23\n",
      "           2       0.00      0.00      0.00         8\n",
      "           3       0.00      0.00      0.00        39\n",
      "           4       0.00      0.00      0.00         9\n",
      "           5       0.95      0.87      0.91      2856\n",
      "           6       0.00      0.00      0.00        16\n",
      "           7       0.00      0.00      0.00         6\n",
      "           8       0.00      0.00      0.00         6\n",
      "           9       0.99      1.00      0.99     32976\n",
      "          10       0.91      0.79      0.85      1195\n",
      "          11       0.90      1.00      0.95     53956\n",
      "          12       0.00      0.00      0.00         2\n",
      "          13       0.00      0.00      0.00         3\n",
      "          14       0.00      0.00      0.00       165\n",
      "          15       0.92      0.89      0.90      2348\n",
      "          16       0.00      0.00      0.00         8\n",
      "          17       0.96      0.59      0.73      2884\n",
      "          18       0.00      0.00      0.00      2095\n",
      "          19       0.00      0.00      0.00         1\n",
      "          20       0.77      0.05      0.09       696\n",
      "          21       0.00      0.00      0.00       714\n",
      "          22       0.00      0.00      0.00        16\n",
      "\n",
      "    accuracy                           0.93    100777\n",
      "   macro avg       0.28      0.23      0.24    100777\n",
      "weighted avg       0.90      0.93      0.91    100777\n",
      "\n"
     ]
    }
   ],
   "source": [
    "from sklearn.model_selection import cross_val_predict\n",
    "from sklearn.model_selection import StratifiedKFold\n",
    "skf = StratifiedKFold(n_splits=10)\n",
    "predicted = cross_val_predict(clf, X_train, y_train, cv=skf)\n",
    "print('Accuracy Score :',accuracy_score(y_train, predicted))\n",
    "print('Report : ')\n",
    "print(classification_report(y_train, predicted))\n"
   ]
  },
  {
   "cell_type": "code",
   "execution_count": 16,
   "metadata": {},
   "outputs": [],
   "source": []
  }
 ],
 "metadata": {
  "kernelspec": {
   "display_name": "Python 3",
   "language": "python",
   "name": "python3"
  },
  "language_info": {
   "codemirror_mode": {
    "name": "ipython",
    "version": 3
   },
   "file_extension": ".py",
   "mimetype": "text/x-python",
   "name": "python",
   "nbconvert_exporter": "python",
   "pygments_lexer": "ipython3",
   "version": "3.6.4"
  }
 },
 "nbformat": 4,
 "nbformat_minor": 2
}
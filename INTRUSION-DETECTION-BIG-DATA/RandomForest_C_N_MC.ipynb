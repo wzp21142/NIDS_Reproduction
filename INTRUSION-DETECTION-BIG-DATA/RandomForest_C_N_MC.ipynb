{
 "cells": [
  {
   "cell_type": "code",
   "execution_count": 1,
   "metadata": {},
   "outputs": [],
   "source": [
    "import numpy as np\n",
    "import requests\n",
    "import time\n",
    "\n",
    "from pyspark import SQLContext, SparkContext\n",
    "from pyspark import SparkConf\n",
    "\n",
    "from pyspark.ml.feature import StandardScaler\n",
    "from pyspark.ml.feature import VectorAssembler\n",
    "from pyspark.ml.feature import StringIndexer\n",
    "from pyspark.ml.evaluation import MulticlassClassificationEvaluator\n",
    "from pyspark.mllib.evaluation import BinaryClassificationMetrics\n",
    "from pyspark.ml.linalg import Vectors\n",
    "\n",
    "from sklearn.cluster import KMeans\n",
    "from sklearn import metrics\n",
    "from sklearn.model_selection import StratifiedKFold\n",
    "\n",
    "from pyspark.mllib.tree import RandomForest, RandomForestModel\n",
    "from pyspark.mllib.util import MLUtils\n",
    "from pyspark.mllib.regression import LabeledPoint\n",
    "from pyspark.mllib.linalg import Vector as MLLibVector, Vectors as MLLibVectors"
   ]
  },
  {
   "cell_type": "code",
   "execution_count": 2,
   "metadata": {},
   "outputs": [],
   "source": [
    "# Load the dataset and labels\n",
    "x=np.load('RMCx.npy')\n",
    "y=np.load('RMCy.npy')"
   ]
  },
  {
   "cell_type": "code",
   "execution_count": 3,
   "metadata": {},
   "outputs": [],
   "source": [
    "conf = SparkConf()\n",
    "sc = SparkContext(conf = conf)\n",
    "spark = SQLContext(sc)"
   ]
  },
  {
   "cell_type": "code",
   "execution_count": 4,
   "metadata": {},
   "outputs": [],
   "source": [
    "# Calculate the rank of each feature\n",
    "R=[]\n",
    "for h in range(x.shape[1]):\n",
    "    kmeans = KMeans(init='k-means++', n_clusters=np.unique(y).shape[0])\n",
    "    ff=kmeans.fit_predict(x[:,h].reshape(-1,1))\n",
    "    r=metrics.homogeneity_score(y,ff) #Use the homogeneity score as a rank of the feature\n",
    "    R.append(r)"
   ]
  },
  {
   "cell_type": "code",
   "execution_count": 5,
   "metadata": {},
   "outputs": [],
   "source": [
    "#Arrange feature accroding to thier ranks\n",
    "Rnk=np.argsort(np.array(R))"
   ]
  },
  {
   "cell_type": "code",
   "execution_count": 6,
   "metadata": {},
   "outputs": [],
   "source": [
    "#Initiate the cross-validation splitter\n",
    "kfolds=StratifiedKFold(n_splits=5,shuffle=True)"
   ]
  },
  {
   "cell_type": "code",
   "execution_count": 7,
   "metadata": {},
   "outputs": [],
   "source": [
    "#Per each set of ranks, use cross-validation to calculate accuracy.\n",
    "smr=[]\n",
    "et=0\n",
    "lpa=np.zeros((0,2))\n",
    "for j in range(Rnk.shape[0]):\n",
    "    fd=x[:,Rnk[j:]]\n",
    "    pp=0\n",
    "    for train,test in kfolds.split(fd,y):\n",
    "        dff = map(lambda x: (int(float(x[-1])), Vectors.dense(x[:-1])),np.hstack((fd[train],y[train].reshape(-1,1))))\n",
    "        TrD = spark.createDataFrame(dff,schema=[\"label\", \"features\"]).rdd.map(lambda row: LabeledPoint(row.label, MLLibVectors.fromML(row.features)))\n",
    "        dff = map(lambda x: (int(float(x[-1])), Vectors.dense(x[:-1])),np.hstack((fd[test],y[test].reshape(-1,1))))\n",
    "        TsD = spark.createDataFrame(dff,schema=[\"label\", \"features\"]).rdd.map(lambda row: LabeledPoint(row.label, MLLibVectors.fromML(row.features)))\n",
    "        model = RandomForest.trainClassifier(TrD, numClasses=np.unique(y).shape[0],categoricalFeaturesInfo={},numTrees=100) #The number of classes in the dataset\n",
    "        predictions = model.predict(TsD.map(lambda x: x.features))\n",
    "        st = time.time()\n",
    "        labelsAndPredictions = TsD.map(lambda lp: lp.label).zip(predictions)\n",
    "        lpa=np.vstack((lpa,labelsAndPredictions.toDF().toPandas()))\n",
    "        et+=time.time()-st\n",
    "        acc = labelsAndPredictions.filter(lambda lp: lp[0] == lp[1]).count() / float(TsD.count())\n",
    "        pp=pp+acc\n",
    "    pp=pp/kfolds.n_splits\n",
    "    np.savetxt('F%d.csv'%j,lpa,delimiter=',')\n",
    "    smr.append([j, pp, et*1000000/x.shape[0]]) #Calculate the time requires to predict a label per each object in uS."
   ]
  },
  {
   "cell_type": "code",
   "execution_count": 8,
   "metadata": {},
   "outputs": [
    {
     "data": {
      "text/plain": [
       "[[78.0, 0.9254, 6.9849],\n",
       " [77.0, 0.9257, 6.868],\n",
       " [76.0, 0.9254, 6.798],\n",
       " [75.0, 0.9255, 6.8025],\n",
       " [74.0, 0.9252, 6.8064],\n",
       " [73.0, 0.9254, 6.9112],\n",
       " [72.0, 0.9253, 6.7827],\n",
       " [71.0, 0.925, 6.7689],\n",
       " [70.0, 0.9251, 6.7854],\n",
       " [69.0, 0.9251, 6.8592],\n",
       " [68.0, 0.9253, 6.7573],\n",
       " [67.0, 0.9253, 6.7137],\n",
       " [66.0, 0.9256, 6.706],\n",
       " [65.0, 0.9251, 7.1871],\n",
       " [64.0, 0.9253, 7.2199],\n",
       " [63.0, 0.9254, 7.3147],\n",
       " [62.0, 0.9252, 6.9841],\n",
       " [61.0, 0.9253, 6.6506],\n",
       " [60.0, 0.9255, 6.7046],\n",
       " [59.0, 0.9254, 6.6921],\n",
       " [58.0, 0.9254, 6.6427],\n",
       " [57.0, 0.9254, 6.4835],\n",
       " [56.0, 0.9255, 6.5374],\n",
       " [55.0, 0.9258, 6.6122],\n",
       " [54.0, 0.9253, 6.5194],\n",
       " [53.0, 0.9256, 6.5272],\n",
       " [52.0, 0.9257, 6.4918],\n",
       " [51.0, 0.9253, 6.4434],\n",
       " [50.0, 0.9253, 6.4909],\n",
       " [49.0, 0.9256, 6.4413],\n",
       " [48.0, 0.9257, 6.4775],\n",
       " [47.0, 0.9252, 6.433],\n",
       " [46.0, 0.9252, 6.5239],\n",
       " [45.0, 0.9255, 6.4038],\n",
       " [44.0, 0.9254, 6.7169],\n",
       " [43.0, 0.9256, 6.4202],\n",
       " [42.0, 0.9255, 6.2888],\n",
       " [41.0, 0.9257, 6.3536],\n",
       " [40.0, 0.9255, 6.3336],\n",
       " [39.0, 0.9256, 6.332],\n",
       " [38.0, 0.9255, 6.4003],\n",
       " [37.0, 0.9252, 6.3284],\n",
       " [36.0, 0.9256, 6.3149],\n",
       " [35.0, 0.9253, 6.3194],\n",
       " [34.0, 0.9252, 6.3221],\n",
       " [33.0, 0.9254, 6.3316],\n",
       " [32.0, 0.9253, 6.2697],\n",
       " [31.0, 0.9254, 6.2347],\n",
       " [30.0, 0.9253, 6.3763],\n",
       " [29.0, 0.9249, 6.2532],\n",
       " [28.0, 0.925, 6.2505],\n",
       " [27.0, 0.9251, 6.2589],\n",
       " [26.0, 0.9248, 6.2684],\n",
       " [25.0, 0.9252, 6.2396],\n",
       " [24.0, 0.9249, 6.221],\n",
       " [23.0, 0.9254, 6.2154],\n",
       " [22.0, 0.925, 6.2439],\n",
       " [21.0, 0.925, 6.2052],\n",
       " [20.0, 0.925, 6.1638],\n",
       " [19.0, 0.9254, 6.2352],\n",
       " [18.0, 0.9251, 6.2105],\n",
       " [17.0, 0.9258, 6.1728],\n",
       " [16.0, 0.9263, 6.1957],\n",
       " [15.0, 0.9262, 6.234],\n",
       " [14.0, 0.9262, 6.1793],\n",
       " [13.0, 0.9262, 6.2301],\n",
       " [12.0, 0.9266, 6.198],\n",
       " [11.0, 0.9269, 6.0995],\n",
       " [10.0, 0.9269, 6.0524],\n",
       " [9.0, 0.9268, 6.114],\n",
       " [8.0, 0.927, 6.0936],\n",
       " [7.0, 0.927, 6.095],\n",
       " [6.0, 0.9271, 6.0442],\n",
       " [5.0, 0.927, 6.2121],\n",
       " [4.0, 0.9257, 6.4545],\n",
       " [3.0, 0.9258, 6.4119],\n",
       " [2.0, 0.9023, 5.8838]]"
      ]
     },
     "execution_count": 1,
     "metadata": {},
     "output_type": "execute_result"
    }
   ],
   "source": [
    "smr"
   ]
  }
 ],
 "metadata": {
  "kernelspec": {
   "display_name": "Python 3",
   "language": "python",
   "name": "python3"
  },
  "language_info": {
   "codemirror_mode": {
    "name": "ipython",
    "version": 3
   },
   "file_extension": ".py",
   "mimetype": "text/x-python",
   "name": "python",
   "nbconvert_exporter": "python",
   "pygments_lexer": "ipython3",
   "version": "3.6.6"
  }
 },
 "nbformat": 4,
 "nbformat_minor": 2
}

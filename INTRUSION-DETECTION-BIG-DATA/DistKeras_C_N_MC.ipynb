{
 "cells": [
  {
   "cell_type": "code",
   "execution_count": 1,
   "metadata": {},
   "outputs": [
    {
     "name": "stderr",
     "output_type": "stream",
     "text": [
      "Using TensorFlow backend.\n"
     ]
    }
   ],
   "source": [
    "import numpy as np\n",
    "import requests\n",
    "import time\n",
    "\n",
    "from keras.optimizers import *\n",
    "from keras.models import Sequential\n",
    "from keras.layers.core import Dense, Dropout, Activation\n",
    "\n",
    "from pyspark import SQLContext, SparkContext\n",
    "from pyspark import SparkConf\n",
    "\n",
    "from pyspark.ml.feature import StandardScaler\n",
    "from pyspark.ml.feature import VectorAssembler\n",
    "from pyspark.ml.feature import StringIndexer\n",
    "from pyspark.ml.evaluation import MulticlassClassificationEvaluator\n",
    "from pyspark.mllib.evaluation import BinaryClassificationMetrics\n",
    "from pyspark.ml.linalg import Vectors\n",
    "\n",
    "from distkeras.trainers import *\n",
    "from distkeras.predictors import *\n",
    "from distkeras.transformers import *\n",
    "from distkeras.evaluators import *\n",
    "from distkeras.utils import *\n",
    "\n",
    "from sklearn.cluster import KMeans\n",
    "from sklearn import metrics\n",
    "from sklearn.model_selection import StratifiedKFold"
   ]
  },
  {
   "cell_type": "code",
   "execution_count": 2,
   "metadata": {},
   "outputs": [],
   "source": [
    "# Load the dataset and labels\n",
    "x=np.load('NMCx.npy')\n",
    "y=np.load('NMCy.npy')"
   ]
  },
  {
   "cell_type": "code",
   "execution_count": 3,
   "metadata": {},
   "outputs": [],
   "source": [
    "conf = SparkConf()\n",
    "sc = SparkContext(conf = conf)\n",
    "spark = SQLContext(sc)"
   ]
  },
  {
   "cell_type": "code",
   "execution_count": 4,
   "metadata": {},
   "outputs": [],
   "source": [
    "# Calculate the rank of each feature\n",
    "R=[]\n",
    "for h in range(x.shape[1]):\n",
    "    kmeans = KMeans(init='k-means++', n_clusters=np.unique(y).shape[0], n_init=10)\n",
    "    ff=kmeans.fit_predict(x[:,h].reshape(-1,1))\n",
    "    r=metrics.homogeneity_score(y,ff) #Use the homogeneity score as a rank of the feature\n",
    "    R.append(r)"
   ]
  },
  {
   "cell_type": "code",
   "execution_count": 5,
   "metadata": {},
   "outputs": [],
   "source": [
    "#Arrange feature accroding to thier ranks\n",
    "Rnk=np.argsort(np.array(R))"
   ]
  },
  {
   "cell_type": "code",
   "execution_count": 6,
   "metadata": {},
   "outputs": [],
   "source": [
    "#Initiate the cross-validation splitter\n",
    "kfolds=StratifiedKFold(n_splits=5,shuffle=True)"
   ]
  },
  {
   "cell_type": "code",
   "execution_count": 7,
   "metadata": {
    "scrolled": true
   },
   "outputs": [],
   "source": [
    "#Per each set of ranks, use cross-validation to calculate accuracy.\n",
    "smr=[]\n",
    "for j in range(Rnk.shape[0]):\n",
    "    fd=x[:,Rnk[j:]]\n",
    "    pp=0\n",
    "    lpa=np.zeros((0,2))\n",
    "    for train,test in kfolds.split(fd,y):\n",
    "        dff = map(lambda x: (int(float(x[-1])), Vectors.dense(x[:-1])),np.hstack((fd[train],y[train].reshape(-1,1))))\n",
    "        TrD = spark.createDataFrame(dff,schema=[\"label\", \"features\"])\n",
    "        dff = map(lambda x: (int(float(x[-1])), Vectors.dense(x[:-1])),np.hstack((fd[test],y[test].reshape(-1,1))))\n",
    "        TsD = spark.createDataFrame(dff,schema=[\"label\", \"features\"])\n",
    "        model = Sequential()\n",
    "        model.add(Dense(128,input_dim=fd.shape[1],activation='relu',use_bias=True))\n",
    "        model.add(Dropout(0.5))\n",
    "        model.add(Dense(64,activation='relu',use_bias=True))\n",
    "        model.add(Dropout(0.5))\n",
    "        model.add(Dense(32,activation='relu',use_bias=True))\n",
    "        model.add(Dropout(0.5))\n",
    "        model.add(Dense(np.unique(y).shape[0],activation='softmax',use_bias=True)) #The number of neurons is equal to the number of classes\n",
    "        model.compile(loss='categorical_crossentropy', optimizer='adam', metrics=['categorical_accuracy'])\n",
    "        trainer = SingleTrainer(keras_model=model, worker_optimizer='adam', loss='categorical_crossentropy', num_epoch=1000)\n",
    "        trained_model = trainer.train(TrD)\n",
    "        st = time.time()\n",
    "        predictor = ModelPredictor(keras_model=trained_model)\n",
    "        et=time.time()-st\n",
    "        ff=predictor.predict(TsD)\n",
    "        ts=np.array(map(lambda x: x[0],ff.select('prediction').collect())).reshape(-1,1)\n",
    "        pp=pp+metrics.accuracy_score(y[test].reshape(-1,1),(ts>=0.5).astype(int))\n",
    "        lpa=np.vstack((lpa,np.hstack((y[test].reshape(-1,1),ts))))\n",
    "    pp=pp/kfolds.n_splits\n",
    "    np.savetxt('F%d.csv'%j,lpa,delimiter=',')\n",
    "    smr.append([j, pp, et*1000000/x.shape[0]]) #Calculate the time required to predict a label per each object in uS."
   ]
  },
  {
   "cell_type": "code",
   "execution_count": 8,
   "metadata": {},
   "outputs": [
    {
     "data": {
      "text/plain": [
       "[[78.0, 0.9956, 0.6387],\n",
       " [77.0, 0.9953, 0.6424],\n",
       " [76.0, 0.9954, 0.663],\n",
       " [75.0, 0.9956, 0.7043],\n",
       " [74.0, 0.9945, 0.7152],\n",
       " [73.0, 0.9951, 0.7234],\n",
       " [72.0, 0.9956, 0.7346],\n",
       " [71.0, 0.9953, 0.7978],\n",
       " [70.0, 0.9947, 0.7822],\n",
       " [69.0, 0.9949, 0.7952],\n",
       " [68.0, 0.9953, 0.8467],\n",
       " [67.0, 0.9956, 0.8581],\n",
       " [66.0, 0.9955, 0.8746],\n",
       " [65.0, 0.9955, 0.9055],\n",
       " [64.0, 0.9954, 0.9267],\n",
       " [63.0, 0.9954, 0.9494],\n",
       " [62.0, 0.9945, 0.9463],\n",
       " [61.0, 0.9941, 0.9796],\n",
       " [60.0, 0.9938, 0.9927],\n",
       " [59.0, 0.9921, 1.0174],\n",
       " [58.0, 0.9935, 1.0407],\n",
       " [57.0, 0.9912, 1.043],\n",
       " [56.0, 0.9922, 1.0773],\n",
       " [55.0, 0.9927, 1.0942],\n",
       " [54.0, 0.9933, 1.1311],\n",
       " [53.0, 0.9911, 1.1382],\n",
       " [52.0, 0.9909, 1.1768],\n",
       " [51.0, 0.9921, 1.2052],\n",
       " [50.0, 0.9906, 1.2159],\n",
       " [49.0, 0.992, 1.2283],\n",
       " [48.0, 0.9908, 1.2602],\n",
       " [47.0, 0.9912, 1.2706],\n",
       " [46.0, 0.9893, 1.3038],\n",
       " [45.0, 0.9903, 1.3261],\n",
       " [44.0, 0.9909, 1.3498],\n",
       " [43.0, 0.9911, 1.3707],\n",
       " [42.0, 0.9903, 1.3947],\n",
       " [41.0, 0.9899, 1.4268],\n",
       " [40.0, 0.9905, 1.446],\n",
       " [39.0, 0.9909, 1.7069],\n",
       " [38.0, 0.9898, 2.0355],\n",
       " [37.0, 0.9899, 1.6263],\n",
       " [36.0, 0.9892, 1.8041],\n",
       " [35.0, 0.9899, 1.6487],\n",
       " [34.0, 0.9899, 2.0354],\n",
       " [33.0, 0.9862, 1.8088],\n",
       " [32.0, 0.9862, 1.9071],\n",
       " [31.0, 0.9859, 1.9905],\n",
       " [30.0, 0.9856, 2.1912],\n",
       " [29.0, 0.9858, 1.9435],\n",
       " [28.0, 0.9862, 1.9666],\n",
       " [27.0, 0.9856, 2.3194],\n",
       " [26.0, 0.9847, 2.2568],\n",
       " [25.0, 0.9853, 2.0806],\n",
       " [24.0, 0.9838, 1.9807],\n",
       " [23.0, 0.9814, 2.0122],\n",
       " [22.0, 0.983, 2.029],\n",
       " [21.0, 0.9808, 2.0406],\n",
       " [20.0, 0.9823, 2.3729],\n",
       " [19.0, 0.9806, 0.3123],\n",
       " [18.0, 0.9812, 0.3582],\n",
       " [17.0, 0.9807, 0.392],\n",
       " [16.0, 0.9757, 0.4388],\n",
       " [15.0, 0.9775, 0.4551],\n",
       " [14.0, 0.968, 0.4454],\n",
       " [13.0, 0.9585, 0.4687],\n",
       " [12.0, 0.9624, 0.2816],\n",
       " [11.0, 0.9597, 0.3125],\n",
       " [10.0, 0.9568, 0.318],\n",
       " [9.0, 0.9565, 0.3434],\n",
       " [8.0, 0.9538, 0.376],\n",
       " [7.0, 0.9515, 0.39],\n",
       " [6.0, 0.9543, 0.4076],\n",
       " [5.0, 0.9573, 0.4547],\n",
       " [4.0, 0.9527, 0.441],\n",
       " [3.0, 0.9481, 0.4672],\n",
       " [2.0, 0.9512, 0.4881]]"
      ]
     },
     "execution_count": 8,
     "metadata": {},
     "output_type": "execute_result"
    }
   ],
   "source": [
    "smr"
   ]
  }
 ],
 "metadata": {
  "kernelspec": {
   "display_name": "Python 3",
   "language": "python",
   "name": "python3"
  },
  "language_info": {
   "codemirror_mode": {
    "name": "ipython",
    "version": 3
   },
   "file_extension": ".py",
   "mimetype": "text/x-python",
   "name": "python",
   "nbconvert_exporter": "python",
   "pygments_lexer": "ipython3",
   "version": "3.6.6"
  }
 },
 "nbformat": 4,
 "nbformat_minor": 2
}

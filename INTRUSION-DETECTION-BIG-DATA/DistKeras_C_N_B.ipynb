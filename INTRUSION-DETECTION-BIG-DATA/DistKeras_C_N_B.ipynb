{
 "cells": [
  {
   "cell_type": "code",
   "execution_count": 1,
   "metadata": {},
   "outputs": [
    {
     "name": "stderr",
     "output_type": "stream",
     "text": [
      "Using TensorFlow backend.\n"
     ]
    }
   ],
   "source": [
    "import numpy as np\n",
    "import requests\n",
    "import time\n",
    "\n",
    "from tensorflow.keras.optimizers import *\n",
    "from tensorflow.keras.models import Sequential\n",
    "from tensorflow.keras.layers import Dense, Dropout, Activation\n",
    "\n",
    "from pyspark import SQLContext, SparkContext\n",
    "from pyspark import SparkConf\n",
    "\n",
    "from pyspark.ml.feature import StandardScaler\n",
    "from pyspark.ml.feature import VectorAssembler\n",
    "from pyspark.ml.feature import StringIndexer\n",
    "from pyspark.ml.evaluation import MulticlassClassificationEvaluator\n",
    "from pyspark.mllib.evaluation import BinaryClassificationMetrics\n",
    "from pyspark.ml.linalg import Vectors\n",
    "\n",
    "from distkeras.trainers import *\n",
    "from distkeras.predictors import *\n",
    "from distkeras.transformers import *\n",
    "from distkeras.evaluators import *\n",
    "from distkeras.utils import *\n",
    "\n",
    "from sklearn.cluster import KMeans\n",
    "from sklearn import metrics\n",
    "from sklearn.model_selection import StratifiedKFold"
   ]
  },
  {
   "cell_type": "code",
   "execution_count": 2,
   "metadata": {},
   "outputs": [],
   "source": [
    "# Load the dataset and labels\n",
    "x=np.load('NBx.npy')\n",
    "y=np.load('NBy.npy')"
   ]
  },
  {
   "cell_type": "code",
   "execution_count": 3,
   "metadata": {},
   "outputs": [],
   "source": [
    "conf = SparkConf()\n",
    "sc = SparkCont\n",
    "ext(conf = conf)\n",
    "spark = SQLContext(sc)"
   ]
  },
  {
   "cell_type": "code",
   "execution_count": 4,
   "metadata": {},
   "outputs": [],
   "source": [
    "# Calculate the rank of each feature\n",
    "R=[]\n",
    "for h in range(x.shape[1]):\n",
    "    kmeans = KMeans(init='k-means++', n_clusters=np.unique(y).shape[0], n_init=10)\n",
    "    ff=kmeans.fit_predict(x[:,h].reshape(-1,1))\n",
    "    r=metrics.homogeneity_score(y,ff) #Use the homogeneity score as a rank of the feature\n",
    "    R.append(r)"
   ]
  },
  {
   "cell_type": "code",
   "execution_count": 5,
   "metadata": {},
   "outputs": [],
   "source": [
    "#Arrange feature accroding to thier ranks\n",
    "Rnk=np.argsort(np.array(R))"
   ]
  },
  {
   "cell_type": "code",
   "execution_count": 6,
   "metadata": {},
   "outputs": [],
   "source": [
    "#Initiate the cross-validation splitter\n",
    "kfolds=StratifiedKFold(n_splits=5,shuffle=True)"
   ]
  },
  {
   "cell_type": "code",
   "execution_count": 7,
   "metadata": {
    "scrolled": true
   },
   "outputs": [],
   "source": [
    "#Per each set of ranks, use cross-validation to calculate accuracy.\n",
    "smr=[]\n",
    "for j in range(Rnk.shape[0]):\n",
    "    fd=x[:,Rnk[j:]]\n",
    "    pp=0\n",
    "    lpa=np.zeros((0,2))\n",
    "    for train,test in kfolds.split(fd,y):\n",
    "        dff = map(lambda x: (int(float(x[-1])), Vectors.dense(x[:-1])),np.hstack((fd[train],y[train].reshape(-1,1))))\n",
    "        TrD = spark.createDataFrame(dff,schema=[\"label\", \"features\"])\n",
    "        dff = map(lambda x: (int(float(x[-1])), Vectors.dense(x[:-1])),np.hstack((fd[test],y[test].reshape(-1,1))))\n",
    "        TsD = spark.createDataFrame(dff,schema=[\"label\", \"features\"])\n",
    "        model = Sequential()\n",
    "        model.add(Dense(128,input_dim=fd.shape[1],activation='relu',use_bias=True))\n",
    "        model.add(Dropout(0.5))\n",
    "        model.add(Dense(64,activation='relu',use_bias=True))\n",
    "        model.add(Dropout(0.5))\n",
    "        model.add(Dense(32,activation='relu',use_bias=True))\n",
    "        model.add(Dropout(0.5))\n",
    "        model.add(Dense(1,activation='sigmoid',use_bias=True)) #The number of neurons is equal to the number of classes\n",
    "        model.compile(loss='binary_crossentropy', optimizer='adam', metrics=['accuracy'])\n",
    "        trainer = SingleTrainer(keras_model=model, worker_optimizer='adam', loss='binary_crossentropy', num_epoch=1000)\n",
    "        trained_model = trainer.train(TrD)\n",
    "        st = time.time()\n",
    "        predictor = ModelPredictor(keras_model=trained_model)\n",
    "        et=time.time()-st\n",
    "        ff=predictor.predict(TsD)\n",
    "        ts=np.array(map(lambda x: x[0],ff.select('prediction').collect())).reshape(-1,1)\n",
    "        pp=pp+metrics.accuracy_score(y[test].reshape(-1,1),(ts>=0.5).astype(int))\n",
    "        lpa=np.vstack((lpa,np.hstack((y[test].reshape(-1,1),ts))))\n",
    "    pp=pp/kfolds.n_splits\n",
    "    np.savetxt('F%d.csv'%j,lpa,delimiter=',')\n",
    "    smr.append([j, pp, et*1000000/x.shape[0]]) #Calculate the time required to predict a label per each object in uS."
   ]
  },
  {
   "cell_type": "code",
   "execution_count": 8,
   "metadata": {},
   "outputs": [
    {
     "data": {
      "text/plain": [
       "[[78.0, 0.9771, 0.0531],\n",
       " [77.0, 0.9747, 0.0546],\n",
       " [76.0, 0.9752, 0.0584],\n",
       " [75.0, 0.9748, 0.0544],\n",
       " [74.0, 0.9755, 0.0532],\n",
       " [73.0, 0.9737, 0.0559],\n",
       " [72.0, 0.9738, 0.0548],\n",
       " [71.0, 0.9744, 0.05],\n",
       " [70.0, 0.9766, 0.0537],\n",
       " [69.0, 0.9755, 0.0545],\n",
       " [68.0, 0.977, 0.0548],\n",
       " [67.0, 0.9758, 0.0575],\n",
       " [66.0, 0.9768, 0.0571],\n",
       " [65.0, 0.9747, 0.0558],\n",
       " [64.0, 0.9736, 0.0558],\n",
       " [63.0, 0.9745, 0.0519],\n",
       " [62.0, 0.9742, 0.0552],\n",
       " [61.0, 0.9769, 0.0539],\n",
       " [60.0, 0.9743, 0.0541],\n",
       " [59.0, 0.9772, 0.0528],\n",
       " [58.0, 0.9723, 0.0594],\n",
       " [57.0, 0.9719, 0.0662],\n",
       " [56.0, 0.9715, 0.07],\n",
       " [55.0, 0.9726, 0.0613],\n",
       " [54.0, 0.9721, 0.0646],\n",
       " [53.0, 0.9736, 0.0687],\n",
       " [52.0, 0.9722, 0.065],\n",
       " [51.0, 0.9701, 0.0703],\n",
       " [50.0, 0.9714, 0.0676],\n",
       " [49.0, 0.9719, 0.0687],\n",
       " [48.0, 0.9707, 0.0645],\n",
       " [47.0, 0.9724, 0.0596],\n",
       " [46.0, 0.9719, 0.0677],\n",
       " [45.0, 0.972, 0.0615],\n",
       " [44.0, 0.9704, 0.0712],\n",
       " [43.0, 0.9717, 0.0646],\n",
       " [42.0, 0.9715, 0.0689],\n",
       " [41.0, 0.9721, 0.0636],\n",
       " [40.0, 0.9744, 0.0806],\n",
       " [39.0, 0.975, 0.0786],\n",
       " [38.0, 0.9738, 0.0761],\n",
       " [37.0, 0.9756, 0.0758],\n",
       " [36.0, 0.9728, 0.0815],\n",
       " [35.0, 0.9741, 0.0707],\n",
       " [34.0, 0.975, 0.0748],\n",
       " [33.0, 0.9743, 0.0795],\n",
       " [32.0, 0.9631, 0.0864],\n",
       " [31.0, 0.959, 0.1044],\n",
       " [30.0, 0.959, 0.1041],\n",
       " [29.0, 0.9592, 0.0957],\n",
       " [28.0, 0.9591, 0.0997],\n",
       " [27.0, 0.9601, 0.097],\n",
       " [26.0, 0.9594, 0.1027],\n",
       " [25.0, 0.9615, 0.0944],\n",
       " [24.0, 0.9573, 0.1092],\n",
       " [23.0, 0.9585, 0.1013],\n",
       " [22.0, 0.9355, 0.1313],\n",
       " [21.0, 0.9056, 0.1651],\n",
       " [20.0, 0.9031, 0.2036],\n",
       " [19.0, 0.9015, 0.1917],\n",
       " [18.0, 0.9001, 0.1903],\n",
       " [17.0, 0.9006, 0.1956],\n",
       " [16.0, 0.9034, 0.1843],\n",
       " [15.0, 0.9013, 0.1929],\n",
       " [14.0, 0.8995, 0.184],\n",
       " [13.0, 0.8948, 0.2095],\n",
       " [12.0, 0.8928, 0.2137],\n",
       " [11.0, 0.8912, 0.2351],\n",
       " [10.0, 0.8883, 0.232],\n",
       " [9.0, 0.8884, 0.2282],\n",
       " [8.0, 0.8883, 0.2349],\n",
       " [7.0, 0.8882, 0.2343],\n",
       " [6.0, 0.8882, 0.2435],\n",
       " [5.0, 0.8881, 0.2509],\n",
       " [4.0, 0.8881, 0.2591],\n",
       " [3.0, 0.8881, 0.2637],\n",
       " [2.0, 0.8875, 0.2782]]"
      ]
     },
     "execution_count": 8,
     "metadata": {},
     "output_type": "execute_result"
    }
   ],
   "source": [
    "smr"
   ]
  }
 ],
 "metadata": {
  "kernelspec": {
   "display_name": "Python 3",
   "language": "python",
   "name": "python3"
  },
  "language_info": {
   "codemirror_mode": {
    "name": "ipython",
    "version": 3
   },
   "file_extension": ".py",
   "mimetype": "text/x-python",
   "name": "python",
   "nbconvert_exporter": "python",
   "pygments_lexer": "ipython3",
   "version": "3.6.6"
  }
 },
 "nbformat": 4,
 "nbformat_minor": 2
}
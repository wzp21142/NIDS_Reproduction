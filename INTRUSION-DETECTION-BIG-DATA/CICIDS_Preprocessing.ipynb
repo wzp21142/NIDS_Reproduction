{
 "cells": [
  {
   "cell_type": "code",
   "execution_count": 1,
   "metadata": {},
   "outputs": [],
   "source": [
    "import numpy as np\n",
    "from glob import glob\n",
    "import pandas as pd\n",
    "from sklearn.preprocessing import LabelEncoder, OneHotEncoder, MinMaxScaler"
   ]
  },
  {
   "cell_type": "code",
   "execution_count": 2,
   "metadata": {},
   "outputs": [
    {
     "name": "stdout",
     "output_type": "stream",
     "text": [
      "./MachineLearningCVE\\Friday-WorkingHours-Afternoon-DDos.pcap_ISCX.csv\n"
     ]
    },
    {
     "name": "stderr",
     "output_type": "stream",
     "text": [
      "D:\\Anaconda3\\lib\\site-packages\\IPython\\core\\interactiveshell.py:3018: DtypeWarning: Columns (14,15) have mixed types. Specify dtype option on import or set low_memory=False.\n",
      "  interactivity=interactivity, compiler=compiler, result=result)\n"
     ]
    },
    {
     "name": "stdout",
     "output_type": "stream",
     "text": [
      "./MachineLearningCVE\\Friday-WorkingHours-Afternoon-PortScan.pcap_ISCX.csv\n",
      "./MachineLearningCVE\\Friday-WorkingHours-Morning.pcap_ISCX.csv\n",
      "./MachineLearningCVE\\Monday-WorkingHours.pcap_ISCX.csv\n"
     ]
    },
    {
     "name": "stderr",
     "output_type": "stream",
     "text": [
      "D:\\Anaconda3\\lib\\site-packages\\IPython\\core\\interactiveshell.py:3018: DtypeWarning: Columns (14) have mixed types. Specify dtype option on import or set low_memory=False.\n",
      "  interactivity=interactivity, compiler=compiler, result=result)\n"
     ]
    },
    {
     "name": "stdout",
     "output_type": "stream",
     "text": [
      "./MachineLearningCVE\\Thursday-WorkingHours-Afternoon-Infilteration.pcap_ISCX.csv\n",
      "./MachineLearningCVE\\Thursday-WorkingHours-Morning-WebAttacks.pcap_ISCX.csv\n",
      "./MachineLearningCVE\\Tuesday-WorkingHours.pcap_ISCX.csv\n",
      "./MachineLearningCVE\\Wednesday-workingHours.pcap_ISCX.csv\n"
     ]
    }
   ],
   "source": [
    "InD = np.zeros((0,79),dtype=object)\n",
    "for x in glob('./MachineLearningCVE/*.csv'):\n",
    "    print(x)\n",
    "    InD=np.vstack((InD,pd.read_csv(x)))"
   ]
  },
  {
   "cell_type": "code",
   "execution_count": 3,
   "metadata": {},
   "outputs": [],
   "source": [
    "Dt=InD[:,:-1].astype(float)"
   ]
  },
  {
   "cell_type": "code",
   "execution_count": 4,
   "metadata": {},
   "outputs": [],
   "source": [
    "#Remove nan values\n",
    "LNMV=InD[~np.isnan(Dt).any(axis=1),-1]\n",
    "DtNMV=Dt[~np.isnan(Dt).any(axis=1)]\n",
    "#Remove Inf values\n",
    "LNMIV=LNMV[~np.isinf(DtNMV).any(axis=1)]\n",
    "DtNMIV=DtNMV[~np.isinf(DtNMV).any(axis=1)]"
   ]
  },
  {
   "cell_type": "code",
   "execution_count": 5,
   "metadata": {},
   "outputs": [],
   "source": [
    "del(DtNMV)"
   ]
  },
  {
   "cell_type": "code",
   "execution_count": 6,
   "metadata": {},
   "outputs": [],
   "source": [
    "np.save('NBx', MinMaxScaler().fit_transform(DtNMIV))\n",
    "np.save('NBy', (LNMIV=='BENIGN').astype(int))\n",
    "np.save('./DistKeras/NBy',(LNMIV=='BENIGN').astype(int).reshape(-1,1))"
   ]
  },
  {
   "cell_type": "code",
   "execution_count": 7,
   "metadata": {},
   "outputs": [
    {
     "data": {
      "text/plain": [
       "(2827876, 78)"
      ]
     },
     "execution_count": 7,
     "metadata": {},
     "output_type": "execute_result"
    }
   ],
   "source": [
    "DtNMIV.shape"
   ]
  },
  {
   "cell_type": "code",
   "execution_count": 8,
   "metadata": {},
   "outputs": [],
   "source": [
    "MCDt=DtNMIV[LNMIV!='BENIGN',:]"
   ]
  },
  {
   "cell_type": "code",
   "execution_count": 10,
   "metadata": {},
   "outputs": [
    {
     "data": {
      "text/plain": [
       "(556556, 78)"
      ]
     },
     "execution_count": 10,
     "metadata": {},
     "output_type": "execute_result"
    }
   ],
   "source": [
    "MCDt.shape"
   ]
  },
  {
   "cell_type": "code",
   "execution_count": 9,
   "metadata": {},
   "outputs": [],
   "source": [
    "MCL=LNMIV[LNMIV!='BENIGN']"
   ]
  },
  {
   "cell_type": "code",
   "execution_count": 11,
   "metadata": {},
   "outputs": [
    {
     "data": {
      "text/plain": [
       "((2827876,), (556556,))"
      ]
     },
     "execution_count": 11,
     "metadata": {},
     "output_type": "execute_result"
    }
   ],
   "source": [
    "LNMIV.shape,MCL.shape"
   ]
  },
  {
   "cell_type": "code",
   "execution_count": 12,
   "metadata": {},
   "outputs": [],
   "source": [
    "np.save('NMCx', MinMaxScaler().fit_transform(MCDt))\n",
    "np.save('NMCy', LabelEncoder().fit_transform(MCL))\n",
    "np.save('./DistKeras/NMCy',OneHotEncoder(sparse=False).fit_transform(MCL.reshape(-1,1)))"
   ]
  },
  {
   "cell_type": "code",
   "execution_count": 13,
   "metadata": {},
   "outputs": [],
   "source": [
    "#Replace missing values with average and inf values with max\n",
    "A14=np.average(DtNMIV[:,14])\n",
    "A15=np.average(DtNMIV[:,15])\n",
    "M14=np.max(DtNMIV[:,14])\n",
    "M15=np.max(DtNMIV[:,15])\n",
    "for c in range(Dt.shape[0]):\n",
    "    if np.isnan(Dt[c,14]):\n",
    "        Dt[c,14]=A14\n",
    "    if np.isnan(Dt[c,15]):\n",
    "        Dt[c,15]=A15\n",
    "    if np.isinf(Dt[c,14]):\n",
    "        Dt[c,14]=M14\n",
    "    if np.isinf(Dt[c,15]):\n",
    "        Dt[c,15]=M15"
   ]
  },
  {
   "cell_type": "code",
   "execution_count": 14,
   "metadata": {},
   "outputs": [],
   "source": [
    "np.save('RBx', MinMaxScaler().fit_transform(Dt))\n",
    "np.save('RBy', (InD[:,-1]=='BENIGN').astype(int))\n",
    "np.save('./DistKeras/RBy',(InD[:,-1]=='BENIGN').astype(int).reshape(-1,1))"
   ]
  },
  {
   "cell_type": "code",
   "execution_count": 15,
   "metadata": {},
   "outputs": [],
   "source": [
    "MCDt=Dt[InD[:,-1]!='BENIGN',:]"
   ]
  },
  {
   "cell_type": "code",
   "execution_count": 18,
   "metadata": {},
   "outputs": [
    {
     "data": {
      "text/plain": [
       "(557646, 78)"
      ]
     },
     "execution_count": 18,
     "metadata": {},
     "output_type": "execute_result"
    }
   ],
   "source": [
    "MCDt.shape"
   ]
  },
  {
   "cell_type": "code",
   "execution_count": 16,
   "metadata": {},
   "outputs": [],
   "source": [
    "MCL=InD[InD[:,-1]!='BENIGN',-1]"
   ]
  },
  {
   "cell_type": "code",
   "execution_count": 17,
   "metadata": {},
   "outputs": [
    {
     "data": {
      "text/plain": [
       "(557646,)"
      ]
     },
     "execution_count": 17,
     "metadata": {},
     "output_type": "execute_result"
    }
   ],
   "source": [
    "MCL.shape"
   ]
  },
  {
   "cell_type": "code",
   "execution_count": 19,
   "metadata": {},
   "outputs": [],
   "source": [
    "np.save('RMCx', MinMaxScaler().fit_transform(MCDt))\n",
    "np.save('RMCy', LabelEncoder().fit_transform(MCL))\n",
    "np.save('./DistKeras/RMCy',OneHotEncoder(sparse=False).fit_transform(MCL.reshape(-1,1)))"
   ]
  }
 ],
 "metadata": {
  "kernelspec": {
   "name": "pycharm-8bba76b",
   "language": "python",
   "display_name": "PyCharm (SGM-CNN)"
  },
  "language_info": {
   "codemirror_mode": {
    "name": "ipython",
    "version": 3
   },
   "file_extension": ".py",
   "mimetype": "text/x-python",
   "name": "python",
   "nbconvert_exporter": "python",
   "pygments_lexer": "ipython3",
   "version": "3.6.6"
  }
 },
 "nbformat": 4,
 "nbformat_minor": 2
}
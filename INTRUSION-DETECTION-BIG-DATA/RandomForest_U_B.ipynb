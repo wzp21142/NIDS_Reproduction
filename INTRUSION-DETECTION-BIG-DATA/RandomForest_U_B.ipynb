{
 "cells": [
  {
   "cell_type": "code",
   "execution_count": 1,
   "metadata": {},
   "outputs": [],
   "source": [
    "import numpy as np\n",
    "import requests\n",
    "import time\n",
    "\n",
    "from pyspark import SQLContext, SparkContext\n",
    "from pyspark import SparkConf\n",
    "\n",
    "from pyspark.ml.feature import StandardScaler\n",
    "from pyspark.ml.feature import VectorAssembler\n",
    "from pyspark.ml.feature import StringIndexer\n",
    "from pyspark.ml.evaluation import MulticlassClassificationEvaluator\n",
    "from pyspark.mllib.evaluation import BinaryClassificationMetrics\n",
    "from pyspark.ml.linalg import Vectors\n",
    "\n",
    "from sklearn.cluster import KMeans\n",
    "from sklearn import metrics\n",
    "from sklearn.model_selection import StratifiedKFold\n",
    "\n",
    "from pyspark.mllib.tree import RandomForest, RandomForestModel\n",
    "from pyspark.mllib.util import MLUtils\n",
    "from pyspark.mllib.regression import LabeledPoint\n",
    "from pyspark.mllib.linalg import Vector as MLLibVector, Vectors as MLLibVectors"
   ]
  },
  {
   "cell_type": "code",
   "execution_count": 2,
   "metadata": {},
   "outputs": [],
   "source": [
    "# Load the dataset and labels\n",
    "x=np.load('Bx.npy')\n",
    "y=np.load('By.npy')"
   ]
  },
  {
   "cell_type": "code",
   "execution_count": 3,
   "metadata": {},
   "outputs": [],
   "source": [
    "conf = SparkConf()\n",
    "sc = SparkContext(conf = conf)\n",
    "spark = SQLContext(sc)"
   ]
  },
  {
   "cell_type": "code",
   "execution_count": 4,
   "metadata": {},
   "outputs": [],
   "source": [
    "# Calculate the rank of each feature\n",
    "R=[]\n",
    "for h in range(x.shape[1]):\n",
    "    kmeans = KMeans(init='k-means++', n_clusters=np.unique(y).shape[0])\n",
    "    ff=kmeans.fit_predict(x[:,h].reshape(-1,1))\n",
    "    r=metrics.homogeneity_score(y,ff) #Use the homogeneity score as a rank of the feature\n",
    "    R.append(r)"
   ]
  },
  {
   "cell_type": "code",
   "execution_count": 5,
   "metadata": {},
   "outputs": [],
   "source": [
    "#Arrange feature accroding to thier ranks\n",
    "Rnk=np.argsort(np.array(R))"
   ]
  },
  {
   "cell_type": "code",
   "execution_count": 6,
   "metadata": {},
   "outputs": [],
   "source": [
    "#Initiate the cross-validation splitter\n",
    "kfolds=StratifiedKFold(n_splits=5,shuffle=True)"
   ]
  },
  {
   "cell_type": "code",
   "execution_count": 7,
   "metadata": {},
   "outputs": [],
   "source": [
    "#Per each set of ranks, use cross-validation to calculate accuracy.\n",
    "smr=[]\n",
    "et=0\n",
    "for j in range(Rnk.shape[0]):\n",
    "    fd=x[:,Rnk[j:]]\n",
    "    pp=0\n",
    "    lpa=np.zeros((0,2))\n",
    "    for train,test in kfolds.split(fd,y):\n",
    "        dff = map(lambda x: (int(float(x[-1])), Vectors.dense(x[:-1])),np.hstack((fd[train],y[train].reshape(-1,1))))\n",
    "        TrD = spark.createDataFrame(dff,schema=[\"label\", \"features\"]).rdd.map(lambda row: LabeledPoint(row.label, MLLibVectors.fromML(row.features)))\n",
    "        dff = map(lambda x: (int(float(x[-1])), Vectors.dense(x[:-1])),np.hstack((fd[test],y[test].reshape(-1,1))))\n",
    "        TsD = spark.createDataFrame(dff,schema=[\"label\", \"features\"]).rdd.map(lambda row: LabeledPoint(row.label, MLLibVectors.fromML(row.features)))\n",
    "        model = RandomForest.trainClassifier(TrD, numClasses=np.unique(y).shape[0],categoricalFeaturesInfo={},numTrees=100) #The number of classes in the dataset\n",
    "        predictions = model.predict(TsD.map(lambda x: x.features))\n",
    "        st = time.time()\n",
    "        labelsAndPredictions = TsD.map(lambda lp: lp.label).zip(predictions)\n",
    "        lpa=np.vstack((lpa,labelsAndPredictions.toDF().toPandas()))\n",
    "        et+=time.time()-st\n",
    "        acc = labelsAndPredictions.filter(lambda lp: lp[0] == lp[1]).count() / float(TsD.count())\n",
    "        pp=pp+acc\n",
    "    pp=pp/kfolds.n_splits\n",
    "    np.savetxt('F%d.csv'%j,lpa,delimiter=',')\n",
    "    smr.append([j, pp, et*1000000/x.shape[0]]) #Calculate the time requires to predict a label per each object in uS."
   ]
  },
  {
   "cell_type": "code",
   "execution_count": 8,
   "metadata": {},
   "outputs": [
    {
     "data": {
      "text/plain": [
       "[[43.0, 0.9885, 12.13683833],\n",
       " [42.0, 0.9886, 13.25858562],\n",
       " [41.0, 0.9885, 11.8600223],\n",
       " [40.0, 0.9886, 13.48182144],\n",
       " [39.0, 0.9886, 13.03017011],\n",
       " [38.0, 0.9885, 13.10078501],\n",
       " [37.0, 0.9886, 11.66849725],\n",
       " [36.0, 0.9885, 11.65227064],\n",
       " [35.0, 0.9885, 11.74869218],\n",
       " [34.0, 0.9885, 11.57089904],\n",
       " [33.0, 0.9885, 11.48238665],\n",
       " [32.0, 0.9886, 11.3607301],\n",
       " [31.0, 0.9885, 11.42779459],\n",
       " [30.0, 0.9885, 11.2978386],\n",
       " [29.0, 0.9885, 11.30046068],\n",
       " [28.0, 0.9884, 11.23136591],\n",
       " [27.0, 0.9884, 11.10158751],\n",
       " [26.0, 0.9884, 11.1218422],\n",
       " [25.0, 0.9884, 11.01453423],\n",
       " [24.0, 0.9884, 11.29130445],\n",
       " [23.0, 0.9884, 11.17720366],\n",
       " [22.0, 0.9884, 11.00496097],\n",
       " [21.0, 0.9884, 11.22026435],\n",
       " [20.0, 0.9884, 11.16865529],\n",
       " [19.0, 0.9884, 11.03195968],\n",
       " [18.0, 0.9884, 10.75415818],\n",
       " [17.0, 0.9884, 10.95911542],\n",
       " [16.0, 0.9884, 10.64918846],\n",
       " [15.0, 0.9884, 11.16233487],\n",
       " [14.0, 0.9884, 11.17720272],\n",
       " [13.0, 0.9883, 11.02341948],\n",
       " [12.0, 0.9881, 11.0418732],\n",
       " [11.0, 0.9816, 10.63487131],\n",
       " [10.0, 0.9816, 10.53964578],\n",
       " [9.0, 0.9815, 10.34935195],\n",
       " [8.0, 0.981, 10.65409782],\n",
       " [7.0, 0.9805, 10.11754777],\n",
       " [6.0, 0.9798, 9.899908389],\n",
       " [5.0, 0.9789, 9.716337083],\n",
       " [4.0, 0.9778, 9.286110834],\n",
       " [3.0, 0.9771, 9.851272369],\n",
       " [2.0, 0.9754, 8.550534794]]"
      ]
     },
     "execution_count": 8,
     "metadata": {},
     "output_type": "execute_result"
    }
   ],
   "source": [
    "smr"
   ]
  }
 ],
 "metadata": {
  "kernelspec": {
   "display_name": "Python 3",
   "language": "python",
   "name": "python3"
  },
  "language_info": {
   "codemirror_mode": {
    "name": "ipython",
    "version": 3
   },
   "file_extension": ".py",
   "mimetype": "text/x-python",
   "name": "python",
   "nbconvert_exporter": "python",
   "pygments_lexer": "ipython3",
   "version": "3.6.6"
  }
 },
 "nbformat": 4,
 "nbformat_minor": 2
}
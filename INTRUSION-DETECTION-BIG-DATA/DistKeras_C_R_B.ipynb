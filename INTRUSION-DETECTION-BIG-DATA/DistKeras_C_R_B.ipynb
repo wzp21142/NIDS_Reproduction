{
 "cells": [
  {
   "cell_type": "code",
   "execution_count": 1,
   "metadata": {},
   "outputs": [
    {
     "name": "stderr",
     "output_type": "stream",
     "text": [
      "Using TensorFlow backend.\n"
     ]
    }
   ],
   "source": [
    "import numpy as np\n",
    "import requests\n",
    "import time\n",
    "\n",
    "from keras.optimizers import *\n",
    "from keras.models import Sequential\n",
    "from keras.layers.core import Dense, Dropout, Activation\n",
    "\n",
    "from pyspark import SQLContext, SparkContext\n",
    "from pyspark import SparkConf\n",
    "\n",
    "from pyspark.ml.feature import StandardScaler\n",
    "from pyspark.ml.feature import VectorAssembler\n",
    "from pyspark.ml.feature import StringIndexer\n",
    "from pyspark.ml.evaluation import MulticlassClassificationEvaluator\n",
    "from pyspark.mllib.evaluation import BinaryClassificationMetrics\n",
    "from pyspark.ml.linalg import Vectors\n",
    "\n",
    "from distkeras.trainers import *\n",
    "from distkeras.predictors import *\n",
    "from distkeras.transformers import *\n",
    "from distkeras.evaluators import *\n",
    "from distkeras.utils import *\n",
    "\n",
    "from sklearn.cluster import KMeans\n",
    "from sklearn import metrics\n",
    "from sklearn.model_selection import StratifiedKFold"
   ]
  },
  {
   "cell_type": "code",
   "execution_count": 2,
   "metadata": {},
   "outputs": [],
   "source": [
    "# Load the dataset and labels\n",
    "x=np.load('RBx.npy')\n",
    "y=np.load('RBy.npy')"
   ]
  },
  {
   "cell_type": "code",
   "execution_count": 3,
   "metadata": {},
   "outputs": [],
   "source": [
    "conf = SparkConf()\n",
    "sc = SparkContext(conf = conf)\n",
    "spark = SQLContext(sc)"
   ]
  },
  {
   "cell_type": "code",
   "execution_count": 4,
   "metadata": {},
   "outputs": [],
   "source": [
    "# Calculate the rank of each feature\n",
    "R=[]\n",
    "for h in range(x.shape[1]):\n",
    "    kmeans = KMeans(init='k-means++', n_clusters=np.unique(y).shape[0], n_init=10)\n",
    "    ff=kmeans.fit_predict(x[:,h].reshape(-1,1))\n",
    "    r=metrics.homogeneity_score(y,ff) #Use the homogeneity score as a rank of the feature\n",
    "    R.append(r)"
   ]
  },
  {
   "cell_type": "code",
   "execution_count": 5,
   "metadata": {},
   "outputs": [],
   "source": [
    "#Arrange feature accroding to thier ranks\n",
    "Rnk=np.argsort(np.array(R))"
   ]
  },
  {
   "cell_type": "code",
   "execution_count": 6,
   "metadata": {},
   "outputs": [],
   "source": [
    "#Initiate the cross-validation splitter\n",
    "kfolds=StratifiedKFold(n_splits=5,shuffle=True)"
   ]
  },
  {
   "cell_type": "code",
   "execution_count": 7,
   "metadata": {
    "scrolled": true
   },
   "outputs": [],
   "source": [
    "#Per each set of ranks, use cross-validation to calculate accuracy.\n",
    "smr=[]\n",
    "for j in range(Rnk.shape[0]):\n",
    "    fd=x[:,Rnk[j:]]\n",
    "    pp=0\n",
    "    lpa=np.zeros((0,2))\n",
    "    for train,test in kfolds.split(fd,y):\n",
    "        dff = map(lambda x: (int(float(x[-1])), Vectors.dense(x[:-1])),np.hstack((fd[train],y[train].reshape(-1,1))))\n",
    "        TrD = spark.createDataFrame(dff,schema=[\"label\", \"features\"])\n",
    "        dff = map(lambda x: (int(float(x[-1])), Vectors.dense(x[:-1])),np.hstack((fd[test],y[test].reshape(-1,1))))\n",
    "        TsD = spark.createDataFrame(dff,schema=[\"label\", \"features\"])\n",
    "        model = Sequential()\n",
    "        model.add(Dense(128,input_dim=fd.shape[1],activation='relu',use_bias=True))\n",
    "        model.add(Dropout(0.5))\n",
    "        model.add(Dense(64,activation='relu',use_bias=True))\n",
    "        model.add(Dropout(0.5))\n",
    "        model.add(Dense(32,activation='relu',use_bias=True))\n",
    "        model.add(Dropout(0.5))\n",
    "        model.add(Dense(1,activation='sigmoid',use_bias=True)) #The number of neurons is equal to the number of classes\n",
    "        model.compile(loss='binary_crossentropy', optimizer='adam', metrics=['accuracy'])\n",
    "        trainer = SingleTrainer(keras_model=model, worker_optimizer='adam', loss='binary_crossentropy', num_epoch=1000)\n",
    "        trained_model = trainer.train(TrD)\n",
    "        st = time.time()\n",
    "        predictor = ModelPredictor(keras_model=trained_model)\n",
    "        et=time.time()-st\n",
    "        ff=predictor.predict(TsD)\n",
    "        ts=np.array(map(lambda x: x[0],ff.select('prediction').collect())).reshape(-1,1)\n",
    "        pp=pp+metrics.accuracy_score(y[test].reshape(-1,1),(ts>=0.5).astype(int))\n",
    "        lpa=np.vstack((lpa,np.hstack((y[test].reshape(-1,1),ts))))\n",
    "    pp=pp/kfolds.n_splits\n",
    "    np.savetxt('F%d.csv'%j,lpa,delimiter=',')\n",
    "    smr.append([j, pp, et*1000000/x.shape[0]]) #Calculate the time required to predict a label per each object in uS."
   ]
  },
  {
   "cell_type": "code",
   "execution_count": 8,
   "metadata": {},
   "outputs": [
    {
     "data": {
      "text/plain": [
       "[[78.0, 0.9772, 0.0538],\n",
       " [77.0, 0.9747, 0.0543],\n",
       " [76.0, 0.9751, 0.0552],\n",
       " [75.0, 0.9746, 0.0543],\n",
       " [74.0, 0.9756, 0.0534],\n",
       " [73.0, 0.974, 0.0569],\n",
       " [72.0, 0.9737, 0.0563],\n",
       " [71.0, 0.9744, 0.0552],\n",
       " [70.0, 0.9764, 0.055],\n",
       " [69.0, 0.9756, 0.0557],\n",
       " [68.0, 0.977, 0.0556],\n",
       " [67.0, 0.9758, 0.0538],\n",
       " [66.0, 0.9768, 0.0561],\n",
       " [65.0, 0.9746, 0.0552],\n",
       " [64.0, 0.9736, 0.0547],\n",
       " [63.0, 0.9748, 0.0545],\n",
       " [62.0, 0.9742, 0.0545],\n",
       " [61.0, 0.9769, 0.0545],\n",
       " [60.0, 0.9743, 0.0523],\n",
       " [59.0, 0.9773, 0.0544],\n",
       " [58.0, 0.9723, 0.0631],\n",
       " [57.0, 0.9717, 0.0662],\n",
       " [56.0, 0.9715, 0.0683],\n",
       " [55.0, 0.9722, 0.0633],\n",
       " [54.0, 0.9722, 0.0647],\n",
       " [53.0, 0.9733, 0.0642],\n",
       " [52.0, 0.9722, 0.0649],\n",
       " [51.0, 0.9701, 0.0693],\n",
       " [50.0, 0.9714, 0.0657],\n",
       " [49.0, 0.972, 0.0669],\n",
       " [48.0, 0.9704, 0.067],\n",
       " [47.0, 0.9723, 0.0629],\n",
       " [46.0, 0.9719, 0.0666],\n",
       " [45.0, 0.9723, 0.0652],\n",
       " [44.0, 0.9706, 0.0678],\n",
       " [43.0, 0.9719, 0.0665],\n",
       " [42.0, 0.9715, 0.0657],\n",
       " [41.0, 0.9722, 0.0651],\n",
       " [40.0, 0.9744, 0.0782],\n",
       " [39.0, 0.9751, 0.0753],\n",
       " [38.0, 0.9739, 0.0766],\n",
       " [37.0, 0.9756, 0.0735],\n",
       " [36.0, 0.9729, 0.0778],\n",
       " [35.0, 0.9738, 0.0728],\n",
       " [34.0, 0.975, 0.0763],\n",
       " [33.0, 0.9743, 0.0784],\n",
       " [32.0, 0.963, 0.0822],\n",
       " [31.0, 0.9589, 0.1056],\n",
       " [30.0, 0.959, 0.1045],\n",
       " [29.0, 0.9593, 0.0976],\n",
       " [28.0, 0.959, 0.0986],\n",
       " [27.0, 0.9599, 0.0992],\n",
       " [26.0, 0.9595, 0.1018],\n",
       " [25.0, 0.9616, 0.0951],\n",
       " [24.0, 0.9574, 0.1055],\n",
       " [23.0, 0.9584, 0.1032],\n",
       " [22.0, 0.9355, 0.1313],\n",
       " [21.0, 0.9055, 0.1646],\n",
       " [20.0, 0.9032, 0.2025],\n",
       " [19.0, 0.902, 0.1969],\n",
       " [18.0, 0.9003, 0.1911],\n",
       " [17.0, 0.9005, 0.195],\n",
       " [16.0, 0.9031, 0.1859],\n",
       " [15.0, 0.9012, 0.1933],\n",
       " [14.0, 0.8994, 0.1891],\n",
       " [13.0, 0.8947, 0.2089],\n",
       " [12.0, 0.8929, 0.2131],\n",
       " [11.0, 0.8912, 0.2342],\n",
       " [10.0, 0.8883, 0.2312],\n",
       " [9.0, 0.8884, 0.2279],\n",
       " [8.0, 0.8883, 0.2343],\n",
       " [7.0, 0.8882, 0.2337],\n",
       " [6.0, 0.8882, 0.243],\n",
       " [5.0, 0.8882, 0.2507],\n",
       " [4.0, 0.888, 0.2583],\n",
       " [3.0, 0.8882, 0.2636],\n",
       " [2.0, 0.8873, 0.2783]]"
      ]
     },
     "execution_count": 1,
     "metadata": {},
     "output_type": "execute_result"
    }
   ],
   "source": [
    "smr"
   ]
  }
 ],
 "metadata": {
  "kernelspec": {
   "display_name": "Python 3",
   "language": "python",
   "name": "python3"
  },
  "language_info": {
   "codemirror_mode": {
    "name": "ipython",
    "version": 3
   },
   "file_extension": ".py",
   "mimetype": "text/x-python",
   "name": "python",
   "nbconvert_exporter": "python",
   "pygments_lexer": "ipython3",
   "version": "3.6.6"
  }
 },
 "nbformat": 4,
 "nbformat_minor": 2
}

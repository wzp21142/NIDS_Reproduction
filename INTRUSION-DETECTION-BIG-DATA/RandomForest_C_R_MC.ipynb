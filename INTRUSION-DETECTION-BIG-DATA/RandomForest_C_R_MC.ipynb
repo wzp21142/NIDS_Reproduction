{
 "cells": [
  {
   "cell_type": "code",
   "execution_count": 1,
   "metadata": {},
   "outputs": [],
   "source": [
    "import numpy as np\n",
    "import requests\n",
    "import time\n",
    "\n",
    "from pyspark import SQLContext, SparkContext\n",
    "from pyspark import SparkConf\n",
    "\n",
    "from pyspark.ml.feature import StandardScaler\n",
    "from pyspark.ml.feature import VectorAssembler\n",
    "from pyspark.ml.feature import StringIndexer\n",
    "from pyspark.ml.evaluation import MulticlassClassificationEvaluator\n",
    "from pyspark.mllib.evaluation import BinaryClassificationMetrics\n",
    "from pyspark.ml.linalg import Vectors\n",
    "\n",
    "from sklearn.cluster import KMeans\n",
    "from sklearn import metrics\n",
    "from sklearn.model_selection import StratifiedKFold\n",
    "\n",
    "from pyspark.mllib.tree import RandomForest, RandomForestModel\n",
    "from pyspark.mllib.util import MLUtils\n",
    "from pyspark.mllib.regression import LabeledPoint\n",
    "from pyspark.mllib.linalg import Vector as MLLibVector, Vectors as MLLibVectors"
   ]
  },
  {
   "cell_type": "code",
   "execution_count": 2,
   "metadata": {},
   "outputs": [],
   "source": [
    "# Load the dataset and labels\n",
    "x=np.load('RMCx.npy')\n",
    "y=np.load('RMCy.npy')"
   ]
  },
  {
   "cell_type": "code",
   "execution_count": 3,
   "metadata": {},
   "outputs": [],
   "source": [
    "np.unique(y).shape"
   ]
  },
  {
   "cell_type": "code",
   "execution_count": 4,
   "metadata": {},
   "outputs": [],
   "source": [
    "conf = SparkConf()\n",
    "sc = SparkContext(conf = conf)\n",
    "spark = SQLContext(sc)"
   ]
  },
  {
   "cell_type": "code",
   "execution_count": 5,
   "metadata": {},
   "outputs": [],
   "source": [
    "# Calculate the rank of each feature\n",
    "R=[]\n",
    "for h in range(x.shape[1]):\n",
    "    kmeans = KMeans(init='k-means++', n_clusters=np.unique(y).shape[0])\n",
    "    ff=kmeans.fit_predict(x[:,h].reshape(-1,1))\n",
    "    r=metrics.homogeneity_score(y,ff) #Use the homogeneity score as a rank of the feature\n",
    "    R.append(r)"
   ]
  },
  {
   "cell_type": "code",
   "execution_count": 6,
   "metadata": {},
   "outputs": [],
   "source": [
    "#Initiate the cross-validation splitter\n",
    "kfolds=StratifiedKFold(n_splits=5,shuffle=True)"
   ]
  },
  {
   "cell_type": "code",
   "execution_count": 7,
   "metadata": {},
   "outputs": [],
   "source": [
    "#Per each set of ranks, use cross-validation to calculate accuracy.\n",
    "smr=[]\n",
    "et=0\n",
    "for j in range(Rnk.shape[0]):\n",
    "    fd=x[:,Rnk[j:]]\n",
    "    pp=0\n",
    "    lpa=np.zeros((0,2))\n",
    "    for train,test in kfolds.split(fd,y):\n",
    "        dff = map(lambda x: (int(float(x[-1])), Vectors.dense(x[:-1])),np.hstack((fd[train],y[train].reshape(-1,1))))\n",
    "        TrD = spark.createDataFrame(dff,schema=[\"label\", \"features\"]).rdd.map(lambda row: LabeledPoint(row.label, MLLibVectors.fromML(row.features)))\n",
    "        dff = map(lambda x: (int(float(x[-1])), Vectors.dense(x[:-1])),np.hstack((fd[test],y[test].reshape(-1,1))))\n",
    "        TsD = spark.createDataFrame(dff,schema=[\"label\", \"features\"]).rdd.map(lambda row: LabeledPoint(row.label, MLLibVectors.fromML(row.features)))\n",
    "        model = RandomForest.trainClassifier(TrD, numClasses=np.unique(y).shape[0],categoricalFeaturesInfo={},numTrees=100) #The number of classes in the dataset\n",
    "        predictions = model.predict(TsD.map(lambda x: x.features))\n",
    "        st = time.time()\n",
    "        labelsAndPredictions = TsD.map(lambda lp: lp.label).zip(predictions)\n",
    "        lpa=np.vstack((lpa,labelsAndPredictions.toDF().toPandas()))\n",
    "        et+=time.time()-st\n",
    "        acc = labelsAndPredictions.filter(lambda lp: lp[0] == lp[1]).count() / float(TsD.count())\n",
    "        pp=pp+acc\n",
    "    pp=pp/kfolds.n_splits\n",
    "    np.savetxt('F%d.csv'%j,lpa,delimiter=',')\n",
    "    smr.append([j, pp, et*1000000/x.shape[0]]) #Calculate the time requires to predict a label per each object in uS."
   ]
  },
  {
   "cell_type": "code",
   "execution_count": 8,
   "metadata": {},
   "outputs": [
    {
     "data": {
      "text/plain": [
       "[[78.0, 0.9257, 7.4006],\n",
       " [77.0, 0.9259, 6.9821],\n",
       " [76.0, 0.9255, 6.9672],\n",
       " [75.0, 0.9254, 7.0676],\n",
       " [74.0, 0.9254, 6.9307],\n",
       " [73.0, 0.9256, 6.916],\n",
       " [72.0, 0.9255, 7.0556],\n",
       " [71.0, 0.9253, 7.2611],\n",
       " [70.0, 0.9258, 6.8333],\n",
       " [69.0, 0.9254, 6.9441],\n",
       " [68.0, 0.9256, 6.9006],\n",
       " [67.0, 0.9255, 7.397],\n",
       " [66.0, 0.9254, 7.0745],\n",
       " [65.0, 0.9251, 6.9306],\n",
       " [64.0, 0.9254, 7.0281],\n",
       " [63.0, 0.9255, 7.0172],\n",
       " [62.0, 0.9256, 6.782],\n",
       " [61.0, 0.9254, 6.7463],\n",
       " [60.0, 0.9258, 6.9929],\n",
       " [59.0, 0.9254, 6.6483],\n",
       " [58.0, 0.9258, 6.6164],\n",
       " [57.0, 0.9259, 6.631],\n",
       " [56.0, 0.9257, 6.6714],\n",
       " [55.0, 0.9258, 6.6261],\n",
       " [54.0, 0.9256, 6.7244],\n",
       " [53.0, 0.9258, 6.9454],\n",
       " [52.0, 0.9254, 6.8396],\n",
       " [51.0, 0.9255, 6.6728],\n",
       " [50.0, 0.9254, 6.6338],\n",
       " [49.0, 0.9256, 6.6403],\n",
       " [48.0, 0.9257, 6.5409],\n",
       " [47.0, 0.9256, 6.6091],\n",
       " [46.0, 0.9257, 6.4734],\n",
       " [45.0, 0.9256, 6.4937],\n",
       " [44.0, 0.9259, 6.487],\n",
       " [43.0, 0.9255, 6.4956],\n",
       " [42.0, 0.9258, 6.4518],\n",
       " [41.0, 0.9255, 6.653],\n",
       " [40.0, 0.9259, 6.6654],\n",
       " [39.0, 0.9256, 6.496],\n",
       " [38.0, 0.9253, 6.4117],\n",
       " [37.0, 0.9254, 6.4785],\n",
       " [36.0, 0.9255, 6.5673],\n",
       " [35.0, 0.9251, 6.6333],\n",
       " [34.0, 0.9256, 6.7615],\n",
       " [33.0, 0.9257, 6.6065],\n",
       " [32.0, 0.9254, 7.0511],\n",
       " [31.0, 0.9252, 6.498],\n",
       " [30.0, 0.9256, 6.6713],\n",
       " [29.0, 0.9251, 7.2624],\n",
       " [28.0, 0.9254, 7.6371],\n",
       " [27.0, 0.9252, 7.6548],\n",
       " [26.0, 0.9252, 7.7165],\n",
       " [25.0, 0.9253, 7.6259],\n",
       " [24.0, 0.9252, 7.5924],\n",
       " [23.0, 0.9252, 7.6306],\n",
       " [22.0, 0.9254, 7.5468],\n",
       " [21.0, 0.9252, 7.5232],\n",
       " [20.0, 0.9251, 7.614],\n",
       " [19.0, 0.9254, 7.5787],\n",
       " [18.0, 0.9259, 7.4252],\n",
       " [17.0, 0.926, 6.9564],\n",
       " [16.0, 0.9264, 6.3688],\n",
       " [15.0, 0.9265, 6.4269],\n",
       " [14.0, 0.9264, 6.4052],\n",
       " [13.0, 0.9268, 6.3196],\n",
       " [12.0, 0.9267, 6.3379],\n",
       " [11.0, 0.927, 6.1785],\n",
       " [10.0, 0.9269, 6.2498],\n",
       " [9.0, 0.9269, 6.2382],\n",
       " [8.0, 0.9272, 6.229],\n",
       " [7.0, 0.9272, 6.245],\n",
       " [6.0, 0.9272, 6.1825],\n",
       " [5.0, 0.9271, 6.2509],\n",
       " [4.0, 0.9258, 6.5616],\n",
       " [3.0, 0.9259, 6.5102],\n",
       " [2.0, 0.9024, 6.026]]"
      ]
     },
     "execution_count": 8,
     "metadata": {},
     "output_type": "execute_result"
    }
   ],
   "source": [
    "smr"
   ]
  }
 ],
 "metadata": {
  "kernelspec": {
   "display_name": "Python 3",
   "language": "python",
   "name": "python3"
  },
  "language_info": {
   "codemirror_mode": {
    "name": "ipython",
    "version": 3
   },
   "file_extension": ".py",
   "mimetype": "text/x-python",
   "name": "python",
   "nbconvert_exporter": "python",
   "pygments_lexer": "ipython3",
   "version": "3.6.6"
  }
 },
 "nbformat": 4,
 "nbformat_minor": 2
}

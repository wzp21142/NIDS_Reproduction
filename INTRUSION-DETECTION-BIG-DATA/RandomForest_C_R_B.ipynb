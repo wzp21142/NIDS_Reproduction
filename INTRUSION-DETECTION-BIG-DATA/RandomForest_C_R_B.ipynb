{
 "cells": [
  {
   "cell_type": "code",
   "execution_count": 1,
   "metadata": {},
   "outputs": [],
   "source": [
    "import numpy as np\n",
    "import requests\n",
    "import time\n",
    "\n",
    "from pyspark import SQLContext, SparkContext\n",
    "from pyspark import SparkConf\n",
    "\n",
    "from pyspark.ml.feature import StandardScaler\n",
    "from pyspark.ml.feature import VectorAssembler\n",
    "from pyspark.ml.feature import StringIndexer\n",
    "from pyspark.ml.evaluation import MulticlassClassificationEvaluator\n",
    "from pyspark.mllib.evaluation import BinaryClassificationMetrics\n",
    "from pyspark.ml.linalg import Vectors\n",
    "\n",
    "from sklearn.cluster import KMeans\n",
    "from sklearn import metrics\n",
    "from sklearn.model_selection import StratifiedKFold\n",
    "\n",
    "from pyspark.mllib.tree import RandomForest, RandomForestModel\n",
    "from pyspark.mllib.util import MLUtils\n",
    "from pyspark.mllib.regression import LabeledPoint\n",
    "from pyspark.mllib.linalg import Vector as MLLibVector, Vectors as MLLibVectors"
   ]
  },
  {
   "cell_type": "code",
   "execution_count": 2,
   "metadata": {},
   "outputs": [],
   "source": [
    "# Load the dataset and labels\n",
    "x=np.load('RBx.npy')\n",
    "y=np.load('RBy.npy')"
   ]
  },
  {
   "cell_type": "code",
   "execution_count": 3,
   "metadata": {},
   "outputs": [],
   "source": [
    "conf = SparkConf()\n",
    "sc = SparkContext(conf = conf)\n",
    "spark = SQLContext(sc)"
   ]
  },
  {
   "cell_type": "code",
   "execution_count": 4,
   "metadata": {},
   "outputs": [],
   "source": [
    "# Calculate the rank of each feature\n",
    "R=[]\n",
    "for h in range(x.shape[1]):\n",
    "    kmeans = KMeans(init='k-means++', n_clusters=np.unique(y).shape[0])\n",
    "    ff=kmeans.fit_predict(x[:,h].reshape(-1,1))\n",
    "    r=metrics.homogeneity_score(y,ff) #Use the homogeneity score as a rank of the feature\n",
    "    R.append(r)"
   ]
  },
  {
   "cell_type": "code",
   "execution_count": 5,
   "metadata": {},
   "outputs": [],
   "source": [
    "#Arrange feature accroding to thier ranks\n",
    "Rnk=np.argsort(np.array(R))"
   ]
  },
  {
   "cell_type": "code",
   "execution_count": 6,
   "metadata": {},
   "outputs": [],
   "source": [
    "#Initiate the cross-validation splitter\n",
    "kfolds=StratifiedKFold(n_splits=5,shuffle=True)"
   ]
  },
  {
   "cell_type": "code",
   "execution_count": 7,
   "metadata": {},
   "outputs": [],
   "source": [
    "#Per each set of ranks, use cross-validation to calculate accuracy.\n",
    "smr=[]\n",
    "et=0\n",
    "for j in range(Rnk.shape[0]):\n",
    "    fd=x[:,Rnk[j:]]\n",
    "    pp=0\n",
    "    lpa=np.zeros((0,2))\n",
    "    for train,test in kfolds.split(fd,y):\n",
    "        dff = map(lambda x: (int(float(x[-1])), Vectors.dense(x[:-1])),np.hstack((fd[train],y[train].reshape(-1,1))))\n",
    "        TrD = spark.createDataFrame(dff,schema=[\"label\", \"features\"]).rdd.map(lambda row: LabeledPoint(row.label, MLLibVectors.fromML(row.features)))\n",
    "        dff = map(lambda x: (int(float(x[-1])), Vectors.dense(x[:-1])),np.hstack((fd[test],y[test].reshape(-1,1))))\n",
    "        TsD = spark.createDataFrame(dff,schema=[\"label\", \"features\"]).rdd.map(lambda row: LabeledPoint(row.label, MLLibVectors.fromML(row.features)))\n",
    "        model = RandomForest.trainClassifier(TrD, numClasses=np.unique(y).shape[0],categoricalFeaturesInfo={},numTrees=100) #The number of classes in the dataset\n",
    "        predictions = model.predict(TsD.map(lambda x: x.features))\n",
    "        st = time.time()\n",
    "        labelsAndPredictions = TsD.map(lambda lp: lp.label).zip(predictions)\n",
    "        lpa=np.vstack((lpa,labelsAndPredictions.toDF().toPandas()))\n",
    "        et+=time.time()-st\n",
    "        acc = labelsAndPredictions.filter(lambda lp: lp[0] == lp[1]).count() / float(TsD.count())\n",
    "        pp=pp+acc\n",
    "    pp=pp/kfolds.n_splits\n",
    "    np.savetxt('F%d.csv'%j,lpa,delimiter=',')\n",
    "    smr.append([j, pp, et*1000000/x.shape[0]]) #Calculate the time requires to predict a label per each object in uS."
   ]
  },
  {
   "cell_type": "code",
   "execution_count": 8,
   "metadata": {},
   "outputs": [
    {
     "data": {
      "text/plain": [
       "[[78.0, 0.9254, 7.7159],\n",
       " [77.0, 0.9256, 7.5744],\n",
       " [76.0, 0.9255, 7.7759],\n",
       " [75.0, 0.9254, 7.623],\n",
       " [74.0, 0.9257, 7.643],\n",
       " [73.0, 0.9256, 7.6089],\n",
       " [72.0, 0.9255, 7.652],\n",
       " [71.0, 0.9258, 7.5749],\n",
       " [70.0, 0.9253, 7.5454],\n",
       " [69.0, 0.9254, 7.5014],\n",
       " [68.0, 0.9254, 7.5164],\n",
       " [67.0, 0.9255, 7.467],\n",
       " [66.0, 0.9255, 7.4694],\n",
       " [65.0, 0.9254, 7.5104],\n",
       " [64.0, 0.9256, 7.5469],\n",
       " [63.0, 0.926, 7.4624],\n",
       " [62.0, 0.9252, 7.4659],\n",
       " [61.0, 0.9253, 7.4139],\n",
       " [60.0, 0.9255, 7.4359],\n",
       " [59.0, 0.9255, 7.5469],\n",
       " [58.0, 0.9258, 7.3529],\n",
       " [57.0, 0.9257, 7.365],\n",
       " [56.0, 0.9256, 7.3789],\n",
       " [55.0, 0.9257, 7.3569],\n",
       " [54.0, 0.9258, 7.31],\n",
       " [53.0, 0.9258, 7.3259],\n",
       " [52.0, 0.9258, 7.2544],\n",
       " [51.0, 0.9255, 7.2554],\n",
       " [50.0, 0.9259, 7.2479],\n",
       " [49.0, 0.9256, 7.2375],\n",
       " [48.0, 0.9257, 7.2909],\n",
       " [47.0, 0.9256, 7.2194],\n",
       " [46.0, 0.9256, 7.2464],\n",
       " [45.0, 0.9254, 7.1814],\n",
       " [44.0, 0.9257, 7.1539],\n",
       " [43.0, 0.9258, 7.1939],\n",
       " [42.0, 0.9256, 7.2029],\n",
       " [41.0, 0.9255, 7.1489],\n",
       " [40.0, 0.9258, 7.1519],\n",
       " [39.0, 0.9259, 7.1339],\n",
       " [38.0, 0.9248, 7.0954],\n",
       " [37.0, 0.9253, 7.0774],\n",
       " [36.0, 0.9255, 7.089],\n",
       " [35.0, 0.9254, 7.1089],\n",
       " [34.0, 0.9257, 7.1045],\n",
       " [33.0, 0.9256, 7.0775],\n",
       " [32.0, 0.9252, 7.0804],\n",
       " [31.0, 0.9254, 7.0114],\n",
       " [30.0, 0.9254, 7.0549],\n",
       " [29.0, 0.925, 7.1269],\n",
       " [28.0, 0.9252, 7.125],\n",
       " [27.0, 0.925, 7.0359],\n",
       " [26.0, 0.925, 7.0874],\n",
       " [25.0, 0.9251, 7.0114],\n",
       " [24.0, 0.9251, 7.0439],\n",
       " [23.0, 0.9249, 7.0809],\n",
       " [22.0, 0.9252, 7.0289],\n",
       " [21.0, 0.9252, 6.9454],\n",
       " [20.0, 0.9253, 7.0479],\n",
       " [19.0, 0.9252, 6.9595],\n",
       " [18.0, 0.9259, 7.0044],\n",
       " [17.0, 0.9261, 6.898],\n",
       " [16.0, 0.9263, 6.9794],\n",
       " [15.0, 0.9264, 7.0544],\n",
       " [14.0, 0.9263, 6.9565],\n",
       " [13.0, 0.9267, 6.9989],\n",
       " [12.0, 0.9267, 6.9439],\n",
       " [11.0, 0.9269, 6.9055],\n",
       " [10.0, 0.927, 6.8999],\n",
       " [9.0, 0.927, 6.8669],\n",
       " [8.0, 0.9271, 6.8413],\n",
       " [7.0, 0.9272, 6.9039],\n",
       " [6.0, 0.9272, 6.7834],\n",
       " [5.0, 0.9271, 6.8875],\n",
       " [4.0, 0.9258, 7.2119],\n",
       " [3.0, 0.9259, 7.1129],\n",
       " [2.0, 0.9024, 6.7484]]"
      ]
     },
     "execution_count": 8,
     "metadata": {},
     "output_type": "execute_result"
    }
   ],
   "source": [
    "smr"
   ]
  }
 ],
 "metadata": {
  "kernelspec": {
   "display_name": "Python 3",
   "language": "python",
   "name": "python3"
  },
  "language_info": {
   "codemirror_mode": {
    "name": "ipython",
    "version": 3
   },
   "file_extension": ".py",
   "mimetype": "text/x-python",
   "name": "python",
   "nbconvert_exporter": "python",
   "pygments_lexer": "ipython3",
   "version": "3.6.6"
  }
 },
 "nbformat": 4,
 "nbformat_minor": 2
}

{
 "cells": [
  {
   "cell_type": "code",
   "execution_count": 1,
   "metadata": {},
   "outputs": [
    {
     "name": "stderr",
     "output_type": "stream",
     "text": [
      "Using TensorFlow backend.\n"
     ]
    }
   ],
   "source": [
    "import numpy as np\n",
    "import requests\n",
    "import time\n",
    "from tensorflow.keras.optimizers import *\n",
    "from tensorflow.keras.models import Sequential\n",
    "from tensorflow.keras.layers import Dense, Dropout, Activation\n",
    "\n",
    "from pyspark import SQLContext, SparkContext\n",
    "from pyspark import SparkConf\n",
    "\n",
    "from pyspark.ml.feature import StandardScaler\n",
    "from pyspark.ml.feature import VectorAssembler\n",
    "from pyspark.ml.feature import StringIndexer\n",
    "from pyspark.ml.evaluation import MulticlassClassificationEvaluator\n",
    "from pyspark.mllib.evaluation import BinaryClassificationMetrics\n",
    "from pyspark.ml.linalg import Vectors\n",
    "\n",
    "\n",
    "from sklearn.cluster import KMeans\n",
    "from sklearn import metrics\n",
    "from sklearn.model_selection import StratifiedKFold"
   ]
  },
  {
   "cell_type": "code",
   "execution_count": 2,
   "metadata": {},
   "outputs": [],
   "source": [
    "# Load the dataset and labels\n",
    "x=np.load('MCx.npy')\n",
    "y=np.load('MCy.npy')"
   ]
  },
  {
   "cell_type": "code",
   "execution_count": 3,
   "metadata": {},
   "outputs": [],
   "source": [
    "conf = SparkConf()\n",
    "sc = SparkContext(conf = conf)\n",
    "spark = SQLContext(sc)"
   ]
  },
  {
   "cell_type": "code",
   "execution_count": 4,
   "metadata": {},
   "outputs": [],
   "source": [
    "# Calculate the rank of each feature\n",
    "R=[]\n",
    "for h in range(x.shape[1]):\n",
    "    kmeans = KMeans(init='k-means++', n_clusters=np.unique(y).shape[0], n_init=10)\n",
    "    ff=kmeans.fit_predict(x[:,h].reshape(-1,1))\n",
    "    r=metrics.homogeneity_score(y,ff) #Use the homogeneity score as a rank of the feature\n",
    "    R.append(r)"
   ]
  },
  {
   "cell_type": "code",
   "execution_count": 5,
   "metadata": {},
   "outputs": [],
   "source": [
    "#Arrange feature accroding to thier ranks\n",
    "Rnk=np.argsort(np.array(R))"
   ]
  },
  {
   "cell_type": "code",
   "execution_count": 6,
   "metadata": {},
   "outputs": [],
   "source": [
    "#Initiate the cross-validation splitter\n",
    "kfolds=StratifiedKFold(n_splits=5,shuffle=True)"
   ]
  },
  {
   "cell_type": "code",
   "execution_count": 7,
   "metadata": {
    "scrolled": true
   },
   "outputs": [],
   "source": [
    "#Per each set of ranks, use cross-validation to calculate accuracy.\n",
    "smr=[]\n",
    "for j in range(Rnk.shape[0]):\n",
    "    fd=x[:,Rnk[j:]]\n",
    "    pp=0\n",
    "    lpa=np.zeros((0,2))\n",
    "    for train,test in kfolds.split(fd,y):\n",
    "        dff = map(lambda x: (int(float(x[-1])), Vectors.dense(x[:-1])),np.hstack((fd[train],y[train].reshape(-1,1))))\n",
    "        TrD = spark.createDataFrame(dff,schema=[\"label\", \"features\"])\n",
    "        dff = map(lambda x: (int(float(x[-1])), Vectors.dense(x[:-1])),np.hstack((fd[test],y[test].reshape(-1,1))))\n",
    "        TsD = spark.createDataFrame(dff,schema=[\"label\", \"features\"])\n",
    "        model = Sequential()\n",
    "        model.add(Dense(128,input_dim=fd.shape[1],activation='relu',use_bias=True))\n",
    "        model.add(Dropout(0.5))\n",
    "        model.add(Dense(64,activation='relu',use_bias=True))\n",
    "        model.add(Dropout(0.5))\n",
    "        model.add(Dense(32,activation='relu',use_bias=True))\n",
    "        model.add(Dropout(0.5))\n",
    "        model.add(Dense(np.unique(y).shape[0],activation='softmax',use_bias=True)) #The number of neurons is equal to the number of classes\n",
    "        model.compile(loss='categorical_crossentropy', optimizer='adam', metrics=['categorical_accuracy'])\n",
    "        trainer = SingleTrainer(keras_model=model, worker_optimizer='adam', loss='categorical_crossentropy', num_epoch=1000)\n",
    "        trained_model = trainer.train(TrD)\n",
    "        st = time.time()\n",
    "        predictor = ModelPredictor(keras_model=trained_model)\n",
    "        et=time.time()-st\n",
    "        ff=predictor.predict(TsD)\n",
    "        ts=np.array(map(lambda x: x[0],ff.select('prediction').collect())).reshape(-1,1)\n",
    "        pp=pp+metrics.accuracy_score(y[test].reshape(-1,1),(ts>=0.5).astype(int))\n",
    "        lpa=np.vstack((lpa,np.hstack((y[test].reshape(-1,1),ts))))\n",
    "    pp=pp/kfolds.n_splits\n",
    "    np.savetxt('F%d.csv'%j,lpa,delimiter=',')\n",
    "    smr.append([j, pp, et*1000000/x.shape[0]]) #Calculate the time required to predict a label per each object in uS."
   ]
  },
  {
   "cell_type": "code",
   "execution_count": 8,
   "metadata": {},
   "outputs": [
    {
     "data": {
      "text/plain": [
       "[[43.0, 0.970176, 5.155115583],\n",
       " [42.0, 0.969858, 5.057759047],\n",
       " [41.0, 0.970432, 4.960576812],\n",
       " [40.0, 0.969808, 4.863301202],\n",
       " [39.0, 0.970264, 4.814621377],\n",
       " [38.0, 0.970027, 5.680481071],\n",
       " [37.0, 0.970458, 4.620123069],\n",
       " [36.0, 0.970387, 4.66872508],\n",
       " [35.0, 0.969518, 4.425599861],\n",
       " [34.0, 0.970013, 4.668787331],\n",
       " [33.0, 0.969926, 4.328346038],\n",
       " [32.0, 0.969854, 4.182393715],\n",
       " [31.0, 0.969613, 4.08511188],\n",
       " [30.0, 0.970438, 3.987917194],\n",
       " [29.0, 0.970464, 4.710921524],\n",
       " [28.0, 0.970041, 3.793384648],\n",
       " [27.0, 0.970099, 3.744754624],\n",
       " [26.0, 0.970192, 3.744742174],\n",
       " [25.0, 0.970076, 3.696102813],\n",
       " [24.0, 0.969492, 3.550110028],\n",
       " [23.0, 0.968671, 3.433941416],\n",
       " [22.0, 0.969088, 3.337039308],\n",
       " [21.0, 0.969155, 3.277643075],\n",
       " [20.0, 0.969102, 3.584238817],\n",
       " [19.0, 0.968871, 3.122605304],\n",
       " [18.0, 0.968506, 3.015145526],\n",
       " [17.0, 0.969479, 3.015157976],\n",
       " [16.0, 0.969028, 2.820715693],\n",
       " [15.0, 0.968624, 2.772110569],\n",
       " [14.0, 0.968287, 2.674757146],\n",
       " [13.0, 0.967739, 2.67470112],\n",
       " [12.0, 0.967302, 2.674719795],\n",
       " [11.0, 0.965938, 2.480308638],\n",
       " [10.0, 0.965853, 2.382952101],\n",
       " [9.0, 0.965885, 2.33439989],\n",
       " [8.0, 0.965275, 2.285679603],\n",
       " [7.0, 0.965441, 2.237146067],\n",
       " [6.0, 0.964903, 2.091255995],\n",
       " [5.0, 0.965087, 2.042579284],\n",
       " [4.0, 0.964236, 1.945309898],\n",
       " [3.0, 0.963745, 1.945306786],\n",
       " [2.0, 0.962656, nan]]"
      ]
     },
     "execution_count": 8,
     "metadata": {},
     "output_type": "execute_result"
    }
   ],
   "source": [
    "smr"
   ]
  }
 ],
 "metadata": {
  "kernelspec": {
   "name": "pycharm-8bba76b",
   "language": "python",
   "display_name": "PyCharm (SGM-CNN)"
  },
  "language_info": {
   "codemirror_mode": {
    "name": "ipython",
    "version": 3
   },
   "file_extension": ".py",
   "mimetype": "text/x-python",
   "name": "python",
   "nbconvert_exporter": "python",
   "pygments_lexer": "ipython3",
   "version": "3.6.6"
  }
 },
 "nbformat": 4,
 "nbformat_minor": 2
}
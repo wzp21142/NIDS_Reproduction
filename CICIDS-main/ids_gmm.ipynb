{
 "nbformat": 4,
 "nbformat_minor": 0,
 "metadata": {
  "colab": {
   "name": "cicids_gmm.ipynb",
   "provenance": [],
   "collapsed_sections": [],
   "authorship_tag": "ABX9TyP01iYSltZqDHxgyDdyAlHo",
   "include_colab_link": true
  },
  "kernelspec": {
   "name": "pycharm-43d6ef98",
   "language": "python",
   "display_name": "PyCharm (数据挖掘)"
  }
 },
 "cells": [
  {
   "cell_type": "code",
   "metadata": {
    "id": "NFWTUL3GCHsG"
   },
   "source": [
    "# Load the top modules that are used in multiple places\n",
    "import numpy as np\n",
    "import pandas as pd"
   ],
   "execution_count": 1,
   "outputs": []
  },
  {
   "cell_type": "code",
   "metadata": {
    "id": "rrnTamUHDzxI"
   },
   "source": [
    "# Some global variables to drive the script\n",
    "# data_url is the location of the data\n",
    "# Data is not loaded from a local file\n",
    "# Data is loaded from a prepocessed dataset\n",
    "data_url=\"MachineLearningCVE/processed/small-cicids2017.csv\""
   ],
   "execution_count": 2,
   "outputs": []
  },
  {
   "cell_type": "code",
   "metadata": {
    "id": "bYEbuZO0MHyf"
   },
   "source": [
    "# label names (YY) in the data and their\n",
    "# mapping to numerical values\n",
    "label_map = {\n",
    " 'BENIGN' : 0,\n",
    " 'FTP-Patator' : 1,\n",
    " 'SSH-Patator' : 2,\n",
    " 'DoS slowloris' : 3,\n",
    " 'DoS Slowhttptest': 4,\n",
    " 'DoS Hulk' : 5,\n",
    " 'DoS GoldenEye' : 6,\n",
    " 'Heartbleed' : 7,\n",
    " 'Web Attack � Brute Force' : 8,\n",
    " 'Web Attack � XSS' : 8,\n",
    " 'Web Attack � Sql Injection' : 8,\n",
    " 'Infiltration' : 9,\n",
    " 'Bot' : 10,\n",
    " 'PortScan' : 11,\n",
    " 'DDoS' : 12,\n",
    "}\n",
    "\n",
    "num_ids_features = 76\n",
    "num_ids_classes = 13\n",
    "ids_classes = [ 'BENIGN', 'FTP-Patator', 'SSH-Patator', 'DoS slowloris', 'DoS Slowhttptest', 'DoS Hulk', 'DoS GoldenEye', 'Heartbleed', 'Brute Force', 'XSS', 'Sql Injection', 'Infiltration', 'Bot', 'PortScan', 'DDoS',]"
   ],
   "execution_count": 3,
   "outputs": []
  },
  {
   "cell_type": "code",
   "metadata": {
    "id": "usYPD_l1Bimz"
   },
   "source": [
    "# Utility functions used by GMM\n",
    "\n",
    "def ids_load_df_from_csv():\n",
    "    \"\"\"\n",
    "    Load dataframe from csv file\n",
    "    Input:\n",
    "        None\n",
    "    Returns:\n",
    "        None\n",
    "    \"\"\"\n",
    "\n",
    "    df = pd.read_csv(data_url)\n",
    "\n",
    "    # uncomment print statements for debugging if data does not load\n",
    "    # print (\"load Dataframe shape\", df.shape)\n",
    "\n",
    "    return df\n",
    "\n",
    "def ids_gmm_std(df):\n",
    "    \"\"\"\n",
    "    Standardize rhe input dataframe\n",
    "    Input:\n",
    "        Dataframe that has columns of covariates followed by a column of labels\n",
    "    Returns:\n",
    "        X, y as numpy arrays\n",
    "    \"\"\"\n",
    "\n",
    "    from sklearn.model_selection import train_test_split\n",
    "    from sklearn.preprocessing import StandardScaler\n",
    "\n",
    "    numcols = len(df.columns)\n",
    "    print(\"df.shape\", df.shape)\n",
    "\n",
    "    X = df.iloc[:, 0:numcols-1]\n",
    "    y = df.loc[:, 'YY']\n",
    "\n",
    "    scaler = StandardScaler()\n",
    "    X = scaler.fit_transform(X)\n",
    "    y = y.values\n",
    "\n",
    "    print (\"X.shape\", X.shape, \"y.shape\", y.shape)\n",
    "\n",
    "    return X, y\n",
    "\n",
    "def ids_gmm_count(y_actual, y_pred):\n",
    "    \"\"\"\n",
    "    \"\"\"\n",
    "    c_a = np.sort(np.bincount(y_actual))\n",
    "    c_a = c_a[c_a != 0]\n",
    "    c_p = np.sort(np.bincount(y_pred))\n",
    "    c_p = c_p[c_p != 0]\n",
    "    print(c_a)\n",
    "    print(c_p)\n",
    "\n",
    "def ids_gmm_accuracy (y_actual, y_pred):\n",
    "    \"\"\"\n",
    "    Input:\n",
    "        Numpy arrays with actual and predicted labels\n",
    "    Returns:\n",
    "        multiclass accuracy and f1 scores\n",
    "    \"\"\"\n",
    "\n",
    "    from sklearn.metrics import accuracy_score\n",
    "    from sklearn.metrics import f1_score\n",
    "\n",
    "    acc = accuracy_score (y_actual, y_pred)\n",
    "    f1 = f1_score(y_actual, y_pred, average='macro')\n",
    "    \n",
    "    return acc, f1"
   ],
   "execution_count": 4,
   "outputs": []
  },
  {
   "cell_type": "code",
   "metadata": {
    "id": "9xi5c64xEcOZ",
    "outputId": "a0ace93b-4146-4922-891c-8d2b8ba7a9a6",
    "colab": {
     "base_uri": "https://localhost:8080/"
    }
   },
   "source": [
    "# Clustering using GMM\n",
    "from sklearn import mixture\n",
    "\n",
    "df = ids_load_df_from_csv ()\n",
    "X, y = ids_gmm_std(df)\n",
    "\n",
    "results_df = pd.DataFrame(columns=['run', 'components','seed', 'BIC'])\n",
    "maxrun = 5\n",
    "maxcomp = 25\n",
    "\n",
    "for run in range (maxrun):\n",
    "  for i in range (1, maxcomp + 1):\n",
    "    seed = 42 + run\n",
    "    clf = mixture.GaussianMixture(n_components=i, covariance_type='full', random_state=seed)\n",
    "    clf.fit(X)\n",
    "    bic = clf.bic(X)\n",
    "    index = run * maxcomp + i\n",
    "    results_df.loc[index, ['run']] = run\n",
    "    results_df.loc[index, ['components']] = i\n",
    "    results_df.loc[index, ['seed']] = seed\n",
    "    results_df.loc[index, ['BIC']] = bic\n",
    "    print (\"run\", run, \"i\", i, \"BIC\", bic)"
   ],
   "execution_count": 6,
   "outputs": [
    {
     "name": "stdout",
     "output_type": "stream",
     "text": [
      "df.shape (39616, 77)\n",
      "X.shape (39616, 76) y.shape (39616,)\n",
      "run 0 i 1 BIC -12160060.530894967\n",
      "run 0 i 2 BIC -16580730.789563118\n",
      "run 0 i 3 BIC -18738155.911488444\n",
      "run 1 i 1 BIC -12160060.530894967\n",
      "run 1 i 2 BIC -14893537.130494056\n",
      "run 1 i 3 BIC -18489653.920543816\n",
      "run 2 i 1 BIC -12160060.530894967\n",
      "run 2 i 2 BIC -16580730.789563118\n",
      "run 2 i 3 BIC -20598100.543173242\n",
      "run 3 i 1 BIC -12160060.530894967\n",
      "run 3 i 2 BIC -17104566.156656012\n",
      "run 3 i 3 BIC -20828507.056385823\n",
      "run 4 i 1 BIC -12160060.530894967\n",
      "run 4 i 2 BIC -16700716.110728728\n",
      "run 4 i 3 BIC -18489653.920543816\n"
     ]
    }
   ]
  },
  {
   "cell_type": "code",
   "metadata": {
    "id": "t-CSy9CBXQAG",
    "outputId": "88518204-5f20-4108-82b8-eb6f83d3363f",
    "colab": {
     "base_uri": "https://localhost:8080/"
    }
   },
   "source": [
    "print(results_df)"
   ],
   "execution_count": 7,
   "outputs": [
    {
     "name": "stdout",
     "output_type": "stream",
     "text": [
      "   run components seed          BIC\n",
      "1    0          1   42 -1.21601e+07\n",
      "2    0          2   42 -1.65807e+07\n",
      "3    0          3   42 -1.87382e+07\n",
      "4    1          1   43 -1.21601e+07\n",
      "5    1          2   43 -1.48935e+07\n",
      "6    1          3   43 -1.84897e+07\n",
      "7    2          1   44 -1.21601e+07\n",
      "8    2          2   44 -1.65807e+07\n",
      "9    2          3   44 -2.05981e+07\n",
      "10   3          1   45 -1.21601e+07\n",
      "11   3          2   45 -1.71046e+07\n",
      "12   3          3   45 -2.08285e+07\n",
      "13   4          1   46 -1.21601e+07\n",
      "14   4          2   46 -1.67007e+07\n",
      "15   4          3   46 -1.84897e+07\n"
     ]
    }
   ]
  },
  {
   "cell_type": "code",
   "metadata": {
    "id": "GFgb-exjGrtl"
   },
   "source": [
    "%matplotlib inline\n",
    "import matplotlib.pyplot as plt\n",
    "plt.style.use('seaborn-whitegrid')"
   ],
   "execution_count": 8,
   "outputs": []
  },
  {
   "cell_type": "code",
   "metadata": {
    "id": "ZVKWuP5AXi5b",
    "outputId": "61009c22-f36c-43da-8374-fb5548931c00",
    "colab": {
     "base_uri": "https://localhost:8080/",
     "height": 287
    }
   },
   "source": [
    "colors = ('black', 'blue', 'red', 'green', 'orange')\n",
    "for iter in range (1, 6):\n",
    "  low = (iter - 1) * maxcomp\n",
    "  high = (iter) * maxcomp\n",
    "  x = results_df[low:high].components.values\n",
    "  y = results_df[low:high].BIC.values\n",
    "  plt.xlabel(\"Number of components\")\n",
    "  plt.ylabel(\"Bayesian Information Criteria\")\n",
    "  plt.plot(x, y, '-', color=colors[iter-1])"
   ],
   "execution_count": 9,
   "outputs": [
    {
     "data": {
      "text/plain": "<Figure size 432x288 with 1 Axes>",
      "image/png": "[encoded data removed]"
     },
     "metadata": {},
     "output_type": "display_data"
    }
   ]
  }
 ]
}
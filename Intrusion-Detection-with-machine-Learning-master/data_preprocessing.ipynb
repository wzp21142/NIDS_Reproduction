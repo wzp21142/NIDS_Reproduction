{
 "cells": [
  {
   "cell_type": "markdown",
   "metadata": {},
   "source": [
    "# Data Prepreprocessing\n",
    "In this, we are going to preprocess data. The following conventions are followed:\n",
    "1. An example labeled as normal will be labeled as 1.\n",
    "2. An example labeled as attack will be labeled as 0.\n",
    "3. The columns that feature categoritcal data will be divided into multiple columns using one-hot vector"
   ]
  },
  {
   "cell_type": "code",
   "execution_count": 1,
   "metadata": {},
   "outputs": [],
   "source": [
    "## INCLUDING LIBRARIES\n",
    "import pandas as pd\n",
    "import time\n",
    "from sklearn.preprocessing import Imputer\n",
    "from sklearn.preprocessing import LabelEncoder\n",
    "from sklearn.preprocessing import LabelEncoder, OneHotEncoder\n",
    "from sklearn.model_selection import train_test_split\n",
    "from sklearn.preprocessing import StandardScaler"
   ]
  },
  {
   "cell_type": "code",
   "execution_count": 2,
   "metadata": {
    "scrolled": true
   },
   "outputs": [
    {
     "name": "stderr",
     "output_type": "stream",
     "text": [
      "d:\\anaconda3\\envs\\tf1\\lib\\site-packages\\IPython\\core\\interactiveshell.py:3072: DtypeWarning: Columns (8) have mixed types.Specify dtype option on import or set low_memory=False.\n",
      "  interactivity=interactivity, compiler=compiler, result=result)\n"
     ]
    },
    {
     "data": {
      "text/plain": "   duration protocol  Plength  flag  Mlength  HoP  LifeTime      MsgType DSN  \\\n0  0.007060     AODV       76     0       20   -1        -1  Route Error   0   \n1  0.000999     ICMP       92    -1       28   -1        -1           -1  -1   \n2  0.001714     AODV       76     0       20   -1        -1  Route Error   0   \n3  0.000931     AODV       76     0       20   -1        -1  Route Error   0   \n4  0.000150     AODV       84     0       28    0      2000  Route Reply   0   \n\n   Sno  ...  land  Tmode  Neighbors  Hflow      AvgFlow  Lflow  AvgHopCount  \\\n0    3  ...     2      1         10   6142  1072.400000      2     0.237377   \n1   10  ...     2      0         12   7389  1722.500000    303     0.223920   \n2    4  ...     2      1         14   7759  1416.428571      4     0.186595   \n3    3  ...     2      1         20   8145  1483.400000     27     0.197428   \n4    7  ...     0      1         14   7758  1414.500000      1     0.198336   \n\n   failedConnection  Failed Rate   Label  \n0              3101    62.913370  normal  \n1              4209    58.466454  attack  \n2              4556    69.324407  normal  \n3              5624    63.049327  normal  \n4              4515    68.357305  normal  \n\n[5 rows x 21 columns]",
      "text/html": "<div>\n<style scoped>\n    .dataframe tbody tr th:only-of-type {\n        vertical-align: middle;\n    }\n\n    .dataframe tbody tr th {\n        vertical-align: top;\n    }\n\n    .dataframe thead th {\n        text-align: right;\n    }\n</style>\n<table border=\"1\" class=\"dataframe\">\n  <thead>\n    <tr style=\"text-align: right;\">\n      <th></th>\n      <th>duration</th>\n      <th>protocol</th>\n      <th>Plength</th>\n      <th>flag</th>\n      <th>Mlength</th>\n      <th>HoP</th>\n      <th>LifeTime</th>\n      <th>MsgType</th>\n      <th>DSN</th>\n      <th>Sno</th>\n      <th>...</th>\n      <th>land</th>\n      <th>Tmode</th>\n      <th>Neighbors</th>\n      <th>Hflow</th>\n      <th>AvgFlow</th>\n      <th>Lflow</th>\n      <th>AvgHopCount</th>\n      <th>failedConnection</th>\n      <th>Failed Rate</th>\n      <th>Label</th>\n    </tr>\n  </thead>\n  <tbody>\n    <tr>\n      <th>0</th>\n      <td>0.007060</td>\n      <td>AODV</td>\n      <td>76</td>\n      <td>0</td>\n      <td>20</td>\n      <td>-1</td>\n      <td>-1</td>\n      <td>Route Error</td>\n      <td>0</td>\n      <td>3</td>\n      <td>...</td>\n      <td>2</td>\n      <td>1</td>\n      <td>10</td>\n      <td>6142</td>\n      <td>1072.400000</td>\n      <td>2</td>\n      <td>0.237377</td>\n      <td>3101</td>\n      <td>62.913370</td>\n      <td>normal</td>\n    </tr>\n    <tr>\n      <th>1</th>\n      <td>0.000999</td>\n      <td>ICMP</td>\n      <td>92</td>\n      <td>-1</td>\n      <td>28</td>\n      <td>-1</td>\n      <td>-1</td>\n      <td>-1</td>\n      <td>-1</td>\n      <td>10</td>\n      <td>...</td>\n      <td>2</td>\n      <td>0</td>\n      <td>12</td>\n      <td>7389</td>\n      <td>1722.500000</td>\n      <td>303</td>\n      <td>0.223920</td>\n      <td>4209</td>\n      <td>58.466454</td>\n      <td>attack</td>\n    </tr>\n    <tr>\n      <th>2</th>\n      <td>0.001714</td>\n      <td>AODV</td>\n      <td>76</td>\n      <td>0</td>\n      <td>20</td>\n      <td>-1</td>\n      <td>-1</td>\n      <td>Route Error</td>\n      <td>0</td>\n      <td>4</td>\n      <td>...</td>\n      <td>2</td>\n      <td>1</td>\n      <td>14</td>\n      <td>7759</td>\n      <td>1416.428571</td>\n      <td>4</td>\n      <td>0.186595</td>\n      <td>4556</td>\n      <td>69.324407</td>\n      <td>normal</td>\n    </tr>\n    <tr>\n      <th>3</th>\n      <td>0.000931</td>\n      <td>AODV</td>\n      <td>76</td>\n      <td>0</td>\n      <td>20</td>\n      <td>-1</td>\n      <td>-1</td>\n      <td>Route Error</td>\n      <td>0</td>\n      <td>3</td>\n      <td>...</td>\n      <td>2</td>\n      <td>1</td>\n      <td>20</td>\n      <td>8145</td>\n      <td>1483.400000</td>\n      <td>27</td>\n      <td>0.197428</td>\n      <td>5624</td>\n      <td>63.049327</td>\n      <td>normal</td>\n    </tr>\n    <tr>\n      <th>4</th>\n      <td>0.000150</td>\n      <td>AODV</td>\n      <td>84</td>\n      <td>0</td>\n      <td>28</td>\n      <td>0</td>\n      <td>2000</td>\n      <td>Route Reply</td>\n      <td>0</td>\n      <td>7</td>\n      <td>...</td>\n      <td>0</td>\n      <td>1</td>\n      <td>14</td>\n      <td>7758</td>\n      <td>1414.500000</td>\n      <td>1</td>\n      <td>0.198336</td>\n      <td>4515</td>\n      <td>68.357305</td>\n      <td>normal</td>\n    </tr>\n  </tbody>\n</table>\n<p>5 rows × 21 columns</p>\n</div>"
     },
     "execution_count": 2,
     "metadata": {},
     "output_type": "execute_result"
    }
   ],
   "source": [
    "#LOADING THE DATASET\n",
    "dataset1 = pd.read_csv('attack.csv')\n",
    "dataset2 = pd.read_csv('normal.csv')\n",
    "# dataset1 = dataset1.iloc[:150000,:]\n",
    "# dataset2 = dataset2.iloc[:150000,:]\n",
    "dataset = pd.concat([dataset1, dataset2], ignore_index=True) #concatinating two dataset\n",
    "dataset = dataset.sample(frac=1).reset_index(drop=True)  #shuffling\n",
    "dataset.head()"
   ]
  },
  {
   "cell_type": "markdown",
   "metadata": {},
   "source": [
    "## Removing unwanted or unnecessary features"
   ]
  },
  {
   "cell_type": "code",
   "execution_count": 3,
   "metadata": {},
   "outputs": [],
   "source": [
    "dataset = dataset.drop(['flag','DSN','LifeTime'], axis=1)"
   ]
  },
  {
   "cell_type": "markdown",
   "metadata": {},
   "source": [
    "### Label encoding of Categorical data"
   ]
  },
  {
   "cell_type": "code",
   "execution_count": 4,
   "metadata": {},
   "outputs": [
    {
     "data": {
      "text/plain": "{0: 'AODV', 1: 'ICMP', 2: 'UDP'}"
     },
     "execution_count": 4,
     "metadata": {},
     "output_type": "execute_result"
    }
   ],
   "source": [
    "le = LabelEncoder()\n",
    "protocol_labels = le.fit_transform(dataset['protocol'])\n",
    "protocol_mappings = {index: label for index, label in \n",
    "                  enumerate(le.classes_)}\n",
    "protocol_mappings"
   ]
  },
  {
   "cell_type": "code",
   "execution_count": 5,
   "metadata": {},
   "outputs": [],
   "source": [
    "dataset['protocol'] = protocol_labels"
   ]
  },
  {
   "cell_type": "code",
   "execution_count": 6,
   "metadata": {},
   "outputs": [
    {
     "name": "stderr",
     "output_type": "stream",
     "text": [
      "d:\\anaconda3\\envs\\tf1\\lib\\site-packages\\sklearn\\preprocessing\\_encoders.py:415: FutureWarning: The handling of integer data will change in version 0.22. Currently, the categories are determined based on the range [0, max(values)], while in the future they will be determined based on the unique values.\n",
      "If you want the future behaviour and silence this warning, you can specify \"categories='auto'\".\n",
      "In case you used a LabelEncoder before this OneHotEncoder to convert the categories to integers, then you can now use the OneHotEncoder directly.\n",
      "  warnings.warn(msg, FutureWarning)\n"
     ]
    }
   ],
   "source": [
    "pro_ohe = OneHotEncoder()\n",
    "pro_feature_arr = pro_ohe.fit_transform(dataset[['protocol']]).toarray()\n",
    "pro_feature_labels = list(le.classes_)\n",
    "pro_features = pd.DataFrame(pro_feature_arr, \n",
    "                            columns=pro_feature_labels)"
   ]
  },
  {
   "cell_type": "code",
   "execution_count": 7,
   "metadata": {},
   "outputs": [],
   "source": [
    "dataset = pd.concat([dataset, pro_features], axis=1)"
   ]
  },
  {
   "cell_type": "code",
   "execution_count": 8,
   "metadata": {},
   "outputs": [
    {
     "data": {
      "text/plain": "   duration  Plength  Mlength  HoP      MsgType  Sno  Sindex  land  Tmode  \\\n0  0.007060       76       20   -1  Route Error    3    1213     2      1   \n1  0.000999       92       28   -1           -1   10    1125     2      0   \n2  0.001714       76       20   -1  Route Error    4     683     2      1   \n3  0.000931       76       20   -1  Route Error    3     211     2      1   \n4  0.000150       84       28    0  Route Reply    7     838     0      1   \n\n   Neighbors  Hflow      AvgFlow  Lflow  AvgHopCount  failedConnection  \\\n0         10   6142  1072.400000      2     0.237377              3101   \n1         12   7389  1722.500000    303     0.223920              4209   \n2         14   7759  1416.428571      4     0.186595              4556   \n3         20   8145  1483.400000     27     0.197428              5624   \n4         14   7758  1414.500000      1     0.198336              4515   \n\n   Failed Rate   Label  AODV  ICMP  UDP  \n0    62.913370  normal   1.0   0.0  0.0  \n1    58.466454  attack   0.0   1.0  0.0  \n2    69.324407  normal   1.0   0.0  0.0  \n3    63.049327  normal   1.0   0.0  0.0  \n4    68.357305  normal   1.0   0.0  0.0  ",
      "text/html": "<div>\n<style scoped>\n    .dataframe tbody tr th:only-of-type {\n        vertical-align: middle;\n    }\n\n    .dataframe tbody tr th {\n        vertical-align: top;\n    }\n\n    .dataframe thead th {\n        text-align: right;\n    }\n</style>\n<table border=\"1\" class=\"dataframe\">\n  <thead>\n    <tr style=\"text-align: right;\">\n      <th></th>\n      <th>duration</th>\n      <th>Plength</th>\n      <th>Mlength</th>\n      <th>HoP</th>\n      <th>MsgType</th>\n      <th>Sno</th>\n      <th>Sindex</th>\n      <th>land</th>\n      <th>Tmode</th>\n      <th>Neighbors</th>\n      <th>Hflow</th>\n      <th>AvgFlow</th>\n      <th>Lflow</th>\n      <th>AvgHopCount</th>\n      <th>failedConnection</th>\n      <th>Failed Rate</th>\n      <th>Label</th>\n      <th>AODV</th>\n      <th>ICMP</th>\n      <th>UDP</th>\n    </tr>\n  </thead>\n  <tbody>\n    <tr>\n      <th>0</th>\n      <td>0.007060</td>\n      <td>76</td>\n      <td>20</td>\n      <td>-1</td>\n      <td>Route Error</td>\n      <td>3</td>\n      <td>1213</td>\n      <td>2</td>\n      <td>1</td>\n      <td>10</td>\n      <td>6142</td>\n      <td>1072.400000</td>\n      <td>2</td>\n      <td>0.237377</td>\n      <td>3101</td>\n      <td>62.913370</td>\n      <td>normal</td>\n      <td>1.0</td>\n      <td>0.0</td>\n      <td>0.0</td>\n    </tr>\n    <tr>\n      <th>1</th>\n      <td>0.000999</td>\n      <td>92</td>\n      <td>28</td>\n      <td>-1</td>\n      <td>-1</td>\n      <td>10</td>\n      <td>1125</td>\n      <td>2</td>\n      <td>0</td>\n      <td>12</td>\n      <td>7389</td>\n      <td>1722.500000</td>\n      <td>303</td>\n      <td>0.223920</td>\n      <td>4209</td>\n      <td>58.466454</td>\n      <td>attack</td>\n      <td>0.0</td>\n      <td>1.0</td>\n      <td>0.0</td>\n    </tr>\n    <tr>\n      <th>2</th>\n      <td>0.001714</td>\n      <td>76</td>\n      <td>20</td>\n      <td>-1</td>\n      <td>Route Error</td>\n      <td>4</td>\n      <td>683</td>\n      <td>2</td>\n      <td>1</td>\n      <td>14</td>\n      <td>7759</td>\n      <td>1416.428571</td>\n      <td>4</td>\n      <td>0.186595</td>\n      <td>4556</td>\n      <td>69.324407</td>\n      <td>normal</td>\n      <td>1.0</td>\n      <td>0.0</td>\n      <td>0.0</td>\n    </tr>\n    <tr>\n      <th>3</th>\n      <td>0.000931</td>\n      <td>76</td>\n      <td>20</td>\n      <td>-1</td>\n      <td>Route Error</td>\n      <td>3</td>\n      <td>211</td>\n      <td>2</td>\n      <td>1</td>\n      <td>20</td>\n      <td>8145</td>\n      <td>1483.400000</td>\n      <td>27</td>\n      <td>0.197428</td>\n      <td>5624</td>\n      <td>63.049327</td>\n      <td>normal</td>\n      <td>1.0</td>\n      <td>0.0</td>\n      <td>0.0</td>\n    </tr>\n    <tr>\n      <th>4</th>\n      <td>0.000150</td>\n      <td>84</td>\n      <td>28</td>\n      <td>0</td>\n      <td>Route Reply</td>\n      <td>7</td>\n      <td>838</td>\n      <td>0</td>\n      <td>1</td>\n      <td>14</td>\n      <td>7758</td>\n      <td>1414.500000</td>\n      <td>1</td>\n      <td>0.198336</td>\n      <td>4515</td>\n      <td>68.357305</td>\n      <td>normal</td>\n      <td>1.0</td>\n      <td>0.0</td>\n      <td>0.0</td>\n    </tr>\n  </tbody>\n</table>\n</div>"
     },
     "execution_count": 8,
     "metadata": {},
     "output_type": "execute_result"
    }
   ],
   "source": [
    "dataset = dataset.drop(['protocol'], axis=1)\n",
    "dataset.head()"
   ]
  },
  {
   "cell_type": "code",
   "execution_count": 9,
   "metadata": {},
   "outputs": [
    {
     "data": {
      "text/plain": "{0: '-1',\n 1: 'Route Error',\n 2: 'Route Reply',\n 3: 'Route Reply Acknowledgment',\n 4: 'Route Request'}"
     },
     "execution_count": 9,
     "metadata": {},
     "output_type": "execute_result"
    }
   ],
   "source": [
    "#X = dataset.iloc[:, :-1].values\n",
    "le = LabelEncoder()\n",
    "msgtype_labels = le.fit_transform(dataset['MsgType'])\n",
    "genre_mappings = {index: label for index, label in \n",
    "                  enumerate(le.classes_)}\n",
    "genre_mappings"
   ]
  },
  {
   "cell_type": "code",
   "execution_count": 10,
   "metadata": {},
   "outputs": [],
   "source": [
    "dataset['labels'] = msgtype_labels"
   ]
  },
  {
   "cell_type": "code",
   "execution_count": 11,
   "metadata": {},
   "outputs": [],
   "source": [
    "msg_ohe = OneHotEncoder()\n",
    "msg_feature_arr = msg_ohe.fit_transform(dataset[['MsgType']]).toarray()\n",
    "msg_feature_labels = list(le.classes_)\n",
    "msg_features = pd.DataFrame(msg_feature_arr, \n",
    "                            columns=msg_feature_labels)"
   ]
  },
  {
   "cell_type": "code",
   "execution_count": 12,
   "metadata": {},
   "outputs": [],
   "source": [
    "dataset_transformed = pd.concat([dataset, msg_features], axis=1)"
   ]
  },
  {
   "cell_type": "code",
   "execution_count": 13,
   "metadata": {},
   "outputs": [
    {
     "data": {
      "text/plain": "   duration  Plength  Mlength  HoP      MsgType  Sno  Sindex  land  Tmode  \\\n0  0.007060       76       20   -1  Route Error    3    1213     2      1   \n1  0.000999       92       28   -1           -1   10    1125     2      0   \n2  0.001714       76       20   -1  Route Error    4     683     2      1   \n3  0.000931       76       20   -1  Route Error    3     211     2      1   \n4  0.000150       84       28    0  Route Reply    7     838     0      1   \n\n   Neighbors  ...   Label  AODV  ICMP  UDP  labels   -1 Route Error  \\\n0         10  ...  normal   1.0   0.0  0.0       1  0.0         1.0   \n1         12  ...  attack   0.0   1.0  0.0       0  1.0         0.0   \n2         14  ...  normal   1.0   0.0  0.0       1  0.0         1.0   \n3         20  ...  normal   1.0   0.0  0.0       1  0.0         1.0   \n4         14  ...  normal   1.0   0.0  0.0       2  0.0         0.0   \n\n   Route Reply  Route Reply Acknowledgment  Route Request  \n0          0.0                         0.0            0.0  \n1          0.0                         0.0            0.0  \n2          0.0                         0.0            0.0  \n3          0.0                         0.0            0.0  \n4          1.0                         0.0            0.0  \n\n[5 rows x 26 columns]",
      "text/html": "<div>\n<style scoped>\n    .dataframe tbody tr th:only-of-type {\n        vertical-align: middle;\n    }\n\n    .dataframe tbody tr th {\n        vertical-align: top;\n    }\n\n    .dataframe thead th {\n        text-align: right;\n    }\n</style>\n<table border=\"1\" class=\"dataframe\">\n  <thead>\n    <tr style=\"text-align: right;\">\n      <th></th>\n      <th>duration</th>\n      <th>Plength</th>\n      <th>Mlength</th>\n      <th>HoP</th>\n      <th>MsgType</th>\n      <th>Sno</th>\n      <th>Sindex</th>\n      <th>land</th>\n      <th>Tmode</th>\n      <th>Neighbors</th>\n      <th>...</th>\n      <th>Label</th>\n      <th>AODV</th>\n      <th>ICMP</th>\n      <th>UDP</th>\n      <th>labels</th>\n      <th>-1</th>\n      <th>Route Error</th>\n      <th>Route Reply</th>\n      <th>Route Reply Acknowledgment</th>\n      <th>Route Request</th>\n    </tr>\n  </thead>\n  <tbody>\n    <tr>\n      <th>0</th>\n      <td>0.007060</td>\n      <td>76</td>\n      <td>20</td>\n      <td>-1</td>\n      <td>Route Error</td>\n      <td>3</td>\n      <td>1213</td>\n      <td>2</td>\n      <td>1</td>\n      <td>10</td>\n      <td>...</td>\n      <td>normal</td>\n      <td>1.0</td>\n      <td>0.0</td>\n      <td>0.0</td>\n      <td>1</td>\n      <td>0.0</td>\n      <td>1.0</td>\n      <td>0.0</td>\n      <td>0.0</td>\n      <td>0.0</td>\n    </tr>\n    <tr>\n      <th>1</th>\n      <td>0.000999</td>\n      <td>92</td>\n      <td>28</td>\n      <td>-1</td>\n      <td>-1</td>\n      <td>10</td>\n      <td>1125</td>\n      <td>2</td>\n      <td>0</td>\n      <td>12</td>\n      <td>...</td>\n      <td>attack</td>\n      <td>0.0</td>\n      <td>1.0</td>\n      <td>0.0</td>\n      <td>0</td>\n      <td>1.0</td>\n      <td>0.0</td>\n      <td>0.0</td>\n      <td>0.0</td>\n      <td>0.0</td>\n    </tr>\n    <tr>\n      <th>2</th>\n      <td>0.001714</td>\n      <td>76</td>\n      <td>20</td>\n      <td>-1</td>\n      <td>Route Error</td>\n      <td>4</td>\n      <td>683</td>\n      <td>2</td>\n      <td>1</td>\n      <td>14</td>\n      <td>...</td>\n      <td>normal</td>\n      <td>1.0</td>\n      <td>0.0</td>\n      <td>0.0</td>\n      <td>1</td>\n      <td>0.0</td>\n      <td>1.0</td>\n      <td>0.0</td>\n      <td>0.0</td>\n      <td>0.0</td>\n    </tr>\n    <tr>\n      <th>3</th>\n      <td>0.000931</td>\n      <td>76</td>\n      <td>20</td>\n      <td>-1</td>\n      <td>Route Error</td>\n      <td>3</td>\n      <td>211</td>\n      <td>2</td>\n      <td>1</td>\n      <td>20</td>\n      <td>...</td>\n      <td>normal</td>\n      <td>1.0</td>\n      <td>0.0</td>\n      <td>0.0</td>\n      <td>1</td>\n      <td>0.0</td>\n      <td>1.0</td>\n      <td>0.0</td>\n      <td>0.0</td>\n      <td>0.0</td>\n    </tr>\n    <tr>\n      <th>4</th>\n      <td>0.000150</td>\n      <td>84</td>\n      <td>28</td>\n      <td>0</td>\n      <td>Route Reply</td>\n      <td>7</td>\n      <td>838</td>\n      <td>0</td>\n      <td>1</td>\n      <td>14</td>\n      <td>...</td>\n      <td>normal</td>\n      <td>1.0</td>\n      <td>0.0</td>\n      <td>0.0</td>\n      <td>2</td>\n      <td>0.0</td>\n      <td>0.0</td>\n      <td>1.0</td>\n      <td>0.0</td>\n      <td>0.0</td>\n    </tr>\n  </tbody>\n</table>\n<p>5 rows × 26 columns</p>\n</div>"
     },
     "execution_count": 13,
     "metadata": {},
     "output_type": "execute_result"
    }
   ],
   "source": [
    "dataset_transformed.head()"
   ]
  },
  {
   "cell_type": "code",
   "execution_count": 14,
   "metadata": {},
   "outputs": [],
   "source": [
    "dataset_transformed = dataset_transformed.rename(columns={\"-1\": \"Unkown MsgType\"})\n",
    "dataset_transformed = dataset_transformed.drop(['MsgType'], axis=1)"
   ]
  },
  {
   "cell_type": "code",
   "execution_count": 15,
   "metadata": {
    "scrolled": true
   },
   "outputs": [
    {
     "data": {
      "text/plain": "   duration  Plength  Mlength  HoP  Sno  Sindex  land  Tmode  Neighbors  \\\n0  0.007060       76       20   -1    3    1213     2      1         10   \n1  0.000999       92       28   -1   10    1125     2      0         12   \n2  0.001714       76       20   -1    4     683     2      1         14   \n3  0.000931       76       20   -1    3     211     2      1         20   \n4  0.000150       84       28    0    7     838     0      1         14   \n\n   Hflow  ...   Label  AODV  ICMP  UDP  labels Unkown MsgType  Route Error  \\\n0   6142  ...  normal   1.0   0.0  0.0       1            0.0          1.0   \n1   7389  ...  attack   0.0   1.0  0.0       0            1.0          0.0   \n2   7759  ...  normal   1.0   0.0  0.0       1            0.0          1.0   \n3   8145  ...  normal   1.0   0.0  0.0       1            0.0          1.0   \n4   7758  ...  normal   1.0   0.0  0.0       2            0.0          0.0   \n\n   Route Reply  Route Reply Acknowledgment  Route Request  \n0          0.0                         0.0            0.0  \n1          0.0                         0.0            0.0  \n2          0.0                         0.0            0.0  \n3          0.0                         0.0            0.0  \n4          1.0                         0.0            0.0  \n\n[5 rows x 25 columns]",
      "text/html": "<div>\n<style scoped>\n    .dataframe tbody tr th:only-of-type {\n        vertical-align: middle;\n    }\n\n    .dataframe tbody tr th {\n        vertical-align: top;\n    }\n\n    .dataframe thead th {\n        text-align: right;\n    }\n</style>\n<table border=\"1\" class=\"dataframe\">\n  <thead>\n    <tr style=\"text-align: right;\">\n      <th></th>\n      <th>duration</th>\n      <th>Plength</th>\n      <th>Mlength</th>\n      <th>HoP</th>\n      <th>Sno</th>\n      <th>Sindex</th>\n      <th>land</th>\n      <th>Tmode</th>\n      <th>Neighbors</th>\n      <th>Hflow</th>\n      <th>...</th>\n      <th>Label</th>\n      <th>AODV</th>\n      <th>ICMP</th>\n      <th>UDP</th>\n      <th>labels</th>\n      <th>Unkown MsgType</th>\n      <th>Route Error</th>\n      <th>Route Reply</th>\n      <th>Route Reply Acknowledgment</th>\n      <th>Route Request</th>\n    </tr>\n  </thead>\n  <tbody>\n    <tr>\n      <th>0</th>\n      <td>0.007060</td>\n      <td>76</td>\n      <td>20</td>\n      <td>-1</td>\n      <td>3</td>\n      <td>1213</td>\n      <td>2</td>\n      <td>1</td>\n      <td>10</td>\n      <td>6142</td>\n      <td>...</td>\n      <td>normal</td>\n      <td>1.0</td>\n      <td>0.0</td>\n      <td>0.0</td>\n      <td>1</td>\n      <td>0.0</td>\n      <td>1.0</td>\n      <td>0.0</td>\n      <td>0.0</td>\n      <td>0.0</td>\n    </tr>\n    <tr>\n      <th>1</th>\n      <td>0.000999</td>\n      <td>92</td>\n      <td>28</td>\n      <td>-1</td>\n      <td>10</td>\n      <td>1125</td>\n      <td>2</td>\n      <td>0</td>\n      <td>12</td>\n      <td>7389</td>\n      <td>...</td>\n      <td>attack</td>\n      <td>0.0</td>\n      <td>1.0</td>\n      <td>0.0</td>\n      <td>0</td>\n      <td>1.0</td>\n      <td>0.0</td>\n      <td>0.0</td>\n      <td>0.0</td>\n      <td>0.0</td>\n    </tr>\n    <tr>\n      <th>2</th>\n      <td>0.001714</td>\n      <td>76</td>\n      <td>20</td>\n      <td>-1</td>\n      <td>4</td>\n      <td>683</td>\n      <td>2</td>\n      <td>1</td>\n      <td>14</td>\n      <td>7759</td>\n      <td>...</td>\n      <td>normal</td>\n      <td>1.0</td>\n      <td>0.0</td>\n      <td>0.0</td>\n      <td>1</td>\n      <td>0.0</td>\n      <td>1.0</td>\n      <td>0.0</td>\n      <td>0.0</td>\n      <td>0.0</td>\n    </tr>\n    <tr>\n      <th>3</th>\n      <td>0.000931</td>\n      <td>76</td>\n      <td>20</td>\n      <td>-1</td>\n      <td>3</td>\n      <td>211</td>\n      <td>2</td>\n      <td>1</td>\n      <td>20</td>\n      <td>8145</td>\n      <td>...</td>\n      <td>normal</td>\n      <td>1.0</td>\n      <td>0.0</td>\n      <td>0.0</td>\n      <td>1</td>\n      <td>0.0</td>\n      <td>1.0</td>\n      <td>0.0</td>\n      <td>0.0</td>\n      <td>0.0</td>\n    </tr>\n    <tr>\n      <th>4</th>\n      <td>0.000150</td>\n      <td>84</td>\n      <td>28</td>\n      <td>0</td>\n      <td>7</td>\n      <td>838</td>\n      <td>0</td>\n      <td>1</td>\n      <td>14</td>\n      <td>7758</td>\n      <td>...</td>\n      <td>normal</td>\n      <td>1.0</td>\n      <td>0.0</td>\n      <td>0.0</td>\n      <td>2</td>\n      <td>0.0</td>\n      <td>0.0</td>\n      <td>1.0</td>\n      <td>0.0</td>\n      <td>0.0</td>\n    </tr>\n  </tbody>\n</table>\n<p>5 rows × 25 columns</p>\n</div>"
     },
     "execution_count": 15,
     "metadata": {},
     "output_type": "execute_result"
    }
   ],
   "source": [
    "dataset_transformed.head()"
   ]
  },
  {
   "cell_type": "code",
   "execution_count": 16,
   "metadata": {},
   "outputs": [
    {
     "data": {
      "text/plain": "   duration  Plength  Mlength  HoP  Sno  Sindex  land  Tmode  Neighbors  \\\n0  0.007060       76       20   -1    3    1213     2      1         10   \n1  0.000999       92       28   -1   10    1125     2      0         12   \n2  0.001714       76       20   -1    4     683     2      1         14   \n3  0.000931       76       20   -1    3     211     2      1         20   \n4  0.000150       84       28    0    7     838     0      1         14   \n\n   Hflow  ...  Failed Rate  AODV  ICMP  UDP  labels  Unkown MsgType  \\\n0   6142  ...    62.913370   1.0   0.0  0.0       1             0.0   \n1   7389  ...    58.466454   0.0   1.0  0.0       0             1.0   \n2   7759  ...    69.324407   1.0   0.0  0.0       1             0.0   \n3   8145  ...    63.049327   1.0   0.0  0.0       1             0.0   \n4   7758  ...    68.357305   1.0   0.0  0.0       2             0.0   \n\n   Route Error  Route Reply  Route Reply Acknowledgment  Route Request  \n0          1.0          0.0                         0.0            0.0  \n1          0.0          0.0                         0.0            0.0  \n2          1.0          0.0                         0.0            0.0  \n3          1.0          0.0                         0.0            0.0  \n4          0.0          1.0                         0.0            0.0  \n\n[5 rows x 24 columns]",
      "text/html": "<div>\n<style scoped>\n    .dataframe tbody tr th:only-of-type {\n        vertical-align: middle;\n    }\n\n    .dataframe tbody tr th {\n        vertical-align: top;\n    }\n\n    .dataframe thead th {\n        text-align: right;\n    }\n</style>\n<table border=\"1\" class=\"dataframe\">\n  <thead>\n    <tr style=\"text-align: right;\">\n      <th></th>\n      <th>duration</th>\n      <th>Plength</th>\n      <th>Mlength</th>\n      <th>HoP</th>\n      <th>Sno</th>\n      <th>Sindex</th>\n      <th>land</th>\n      <th>Tmode</th>\n      <th>Neighbors</th>\n      <th>Hflow</th>\n      <th>...</th>\n      <th>Failed Rate</th>\n      <th>AODV</th>\n      <th>ICMP</th>\n      <th>UDP</th>\n      <th>labels</th>\n      <th>Unkown MsgType</th>\n      <th>Route Error</th>\n      <th>Route Reply</th>\n      <th>Route Reply Acknowledgment</th>\n      <th>Route Request</th>\n    </tr>\n  </thead>\n  <tbody>\n    <tr>\n      <th>0</th>\n      <td>0.007060</td>\n      <td>76</td>\n      <td>20</td>\n      <td>-1</td>\n      <td>3</td>\n      <td>1213</td>\n      <td>2</td>\n      <td>1</td>\n      <td>10</td>\n      <td>6142</td>\n      <td>...</td>\n      <td>62.913370</td>\n      <td>1.0</td>\n      <td>0.0</td>\n      <td>0.0</td>\n      <td>1</td>\n      <td>0.0</td>\n      <td>1.0</td>\n      <td>0.0</td>\n      <td>0.0</td>\n      <td>0.0</td>\n    </tr>\n    <tr>\n      <th>1</th>\n      <td>0.000999</td>\n      <td>92</td>\n      <td>28</td>\n      <td>-1</td>\n      <td>10</td>\n      <td>1125</td>\n      <td>2</td>\n      <td>0</td>\n      <td>12</td>\n      <td>7389</td>\n      <td>...</td>\n      <td>58.466454</td>\n      <td>0.0</td>\n      <td>1.0</td>\n      <td>0.0</td>\n      <td>0</td>\n      <td>1.0</td>\n      <td>0.0</td>\n      <td>0.0</td>\n      <td>0.0</td>\n      <td>0.0</td>\n    </tr>\n    <tr>\n      <th>2</th>\n      <td>0.001714</td>\n      <td>76</td>\n      <td>20</td>\n      <td>-1</td>\n      <td>4</td>\n      <td>683</td>\n      <td>2</td>\n      <td>1</td>\n      <td>14</td>\n      <td>7759</td>\n      <td>...</td>\n      <td>69.324407</td>\n      <td>1.0</td>\n      <td>0.0</td>\n      <td>0.0</td>\n      <td>1</td>\n      <td>0.0</td>\n      <td>1.0</td>\n      <td>0.0</td>\n      <td>0.0</td>\n      <td>0.0</td>\n    </tr>\n    <tr>\n      <th>3</th>\n      <td>0.000931</td>\n      <td>76</td>\n      <td>20</td>\n      <td>-1</td>\n      <td>3</td>\n      <td>211</td>\n      <td>2</td>\n      <td>1</td>\n      <td>20</td>\n      <td>8145</td>\n      <td>...</td>\n      <td>63.049327</td>\n      <td>1.0</td>\n      <td>0.0</td>\n      <td>0.0</td>\n      <td>1</td>\n      <td>0.0</td>\n      <td>1.0</td>\n      <td>0.0</td>\n      <td>0.0</td>\n      <td>0.0</td>\n    </tr>\n    <tr>\n      <th>4</th>\n      <td>0.000150</td>\n      <td>84</td>\n      <td>28</td>\n      <td>0</td>\n      <td>7</td>\n      <td>838</td>\n      <td>0</td>\n      <td>1</td>\n      <td>14</td>\n      <td>7758</td>\n      <td>...</td>\n      <td>68.357305</td>\n      <td>1.0</td>\n      <td>0.0</td>\n      <td>0.0</td>\n      <td>2</td>\n      <td>0.0</td>\n      <td>0.0</td>\n      <td>1.0</td>\n      <td>0.0</td>\n      <td>0.0</td>\n    </tr>\n  </tbody>\n</table>\n<p>5 rows × 24 columns</p>\n</div>"
     },
     "execution_count": 16,
     "metadata": {},
     "output_type": "execute_result"
    }
   ],
   "source": [
    "Y = pd.DataFrame(dataset_transformed['Label'])\n",
    "Y['Label'] = le.fit_transform(Y['Label'])\n",
    "X = dataset_transformed.drop(['Label'], axis=1)\n",
    "X.to_csv('X-data.csv',index = False)\n",
    "Y.to_csv('Y-data.csv',index = False)\n",
    "X.head()"
   ]
  },
  {
   "cell_type": "code",
   "execution_count": 17,
   "metadata": {},
   "outputs": [],
   "source": [
    "#print(Y.head())\n",
    "X_ = X.iloc[:, :].values\n",
    "Y_ = Y.iloc[:, :].values"
   ]
  },
  {
   "cell_type": "code",
   "execution_count": 18,
   "metadata": {},
   "outputs": [],
   "source": [
    "X_train, X_test, Y_train, Y_test = train_test_split(X_,Y_, test_size=0.2)"
   ]
  },
  {
   "cell_type": "code",
   "execution_count": 19,
   "metadata": {},
   "outputs": [],
   "source": [
    "sc_X = StandardScaler()\n",
    "X_train = sc_X.fit_transform(X_train)\n",
    "X_test = sc_X.transform(X_test)"
   ]
  },
  {
   "cell_type": "code",
   "execution_count": 20,
   "metadata": {},
   "outputs": [
    {
     "data": {
      "text/plain": "array([[-0.13535943,  0.07382882,  0.06821165, ..., -0.47738449,\n        -0.0538048 , -0.08951045],\n       [-0.13280692,  0.07382882,  0.06821165, ..., -0.47738449,\n        -0.0538048 , -0.08951045],\n       [-0.11916594,  0.07382882, -0.17697658, ..., -0.47738449,\n        -0.0538048 , -0.08951045],\n       ...,\n       [-0.13577279,  0.07382882,  0.06821165, ..., -0.47738449,\n        -0.0538048 , -0.08951045],\n       [-0.13578313,  0.07382882,  0.06821165, ..., -0.47738449,\n        -0.0538048 , -0.08951045],\n       [-0.13294126,  0.07382882,  0.06821165, ..., -0.47738449,\n        -0.0538048 , -0.08951045]])"
     },
     "execution_count": 20,
     "metadata": {},
     "output_type": "execute_result"
    }
   ],
   "source": [
    "X_train"
   ]
  },
  {
   "cell_type": "code",
   "execution_count": 20,
   "metadata": {},
   "outputs": [],
   "source": []
  }
 ],
 "metadata": {
  "kernelspec": {
   "display_name": "Python 3",
   "language": "python",
   "name": "python3"
  },
  "language_info": {
   "codemirror_mode": {
    "name": "ipython",
    "version": 3
   },
   "file_extension": ".py",
   "mimetype": "text/x-python",
   "name": "python",
   "nbconvert_exporter": "python",
   "pygments_lexer": "ipython3",
   "version": "3.7.3"
  }
 },
 "nbformat": 4,
 "nbformat_minor": 2
}
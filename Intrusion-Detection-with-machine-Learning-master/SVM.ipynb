{
 "cells": [
  {
   "cell_type": "code",
   "execution_count": 1,
   "metadata": {},
   "outputs": [],
   "source": [
    "#IMPORTING LIBRARIES\n",
    "import pandas as pd\n",
    "import time\n",
    "import numpy as np\n",
    "from sklearn import svm\n",
    "from sklearn.svm import SVC\n",
    "import seaborn as sns\n",
    "from sklearn.metrics import accuracy_score\n",
    "from sklearn.datasets import make_classification\n",
    "from sklearn.svm import LinearSVC\n",
    "from sklearn.metrics import classification_report, confusion_matrix\n",
    "from sklearn.model_selection import train_test_split\n",
    "from sklearn.preprocessing import StandardScaler"
   ]
  },
  {
   "cell_type": "code",
   "execution_count": 2,
   "metadata": {},
   "outputs": [],
   "source": [
    "x = pd.read_csv('x-data.csv')\n",
    "y = pd.read_csv('Y-data.csv')"
   ]
  },
  {
   "cell_type": "code",
   "execution_count": 3,
   "metadata": {},
   "outputs": [
    {
     "data": {
      "text/plain": "   duration  Plength  Mlength  HoP  Sno  Sindex  land  Tmode  Neighbors  \\\n0  0.007060       76       20   -1    3    1213     2      1         10   \n1  0.000999       92       28   -1   10    1125     2      0         12   \n2  0.001714       76       20   -1    4     683     2      1         14   \n3  0.000931       76       20   -1    3     211     2      1         20   \n4  0.000150       84       28    0    7     838     0      1         14   \n\n   Hflow  ...  Failed Rate  AODV  ICMP  UDP  labels  Unkown MsgType  \\\n0   6142  ...    62.913370   1.0   0.0  0.0       1             0.0   \n1   7389  ...    58.466454   0.0   1.0  0.0       0             1.0   \n2   7759  ...    69.324407   1.0   0.0  0.0       1             0.0   \n3   8145  ...    63.049327   1.0   0.0  0.0       1             0.0   \n4   7758  ...    68.357305   1.0   0.0  0.0       2             0.0   \n\n   Route Error  Route Reply  Route Reply Acknowledgment  Route Request  \n0          1.0          0.0                         0.0            0.0  \n1          0.0          0.0                         0.0            0.0  \n2          1.0          0.0                         0.0            0.0  \n3          1.0          0.0                         0.0            0.0  \n4          0.0          1.0                         0.0            0.0  \n\n[5 rows x 24 columns]",
      "text/html": "<div>\n<style scoped>\n    .dataframe tbody tr th:only-of-type {\n        vertical-align: middle;\n    }\n\n    .dataframe tbody tr th {\n        vertical-align: top;\n    }\n\n    .dataframe thead th {\n        text-align: right;\n    }\n</style>\n<table border=\"1\" class=\"dataframe\">\n  <thead>\n    <tr style=\"text-align: right;\">\n      <th></th>\n      <th>duration</th>\n      <th>Plength</th>\n      <th>Mlength</th>\n      <th>HoP</th>\n      <th>Sno</th>\n      <th>Sindex</th>\n      <th>land</th>\n      <th>Tmode</th>\n      <th>Neighbors</th>\n      <th>Hflow</th>\n      <th>...</th>\n      <th>Failed Rate</th>\n      <th>AODV</th>\n      <th>ICMP</th>\n      <th>UDP</th>\n      <th>labels</th>\n      <th>Unkown MsgType</th>\n      <th>Route Error</th>\n      <th>Route Reply</th>\n      <th>Route Reply Acknowledgment</th>\n      <th>Route Request</th>\n    </tr>\n  </thead>\n  <tbody>\n    <tr>\n      <th>0</th>\n      <td>0.007060</td>\n      <td>76</td>\n      <td>20</td>\n      <td>-1</td>\n      <td>3</td>\n      <td>1213</td>\n      <td>2</td>\n      <td>1</td>\n      <td>10</td>\n      <td>6142</td>\n      <td>...</td>\n      <td>62.913370</td>\n      <td>1.0</td>\n      <td>0.0</td>\n      <td>0.0</td>\n      <td>1</td>\n      <td>0.0</td>\n      <td>1.0</td>\n      <td>0.0</td>\n      <td>0.0</td>\n      <td>0.0</td>\n    </tr>\n    <tr>\n      <th>1</th>\n      <td>0.000999</td>\n      <td>92</td>\n      <td>28</td>\n      <td>-1</td>\n      <td>10</td>\n      <td>1125</td>\n      <td>2</td>\n      <td>0</td>\n      <td>12</td>\n      <td>7389</td>\n      <td>...</td>\n      <td>58.466454</td>\n      <td>0.0</td>\n      <td>1.0</td>\n      <td>0.0</td>\n      <td>0</td>\n      <td>1.0</td>\n      <td>0.0</td>\n      <td>0.0</td>\n      <td>0.0</td>\n      <td>0.0</td>\n    </tr>\n    <tr>\n      <th>2</th>\n      <td>0.001714</td>\n      <td>76</td>\n      <td>20</td>\n      <td>-1</td>\n      <td>4</td>\n      <td>683</td>\n      <td>2</td>\n      <td>1</td>\n      <td>14</td>\n      <td>7759</td>\n      <td>...</td>\n      <td>69.324407</td>\n      <td>1.0</td>\n      <td>0.0</td>\n      <td>0.0</td>\n      <td>1</td>\n      <td>0.0</td>\n      <td>1.0</td>\n      <td>0.0</td>\n      <td>0.0</td>\n      <td>0.0</td>\n    </tr>\n    <tr>\n      <th>3</th>\n      <td>0.000931</td>\n      <td>76</td>\n      <td>20</td>\n      <td>-1</td>\n      <td>3</td>\n      <td>211</td>\n      <td>2</td>\n      <td>1</td>\n      <td>20</td>\n      <td>8145</td>\n      <td>...</td>\n      <td>63.049327</td>\n      <td>1.0</td>\n      <td>0.0</td>\n      <td>0.0</td>\n      <td>1</td>\n      <td>0.0</td>\n      <td>1.0</td>\n      <td>0.0</td>\n      <td>0.0</td>\n      <td>0.0</td>\n    </tr>\n    <tr>\n      <th>4</th>\n      <td>0.000150</td>\n      <td>84</td>\n      <td>28</td>\n      <td>0</td>\n      <td>7</td>\n      <td>838</td>\n      <td>0</td>\n      <td>1</td>\n      <td>14</td>\n      <td>7758</td>\n      <td>...</td>\n      <td>68.357305</td>\n      <td>1.0</td>\n      <td>0.0</td>\n      <td>0.0</td>\n      <td>2</td>\n      <td>0.0</td>\n      <td>0.0</td>\n      <td>1.0</td>\n      <td>0.0</td>\n      <td>0.0</td>\n    </tr>\n  </tbody>\n</table>\n<p>5 rows × 24 columns</p>\n</div>"
     },
     "execution_count": 3,
     "metadata": {},
     "output_type": "execute_result"
    }
   ],
   "source": [
    "x.head()"
   ]
  },
  {
   "cell_type": "code",
   "execution_count": 4,
   "metadata": {},
   "outputs": [
    {
     "data": {
      "text/plain": "   Label\n0      1\n1      0\n2      1\n3      1\n4      1",
      "text/html": "<div>\n<style scoped>\n    .dataframe tbody tr th:only-of-type {\n        vertical-align: middle;\n    }\n\n    .dataframe tbody tr th {\n        vertical-align: top;\n    }\n\n    .dataframe thead th {\n        text-align: right;\n    }\n</style>\n<table border=\"1\" class=\"dataframe\">\n  <thead>\n    <tr style=\"text-align: right;\">\n      <th></th>\n      <th>Label</th>\n    </tr>\n  </thead>\n  <tbody>\n    <tr>\n      <th>0</th>\n      <td>1</td>\n    </tr>\n    <tr>\n      <th>1</th>\n      <td>0</td>\n    </tr>\n    <tr>\n      <th>2</th>\n      <td>1</td>\n    </tr>\n    <tr>\n      <th>3</th>\n      <td>1</td>\n    </tr>\n    <tr>\n      <th>4</th>\n      <td>1</td>\n    </tr>\n  </tbody>\n</table>\n</div>"
     },
     "execution_count": 4,
     "metadata": {},
     "output_type": "execute_result"
    }
   ],
   "source": [
    "y.head()"
   ]
  },
  {
   "cell_type": "code",
   "execution_count": 5,
   "metadata": {},
   "outputs": [
    {
     "data": {
      "text/plain": "(637862, 24)"
     },
     "execution_count": 5,
     "metadata": {},
     "output_type": "execute_result"
    }
   ],
   "source": [
    "X = x.iloc[:, :].values\n",
    "Y = y.iloc[:, :].values\n",
    "X.shape"
   ]
  },
  {
   "cell_type": "code",
   "execution_count": 6,
   "metadata": {},
   "outputs": [],
   "source": [
    "X_train, X_test, Y_train, Y_test = train_test_split(X,Y, test_size=0.2)"
   ]
  },
  {
   "cell_type": "code",
   "execution_count": 7,
   "metadata": {},
   "outputs": [],
   "source": [
    "sc_X = StandardScaler()\n",
    "X_train = sc_X.fit_transform(X_train)\n",
    "X_test = sc_X.transform(X_test)"
   ]
  },
  {
   "cell_type": "code",
   "execution_count": 8,
   "metadata": {},
   "outputs": [
    {
     "data": {
      "text/plain": "(127573, 24)"
     },
     "execution_count": 8,
     "metadata": {},
     "output_type": "execute_result"
    }
   ],
   "source": [
    "X_test.shape"
   ]
  },
  {
   "cell_type": "code",
   "execution_count": 9,
   "metadata": {},
   "outputs": [],
   "source": [
    "clf = SVC(gamma='auto')"
   ]
  },
  {
   "cell_type": "code",
   "execution_count": 10,
   "metadata": {},
   "outputs": [
    {
     "name": "stderr",
     "output_type": "stream",
     "text": [
      "d:\\anaconda3\\envs\\tf1\\lib\\site-packages\\sklearn\\utils\\validation.py:724: DataConversionWarning: A column-vector y was passed when a 1d array was expected. Please change the shape of y to (n_samples, ), for example using ravel().\n",
      "  y = column_or_1d(y, warn=True)\n"
     ]
    }
   ],
   "source": [
    "s = time.time()\n",
    "clf.fit(X_train, Y_train)\n",
    "e = time.time()"
   ]
  },
  {
   "cell_type": "code",
   "execution_count": 11,
   "metadata": {},
   "outputs": [
    {
     "name": "stdout",
     "output_type": "stream",
     "text": [
      "21.09724483092626 min\n"
     ]
    }
   ],
   "source": [
    "print(str((e-s)/60)+\" min\")"
   ]
  },
  {
   "cell_type": "code",
   "execution_count": 12,
   "metadata": {},
   "outputs": [
    {
     "data": {
      "text/plain": "        pred_attack  pred_normal\nattack        95653         1704\nnormal          189        30027",
      "text/html": "<div>\n<style scoped>\n    .dataframe tbody tr th:only-of-type {\n        vertical-align: middle;\n    }\n\n    .dataframe tbody tr th {\n        vertical-align: top;\n    }\n\n    .dataframe thead th {\n        text-align: right;\n    }\n</style>\n<table border=\"1\" class=\"dataframe\">\n  <thead>\n    <tr style=\"text-align: right;\">\n      <th></th>\n      <th>pred_attack</th>\n      <th>pred_normal</th>\n    </tr>\n  </thead>\n  <tbody>\n    <tr>\n      <th>attack</th>\n      <td>95653</td>\n      <td>1704</td>\n    </tr>\n    <tr>\n      <th>normal</th>\n      <td>189</td>\n      <td>30027</td>\n    </tr>\n  </tbody>\n</table>\n</div>"
     },
     "execution_count": 12,
     "metadata": {},
     "output_type": "execute_result"
    }
   ],
   "source": [
    "Y_predict = clf.predict(X_test)\n",
    "cm = np.array(confusion_matrix(Y_test, Y_predict, labels=[0,1]))\n",
    "confusion = pd.DataFrame(cm, index = ['attack', 'normal'],\n",
    "                        columns = ['pred_attack','pred_normal'])\n",
    "confusion"
   ]
  },
  {
   "cell_type": "code",
   "execution_count": 13,
   "metadata": {},
   "outputs": [
    {
     "data": {
      "text/plain": "<AxesSubplot:>"
     },
     "execution_count": 13,
     "metadata": {},
     "output_type": "execute_result"
    },
    {
     "data": {
      "text/plain": "<Figure size 432x288 with 2 Axes>",
      "image/png": "[encoded data removed]"
     },
     "metadata": {
      "needs_background": "light"
     },
     "output_type": "display_data"
    }
   ],
   "source": [
    "sns.heatmap(confusion, annot = True)"
   ]
  },
  {
   "cell_type": "code",
   "execution_count": 14,
   "metadata": {},
   "outputs": [
    {
     "name": "stdout",
     "output_type": "stream",
     "text": [
      "              precision    recall  f1-score   support\n",
      "\n",
      "           0       1.00      0.98      0.99     97357\n",
      "           1       0.95      0.99      0.97     30216\n",
      "\n",
      "    accuracy                           0.99    127573\n",
      "   macro avg       0.97      0.99      0.98    127573\n",
      "weighted avg       0.99      0.99      0.99    127573\n",
      "\n"
     ]
    }
   ],
   "source": [
    "print(classification_report(Y_test, Y_predict))"
   ]
  },
  {
   "cell_type": "code",
   "execution_count": 15,
   "metadata": {},
   "outputs": [
    {
     "data": {
      "text/plain": "0.9851614369811794"
     },
     "execution_count": 15,
     "metadata": {},
     "output_type": "execute_result"
    }
   ],
   "source": [
    "accuracy_score(Y_test, Y_predict)"
   ]
  },
  {
   "cell_type": "code",
   "execution_count": 15,
   "metadata": {},
   "outputs": [],
   "source": []
  },
  {
   "cell_type": "code",
   "execution_count": 15,
   "metadata": {},
   "outputs": [],
   "source": []
  }
 ],
 "metadata": {
  "kernelspec": {
   "display_name": "Python 3",
   "language": "python",
   "name": "python3"
  },
  "language_info": {
   "codemirror_mode": {
    "name": "ipython",
    "version": 3
   },
   "file_extension": ".py",
   "mimetype": "text/x-python",
   "name": "python",
   "nbconvert_exporter": "python",
   "pygments_lexer": "ipython3",
   "version": "3.7.3"
  }
 },
 "nbformat": 4,
 "nbformat_minor": 2
}
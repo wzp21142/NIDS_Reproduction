{
 "cells": [
  {
   "cell_type": "code",
   "execution_count": 1,
   "metadata": {},
   "outputs": [],
   "source": [
    "import numpy as np\n",
    "import pandas as pd\n",
    "from sklearn.tree import DecisionTreeClassifier\n",
    "import matplotlib.pyplot as plt"
   ]
  },
  {
   "cell_type": "code",
   "execution_count": 2,
   "metadata": {},
   "outputs": [],
   "source": [
    "df = pd.read_csv('finalwormholeDataset.csv')"
   ]
  },
  {
   "cell_type": "code",
   "execution_count": 3,
   "metadata": {},
   "outputs": [
    {
     "data": {
      "text/plain": "   duration protocol  Plength  flag  Mlength  HoP  LifeTime      MsgType DSN  \\\n0  0.000000     AODV       84     0       28    0      2000  Route Reply   0   \n1  0.000978     ICMP       92    -1       28   -1        -1           -1  -1   \n2  0.028177     AODV       76     0       20   -1        -1  Route Error   0   \n3  0.001886     AODV       76     0       20   -1        -1  Route Error   0   \n4  0.001973     ICMP       92    -1       20   -1        -1           -1  -1   \n\n   Sno  ...  land  Tmode  Neighbors  Hflow  AvgFlow  Lflow  AvgHopCount  \\\n0    0  ...     0      1          8   6367  1319.25      5      0.24832   \n1    0  ...     2      0          8   6367  1319.25      5      0.24832   \n2    1  ...     2      1          8   6367  1319.25      5      0.24832   \n3    1  ...     2      1          8   6367  1319.25      5      0.24832   \n4    2  ...     2      0          8   6367  1319.25      5      0.24832   \n\n   failedConnection  Failed Rate   Label  \n0              2700    59.960027  normal  \n1              2700    59.960027  attack  \n2              2700    59.960027  normal  \n3              2700    59.960027  normal  \n4              2700    59.960027  attack  \n\n[5 rows x 21 columns]",
      "text/html": "<div>\n<style scoped>\n    .dataframe tbody tr th:only-of-type {\n        vertical-align: middle;\n    }\n\n    .dataframe tbody tr th {\n        vertical-align: top;\n    }\n\n    .dataframe thead th {\n        text-align: right;\n    }\n</style>\n<table border=\"1\" class=\"dataframe\">\n  <thead>\n    <tr style=\"text-align: right;\">\n      <th></th>\n      <th>duration</th>\n      <th>protocol</th>\n      <th>Plength</th>\n      <th>flag</th>\n      <th>Mlength</th>\n      <th>HoP</th>\n      <th>LifeTime</th>\n      <th>MsgType</th>\n      <th>DSN</th>\n      <th>Sno</th>\n      <th>...</th>\n      <th>land</th>\n      <th>Tmode</th>\n      <th>Neighbors</th>\n      <th>Hflow</th>\n      <th>AvgFlow</th>\n      <th>Lflow</th>\n      <th>AvgHopCount</th>\n      <th>failedConnection</th>\n      <th>Failed Rate</th>\n      <th>Label</th>\n    </tr>\n  </thead>\n  <tbody>\n    <tr>\n      <th>0</th>\n      <td>0.000000</td>\n      <td>AODV</td>\n      <td>84</td>\n      <td>0</td>\n      <td>28</td>\n      <td>0</td>\n      <td>2000</td>\n      <td>Route Reply</td>\n      <td>0</td>\n      <td>0</td>\n      <td>...</td>\n      <td>0</td>\n      <td>1</td>\n      <td>8</td>\n      <td>6367</td>\n      <td>1319.25</td>\n      <td>5</td>\n      <td>0.24832</td>\n      <td>2700</td>\n      <td>59.960027</td>\n      <td>normal</td>\n    </tr>\n    <tr>\n      <th>1</th>\n      <td>0.000978</td>\n      <td>ICMP</td>\n      <td>92</td>\n      <td>-1</td>\n      <td>28</td>\n      <td>-1</td>\n      <td>-1</td>\n      <td>-1</td>\n      <td>-1</td>\n      <td>0</td>\n      <td>...</td>\n      <td>2</td>\n      <td>0</td>\n      <td>8</td>\n      <td>6367</td>\n      <td>1319.25</td>\n      <td>5</td>\n      <td>0.24832</td>\n      <td>2700</td>\n      <td>59.960027</td>\n      <td>attack</td>\n    </tr>\n    <tr>\n      <th>2</th>\n      <td>0.028177</td>\n      <td>AODV</td>\n      <td>76</td>\n      <td>0</td>\n      <td>20</td>\n      <td>-1</td>\n      <td>-1</td>\n      <td>Route Error</td>\n      <td>0</td>\n      <td>1</td>\n      <td>...</td>\n      <td>2</td>\n      <td>1</td>\n      <td>8</td>\n      <td>6367</td>\n      <td>1319.25</td>\n      <td>5</td>\n      <td>0.24832</td>\n      <td>2700</td>\n      <td>59.960027</td>\n      <td>normal</td>\n    </tr>\n    <tr>\n      <th>3</th>\n      <td>0.001886</td>\n      <td>AODV</td>\n      <td>76</td>\n      <td>0</td>\n      <td>20</td>\n      <td>-1</td>\n      <td>-1</td>\n      <td>Route Error</td>\n      <td>0</td>\n      <td>1</td>\n      <td>...</td>\n      <td>2</td>\n      <td>1</td>\n      <td>8</td>\n      <td>6367</td>\n      <td>1319.25</td>\n      <td>5</td>\n      <td>0.24832</td>\n      <td>2700</td>\n      <td>59.960027</td>\n      <td>normal</td>\n    </tr>\n    <tr>\n      <th>4</th>\n      <td>0.001973</td>\n      <td>ICMP</td>\n      <td>92</td>\n      <td>-1</td>\n      <td>20</td>\n      <td>-1</td>\n      <td>-1</td>\n      <td>-1</td>\n      <td>-1</td>\n      <td>2</td>\n      <td>...</td>\n      <td>2</td>\n      <td>0</td>\n      <td>8</td>\n      <td>6367</td>\n      <td>1319.25</td>\n      <td>5</td>\n      <td>0.24832</td>\n      <td>2700</td>\n      <td>59.960027</td>\n      <td>attack</td>\n    </tr>\n  </tbody>\n</table>\n<p>5 rows × 21 columns</p>\n</div>"
     },
     "execution_count": 3,
     "metadata": {},
     "output_type": "execute_result"
    }
   ],
   "source": [
    "df.head()"
   ]
  },
  {
   "cell_type": "code",
   "execution_count": 4,
   "metadata": {},
   "outputs": [],
   "source": [
    "df = df.sample(frac=1)"
   ]
  },
  {
   "cell_type": "code",
   "execution_count": 5,
   "metadata": {},
   "outputs": [
    {
     "data": {
      "text/plain": "        duration protocol  Plength  flag  Mlength  HoP  LifeTime      MsgType  \\\n576865  0.001065     AODV       84     0       28    0      2000  Route Reply   \n322234  0.002085     AODV       76     0       20   -1        -1  Route Error   \n32114   0.000050     ICMP       92    -1       28   -1        -1           -1   \n559538  0.001373     ICMP       92    -1       28   -1        -1           -1   \n76123   0.001278     ICMP       92    -1       28   -1        -1           -1   \n\n       DSN  Sno  ...  land  Tmode  Neighbors  Hflow      AvgFlow  Lflow  \\\n576865   2    2  ...     0      1         14   7758  1414.500000      1   \n322234   0    8  ...     2      1         10   6184  1734.500000    301   \n32114   -1    1  ...     2      0         13   6398  1832.076923    291   \n559538  -1   16  ...     2      0         14   7758  1414.500000      1   \n76123   -1   22  ...     2      0         12   7260  2035.916667     25   \n\n        AvgHopCount  failedConnection  Failed Rate   Label  \n576865     0.198336              4515    68.357305  normal  \n322234     0.216141              3621    57.889688  normal  \n32114      0.214430              4500    62.595632  attack  \n559538     0.198336              4515    68.357305  attack  \n76123      0.189336              3741    56.949307  attack  \n\n[5 rows x 21 columns]",
      "text/html": "<div>\n<style scoped>\n    .dataframe tbody tr th:only-of-type {\n        vertical-align: middle;\n    }\n\n    .dataframe tbody tr th {\n        vertical-align: top;\n    }\n\n    .dataframe thead th {\n        text-align: right;\n    }\n</style>\n<table border=\"1\" class=\"dataframe\">\n  <thead>\n    <tr style=\"text-align: right;\">\n      <th></th>\n      <th>duration</th>\n      <th>protocol</th>\n      <th>Plength</th>\n      <th>flag</th>\n      <th>Mlength</th>\n      <th>HoP</th>\n      <th>LifeTime</th>\n      <th>MsgType</th>\n      <th>DSN</th>\n      <th>Sno</th>\n      <th>...</th>\n      <th>land</th>\n      <th>Tmode</th>\n      <th>Neighbors</th>\n      <th>Hflow</th>\n      <th>AvgFlow</th>\n      <th>Lflow</th>\n      <th>AvgHopCount</th>\n      <th>failedConnection</th>\n      <th>Failed Rate</th>\n      <th>Label</th>\n    </tr>\n  </thead>\n  <tbody>\n    <tr>\n      <th>576865</th>\n      <td>0.001065</td>\n      <td>AODV</td>\n      <td>84</td>\n      <td>0</td>\n      <td>28</td>\n      <td>0</td>\n      <td>2000</td>\n      <td>Route Reply</td>\n      <td>2</td>\n      <td>2</td>\n      <td>...</td>\n      <td>0</td>\n      <td>1</td>\n      <td>14</td>\n      <td>7758</td>\n      <td>1414.500000</td>\n      <td>1</td>\n      <td>0.198336</td>\n      <td>4515</td>\n      <td>68.357305</td>\n      <td>normal</td>\n    </tr>\n    <tr>\n      <th>322234</th>\n      <td>0.002085</td>\n      <td>AODV</td>\n      <td>76</td>\n      <td>0</td>\n      <td>20</td>\n      <td>-1</td>\n      <td>-1</td>\n      <td>Route Error</td>\n      <td>0</td>\n      <td>8</td>\n      <td>...</td>\n      <td>2</td>\n      <td>1</td>\n      <td>10</td>\n      <td>6184</td>\n      <td>1734.500000</td>\n      <td>301</td>\n      <td>0.216141</td>\n      <td>3621</td>\n      <td>57.889688</td>\n      <td>normal</td>\n    </tr>\n    <tr>\n      <th>32114</th>\n      <td>0.000050</td>\n      <td>ICMP</td>\n      <td>92</td>\n      <td>-1</td>\n      <td>28</td>\n      <td>-1</td>\n      <td>-1</td>\n      <td>-1</td>\n      <td>-1</td>\n      <td>1</td>\n      <td>...</td>\n      <td>2</td>\n      <td>0</td>\n      <td>13</td>\n      <td>6398</td>\n      <td>1832.076923</td>\n      <td>291</td>\n      <td>0.214430</td>\n      <td>4500</td>\n      <td>62.595632</td>\n      <td>attack</td>\n    </tr>\n    <tr>\n      <th>559538</th>\n      <td>0.001373</td>\n      <td>ICMP</td>\n      <td>92</td>\n      <td>-1</td>\n      <td>28</td>\n      <td>-1</td>\n      <td>-1</td>\n      <td>-1</td>\n      <td>-1</td>\n      <td>16</td>\n      <td>...</td>\n      <td>2</td>\n      <td>0</td>\n      <td>14</td>\n      <td>7758</td>\n      <td>1414.500000</td>\n      <td>1</td>\n      <td>0.198336</td>\n      <td>4515</td>\n      <td>68.357305</td>\n      <td>attack</td>\n    </tr>\n    <tr>\n      <th>76123</th>\n      <td>0.001278</td>\n      <td>ICMP</td>\n      <td>92</td>\n      <td>-1</td>\n      <td>28</td>\n      <td>-1</td>\n      <td>-1</td>\n      <td>-1</td>\n      <td>-1</td>\n      <td>22</td>\n      <td>...</td>\n      <td>2</td>\n      <td>0</td>\n      <td>12</td>\n      <td>7260</td>\n      <td>2035.916667</td>\n      <td>25</td>\n      <td>0.189336</td>\n      <td>3741</td>\n      <td>56.949307</td>\n      <td>attack</td>\n    </tr>\n  </tbody>\n</table>\n<p>5 rows × 21 columns</p>\n</div>"
     },
     "execution_count": 5,
     "metadata": {},
     "output_type": "execute_result"
    }
   ],
   "source": [
    "df.head()"
   ]
  },
  {
   "cell_type": "code",
   "execution_count": 6,
   "metadata": {},
   "outputs": [
    {
     "data": {
      "text/plain": "(637862, 21)"
     },
     "execution_count": 6,
     "metadata": {},
     "output_type": "execute_result"
    }
   ],
   "source": [
    "df.shape"
   ]
  },
  {
   "cell_type": "code",
   "execution_count": 7,
   "metadata": {},
   "outputs": [
    {
     "data": {
      "text/plain": "            duration        Plength           flag        Mlength  \\\ncount  637862.000000  637862.000000  637862.000000  637862.000000   \nmean        0.014189      89.589435     110.839263      25.770104   \nstd         0.096779      32.584956    1133.951488      32.609399   \nmin         0.000000      66.000000      -1.000000      10.000000   \n25%         0.000999      84.000000      -1.000000      20.000000   \n50%         0.001229      92.000000      -1.000000      28.000000   \n75%         0.001830      92.000000       0.000000      28.000000   \nmax         0.938905    1104.000000   16384.000000    1048.000000   \n\n                 HoP       LifeTime            Sno         Sindex  \\\ncount  637862.000000  637862.000000  637862.000000  637862.000000   \nmean       -0.766843     404.101061       9.819489    1429.758499   \nstd         0.578324     980.532344       9.727308    1139.028021   \nmin        -1.000000      -1.000000       0.000000       0.000000   \n25%        -1.000000      -1.000000       4.000000     484.000000   \n50%        -1.000000      -1.000000       8.000000    1078.000000   \n75%        -1.000000      -1.000000      12.000000    2254.000000   \nmax         6.000000   14984.000000     125.000000    4095.000000   \n\n                land          Tmode      Neighbors          Hflow  \\\ncount  637862.000000  637862.000000  637862.000000  637862.000000   \nmean        1.631633       0.251398      13.758746    7236.509479   \nstd         0.763185       0.433817       2.826686     645.978748   \nmin         0.000000       0.000000       8.000000    6142.000000   \n25%         2.000000       0.000000      12.000000    6634.000000   \n50%         2.000000       0.000000      14.000000    7260.000000   \n75%         2.000000       1.000000      15.000000    7759.000000   \nmax         2.000000       1.000000      20.000000    8194.000000   \n\n             AvgFlow          Lflow    AvgHopCount  failedConnection  \\\ncount  637862.000000  637862.000000  637862.000000     637862.000000   \nmean     1671.795566      61.917407       0.204938       4342.024985   \nstd       276.146268     107.105989       0.017860        699.159048   \nmin      1001.300000       1.000000       0.179579       2700.000000   \n25%      1483.150000       4.000000       0.190776       3741.000000   \n50%      1722.500000       5.000000       0.197682       4491.000000   \n75%      1918.769231      27.000000       0.216141       4733.000000   \nmax      2056.733333     303.000000       0.248320       5624.000000   \n\n         Failed Rate  \ncount  637862.000000  \nmean       62.910107  \nstd         4.434745  \nmin        56.927251  \n25%        59.463764  \n50%        62.595632  \n75%        68.344537  \nmax        72.685851  ",
      "text/html": "<div>\n<style scoped>\n    .dataframe tbody tr th:only-of-type {\n        vertical-align: middle;\n    }\n\n    .dataframe tbody tr th {\n        vertical-align: top;\n    }\n\n    .dataframe thead th {\n        text-align: right;\n    }\n</style>\n<table border=\"1\" class=\"dataframe\">\n  <thead>\n    <tr style=\"text-align: right;\">\n      <th></th>\n      <th>duration</th>\n      <th>Plength</th>\n      <th>flag</th>\n      <th>Mlength</th>\n      <th>HoP</th>\n      <th>LifeTime</th>\n      <th>Sno</th>\n      <th>Sindex</th>\n      <th>land</th>\n      <th>Tmode</th>\n      <th>Neighbors</th>\n      <th>Hflow</th>\n      <th>AvgFlow</th>\n      <th>Lflow</th>\n      <th>AvgHopCount</th>\n      <th>failedConnection</th>\n      <th>Failed Rate</th>\n    </tr>\n  </thead>\n  <tbody>\n    <tr>\n      <th>count</th>\n      <td>637862.000000</td>\n      <td>637862.000000</td>\n      <td>637862.000000</td>\n      <td>637862.000000</td>\n      <td>637862.000000</td>\n      <td>637862.000000</td>\n      <td>637862.000000</td>\n      <td>637862.000000</td>\n      <td>637862.000000</td>\n      <td>637862.000000</td>\n      <td>637862.000000</td>\n      <td>637862.000000</td>\n      <td>637862.000000</td>\n      <td>637862.000000</td>\n      <td>637862.000000</td>\n      <td>637862.000000</td>\n      <td>637862.000000</td>\n    </tr>\n    <tr>\n      <th>mean</th>\n      <td>0.014189</td>\n      <td>89.589435</td>\n      <td>110.839263</td>\n      <td>25.770104</td>\n      <td>-0.766843</td>\n      <td>404.101061</td>\n      <td>9.819489</td>\n      <td>1429.758499</td>\n      <td>1.631633</td>\n      <td>0.251398</td>\n      <td>13.758746</td>\n      <td>7236.509479</td>\n      <td>1671.795566</td>\n      <td>61.917407</td>\n      <td>0.204938</td>\n      <td>4342.024985</td>\n      <td>62.910107</td>\n    </tr>\n    <tr>\n      <th>std</th>\n      <td>0.096779</td>\n      <td>32.584956</td>\n      <td>1133.951488</td>\n      <td>32.609399</td>\n      <td>0.578324</td>\n      <td>980.532344</td>\n      <td>9.727308</td>\n      <td>1139.028021</td>\n      <td>0.763185</td>\n      <td>0.433817</td>\n      <td>2.826686</td>\n      <td>645.978748</td>\n      <td>276.146268</td>\n      <td>107.105989</td>\n      <td>0.017860</td>\n      <td>699.159048</td>\n      <td>4.434745</td>\n    </tr>\n    <tr>\n      <th>min</th>\n      <td>0.000000</td>\n      <td>66.000000</td>\n      <td>-1.000000</td>\n      <td>10.000000</td>\n      <td>-1.000000</td>\n      <td>-1.000000</td>\n      <td>0.000000</td>\n      <td>0.000000</td>\n      <td>0.000000</td>\n      <td>0.000000</td>\n      <td>8.000000</td>\n      <td>6142.000000</td>\n      <td>1001.300000</td>\n      <td>1.000000</td>\n      <td>0.179579</td>\n      <td>2700.000000</td>\n      <td>56.927251</td>\n    </tr>\n    <tr>\n      <th>25%</th>\n      <td>0.000999</td>\n      <td>84.000000</td>\n      <td>-1.000000</td>\n      <td>20.000000</td>\n      <td>-1.000000</td>\n      <td>-1.000000</td>\n      <td>4.000000</td>\n      <td>484.000000</td>\n      <td>2.000000</td>\n      <td>0.000000</td>\n      <td>12.000000</td>\n      <td>6634.000000</td>\n      <td>1483.150000</td>\n      <td>4.000000</td>\n      <td>0.190776</td>\n      <td>3741.000000</td>\n      <td>59.463764</td>\n    </tr>\n    <tr>\n      <th>50%</th>\n      <td>0.001229</td>\n      <td>92.000000</td>\n      <td>-1.000000</td>\n      <td>28.000000</td>\n      <td>-1.000000</td>\n      <td>-1.000000</td>\n      <td>8.000000</td>\n      <td>1078.000000</td>\n      <td>2.000000</td>\n      <td>0.000000</td>\n      <td>14.000000</td>\n      <td>7260.000000</td>\n      <td>1722.500000</td>\n      <td>5.000000</td>\n      <td>0.197682</td>\n      <td>4491.000000</td>\n      <td>62.595632</td>\n    </tr>\n    <tr>\n      <th>75%</th>\n      <td>0.001830</td>\n      <td>92.000000</td>\n      <td>0.000000</td>\n      <td>28.000000</td>\n      <td>-1.000000</td>\n      <td>-1.000000</td>\n      <td>12.000000</td>\n      <td>2254.000000</td>\n      <td>2.000000</td>\n      <td>1.000000</td>\n      <td>15.000000</td>\n      <td>7759.000000</td>\n      <td>1918.769231</td>\n      <td>27.000000</td>\n      <td>0.216141</td>\n      <td>4733.000000</td>\n      <td>68.344537</td>\n    </tr>\n    <tr>\n      <th>max</th>\n      <td>0.938905</td>\n      <td>1104.000000</td>\n      <td>16384.000000</td>\n      <td>1048.000000</td>\n      <td>6.000000</td>\n      <td>14984.000000</td>\n      <td>125.000000</td>\n      <td>4095.000000</td>\n      <td>2.000000</td>\n      <td>1.000000</td>\n      <td>20.000000</td>\n      <td>8194.000000</td>\n      <td>2056.733333</td>\n      <td>303.000000</td>\n      <td>0.248320</td>\n      <td>5624.000000</td>\n      <td>72.685851</td>\n    </tr>\n  </tbody>\n</table>\n</div>"
     },
     "execution_count": 7,
     "metadata": {},
     "output_type": "execute_result"
    }
   ],
   "source": [
    "df.describe()"
   ]
  },
  {
   "cell_type": "code",
   "execution_count": 8,
   "metadata": {},
   "outputs": [
    {
     "name": "stdout",
     "output_type": "stream",
     "text": [
      "duration   float64\n",
      "protocol   object\n",
      "Plength   int64\n",
      "flag   int64\n",
      "Mlength   int64\n",
      "HoP   int64\n",
      "LifeTime   int64\n",
      "MsgType   object\n",
      "DSN   object\n",
      "Sno   int64\n",
      "Sindex   int64\n",
      "land   int64\n",
      "Tmode   int64\n",
      "Neighbors   int64\n",
      "Hflow   int64\n",
      "AvgFlow   float64\n",
      "Lflow   int64\n",
      "AvgHopCount   float64\n",
      "failedConnection   int64\n",
      "Failed Rate   float64\n",
      "Label   object\n"
     ]
    }
   ],
   "source": [
    "for x in df.columns:\n",
    "    print(x,' ',df[x].dtype)"
   ]
  },
  {
   "cell_type": "code",
   "execution_count": 9,
   "metadata": {},
   "outputs": [
    {
     "data": {
      "text/plain": "(637862, 21)"
     },
     "execution_count": 9,
     "metadata": {},
     "output_type": "execute_result"
    }
   ],
   "source": [
    "df.shape"
   ]
  },
  {
   "cell_type": "code",
   "execution_count": 10,
   "metadata": {},
   "outputs": [
    {
     "data": {
      "text/plain": "duration            0\nprotocol            0\nPlength             0\nflag                0\nMlength             0\nHoP                 0\nLifeTime            0\nMsgType             0\nDSN                 0\nSno                 0\nSindex              0\nland                0\nTmode               0\nNeighbors           0\nHflow               0\nAvgFlow             0\nLflow               0\nAvgHopCount         0\nfailedConnection    0\nFailed Rate         0\nLabel               0\ndtype: int64"
     },
     "execution_count": 10,
     "metadata": {},
     "output_type": "execute_result"
    }
   ],
   "source": [
    "df.isnull().sum()"
   ]
  },
  {
   "cell_type": "code",
   "execution_count": 11,
   "metadata": {},
   "outputs": [
    {
     "data": {
      "text/plain": "count     637862\nunique        17\ntop           -1\nfreq      441222\nName: DSN, dtype: object"
     },
     "execution_count": 11,
     "metadata": {},
     "output_type": "execute_result"
    }
   ],
   "source": [
    "df['DSN'].describe()"
   ]
  },
  {
   "cell_type": "code",
   "execution_count": 12,
   "metadata": {},
   "outputs": [
    {
     "data": {
      "text/plain": "array(['AODV', 'ICMP', 'UDP'], dtype=object)"
     },
     "execution_count": 12,
     "metadata": {},
     "output_type": "execute_result"
    }
   ],
   "source": [
    "pd.unique(df['protocol'].values)"
   ]
  },
  {
   "cell_type": "code",
   "execution_count": 13,
   "metadata": {},
   "outputs": [],
   "source": [
    "df.replace({'AODV':0, 'ICMP':1, 'UDP':2 }, inplace = True)"
   ]
  },
  {
   "cell_type": "code",
   "execution_count": 14,
   "metadata": {},
   "outputs": [
    {
     "data": {
      "text/plain": "array(['normal', 'attack'], dtype=object)"
     },
     "execution_count": 14,
     "metadata": {},
     "output_type": "execute_result"
    }
   ],
   "source": [
    "pd.unique(df['Label'].values)"
   ]
  },
  {
   "cell_type": "code",
   "execution_count": 15,
   "metadata": {},
   "outputs": [],
   "source": [
    "df.replace({'normal':0, 'attack':1 }, inplace = True)"
   ]
  },
  {
   "cell_type": "code",
   "execution_count": 16,
   "metadata": {},
   "outputs": [
    {
     "data": {
      "text/plain": "array(['Route Reply', 'Route Error', '-1', 'Route Request',\n       'Route Reply Acknowledgment'], dtype=object)"
     },
     "execution_count": 16,
     "metadata": {},
     "output_type": "execute_result"
    }
   ],
   "source": [
    "pd.unique(df['MsgType'].values)"
   ]
  },
  {
   "cell_type": "code",
   "execution_count": 17,
   "metadata": {},
   "outputs": [],
   "source": [
    "df.replace({'Route Reply':0, '-1':1, 'Route Error':2, 'Route Request':3, 'Route Reply Acknowledgment':4}, inplace = True)"
   ]
  },
  {
   "cell_type": "code",
   "execution_count": 18,
   "metadata": {},
   "outputs": [
    {
     "data": {
      "text/plain": "array(['2', '0', 1, '1', '3', '1,1', '1,3', '4', '0,1', '1,0', '0,3',\n       '0,0', '2,0', '0,2', '1,2', '0,0,0', '2,2'], dtype=object)"
     },
     "execution_count": 18,
     "metadata": {},
     "output_type": "execute_result"
    }
   ],
   "source": [
    "pd.unique(df['DSN'].values)"
   ]
  },
  {
   "cell_type": "code",
   "execution_count": 19,
   "metadata": {},
   "outputs": [],
   "source": [
    "df = pd.get_dummies(df, columns=['DSN'])"
   ]
  },
  {
   "cell_type": "code",
   "execution_count": 20,
   "metadata": {},
   "outputs": [
    {
     "data": {
      "text/plain": "(637862, 37)"
     },
     "execution_count": 20,
     "metadata": {},
     "output_type": "execute_result"
    }
   ],
   "source": [
    "df.shape"
   ]
  },
  {
   "cell_type": "code",
   "execution_count": 21,
   "metadata": {},
   "outputs": [
    {
     "data": {
      "text/plain": "(637862, 37)"
     },
     "execution_count": 21,
     "metadata": {},
     "output_type": "execute_result"
    }
   ],
   "source": [
    "df.shape"
   ]
  },
  {
   "cell_type": "code",
   "execution_count": 22,
   "metadata": {},
   "outputs": [
    {
     "name": "stdout",
     "output_type": "stream",
     "text": [
      "0.6741270055278414\n"
     ]
    }
   ],
   "source": [
    "x_train = df[:430000]\n",
    "y_train = df['Label'][:430000]\n",
    "x_test = df[430000:]\n",
    "y_test = df['Label'][430000:]\n",
    "print(430000/len(df))"
   ]
  },
  {
   "cell_type": "code",
   "execution_count": 23,
   "metadata": {},
   "outputs": [
    {
     "name": "stderr",
     "output_type": "stream",
     "text": [
      "d:\\anaconda3\\envs\\tf1\\lib\\site-packages\\pandas\\core\\frame.py:4174: SettingWithCopyWarning: \n",
      "A value is trying to be set on a copy of a slice from a DataFrame\n",
      "\n",
      "See the caveats in the documentation: https://pandas.pydata.org/pandas-docs/stable/user_guide/indexing.html#returning-a-view-versus-a-copy\n",
      "  errors=errors,\n"
     ]
    }
   ],
   "source": [
    "x_train.drop(['Label'], axis=1, inplace=True)\n",
    "x_test.drop(['Label'], axis=1, inplace=True)"
   ]
  },
  {
   "cell_type": "code",
   "execution_count": 24,
   "metadata": {},
   "outputs": [],
   "source": [
    "clf = DecisionTreeClassifier()"
   ]
  },
  {
   "cell_type": "code",
   "execution_count": 25,
   "metadata": {},
   "outputs": [
    {
     "data": {
      "text/plain": "DecisionTreeClassifier(class_weight=None, criterion='gini', max_depth=None,\n                       max_features=None, max_leaf_nodes=None,\n                       min_impurity_decrease=0.0, min_impurity_split=None,\n                       min_samples_leaf=1, min_samples_split=2,\n                       min_weight_fraction_leaf=0.0, presort=False,\n                       random_state=None, splitter='best')"
     },
     "execution_count": 25,
     "metadata": {},
     "output_type": "execute_result"
    }
   ],
   "source": [
    "clf.fit(x_train,y_train)"
   ]
  },
  {
   "cell_type": "code",
   "execution_count": 26,
   "metadata": {},
   "outputs": [
    {
     "data": {
      "text/plain": "0.9996921034147656"
     },
     "execution_count": 26,
     "metadata": {},
     "output_type": "execute_result"
    }
   ],
   "source": [
    "clf.score(x_test, y_test)"
   ]
  },
  {
   "cell_type": "code",
   "execution_count": 27,
   "metadata": {},
   "outputs": [],
   "source": [
    "# Confusion matrix, shuffle"
   ]
  },
  {
   "cell_type": "code",
   "execution_count": 28,
   "metadata": {},
   "outputs": [],
   "source": [
    "from sklearn.metrics import confusion_matrix"
   ]
  },
  {
   "cell_type": "code",
   "execution_count": 29,
   "metadata": {},
   "outputs": [],
   "source": [
    "y_pred = clf.predict(x_test)"
   ]
  },
  {
   "cell_type": "code",
   "execution_count": 30,
   "metadata": {},
   "outputs": [
    {
     "data": {
      "text/plain": "array([[ 49498,     29],\n       [    35, 158300]], dtype=int64)"
     },
     "execution_count": 30,
     "metadata": {},
     "output_type": "execute_result"
    }
   ],
   "source": [
    "confusion_matrix(y_test, y_pred)"
   ]
  },
  {
   "cell_type": "code",
   "execution_count": 31,
   "metadata": {},
   "outputs": [
    {
     "data": {
      "text/plain": "        pred_attack  pred_normal\nattack        49498           29\nnormal           35       158300",
      "text/html": "<div>\n<style scoped>\n    .dataframe tbody tr th:only-of-type {\n        vertical-align: middle;\n    }\n\n    .dataframe tbody tr th {\n        vertical-align: top;\n    }\n\n    .dataframe thead th {\n        text-align: right;\n    }\n</style>\n<table border=\"1\" class=\"dataframe\">\n  <thead>\n    <tr style=\"text-align: right;\">\n      <th></th>\n      <th>pred_attack</th>\n      <th>pred_normal</th>\n    </tr>\n  </thead>\n  <tbody>\n    <tr>\n      <th>attack</th>\n      <td>49498</td>\n      <td>29</td>\n    </tr>\n    <tr>\n      <th>normal</th>\n      <td>35</td>\n      <td>158300</td>\n    </tr>\n  </tbody>\n</table>\n</div>"
     },
     "execution_count": 31,
     "metadata": {},
     "output_type": "execute_result"
    }
   ],
   "source": [
    "Y_predict = clf.predict(x_test)\n",
    "cm = np.array(confusion_matrix(y_test, Y_predict, labels=[0,1]))\n",
    "confusion = pd.DataFrame(cm, index = ['attack', 'normal'],\n",
    "                        columns = ['pred_attack','pred_normal'])\n",
    "confusion"
   ]
  },
  {
   "cell_type": "code",
   "execution_count": 32,
   "metadata": {},
   "outputs": [
    {
     "data": {
      "text/plain": "<Figure size 432x288 with 2 Axes>",
      "image/png": "[encoded data removed]"
     },
     "metadata": {
      "needs_background": "light"
     },
     "output_type": "display_data"
    }
   ],
   "source": [
    "import seaborn as sns\n",
    "sns.heatmap(confusion, annot = True)\n",
    "plt.show()"
   ]
  },
  {
   "cell_type": "code",
   "execution_count": 33,
   "metadata": {},
   "outputs": [
    {
     "name": "stdout",
     "output_type": "stream",
     "text": [
      "              precision    recall  f1-score   support\n",
      "\n",
      "           0       1.00      1.00      1.00     49527\n",
      "           1       1.00      1.00      1.00    158335\n",
      "\n",
      "    accuracy                           1.00    207862\n",
      "   macro avg       1.00      1.00      1.00    207862\n",
      "weighted avg       1.00      1.00      1.00    207862\n",
      "\n"
     ]
    }
   ],
   "source": [
    "from sklearn.metrics import classification_report, confusion_matrix\n",
    "print(classification_report(y_test, Y_predict))"
   ]
  },
  {
   "cell_type": "code",
   "execution_count": 33,
   "metadata": {},
   "outputs": [],
   "source": []
  },
  {
   "cell_type": "code",
   "execution_count": 33,
   "metadata": {},
   "outputs": [],
   "source": []
  }
 ],
 "metadata": {
  "kernelspec": {
   "display_name": "Python 3",
   "language": "python",
   "name": "python3"
  },
  "language_info": {
   "codemirror_mode": {
    "name": "ipython",
    "version": 3
   },
   "file_extension": ".py",
   "mimetype": "text/x-python",
   "name": "python",
   "nbconvert_exporter": "python",
   "pygments_lexer": "ipython3",
   "version": "3.7.3"
  }
 },
 "nbformat": 4,
 "nbformat_minor": 2
}
{
 "cells": [
  {
   "cell_type": "markdown",
   "metadata": {},
   "source": [
    "# Multinomial Classification (normal or DOS or PROBE or R2L or U2R)"
   ]
  },
  {
   "cell_type": "code",
   "execution_count": 39,
   "metadata": {},
   "outputs": [],
   "source": [
    "import numpy as np\n",
    "import pandas as pd\n",
    "import matplotlib.pyplot as plt\n",
    "%matplotlib inline"
   ]
  },
  {
   "cell_type": "code",
   "execution_count": 40,
   "metadata": {},
   "outputs": [],
   "source": [
    "import itertools\n",
    "import seaborn as sns\n",
    "import pandas_profiling\n",
    "import statsmodels.formula.api as sm\n",
    "from statsmodels.stats.outliers_influence import variance_inflation_factor\n"
   ]
  },
  {
   "cell_type": "code",
   "execution_count": 41,
   "metadata": {},
   "outputs": [],
   "source": [
    "from sklearn import datasets\n",
    "from sklearn.feature_selection import RFE\n",
    "import sklearn.metrics as metrics\n",
    "from sklearn.linear_model import LogisticRegression\n",
    "from sklearn.feature_selection import SelectKBest\n",
    "from sklearn.feature_selection import chi2, f_classif, mutual_info_classif"
   ]
  },
  {
   "cell_type": "code",
   "execution_count": 42,
   "metadata": {},
   "outputs": [],
   "source": [
    "train=pd.read_csv('NSL_Dataset\\Train.txt',sep=',')\n",
    "test=pd.read_csv('NSL_Dataset\\Test.txt',sep=',')"
   ]
  },
  {
   "cell_type": "code",
   "execution_count": 43,
   "metadata": {},
   "outputs": [
    {
     "data": {
      "text/plain": "   0  tcp ftp_data   SF  491   0.1  0.2  0.3  0.4  0.5  ...  0.17.1  0.03  \\\n0  0  udp    other   SF  146     0    0    0    0    0  ...    0.00  0.60   \n1  0  tcp  private   S0    0     0    0    0    0    0  ...    0.10  0.05   \n2  0  tcp     http   SF  232  8153    0    0    0    0  ...    1.00  0.00   \n3  0  tcp     http   SF  199   420    0    0    0    0  ...    1.00  0.00   \n4  0  tcp  private  REJ    0     0    0    0    0    0  ...    0.07  0.07   \n\n   0.17.2  0.00.6  0.00.7  0.00.8  0.05  0.00.9   normal  20  \n0    0.88    0.00    0.00    0.00   0.0    0.00   normal  15  \n1    0.00    0.00    1.00    1.00   0.0    0.00  neptune  19  \n2    0.03    0.04    0.03    0.01   0.0    0.01   normal  21  \n3    0.00    0.00    0.00    0.00   0.0    0.00   normal  21  \n4    0.00    0.00    0.00    0.00   1.0    1.00  neptune  21  \n\n[5 rows x 43 columns]",
      "text/html": "<div>\n<style scoped>\n    .dataframe tbody tr th:only-of-type {\n        vertical-align: middle;\n    }\n\n    .dataframe tbody tr th {\n        vertical-align: top;\n    }\n\n    .dataframe thead th {\n        text-align: right;\n    }\n</style>\n<table border=\"1\" class=\"dataframe\">\n  <thead>\n    <tr style=\"text-align: right;\">\n      <th></th>\n      <th>0</th>\n      <th>tcp</th>\n      <th>ftp_data</th>\n      <th>SF</th>\n      <th>491</th>\n      <th>0.1</th>\n      <th>0.2</th>\n      <th>0.3</th>\n      <th>0.4</th>\n      <th>0.5</th>\n      <th>...</th>\n      <th>0.17.1</th>\n      <th>0.03</th>\n      <th>0.17.2</th>\n      <th>0.00.6</th>\n      <th>0.00.7</th>\n      <th>0.00.8</th>\n      <th>0.05</th>\n      <th>0.00.9</th>\n      <th>normal</th>\n      <th>20</th>\n    </tr>\n  </thead>\n  <tbody>\n    <tr>\n      <th>0</th>\n      <td>0</td>\n      <td>udp</td>\n      <td>other</td>\n      <td>SF</td>\n      <td>146</td>\n      <td>0</td>\n      <td>0</td>\n      <td>0</td>\n      <td>0</td>\n      <td>0</td>\n      <td>...</td>\n      <td>0.00</td>\n      <td>0.60</td>\n      <td>0.88</td>\n      <td>0.00</td>\n      <td>0.00</td>\n      <td>0.00</td>\n      <td>0.0</td>\n      <td>0.00</td>\n      <td>normal</td>\n      <td>15</td>\n    </tr>\n    <tr>\n      <th>1</th>\n      <td>0</td>\n      <td>tcp</td>\n      <td>private</td>\n      <td>S0</td>\n      <td>0</td>\n      <td>0</td>\n      <td>0</td>\n      <td>0</td>\n      <td>0</td>\n      <td>0</td>\n      <td>...</td>\n      <td>0.10</td>\n      <td>0.05</td>\n      <td>0.00</td>\n      <td>0.00</td>\n      <td>1.00</td>\n      <td>1.00</td>\n      <td>0.0</td>\n      <td>0.00</td>\n      <td>neptune</td>\n      <td>19</td>\n    </tr>\n    <tr>\n      <th>2</th>\n      <td>0</td>\n      <td>tcp</td>\n      <td>http</td>\n      <td>SF</td>\n      <td>232</td>\n      <td>8153</td>\n      <td>0</td>\n      <td>0</td>\n      <td>0</td>\n      <td>0</td>\n      <td>...</td>\n      <td>1.00</td>\n      <td>0.00</td>\n      <td>0.03</td>\n      <td>0.04</td>\n      <td>0.03</td>\n      <td>0.01</td>\n      <td>0.0</td>\n      <td>0.01</td>\n      <td>normal</td>\n      <td>21</td>\n    </tr>\n    <tr>\n      <th>3</th>\n      <td>0</td>\n      <td>tcp</td>\n      <td>http</td>\n      <td>SF</td>\n      <td>199</td>\n      <td>420</td>\n      <td>0</td>\n      <td>0</td>\n      <td>0</td>\n      <td>0</td>\n      <td>...</td>\n      <td>1.00</td>\n      <td>0.00</td>\n      <td>0.00</td>\n      <td>0.00</td>\n      <td>0.00</td>\n      <td>0.00</td>\n      <td>0.0</td>\n      <td>0.00</td>\n      <td>normal</td>\n      <td>21</td>\n    </tr>\n    <tr>\n      <th>4</th>\n      <td>0</td>\n      <td>tcp</td>\n      <td>private</td>\n      <td>REJ</td>\n      <td>0</td>\n      <td>0</td>\n      <td>0</td>\n      <td>0</td>\n      <td>0</td>\n      <td>0</td>\n      <td>...</td>\n      <td>0.07</td>\n      <td>0.07</td>\n      <td>0.00</td>\n      <td>0.00</td>\n      <td>0.00</td>\n      <td>0.00</td>\n      <td>1.0</td>\n      <td>1.00</td>\n      <td>neptune</td>\n      <td>21</td>\n    </tr>\n  </tbody>\n</table>\n<p>5 rows × 43 columns</p>\n</div>"
     },
     "execution_count": 43,
     "metadata": {},
     "output_type": "execute_result"
    }
   ],
   "source": [
    "train.head()"
   ]
  },
  {
   "cell_type": "code",
   "execution_count": 44,
   "metadata": {},
   "outputs": [],
   "source": [
    "columns=[\"duration\",\"protocol_type\",\"service\",\"flag\",\"src_bytes\",\"dst_bytes\",\"land\",\"wrong_fragment\",\"urgent\",\"hot\",\n",
    "         \"num_failed_logins\",\"logged_in\",\"num_compromised\",\"root_shell\",\"su_attempted\",\"num_root\",\"num_file_creations\", \n",
    "         \"num_shells\",\"num_access_files\",\"num_outbound_cmds\",\"is_host_login\",\"is_guest_login\",\"count\",\"srv_count\",\"serror_rate\",\n",
    "         \"srv_serror_rate\",\"rerror_rate\",\"srv_rerror_rate\",\"same_srv_rate\",\"diff_srv_rate\",\"srv_diff_host_rate\",\n",
    "         \"dst_host_count\",\"dst_host_srv_count\",\"dst_host_same_srv_rate\",\"dst_host_diff_srv_rate\",\"dst_host_same_src_port_rate\",\n",
    "         \"dst_host_srv_diff_host_rate\",\"dst_host_serror_rate\",\"dst_host_srv_serror_rate\",\"dst_host_rerror_rate\",\n",
    "         \"dst_host_srv_rerror_rate\",\"attack\",\"last_flag\"] "
   ]
  },
  {
   "cell_type": "code",
   "execution_count": 45,
   "metadata": {},
   "outputs": [
    {
     "data": {
      "text/plain": "43"
     },
     "execution_count": 45,
     "metadata": {},
     "output_type": "execute_result"
    }
   ],
   "source": [
    "len(columns)"
   ]
  },
  {
   "cell_type": "code",
   "execution_count": 46,
   "metadata": {},
   "outputs": [],
   "source": [
    "train.columns=columns\n",
    "test.columns=columns"
   ]
  },
  {
   "cell_type": "code",
   "execution_count": 47,
   "metadata": {},
   "outputs": [
    {
     "data": {
      "text/plain": "   duration protocol_type  service flag  src_bytes  dst_bytes  land  \\\n0         0           udp    other   SF        146          0     0   \n1         0           tcp  private   S0          0          0     0   \n2         0           tcp     http   SF        232       8153     0   \n3         0           tcp     http   SF        199        420     0   \n4         0           tcp  private  REJ          0          0     0   \n\n   wrong_fragment  urgent  hot  ...  dst_host_same_srv_rate  \\\n0               0       0    0  ...                    0.00   \n1               0       0    0  ...                    0.10   \n2               0       0    0  ...                    1.00   \n3               0       0    0  ...                    1.00   \n4               0       0    0  ...                    0.07   \n\n   dst_host_diff_srv_rate  dst_host_same_src_port_rate  \\\n0                    0.60                         0.88   \n1                    0.05                         0.00   \n2                    0.00                         0.03   \n3                    0.00                         0.00   \n4                    0.07                         0.00   \n\n   dst_host_srv_diff_host_rate  dst_host_serror_rate  \\\n0                         0.00                  0.00   \n1                         0.00                  1.00   \n2                         0.04                  0.03   \n3                         0.00                  0.00   \n4                         0.00                  0.00   \n\n   dst_host_srv_serror_rate  dst_host_rerror_rate  dst_host_srv_rerror_rate  \\\n0                      0.00                   0.0                      0.00   \n1                      1.00                   0.0                      0.00   \n2                      0.01                   0.0                      0.01   \n3                      0.00                   0.0                      0.00   \n4                      0.00                   1.0                      1.00   \n\n    attack  last_flag  \n0   normal         15  \n1  neptune         19  \n2   normal         21  \n3   normal         21  \n4  neptune         21  \n\n[5 rows x 43 columns]",
      "text/html": "<div>\n<style scoped>\n    .dataframe tbody tr th:only-of-type {\n        vertical-align: middle;\n    }\n\n    .dataframe tbody tr th {\n        vertical-align: top;\n    }\n\n    .dataframe thead th {\n        text-align: right;\n    }\n</style>\n<table border=\"1\" class=\"dataframe\">\n  <thead>\n    <tr style=\"text-align: right;\">\n      <th></th>\n      <th>duration</th>\n      <th>protocol_type</th>\n      <th>service</th>\n      <th>flag</th>\n      <th>src_bytes</th>\n      <th>dst_bytes</th>\n      <th>land</th>\n      <th>wrong_fragment</th>\n      <th>urgent</th>\n      <th>hot</th>\n      <th>...</th>\n      <th>dst_host_same_srv_rate</th>\n      <th>dst_host_diff_srv_rate</th>\n      <th>dst_host_same_src_port_rate</th>\n      <th>dst_host_srv_diff_host_rate</th>\n      <th>dst_host_serror_rate</th>\n      <th>dst_host_srv_serror_rate</th>\n      <th>dst_host_rerror_rate</th>\n      <th>dst_host_srv_rerror_rate</th>\n      <th>attack</th>\n      <th>last_flag</th>\n    </tr>\n  </thead>\n  <tbody>\n    <tr>\n      <th>0</th>\n      <td>0</td>\n      <td>udp</td>\n      <td>other</td>\n      <td>SF</td>\n      <td>146</td>\n      <td>0</td>\n      <td>0</td>\n      <td>0</td>\n      <td>0</td>\n      <td>0</td>\n      <td>...</td>\n      <td>0.00</td>\n      <td>0.60</td>\n      <td>0.88</td>\n      <td>0.00</td>\n      <td>0.00</td>\n      <td>0.00</td>\n      <td>0.0</td>\n      <td>0.00</td>\n      <td>normal</td>\n      <td>15</td>\n    </tr>\n    <tr>\n      <th>1</th>\n      <td>0</td>\n      <td>tcp</td>\n      <td>private</td>\n      <td>S0</td>\n      <td>0</td>\n      <td>0</td>\n      <td>0</td>\n      <td>0</td>\n      <td>0</td>\n      <td>0</td>\n      <td>...</td>\n      <td>0.10</td>\n      <td>0.05</td>\n      <td>0.00</td>\n      <td>0.00</td>\n      <td>1.00</td>\n      <td>1.00</td>\n      <td>0.0</td>\n      <td>0.00</td>\n      <td>neptune</td>\n      <td>19</td>\n    </tr>\n    <tr>\n      <th>2</th>\n      <td>0</td>\n      <td>tcp</td>\n      <td>http</td>\n      <td>SF</td>\n      <td>232</td>\n      <td>8153</td>\n      <td>0</td>\n      <td>0</td>\n      <td>0</td>\n      <td>0</td>\n      <td>...</td>\n      <td>1.00</td>\n      <td>0.00</td>\n      <td>0.03</td>\n      <td>0.04</td>\n      <td>0.03</td>\n      <td>0.01</td>\n      <td>0.0</td>\n      <td>0.01</td>\n      <td>normal</td>\n      <td>21</td>\n    </tr>\n    <tr>\n      <th>3</th>\n      <td>0</td>\n      <td>tcp</td>\n      <td>http</td>\n      <td>SF</td>\n      <td>199</td>\n      <td>420</td>\n      <td>0</td>\n      <td>0</td>\n      <td>0</td>\n      <td>0</td>\n      <td>...</td>\n      <td>1.00</td>\n      <td>0.00</td>\n      <td>0.00</td>\n      <td>0.00</td>\n      <td>0.00</td>\n      <td>0.00</td>\n      <td>0.0</td>\n      <td>0.00</td>\n      <td>normal</td>\n      <td>21</td>\n    </tr>\n    <tr>\n      <th>4</th>\n      <td>0</td>\n      <td>tcp</td>\n      <td>private</td>\n      <td>REJ</td>\n      <td>0</td>\n      <td>0</td>\n      <td>0</td>\n      <td>0</td>\n      <td>0</td>\n      <td>0</td>\n      <td>...</td>\n      <td>0.07</td>\n      <td>0.07</td>\n      <td>0.00</td>\n      <td>0.00</td>\n      <td>0.00</td>\n      <td>0.00</td>\n      <td>1.0</td>\n      <td>1.00</td>\n      <td>neptune</td>\n      <td>21</td>\n    </tr>\n  </tbody>\n</table>\n<p>5 rows × 43 columns</p>\n</div>"
     },
     "execution_count": 47,
     "metadata": {},
     "output_type": "execute_result"
    }
   ],
   "source": [
    "train.head()"
   ]
  },
  {
   "cell_type": "code",
   "execution_count": 48,
   "metadata": {},
   "outputs": [
    {
     "data": {
      "text/plain": "   duration protocol_type   service  flag  src_bytes  dst_bytes  land  \\\n0         0           tcp   private   REJ          0          0     0   \n1         2           tcp  ftp_data    SF      12983          0     0   \n2         0          icmp     eco_i    SF         20          0     0   \n3         1           tcp    telnet  RSTO          0         15     0   \n4         0           tcp      http    SF        267      14515     0   \n\n   wrong_fragment  urgent  hot  ...  dst_host_same_srv_rate  \\\n0               0       0    0  ...                    0.00   \n1               0       0    0  ...                    0.61   \n2               0       0    0  ...                    1.00   \n3               0       0    0  ...                    0.31   \n4               0       0    0  ...                    1.00   \n\n   dst_host_diff_srv_rate  dst_host_same_src_port_rate  \\\n0                    0.06                         0.00   \n1                    0.04                         0.61   \n2                    0.00                         1.00   \n3                    0.17                         0.03   \n4                    0.00                         0.01   \n\n   dst_host_srv_diff_host_rate  dst_host_serror_rate  \\\n0                         0.00                  0.00   \n1                         0.02                  0.00   \n2                         0.28                  0.00   \n3                         0.02                  0.00   \n4                         0.03                  0.01   \n\n   dst_host_srv_serror_rate  dst_host_rerror_rate  dst_host_srv_rerror_rate  \\\n0                       0.0                  1.00                      1.00   \n1                       0.0                  0.00                      0.00   \n2                       0.0                  0.00                      0.00   \n3                       0.0                  0.83                      0.71   \n4                       0.0                  0.00                      0.00   \n\n    attack  last_flag  \n0  neptune         21  \n1   normal         21  \n2    saint         15  \n3    mscan         11  \n4   normal         21  \n\n[5 rows x 43 columns]",
      "text/html": "<div>\n<style scoped>\n    .dataframe tbody tr th:only-of-type {\n        vertical-align: middle;\n    }\n\n    .dataframe tbody tr th {\n        vertical-align: top;\n    }\n\n    .dataframe thead th {\n        text-align: right;\n    }\n</style>\n<table border=\"1\" class=\"dataframe\">\n  <thead>\n    <tr style=\"text-align: right;\">\n      <th></th>\n      <th>duration</th>\n      <th>protocol_type</th>\n      <th>service</th>\n      <th>flag</th>\n      <th>src_bytes</th>\n      <th>dst_bytes</th>\n      <th>land</th>\n      <th>wrong_fragment</th>\n      <th>urgent</th>\n      <th>hot</th>\n      <th>...</th>\n      <th>dst_host_same_srv_rate</th>\n      <th>dst_host_diff_srv_rate</th>\n      <th>dst_host_same_src_port_rate</th>\n      <th>dst_host_srv_diff_host_rate</th>\n      <th>dst_host_serror_rate</th>\n      <th>dst_host_srv_serror_rate</th>\n      <th>dst_host_rerror_rate</th>\n      <th>dst_host_srv_rerror_rate</th>\n      <th>attack</th>\n      <th>last_flag</th>\n    </tr>\n  </thead>\n  <tbody>\n    <tr>\n      <th>0</th>\n      <td>0</td>\n      <td>tcp</td>\n      <td>private</td>\n      <td>REJ</td>\n      <td>0</td>\n      <td>0</td>\n      <td>0</td>\n      <td>0</td>\n      <td>0</td>\n      <td>0</td>\n      <td>...</td>\n      <td>0.00</td>\n      <td>0.06</td>\n      <td>0.00</td>\n      <td>0.00</td>\n      <td>0.00</td>\n      <td>0.0</td>\n      <td>1.00</td>\n      <td>1.00</td>\n      <td>neptune</td>\n      <td>21</td>\n    </tr>\n    <tr>\n      <th>1</th>\n      <td>2</td>\n      <td>tcp</td>\n      <td>ftp_data</td>\n      <td>SF</td>\n      <td>12983</td>\n      <td>0</td>\n      <td>0</td>\n      <td>0</td>\n      <td>0</td>\n      <td>0</td>\n      <td>...</td>\n      <td>0.61</td>\n      <td>0.04</td>\n      <td>0.61</td>\n      <td>0.02</td>\n      <td>0.00</td>\n      <td>0.0</td>\n      <td>0.00</td>\n      <td>0.00</td>\n      <td>normal</td>\n      <td>21</td>\n    </tr>\n    <tr>\n      <th>2</th>\n      <td>0</td>\n      <td>icmp</td>\n      <td>eco_i</td>\n      <td>SF</td>\n      <td>20</td>\n      <td>0</td>\n      <td>0</td>\n      <td>0</td>\n      <td>0</td>\n      <td>0</td>\n      <td>...</td>\n      <td>1.00</td>\n      <td>0.00</td>\n      <td>1.00</td>\n      <td>0.28</td>\n      <td>0.00</td>\n      <td>0.0</td>\n      <td>0.00</td>\n      <td>0.00</td>\n      <td>saint</td>\n      <td>15</td>\n    </tr>\n    <tr>\n      <th>3</th>\n      <td>1</td>\n      <td>tcp</td>\n      <td>telnet</td>\n      <td>RSTO</td>\n      <td>0</td>\n      <td>15</td>\n      <td>0</td>\n      <td>0</td>\n      <td>0</td>\n      <td>0</td>\n      <td>...</td>\n      <td>0.31</td>\n      <td>0.17</td>\n      <td>0.03</td>\n      <td>0.02</td>\n      <td>0.00</td>\n      <td>0.0</td>\n      <td>0.83</td>\n      <td>0.71</td>\n      <td>mscan</td>\n      <td>11</td>\n    </tr>\n    <tr>\n      <th>4</th>\n      <td>0</td>\n      <td>tcp</td>\n      <td>http</td>\n      <td>SF</td>\n      <td>267</td>\n      <td>14515</td>\n      <td>0</td>\n      <td>0</td>\n      <td>0</td>\n      <td>0</td>\n      <td>...</td>\n      <td>1.00</td>\n      <td>0.00</td>\n      <td>0.01</td>\n      <td>0.03</td>\n      <td>0.01</td>\n      <td>0.0</td>\n      <td>0.00</td>\n      <td>0.00</td>\n      <td>normal</td>\n      <td>21</td>\n    </tr>\n  </tbody>\n</table>\n<p>5 rows × 43 columns</p>\n</div>"
     },
     "execution_count": 48,
     "metadata": {},
     "output_type": "execute_result"
    }
   ],
   "source": [
    "test.head()"
   ]
  },
  {
   "cell_type": "code",
   "execution_count": 49,
   "metadata": {},
   "outputs": [
    {
     "name": "stdout",
     "output_type": "stream",
     "text": [
      "<class 'pandas.core.frame.DataFrame'>\n",
      "RangeIndex: 125972 entries, 0 to 125971\n",
      "Data columns (total 43 columns):\n",
      " #   Column                       Non-Null Count   Dtype  \n",
      "---  ------                       --------------   -----  \n",
      " 0   duration                     125972 non-null  int64  \n",
      " 1   protocol_type                125972 non-null  object \n",
      " 2   service                      125972 non-null  object \n",
      " 3   flag                         125972 non-null  object \n",
      " 4   src_bytes                    125972 non-null  int64  \n",
      " 5   dst_bytes                    125972 non-null  int64  \n",
      " 6   land                         125972 non-null  int64  \n",
      " 7   wrong_fragment               125972 non-null  int64  \n",
      " 8   urgent                       125972 non-null  int64  \n",
      " 9   hot                          125972 non-null  int64  \n",
      " 10  num_failed_logins            125972 non-null  int64  \n",
      " 11  logged_in                    125972 non-null  int64  \n",
      " 12  num_compromised              125972 non-null  int64  \n",
      " 13  root_shell                   125972 non-null  int64  \n",
      " 14  su_attempted                 125972 non-null  int64  \n",
      " 15  num_root                     125972 non-null  int64  \n",
      " 16  num_file_creations           125972 non-null  int64  \n",
      " 17  num_shells                   125972 non-null  int64  \n",
      " 18  num_access_files             125972 non-null  int64  \n",
      " 19  num_outbound_cmds            125972 non-null  int64  \n",
      " 20  is_host_login                125972 non-null  int64  \n",
      " 21  is_guest_login               125972 non-null  int64  \n",
      " 22  count                        125972 non-null  int64  \n",
      " 23  srv_count                    125972 non-null  int64  \n",
      " 24  serror_rate                  125972 non-null  float64\n",
      " 25  srv_serror_rate              125972 non-null  float64\n",
      " 26  rerror_rate                  125972 non-null  float64\n",
      " 27  srv_rerror_rate              125972 non-null  float64\n",
      " 28  same_srv_rate                125972 non-null  float64\n",
      " 29  diff_srv_rate                125972 non-null  float64\n",
      " 30  srv_diff_host_rate           125972 non-null  float64\n",
      " 31  dst_host_count               125972 non-null  int64  \n",
      " 32  dst_host_srv_count           125972 non-null  int64  \n",
      " 33  dst_host_same_srv_rate       125972 non-null  float64\n",
      " 34  dst_host_diff_srv_rate       125972 non-null  float64\n",
      " 35  dst_host_same_src_port_rate  125972 non-null  float64\n",
      " 36  dst_host_srv_diff_host_rate  125972 non-null  float64\n",
      " 37  dst_host_serror_rate         125972 non-null  float64\n",
      " 38  dst_host_srv_serror_rate     125972 non-null  float64\n",
      " 39  dst_host_rerror_rate         125972 non-null  float64\n",
      " 40  dst_host_srv_rerror_rate     125972 non-null  float64\n",
      " 41  attack                       125972 non-null  object \n",
      " 42  last_flag                    125972 non-null  int64  \n",
      "dtypes: float64(15), int64(24), object(4)\n",
      "memory usage: 41.3+ MB\n"
     ]
    }
   ],
   "source": [
    "train.info()"
   ]
  },
  {
   "cell_type": "code",
   "execution_count": 50,
   "metadata": {},
   "outputs": [
    {
     "name": "stdout",
     "output_type": "stream",
     "text": [
      "<class 'pandas.core.frame.DataFrame'>\n",
      "RangeIndex: 22543 entries, 0 to 22542\n",
      "Data columns (total 43 columns):\n",
      " #   Column                       Non-Null Count  Dtype  \n",
      "---  ------                       --------------  -----  \n",
      " 0   duration                     22543 non-null  int64  \n",
      " 1   protocol_type                22543 non-null  object \n",
      " 2   service                      22543 non-null  object \n",
      " 3   flag                         22543 non-null  object \n",
      " 4   src_bytes                    22543 non-null  int64  \n",
      " 5   dst_bytes                    22543 non-null  int64  \n",
      " 6   land                         22543 non-null  int64  \n",
      " 7   wrong_fragment               22543 non-null  int64  \n",
      " 8   urgent                       22543 non-null  int64  \n",
      " 9   hot                          22543 non-null  int64  \n",
      " 10  num_failed_logins            22543 non-null  int64  \n",
      " 11  logged_in                    22543 non-null  int64  \n",
      " 12  num_compromised              22543 non-null  int64  \n",
      " 13  root_shell                   22543 non-null  int64  \n",
      " 14  su_attempted                 22543 non-null  int64  \n",
      " 15  num_root                     22543 non-null  int64  \n",
      " 16  num_file_creations           22543 non-null  int64  \n",
      " 17  num_shells                   22543 non-null  int64  \n",
      " 18  num_access_files             22543 non-null  int64  \n",
      " 19  num_outbound_cmds            22543 non-null  int64  \n",
      " 20  is_host_login                22543 non-null  int64  \n",
      " 21  is_guest_login               22543 non-null  int64  \n",
      " 22  count                        22543 non-null  int64  \n",
      " 23  srv_count                    22543 non-null  int64  \n",
      " 24  serror_rate                  22543 non-null  float64\n",
      " 25  srv_serror_rate              22543 non-null  float64\n",
      " 26  rerror_rate                  22543 non-null  float64\n",
      " 27  srv_rerror_rate              22543 non-null  float64\n",
      " 28  same_srv_rate                22543 non-null  float64\n",
      " 29  diff_srv_rate                22543 non-null  float64\n",
      " 30  srv_diff_host_rate           22543 non-null  float64\n",
      " 31  dst_host_count               22543 non-null  int64  \n",
      " 32  dst_host_srv_count           22543 non-null  int64  \n",
      " 33  dst_host_same_srv_rate       22543 non-null  float64\n",
      " 34  dst_host_diff_srv_rate       22543 non-null  float64\n",
      " 35  dst_host_same_src_port_rate  22543 non-null  float64\n",
      " 36  dst_host_srv_diff_host_rate  22543 non-null  float64\n",
      " 37  dst_host_serror_rate         22543 non-null  float64\n",
      " 38  dst_host_srv_serror_rate     22543 non-null  float64\n",
      " 39  dst_host_rerror_rate         22543 non-null  float64\n",
      " 40  dst_host_srv_rerror_rate     22543 non-null  float64\n",
      " 41  attack                       22543 non-null  object \n",
      " 42  last_flag                    22543 non-null  int64  \n",
      "dtypes: float64(15), int64(24), object(4)\n",
      "memory usage: 7.4+ MB\n"
     ]
    }
   ],
   "source": [
    "test.info()"
   ]
  },
  {
   "cell_type": "code",
   "execution_count": 51,
   "metadata": {},
   "outputs": [
    {
     "data": {
      "text/plain": "                                count          mean           std  min    25%  \\\nduration                     125972.0    287.146929  2.604526e+03  0.0   0.00   \nsrc_bytes                    125972.0  45567.100824  5.870354e+06  0.0   0.00   \ndst_bytes                    125972.0  19779.271433  4.021285e+06  0.0   0.00   \nland                         125972.0      0.000198  1.408613e-02  0.0   0.00   \nwrong_fragment               125972.0      0.022688  2.535310e-01  0.0   0.00   \nurgent                       125972.0      0.000111  1.436608e-02  0.0   0.00   \nhot                          125972.0      0.204411  2.149977e+00  0.0   0.00   \nnum_failed_logins            125972.0      0.001222  4.523932e-02  0.0   0.00   \nlogged_in                    125972.0      0.395739  4.890107e-01  0.0   0.00   \nnum_compromised              125972.0      0.279253  2.394214e+01  0.0   0.00   \nroot_shell                   125972.0      0.001342  3.660299e-02  0.0   0.00   \nsu_attempted                 125972.0      0.001103  4.515456e-02  0.0   0.00   \nnum_root                     125972.0      0.302194  2.439971e+01  0.0   0.00   \nnum_file_creations           125972.0      0.012669  4.839370e-01  0.0   0.00   \nnum_shells                   125972.0      0.000413  2.218122e-02  0.0   0.00   \nnum_access_files             125972.0      0.004096  9.936995e-02  0.0   0.00   \nnum_outbound_cmds            125972.0      0.000000  0.000000e+00  0.0   0.00   \nis_host_login                125972.0      0.000008  2.817494e-03  0.0   0.00   \nis_guest_login               125972.0      0.009423  9.661271e-02  0.0   0.00   \ncount                        125972.0     84.108207  1.145088e+02  0.0   2.00   \nsrv_count                    125972.0     27.738093  7.263609e+01  0.0   2.00   \nserror_rate                  125972.0      0.284487  4.464567e-01  0.0   0.00   \nsrv_serror_rate              125972.0      0.282488  4.470236e-01  0.0   0.00   \nrerror_rate                  125972.0      0.119959  3.204366e-01  0.0   0.00   \nsrv_rerror_rate              125972.0      0.121184  3.236483e-01  0.0   0.00   \nsame_srv_rate                125972.0      0.660925  4.396236e-01  0.0   0.09   \ndiff_srv_rate                125972.0      0.063053  1.803150e-01  0.0   0.00   \nsrv_diff_host_rate           125972.0      0.097322  2.598314e-01  0.0   0.00   \ndst_host_count               125972.0    182.149200  9.920657e+01  0.0  82.00   \ndst_host_srv_count           125972.0    115.653725  1.107029e+02  0.0  10.00   \ndst_host_same_srv_rate       125972.0      0.521244  4.489501e-01  0.0   0.05   \ndst_host_diff_srv_rate       125972.0      0.082952  1.889225e-01  0.0   0.00   \ndst_host_same_src_port_rate  125972.0      0.148379  3.089984e-01  0.0   0.00   \ndst_host_srv_diff_host_rate  125972.0      0.032543  1.125642e-01  0.0   0.00   \ndst_host_serror_rate         125972.0      0.284455  4.447851e-01  0.0   0.00   \ndst_host_srv_serror_rate     125972.0      0.278487  4.456702e-01  0.0   0.00   \ndst_host_rerror_rate         125972.0      0.118832  3.065586e-01  0.0   0.00   \ndst_host_srv_rerror_rate     125972.0      0.120241  3.194605e-01  0.0   0.00   \nlast_flag                    125972.0     19.504056  2.291512e+00  0.0  18.00   \n\n                                50%     75%           max  \nduration                       0.00    0.00  4.290800e+04  \nsrc_bytes                     44.00  276.00  1.379964e+09  \ndst_bytes                      0.00  516.00  1.309937e+09  \nland                           0.00    0.00  1.000000e+00  \nwrong_fragment                 0.00    0.00  3.000000e+00  \nurgent                         0.00    0.00  3.000000e+00  \nhot                            0.00    0.00  7.700000e+01  \nnum_failed_logins              0.00    0.00  5.000000e+00  \nlogged_in                      0.00    1.00  1.000000e+00  \nnum_compromised                0.00    0.00  7.479000e+03  \nroot_shell                     0.00    0.00  1.000000e+00  \nsu_attempted                   0.00    0.00  2.000000e+00  \nnum_root                       0.00    0.00  7.468000e+03  \nnum_file_creations             0.00    0.00  4.300000e+01  \nnum_shells                     0.00    0.00  2.000000e+00  \nnum_access_files               0.00    0.00  9.000000e+00  \nnum_outbound_cmds              0.00    0.00  0.000000e+00  \nis_host_login                  0.00    0.00  1.000000e+00  \nis_guest_login                 0.00    0.00  1.000000e+00  \ncount                         14.00  143.00  5.110000e+02  \nsrv_count                      8.00   18.00  5.110000e+02  \nserror_rate                    0.00    1.00  1.000000e+00  \nsrv_serror_rate                0.00    1.00  1.000000e+00  \nrerror_rate                    0.00    0.00  1.000000e+00  \nsrv_rerror_rate                0.00    0.00  1.000000e+00  \nsame_srv_rate                  1.00    1.00  1.000000e+00  \ndiff_srv_rate                  0.00    0.06  1.000000e+00  \nsrv_diff_host_rate             0.00    0.00  1.000000e+00  \ndst_host_count               255.00  255.00  2.550000e+02  \ndst_host_srv_count            63.00  255.00  2.550000e+02  \ndst_host_same_srv_rate         0.51    1.00  1.000000e+00  \ndst_host_diff_srv_rate         0.02    0.07  1.000000e+00  \ndst_host_same_src_port_rate    0.00    0.06  1.000000e+00  \ndst_host_srv_diff_host_rate    0.00    0.02  1.000000e+00  \ndst_host_serror_rate           0.00    1.00  1.000000e+00  \ndst_host_srv_serror_rate       0.00    1.00  1.000000e+00  \ndst_host_rerror_rate           0.00    0.00  1.000000e+00  \ndst_host_srv_rerror_rate       0.00    0.00  1.000000e+00  \nlast_flag                     20.00   21.00  2.100000e+01  ",
      "text/html": "<div>\n<style scoped>\n    .dataframe tbody tr th:only-of-type {\n        vertical-align: middle;\n    }\n\n    .dataframe tbody tr th {\n        vertical-align: top;\n    }\n\n    .dataframe thead th {\n        text-align: right;\n    }\n</style>\n<table border=\"1\" class=\"dataframe\">\n  <thead>\n    <tr style=\"text-align: right;\">\n      <th></th>\n      <th>count</th>\n      <th>mean</th>\n      <th>std</th>\n      <th>min</th>\n      <th>25%</th>\n      <th>50%</th>\n      <th>75%</th>\n      <th>max</th>\n    </tr>\n  </thead>\n  <tbody>\n    <tr>\n      <th>duration</th>\n      <td>125972.0</td>\n      <td>287.146929</td>\n      <td>2.604526e+03</td>\n      <td>0.0</td>\n      <td>0.00</td>\n      <td>0.00</td>\n      <td>0.00</td>\n      <td>4.290800e+04</td>\n    </tr>\n    <tr>\n      <th>src_bytes</th>\n      <td>125972.0</td>\n      <td>45567.100824</td>\n      <td>5.870354e+06</td>\n      <td>0.0</td>\n      <td>0.00</td>\n      <td>44.00</td>\n      <td>276.00</td>\n      <td>1.379964e+09</td>\n    </tr>\n    <tr>\n      <th>dst_bytes</th>\n      <td>125972.0</td>\n      <td>19779.271433</td>\n      <td>4.021285e+06</td>\n      <td>0.0</td>\n      <td>0.00</td>\n      <td>0.00</td>\n      <td>516.00</td>\n      <td>1.309937e+09</td>\n    </tr>\n    <tr>\n      <th>land</th>\n      <td>125972.0</td>\n      <td>0.000198</td>\n      <td>1.408613e-02</td>\n      <td>0.0</td>\n      <td>0.00</td>\n      <td>0.00</td>\n      <td>0.00</td>\n      <td>1.000000e+00</td>\n    </tr>\n    <tr>\n      <th>wrong_fragment</th>\n      <td>125972.0</td>\n      <td>0.022688</td>\n      <td>2.535310e-01</td>\n      <td>0.0</td>\n      <td>0.00</td>\n      <td>0.00</td>\n      <td>0.00</td>\n      <td>3.000000e+00</td>\n    </tr>\n    <tr>\n      <th>urgent</th>\n      <td>125972.0</td>\n      <td>0.000111</td>\n      <td>1.436608e-02</td>\n      <td>0.0</td>\n      <td>0.00</td>\n      <td>0.00</td>\n      <td>0.00</td>\n      <td>3.000000e+00</td>\n    </tr>\n    <tr>\n      <th>hot</th>\n      <td>125972.0</td>\n      <td>0.204411</td>\n      <td>2.149977e+00</td>\n      <td>0.0</td>\n      <td>0.00</td>\n      <td>0.00</td>\n      <td>0.00</td>\n      <td>7.700000e+01</td>\n    </tr>\n    <tr>\n      <th>num_failed_logins</th>\n      <td>125972.0</td>\n      <td>0.001222</td>\n      <td>4.523932e-02</td>\n      <td>0.0</td>\n      <td>0.00</td>\n      <td>0.00</td>\n      <td>0.00</td>\n      <td>5.000000e+00</td>\n    </tr>\n    <tr>\n      <th>logged_in</th>\n      <td>125972.0</td>\n      <td>0.395739</td>\n      <td>4.890107e-01</td>\n      <td>0.0</td>\n      <td>0.00</td>\n      <td>0.00</td>\n      <td>1.00</td>\n      <td>1.000000e+00</td>\n    </tr>\n    <tr>\n      <th>num_compromised</th>\n      <td>125972.0</td>\n      <td>0.279253</td>\n      <td>2.394214e+01</td>\n      <td>0.0</td>\n      <td>0.00</td>\n      <td>0.00</td>\n      <td>0.00</td>\n      <td>7.479000e+03</td>\n    </tr>\n    <tr>\n      <th>root_shell</th>\n      <td>125972.0</td>\n      <td>0.001342</td>\n      <td>3.660299e-02</td>\n      <td>0.0</td>\n      <td>0.00</td>\n      <td>0.00</td>\n      <td>0.00</td>\n      <td>1.000000e+00</td>\n    </tr>\n    <tr>\n      <th>su_attempted</th>\n      <td>125972.0</td>\n      <td>0.001103</td>\n      <td>4.515456e-02</td>\n      <td>0.0</td>\n      <td>0.00</td>\n      <td>0.00</td>\n      <td>0.00</td>\n      <td>2.000000e+00</td>\n    </tr>\n    <tr>\n      <th>num_root</th>\n      <td>125972.0</td>\n      <td>0.302194</td>\n      <td>2.439971e+01</td>\n      <td>0.0</td>\n      <td>0.00</td>\n      <td>0.00</td>\n      <td>0.00</td>\n      <td>7.468000e+03</td>\n    </tr>\n    <tr>\n      <th>num_file_creations</th>\n      <td>125972.0</td>\n      <td>0.012669</td>\n      <td>4.839370e-01</td>\n      <td>0.0</td>\n      <td>0.00</td>\n      <td>0.00</td>\n      <td>0.00</td>\n      <td>4.300000e+01</td>\n    </tr>\n    <tr>\n      <th>num_shells</th>\n      <td>125972.0</td>\n      <td>0.000413</td>\n      <td>2.218122e-02</td>\n      <td>0.0</td>\n      <td>0.00</td>\n      <td>0.00</td>\n      <td>0.00</td>\n      <td>2.000000e+00</td>\n    </tr>\n    <tr>\n      <th>num_access_files</th>\n      <td>125972.0</td>\n      <td>0.004096</td>\n      <td>9.936995e-02</td>\n      <td>0.0</td>\n      <td>0.00</td>\n      <td>0.00</td>\n      <td>0.00</td>\n      <td>9.000000e+00</td>\n    </tr>\n    <tr>\n      <th>num_outbound_cmds</th>\n      <td>125972.0</td>\n      <td>0.000000</td>\n      <td>0.000000e+00</td>\n      <td>0.0</td>\n      <td>0.00</td>\n      <td>0.00</td>\n      <td>0.00</td>\n      <td>0.000000e+00</td>\n    </tr>\n    <tr>\n      <th>is_host_login</th>\n      <td>125972.0</td>\n      <td>0.000008</td>\n      <td>2.817494e-03</td>\n      <td>0.0</td>\n      <td>0.00</td>\n      <td>0.00</td>\n      <td>0.00</td>\n      <td>1.000000e+00</td>\n    </tr>\n    <tr>\n      <th>is_guest_login</th>\n      <td>125972.0</td>\n      <td>0.009423</td>\n      <td>9.661271e-02</td>\n      <td>0.0</td>\n      <td>0.00</td>\n      <td>0.00</td>\n      <td>0.00</td>\n      <td>1.000000e+00</td>\n    </tr>\n    <tr>\n      <th>count</th>\n      <td>125972.0</td>\n      <td>84.108207</td>\n      <td>1.145088e+02</td>\n      <td>0.0</td>\n      <td>2.00</td>\n      <td>14.00</td>\n      <td>143.00</td>\n      <td>5.110000e+02</td>\n    </tr>\n    <tr>\n      <th>srv_count</th>\n      <td>125972.0</td>\n      <td>27.738093</td>\n      <td>7.263609e+01</td>\n      <td>0.0</td>\n      <td>2.00</td>\n      <td>8.00</td>\n      <td>18.00</td>\n      <td>5.110000e+02</td>\n    </tr>\n    <tr>\n      <th>serror_rate</th>\n      <td>125972.0</td>\n      <td>0.284487</td>\n      <td>4.464567e-01</td>\n      <td>0.0</td>\n      <td>0.00</td>\n      <td>0.00</td>\n      <td>1.00</td>\n      <td>1.000000e+00</td>\n    </tr>\n    <tr>\n      <th>srv_serror_rate</th>\n      <td>125972.0</td>\n      <td>0.282488</td>\n      <td>4.470236e-01</td>\n      <td>0.0</td>\n      <td>0.00</td>\n      <td>0.00</td>\n      <td>1.00</td>\n      <td>1.000000e+00</td>\n    </tr>\n    <tr>\n      <th>rerror_rate</th>\n      <td>125972.0</td>\n      <td>0.119959</td>\n      <td>3.204366e-01</td>\n      <td>0.0</td>\n      <td>0.00</td>\n      <td>0.00</td>\n      <td>0.00</td>\n      <td>1.000000e+00</td>\n    </tr>\n    <tr>\n      <th>srv_rerror_rate</th>\n      <td>125972.0</td>\n      <td>0.121184</td>\n      <td>3.236483e-01</td>\n      <td>0.0</td>\n      <td>0.00</td>\n      <td>0.00</td>\n      <td>0.00</td>\n      <td>1.000000e+00</td>\n    </tr>\n    <tr>\n      <th>same_srv_rate</th>\n      <td>125972.0</td>\n      <td>0.660925</td>\n      <td>4.396236e-01</td>\n      <td>0.0</td>\n      <td>0.09</td>\n      <td>1.00</td>\n      <td>1.00</td>\n      <td>1.000000e+00</td>\n    </tr>\n    <tr>\n      <th>diff_srv_rate</th>\n      <td>125972.0</td>\n      <td>0.063053</td>\n      <td>1.803150e-01</td>\n      <td>0.0</td>\n      <td>0.00</td>\n      <td>0.00</td>\n      <td>0.06</td>\n      <td>1.000000e+00</td>\n    </tr>\n    <tr>\n      <th>srv_diff_host_rate</th>\n      <td>125972.0</td>\n      <td>0.097322</td>\n      <td>2.598314e-01</td>\n      <td>0.0</td>\n      <td>0.00</td>\n      <td>0.00</td>\n      <td>0.00</td>\n      <td>1.000000e+00</td>\n    </tr>\n    <tr>\n      <th>dst_host_count</th>\n      <td>125972.0</td>\n      <td>182.149200</td>\n      <td>9.920657e+01</td>\n      <td>0.0</td>\n      <td>82.00</td>\n      <td>255.00</td>\n      <td>255.00</td>\n      <td>2.550000e+02</td>\n    </tr>\n    <tr>\n      <th>dst_host_srv_count</th>\n      <td>125972.0</td>\n      <td>115.653725</td>\n      <td>1.107029e+02</td>\n      <td>0.0</td>\n      <td>10.00</td>\n      <td>63.00</td>\n      <td>255.00</td>\n      <td>2.550000e+02</td>\n    </tr>\n    <tr>\n      <th>dst_host_same_srv_rate</th>\n      <td>125972.0</td>\n      <td>0.521244</td>\n      <td>4.489501e-01</td>\n      <td>0.0</td>\n      <td>0.05</td>\n      <td>0.51</td>\n      <td>1.00</td>\n      <td>1.000000e+00</td>\n    </tr>\n    <tr>\n      <th>dst_host_diff_srv_rate</th>\n      <td>125972.0</td>\n      <td>0.082952</td>\n      <td>1.889225e-01</td>\n      <td>0.0</td>\n      <td>0.00</td>\n      <td>0.02</td>\n      <td>0.07</td>\n      <td>1.000000e+00</td>\n    </tr>\n    <tr>\n      <th>dst_host_same_src_port_rate</th>\n      <td>125972.0</td>\n      <td>0.148379</td>\n      <td>3.089984e-01</td>\n      <td>0.0</td>\n      <td>0.00</td>\n      <td>0.00</td>\n      <td>0.06</td>\n      <td>1.000000e+00</td>\n    </tr>\n    <tr>\n      <th>dst_host_srv_diff_host_rate</th>\n      <td>125972.0</td>\n      <td>0.032543</td>\n      <td>1.125642e-01</td>\n      <td>0.0</td>\n      <td>0.00</td>\n      <td>0.00</td>\n      <td>0.02</td>\n      <td>1.000000e+00</td>\n    </tr>\n    <tr>\n      <th>dst_host_serror_rate</th>\n      <td>125972.0</td>\n      <td>0.284455</td>\n      <td>4.447851e-01</td>\n      <td>0.0</td>\n      <td>0.00</td>\n      <td>0.00</td>\n      <td>1.00</td>\n      <td>1.000000e+00</td>\n    </tr>\n    <tr>\n      <th>dst_host_srv_serror_rate</th>\n      <td>125972.0</td>\n      <td>0.278487</td>\n      <td>4.456702e-01</td>\n      <td>0.0</td>\n      <td>0.00</td>\n      <td>0.00</td>\n      <td>1.00</td>\n      <td>1.000000e+00</td>\n    </tr>\n    <tr>\n      <th>dst_host_rerror_rate</th>\n      <td>125972.0</td>\n      <td>0.118832</td>\n      <td>3.065586e-01</td>\n      <td>0.0</td>\n      <td>0.00</td>\n      <td>0.00</td>\n      <td>0.00</td>\n      <td>1.000000e+00</td>\n    </tr>\n    <tr>\n      <th>dst_host_srv_rerror_rate</th>\n      <td>125972.0</td>\n      <td>0.120241</td>\n      <td>3.194605e-01</td>\n      <td>0.0</td>\n      <td>0.00</td>\n      <td>0.00</td>\n      <td>0.00</td>\n      <td>1.000000e+00</td>\n    </tr>\n    <tr>\n      <th>last_flag</th>\n      <td>125972.0</td>\n      <td>19.504056</td>\n      <td>2.291512e+00</td>\n      <td>0.0</td>\n      <td>18.00</td>\n      <td>20.00</td>\n      <td>21.00</td>\n      <td>2.100000e+01</td>\n    </tr>\n  </tbody>\n</table>\n</div>"
     },
     "execution_count": 51,
     "metadata": {},
     "output_type": "execute_result"
    }
   ],
   "source": [
    "train.describe().T"
   ]
  },
  {
   "cell_type": "markdown",
   "metadata": {},
   "source": [
    "In attack_class normal means 0, DOS means 1, PROBE means 2, R2L means 3 and U2R means 4."
   ]
  },
  {
   "cell_type": "code",
   "execution_count": 52,
   "metadata": {},
   "outputs": [],
   "source": [
    "train.loc[train.attack=='normal','attack_class']=0\n",
    "\n",
    "train.loc[(train.attack=='back') | (train.attack=='land') | (train.attack=='pod') | (train.attack=='neptune') | \n",
    "         (train.attack=='smurf') | (train.attack=='teardrop') | (train.attack=='apache2') | (train.attack=='udpstorm') | \n",
    "         (train.attack=='processtable') | (train.attack=='worm') | (train.attack=='mailbomb'),'attack_class']=1\n",
    "\n",
    "train.loc[(train.attack=='satan') | (train.attack=='ipsweep') | (train.attack=='nmap') | (train.attack=='portsweep') | \n",
    "          (train.attack=='mscan') | (train.attack=='saint'),'attack_class']=2\n",
    "\n",
    "train.loc[(train.attack=='guess_passwd') | (train.attack=='ftp_write') | (train.attack=='imap') | (train.attack=='phf') | \n",
    "          (train.attack=='multihop') | (train.attack=='warezmaster') | (train.attack=='warezclient') | (train.attack=='spy') | \n",
    "          (train.attack=='xlock') | (train.attack=='xsnoop') | (train.attack=='snmpguess') | (train.attack=='snmpgetattack') | \n",
    "          (train.attack=='httptunnel') | (train.attack=='sendmail') | (train.attack=='named'),'attack_class']=3\n",
    "\n",
    "train.loc[(train.attack=='buffer_overflow') | (train.attack=='loadmodule') | (train.attack=='rootkit') | (train.attack=='perl') | \n",
    "          (train.attack=='sqlattack') | (train.attack=='xterm') | (train.attack=='ps'),'attack_class']=4"
   ]
  },
  {
   "cell_type": "code",
   "execution_count": 53,
   "metadata": {},
   "outputs": [],
   "source": [
    "test.loc[test.attack=='normal','attack_class']=0\n",
    "\n",
    "test.loc[(test.attack=='back') | (test.attack=='land') | (test.attack=='pod') | (test.attack=='neptune') | \n",
    "         (test.attack=='smurf') | (test.attack=='teardrop') | (test.attack=='apache2') | (test.attack=='udpstorm') | \n",
    "         (test.attack=='processtable') | (test.attack=='worm') | (test.attack=='mailbomb'),'attack_class']=1\n",
    "\n",
    "test.loc[(test.attack=='satan') | (test.attack=='ipsweep') | (test.attack=='nmap') | (test.attack=='portsweep') | \n",
    "          (test.attack=='mscan') | (test.attack=='saint'),'attack_class']=2\n",
    "\n",
    "test.loc[(test.attack=='guess_passwd') | (test.attack=='ftp_write') | (test.attack=='imap') | (test.attack=='phf') | \n",
    "          (test.attack=='multihop') | (test.attack=='warezmaster') | (test.attack=='warezclient') | (test.attack=='spy') | \n",
    "          (test.attack=='xlock') | (test.attack=='xsnoop') | (test.attack=='snmpguess') | (test.attack=='snmpgetattack') | \n",
    "          (test.attack=='httptunnel') | (test.attack=='sendmail') | (test.attack=='named'),'attack_class']=3\n",
    "\n",
    "test.loc[(test.attack=='buffer_overflow') | (test.attack=='loadmodule') | (test.attack=='rootkit') | (test.attack=='perl') | \n",
    "          (test.attack=='sqlattack') | (test.attack=='xterm') | (test.attack=='ps'),'attack_class']=4"
   ]
  },
  {
   "cell_type": "code",
   "execution_count": 54,
   "metadata": {},
   "outputs": [
    {
     "data": {
      "text/plain": "   duration protocol_type  service flag  src_bytes  dst_bytes  land  \\\n0         0           udp    other   SF        146          0     0   \n1         0           tcp  private   S0          0          0     0   \n2         0           tcp     http   SF        232       8153     0   \n3         0           tcp     http   SF        199        420     0   \n4         0           tcp  private  REJ          0          0     0   \n\n   wrong_fragment  urgent  hot  ...  dst_host_diff_srv_rate  \\\n0               0       0    0  ...                    0.60   \n1               0       0    0  ...                    0.05   \n2               0       0    0  ...                    0.00   \n3               0       0    0  ...                    0.00   \n4               0       0    0  ...                    0.07   \n\n   dst_host_same_src_port_rate  dst_host_srv_diff_host_rate  \\\n0                         0.88                         0.00   \n1                         0.00                         0.00   \n2                         0.03                         0.04   \n3                         0.00                         0.00   \n4                         0.00                         0.00   \n\n   dst_host_serror_rate  dst_host_srv_serror_rate  dst_host_rerror_rate  \\\n0                  0.00                      0.00                   0.0   \n1                  1.00                      1.00                   0.0   \n2                  0.03                      0.01                   0.0   \n3                  0.00                      0.00                   0.0   \n4                  0.00                      0.00                   1.0   \n\n   dst_host_srv_rerror_rate   attack  last_flag  attack_class  \n0                      0.00   normal         15           0.0  \n1                      0.00  neptune         19           1.0  \n2                      0.01   normal         21           0.0  \n3                      0.00   normal         21           0.0  \n4                      1.00  neptune         21           1.0  \n\n[5 rows x 44 columns]",
      "text/html": "<div>\n<style scoped>\n    .dataframe tbody tr th:only-of-type {\n        vertical-align: middle;\n    }\n\n    .dataframe tbody tr th {\n        vertical-align: top;\n    }\n\n    .dataframe thead th {\n        text-align: right;\n    }\n</style>\n<table border=\"1\" class=\"dataframe\">\n  <thead>\n    <tr style=\"text-align: right;\">\n      <th></th>\n      <th>duration</th>\n      <th>protocol_type</th>\n      <th>service</th>\n      <th>flag</th>\n      <th>src_bytes</th>\n      <th>dst_bytes</th>\n      <th>land</th>\n      <th>wrong_fragment</th>\n      <th>urgent</th>\n      <th>hot</th>\n      <th>...</th>\n      <th>dst_host_diff_srv_rate</th>\n      <th>dst_host_same_src_port_rate</th>\n      <th>dst_host_srv_diff_host_rate</th>\n      <th>dst_host_serror_rate</th>\n      <th>dst_host_srv_serror_rate</th>\n      <th>dst_host_rerror_rate</th>\n      <th>dst_host_srv_rerror_rate</th>\n      <th>attack</th>\n      <th>last_flag</th>\n      <th>attack_class</th>\n    </tr>\n  </thead>\n  <tbody>\n    <tr>\n      <th>0</th>\n      <td>0</td>\n      <td>udp</td>\n      <td>other</td>\n      <td>SF</td>\n      <td>146</td>\n      <td>0</td>\n      <td>0</td>\n      <td>0</td>\n      <td>0</td>\n      <td>0</td>\n      <td>...</td>\n      <td>0.60</td>\n      <td>0.88</td>\n      <td>0.00</td>\n      <td>0.00</td>\n      <td>0.00</td>\n      <td>0.0</td>\n      <td>0.00</td>\n      <td>normal</td>\n      <td>15</td>\n      <td>0.0</td>\n    </tr>\n    <tr>\n      <th>1</th>\n      <td>0</td>\n      <td>tcp</td>\n      <td>private</td>\n      <td>S0</td>\n      <td>0</td>\n      <td>0</td>\n      <td>0</td>\n      <td>0</td>\n      <td>0</td>\n      <td>0</td>\n      <td>...</td>\n      <td>0.05</td>\n      <td>0.00</td>\n      <td>0.00</td>\n      <td>1.00</td>\n      <td>1.00</td>\n      <td>0.0</td>\n      <td>0.00</td>\n      <td>neptune</td>\n      <td>19</td>\n      <td>1.0</td>\n    </tr>\n    <tr>\n      <th>2</th>\n      <td>0</td>\n      <td>tcp</td>\n      <td>http</td>\n      <td>SF</td>\n      <td>232</td>\n      <td>8153</td>\n      <td>0</td>\n      <td>0</td>\n      <td>0</td>\n      <td>0</td>\n      <td>...</td>\n      <td>0.00</td>\n      <td>0.03</td>\n      <td>0.04</td>\n      <td>0.03</td>\n      <td>0.01</td>\n      <td>0.0</td>\n      <td>0.01</td>\n      <td>normal</td>\n      <td>21</td>\n      <td>0.0</td>\n    </tr>\n    <tr>\n      <th>3</th>\n      <td>0</td>\n      <td>tcp</td>\n      <td>http</td>\n      <td>SF</td>\n      <td>199</td>\n      <td>420</td>\n      <td>0</td>\n      <td>0</td>\n      <td>0</td>\n      <td>0</td>\n      <td>...</td>\n      <td>0.00</td>\n      <td>0.00</td>\n      <td>0.00</td>\n      <td>0.00</td>\n      <td>0.00</td>\n      <td>0.0</td>\n      <td>0.00</td>\n      <td>normal</td>\n      <td>21</td>\n      <td>0.0</td>\n    </tr>\n    <tr>\n      <th>4</th>\n      <td>0</td>\n      <td>tcp</td>\n      <td>private</td>\n      <td>REJ</td>\n      <td>0</td>\n      <td>0</td>\n      <td>0</td>\n      <td>0</td>\n      <td>0</td>\n      <td>0</td>\n      <td>...</td>\n      <td>0.07</td>\n      <td>0.00</td>\n      <td>0.00</td>\n      <td>0.00</td>\n      <td>0.00</td>\n      <td>1.0</td>\n      <td>1.00</td>\n      <td>neptune</td>\n      <td>21</td>\n      <td>1.0</td>\n    </tr>\n  </tbody>\n</table>\n<p>5 rows × 44 columns</p>\n</div>"
     },
     "execution_count": 54,
     "metadata": {},
     "output_type": "execute_result"
    }
   ],
   "source": [
    "train.head()"
   ]
  },
  {
   "cell_type": "code",
   "execution_count": 55,
   "metadata": {},
   "outputs": [
    {
     "data": {
      "text/plain": "(125972, 44)"
     },
     "execution_count": 55,
     "metadata": {},
     "output_type": "execute_result"
    }
   ],
   "source": [
    "train.shape"
   ]
  },
  {
   "cell_type": "code",
   "execution_count": 56,
   "metadata": {},
   "outputs": [
    {
     "data": {
      "text/plain": "'output=pandas_profiling.ProfileReport(train)\\noutput'"
     },
     "execution_count": 56,
     "metadata": {},
     "output_type": "execute_result"
    }
   ],
   "source": [
    "'''output=pandas_profiling.ProfileReport(train)\n",
    "output'''"
   ]
  },
  {
   "cell_type": "markdown",
   "metadata": {},
   "source": [
    "### Exporting pandas profiling output to html file"
   ]
  },
  {
   "cell_type": "code",
   "execution_count": 57,
   "metadata": {},
   "outputs": [],
   "source": [
    "# output.to_file('pandas_profiling.html')"
   ]
  },
  {
   "cell_type": "markdown",
   "metadata": {},
   "source": [
    "### Basic Exploratory Analysis"
   ]
  },
  {
   "cell_type": "code",
   "execution_count": 58,
   "metadata": {},
   "outputs": [
    {
     "data": {
      "text/plain": "<Figure size 432x216 with 1 Axes>",
      "image/png": "[encoded data removed]"
     },
     "metadata": {
      "needs_background": "light"
     },
     "output_type": "display_data"
    }
   ],
   "source": [
    "# Protocol type distribution\n",
    "plt.figure(figsize=(6,3))\n",
    "sns.countplot(x=\"protocol_type\", data=train)\n",
    "plt.show()"
   ]
  },
  {
   "cell_type": "code",
   "execution_count": 59,
   "metadata": {},
   "outputs": [
    {
     "data": {
      "text/plain": "<Figure size 432x720 with 1 Axes>",
      "image/png": "[encoded data removed]"
     },
     "metadata": {
      "needs_background": "light"
     },
     "output_type": "display_data"
    }
   ],
   "source": [
    "# service distribution\n",
    "plt.figure(figsize=(6,10))\n",
    "sns.countplot(y=\"service\", data=train)\n",
    "plt.show()"
   ]
  },
  {
   "cell_type": "code",
   "execution_count": 60,
   "metadata": {},
   "outputs": [
    {
     "data": {
      "text/plain": "<Figure size 432x216 with 1 Axes>",
      "image/png": "[encoded data removed]"
     },
     "metadata": {
      "needs_background": "light"
     },
     "output_type": "display_data"
    }
   ],
   "source": [
    "# flag distribution\n",
    "plt.figure(figsize=(6,3))\n",
    "sns.countplot(x=\"flag\", data=train)\n",
    "plt.show()"
   ]
  },
  {
   "cell_type": "code",
   "execution_count": 61,
   "metadata": {},
   "outputs": [
    {
     "data": {
      "text/plain": "<Figure size 432x288 with 1 Axes>",
      "image/png": "[encoded data removed]"
     },
     "metadata": {
      "needs_background": "light"
     },
     "output_type": "display_data"
    }
   ],
   "source": [
    "# attack distribution\n",
    "plt.figure(figsize=(6,4))\n",
    "sns.countplot(y=\"attack\", data=train)\n",
    "plt.show()"
   ]
  },
  {
   "cell_type": "code",
   "execution_count": 62,
   "metadata": {},
   "outputs": [
    {
     "data": {
      "text/plain": "<Figure size 432x216 with 1 Axes>",
      "image/png": "[encoded data removed]"
     },
     "metadata": {
      "needs_background": "light"
     },
     "output_type": "display_data"
    }
   ],
   "source": [
    "# attack class distribution\n",
    "plt.figure(figsize=(6,3))\n",
    "sns.countplot(x=\"attack_class\", data=train)\n",
    "plt.show()"
   ]
  },
  {
   "cell_type": "markdown",
   "metadata": {},
   "source": [
    "#### identifying relationships (between Y & numerical independent variables by comparing means)"
   ]
  },
  {
   "cell_type": "code",
   "execution_count": 63,
   "metadata": {},
   "outputs": [
    {
     "data": {
      "text/plain": "attack_class                          0.0          1.0            2.0  \\\nduration                       168.589899     0.006227    2074.858185   \nsrc_bytes                    13133.467064  1176.321162  385679.838367   \ndst_bytes                     4329.749517   169.201537  181074.911805   \nland                             0.000104     0.000392       0.000000   \nwrong_fragment                   0.000000     0.062229       0.000000   \nurgent                           0.000148     0.000000       0.000000   \nhot                              0.230658     0.039889       0.001630   \nnum_failed_logins                0.001381     0.000000       0.000343   \nlogged_in                        0.710656     0.020837       0.007121   \nnum_compromised                  0.507083     0.019226       0.000601   \nroot_shell                       0.002034     0.000000       0.000000   \nsu_attempted                     0.002049     0.000000       0.000000   \nnum_root                         0.562932     0.000000       0.000601   \nnum_file_creations               0.022274     0.000000       0.001716   \nnum_shells                       0.000609     0.000000       0.000000   \nnum_access_files                 0.007499     0.000000       0.000000   \nnum_outbound_cmds                0.000000     0.000000       0.000000   \nis_host_login                    0.000015     0.000000       0.000000   \nis_guest_login                   0.012964     0.000000       0.000086   \ncount                           22.518250   178.090034      77.052248   \nsrv_count                       27.686035    32.656346      10.936084   \nserror_rate                      0.013441     0.748494       0.046525   \nsrv_serror_rate                  0.012084     0.746678       0.040160   \nrerror_rate                      0.044197     0.152107       0.437319   \nsrv_rerror_rate                  0.044630     0.153000       0.444469   \nsame_srv_rate                    0.969360     0.191887       0.697196   \ndiff_srv_rate                    0.028788     0.065403       0.256567   \nsrv_diff_host_rate               0.126265     0.005317       0.299903   \ndst_host_count                 147.431885   244.600475     145.204101   \ndst_host_srv_count             190.288215    26.524005      42.367193   \ndst_host_same_srv_rate           0.811885     0.123423       0.390825   \ndst_host_diff_srv_rate           0.040134     0.066333       0.401263   \ndst_host_same_src_port_rate      0.121725     0.049492       0.651840   \ndst_host_srv_diff_host_rate      0.025996     0.001647       0.187343   \ndst_host_serror_rate             0.013930     0.747922       0.044757   \ndst_host_srv_serror_rate         0.006117     0.744434       0.039799   \ndst_host_rerror_rate             0.046589     0.157569       0.389717   \ndst_host_srv_rerror_rate         0.044699     0.151286       0.441030   \nlast_flag                       20.315925    19.311560      16.461050   \n\nattack_class                           3.0          4.0  \nduration                        633.417085    80.942308  \nsrc_bytes                    307727.300503   906.230769  \ndst_bytes                     81822.026131  5141.961538  \nland                              0.000000     0.000000  \nwrong_fragment                    0.000000     0.000000  \nurgent                            0.003015     0.019231  \nhot                               8.334673     1.403846  \nnum_failed_logins                 0.056281     0.019231  \nlogged_in                         0.913568     0.884615  \nnum_compromised                   0.077387     1.211538  \nroot_shell                        0.006030     0.500000  \nsu_attempted                      0.001005     0.000000  \nnum_root                          0.111558     0.788462  \nnum_file_creations                0.035176     0.788462  \nnum_shells                        0.004020     0.134615  \nnum_access_files                  0.010050     0.019231  \nnum_outbound_cmds                 0.000000     0.000000  \nis_host_login                     0.000000     0.000000  \nis_guest_login                    0.314573     0.000000  \ncount                             1.297487     5.807692  \nsrv_count                         2.457286     1.269231  \nserror_rate                       0.011899     0.038077  \nsrv_serror_rate                   0.011045     0.000000  \nrerror_rate                       0.051759     0.009808  \nsrv_rerror_rate                   0.052040     0.019231  \nsame_srv_rate                     0.996653     0.931538  \ndiff_srv_rate                     0.006704     0.063654  \nsrv_diff_host_rate                0.017156     0.000000  \ndst_host_count                   89.037186    47.769231  \ndst_host_srv_count               42.440201     9.884615  \ndst_host_same_srv_rate            0.727377     0.781154  \ndst_host_diff_srv_rate            0.021307     0.040000  \ndst_host_same_src_port_rate       0.596915     0.568269  \ndst_host_srv_diff_host_rate       0.085739     0.081154  \ndst_host_serror_rate              0.023849     0.000000  \ndst_host_srv_serror_rate          0.015960     0.004808  \ndst_host_rerror_rate              0.051116     0.039615  \ndst_host_srv_rerror_rate          0.047367     0.019038  \nlast_flag                         9.878392     4.403846  ",
      "text/html": "<div>\n<style scoped>\n    .dataframe tbody tr th:only-of-type {\n        vertical-align: middle;\n    }\n\n    .dataframe tbody tr th {\n        vertical-align: top;\n    }\n\n    .dataframe thead th {\n        text-align: right;\n    }\n</style>\n<table border=\"1\" class=\"dataframe\">\n  <thead>\n    <tr style=\"text-align: right;\">\n      <th>attack_class</th>\n      <th>0.0</th>\n      <th>1.0</th>\n      <th>2.0</th>\n      <th>3.0</th>\n      <th>4.0</th>\n    </tr>\n  </thead>\n  <tbody>\n    <tr>\n      <th>duration</th>\n      <td>168.589899</td>\n      <td>0.006227</td>\n      <td>2074.858185</td>\n      <td>633.417085</td>\n      <td>80.942308</td>\n    </tr>\n    <tr>\n      <th>src_bytes</th>\n      <td>13133.467064</td>\n      <td>1176.321162</td>\n      <td>385679.838367</td>\n      <td>307727.300503</td>\n      <td>906.230769</td>\n    </tr>\n    <tr>\n      <th>dst_bytes</th>\n      <td>4329.749517</td>\n      <td>169.201537</td>\n      <td>181074.911805</td>\n      <td>81822.026131</td>\n      <td>5141.961538</td>\n    </tr>\n    <tr>\n      <th>land</th>\n      <td>0.000104</td>\n      <td>0.000392</td>\n      <td>0.000000</td>\n      <td>0.000000</td>\n      <td>0.000000</td>\n    </tr>\n    <tr>\n      <th>wrong_fragment</th>\n      <td>0.000000</td>\n      <td>0.062229</td>\n      <td>0.000000</td>\n      <td>0.000000</td>\n      <td>0.000000</td>\n    </tr>\n    <tr>\n      <th>urgent</th>\n      <td>0.000148</td>\n      <td>0.000000</td>\n      <td>0.000000</td>\n      <td>0.003015</td>\n      <td>0.019231</td>\n    </tr>\n    <tr>\n      <th>hot</th>\n      <td>0.230658</td>\n      <td>0.039889</td>\n      <td>0.001630</td>\n      <td>8.334673</td>\n      <td>1.403846</td>\n    </tr>\n    <tr>\n      <th>num_failed_logins</th>\n      <td>0.001381</td>\n      <td>0.000000</td>\n      <td>0.000343</td>\n      <td>0.056281</td>\n      <td>0.019231</td>\n    </tr>\n    <tr>\n      <th>logged_in</th>\n      <td>0.710656</td>\n      <td>0.020837</td>\n      <td>0.007121</td>\n      <td>0.913568</td>\n      <td>0.884615</td>\n    </tr>\n    <tr>\n      <th>num_compromised</th>\n      <td>0.507083</td>\n      <td>0.019226</td>\n      <td>0.000601</td>\n      <td>0.077387</td>\n      <td>1.211538</td>\n    </tr>\n    <tr>\n      <th>root_shell</th>\n      <td>0.002034</td>\n      <td>0.000000</td>\n      <td>0.000000</td>\n      <td>0.006030</td>\n      <td>0.500000</td>\n    </tr>\n    <tr>\n      <th>su_attempted</th>\n      <td>0.002049</td>\n      <td>0.000000</td>\n      <td>0.000000</td>\n      <td>0.001005</td>\n      <td>0.000000</td>\n    </tr>\n    <tr>\n      <th>num_root</th>\n      <td>0.562932</td>\n      <td>0.000000</td>\n      <td>0.000601</td>\n      <td>0.111558</td>\n      <td>0.788462</td>\n    </tr>\n    <tr>\n      <th>num_file_creations</th>\n      <td>0.022274</td>\n      <td>0.000000</td>\n      <td>0.001716</td>\n      <td>0.035176</td>\n      <td>0.788462</td>\n    </tr>\n    <tr>\n      <th>num_shells</th>\n      <td>0.000609</td>\n      <td>0.000000</td>\n      <td>0.000000</td>\n      <td>0.004020</td>\n      <td>0.134615</td>\n    </tr>\n    <tr>\n      <th>num_access_files</th>\n      <td>0.007499</td>\n      <td>0.000000</td>\n      <td>0.000000</td>\n      <td>0.010050</td>\n      <td>0.019231</td>\n    </tr>\n    <tr>\n      <th>num_outbound_cmds</th>\n      <td>0.000000</td>\n      <td>0.000000</td>\n      <td>0.000000</td>\n      <td>0.000000</td>\n      <td>0.000000</td>\n    </tr>\n    <tr>\n      <th>is_host_login</th>\n      <td>0.000015</td>\n      <td>0.000000</td>\n      <td>0.000000</td>\n      <td>0.000000</td>\n      <td>0.000000</td>\n    </tr>\n    <tr>\n      <th>is_guest_login</th>\n      <td>0.012964</td>\n      <td>0.000000</td>\n      <td>0.000086</td>\n      <td>0.314573</td>\n      <td>0.000000</td>\n    </tr>\n    <tr>\n      <th>count</th>\n      <td>22.518250</td>\n      <td>178.090034</td>\n      <td>77.052248</td>\n      <td>1.297487</td>\n      <td>5.807692</td>\n    </tr>\n    <tr>\n      <th>srv_count</th>\n      <td>27.686035</td>\n      <td>32.656346</td>\n      <td>10.936084</td>\n      <td>2.457286</td>\n      <td>1.269231</td>\n    </tr>\n    <tr>\n      <th>serror_rate</th>\n      <td>0.013441</td>\n      <td>0.748494</td>\n      <td>0.046525</td>\n      <td>0.011899</td>\n      <td>0.038077</td>\n    </tr>\n    <tr>\n      <th>srv_serror_rate</th>\n      <td>0.012084</td>\n      <td>0.746678</td>\n      <td>0.040160</td>\n      <td>0.011045</td>\n      <td>0.000000</td>\n    </tr>\n    <tr>\n      <th>rerror_rate</th>\n      <td>0.044197</td>\n      <td>0.152107</td>\n      <td>0.437319</td>\n      <td>0.051759</td>\n      <td>0.009808</td>\n    </tr>\n    <tr>\n      <th>srv_rerror_rate</th>\n      <td>0.044630</td>\n      <td>0.153000</td>\n      <td>0.444469</td>\n      <td>0.052040</td>\n      <td>0.019231</td>\n    </tr>\n    <tr>\n      <th>same_srv_rate</th>\n      <td>0.969360</td>\n      <td>0.191887</td>\n      <td>0.697196</td>\n      <td>0.996653</td>\n      <td>0.931538</td>\n    </tr>\n    <tr>\n      <th>diff_srv_rate</th>\n      <td>0.028788</td>\n      <td>0.065403</td>\n      <td>0.256567</td>\n      <td>0.006704</td>\n      <td>0.063654</td>\n    </tr>\n    <tr>\n      <th>srv_diff_host_rate</th>\n      <td>0.126265</td>\n      <td>0.005317</td>\n      <td>0.299903</td>\n      <td>0.017156</td>\n      <td>0.000000</td>\n    </tr>\n    <tr>\n      <th>dst_host_count</th>\n      <td>147.431885</td>\n      <td>244.600475</td>\n      <td>145.204101</td>\n      <td>89.037186</td>\n      <td>47.769231</td>\n    </tr>\n    <tr>\n      <th>dst_host_srv_count</th>\n      <td>190.288215</td>\n      <td>26.524005</td>\n      <td>42.367193</td>\n      <td>42.440201</td>\n      <td>9.884615</td>\n    </tr>\n    <tr>\n      <th>dst_host_same_srv_rate</th>\n      <td>0.811885</td>\n      <td>0.123423</td>\n      <td>0.390825</td>\n      <td>0.727377</td>\n      <td>0.781154</td>\n    </tr>\n    <tr>\n      <th>dst_host_diff_srv_rate</th>\n      <td>0.040134</td>\n      <td>0.066333</td>\n      <td>0.401263</td>\n      <td>0.021307</td>\n      <td>0.040000</td>\n    </tr>\n    <tr>\n      <th>dst_host_same_src_port_rate</th>\n      <td>0.121725</td>\n      <td>0.049492</td>\n      <td>0.651840</td>\n      <td>0.596915</td>\n      <td>0.568269</td>\n    </tr>\n    <tr>\n      <th>dst_host_srv_diff_host_rate</th>\n      <td>0.025996</td>\n      <td>0.001647</td>\n      <td>0.187343</td>\n      <td>0.085739</td>\n      <td>0.081154</td>\n    </tr>\n    <tr>\n      <th>dst_host_serror_rate</th>\n      <td>0.013930</td>\n      <td>0.747922</td>\n      <td>0.044757</td>\n      <td>0.023849</td>\n      <td>0.000000</td>\n    </tr>\n    <tr>\n      <th>dst_host_srv_serror_rate</th>\n      <td>0.006117</td>\n      <td>0.744434</td>\n      <td>0.039799</td>\n      <td>0.015960</td>\n      <td>0.004808</td>\n    </tr>\n    <tr>\n      <th>dst_host_rerror_rate</th>\n      <td>0.046589</td>\n      <td>0.157569</td>\n      <td>0.389717</td>\n      <td>0.051116</td>\n      <td>0.039615</td>\n    </tr>\n    <tr>\n      <th>dst_host_srv_rerror_rate</th>\n      <td>0.044699</td>\n      <td>0.151286</td>\n      <td>0.441030</td>\n      <td>0.047367</td>\n      <td>0.019038</td>\n    </tr>\n    <tr>\n      <th>last_flag</th>\n      <td>20.315925</td>\n      <td>19.311560</td>\n      <td>16.461050</td>\n      <td>9.878392</td>\n      <td>4.403846</td>\n    </tr>\n  </tbody>\n</table>\n</div>"
     },
     "execution_count": 63,
     "metadata": {},
     "output_type": "execute_result"
    }
   ],
   "source": [
    "train.groupby('attack_class').mean().T"
   ]
  },
  {
   "cell_type": "markdown",
   "metadata": {},
   "source": [
    "##### Observations:\n",
    "- The length of time duration of connection for attack is higher than  normal.\n",
    "- Wrong fragments in the connection is only present in attack.\n",
    "- Number of outbound commands in an ftp session  are 0 in both normal and attack."
   ]
  },
  {
   "cell_type": "code",
   "execution_count": 64,
   "metadata": {},
   "outputs": [],
   "source": [
    "numeric_var_names=[key for key in dict(train.dtypes) if dict(train.dtypes)[key] in ['float64', 'int64', 'float32', 'int32']]\n",
    "cat_var_names=[key for key in dict(train.dtypes) if dict(train.dtypes)[key] in ['object', 'O']]"
   ]
  },
  {
   "cell_type": "code",
   "execution_count": 65,
   "metadata": {},
   "outputs": [
    {
     "data": {
      "text/plain": "['duration',\n 'src_bytes',\n 'dst_bytes',\n 'land',\n 'wrong_fragment',\n 'urgent',\n 'hot',\n 'num_failed_logins',\n 'logged_in',\n 'num_compromised',\n 'root_shell',\n 'su_attempted',\n 'num_root',\n 'num_file_creations',\n 'num_shells',\n 'num_access_files',\n 'num_outbound_cmds',\n 'is_host_login',\n 'is_guest_login',\n 'count',\n 'srv_count',\n 'serror_rate',\n 'srv_serror_rate',\n 'rerror_rate',\n 'srv_rerror_rate',\n 'same_srv_rate',\n 'diff_srv_rate',\n 'srv_diff_host_rate',\n 'dst_host_count',\n 'dst_host_srv_count',\n 'dst_host_same_srv_rate',\n 'dst_host_diff_srv_rate',\n 'dst_host_same_src_port_rate',\n 'dst_host_srv_diff_host_rate',\n 'dst_host_serror_rate',\n 'dst_host_srv_serror_rate',\n 'dst_host_rerror_rate',\n 'dst_host_srv_rerror_rate',\n 'last_flag',\n 'attack_class']"
     },
     "execution_count": 65,
     "metadata": {},
     "output_type": "execute_result"
    }
   ],
   "source": [
    "numeric_var_names"
   ]
  },
  {
   "cell_type": "code",
   "execution_count": 66,
   "metadata": {},
   "outputs": [
    {
     "data": {
      "text/plain": "['protocol_type', 'service', 'flag', 'attack']"
     },
     "execution_count": 66,
     "metadata": {},
     "output_type": "execute_result"
    }
   ],
   "source": [
    "cat_var_names"
   ]
  },
  {
   "cell_type": "code",
   "execution_count": 67,
   "metadata": {},
   "outputs": [
    {
     "data": {
      "text/plain": "   duration  src_bytes  dst_bytes  land  wrong_fragment  urgent  hot  \\\n0         0        146          0     0               0       0    0   \n1         0          0          0     0               0       0    0   \n2         0        232       8153     0               0       0    0   \n3         0        199        420     0               0       0    0   \n4         0          0          0     0               0       0    0   \n\n   num_failed_logins  logged_in  num_compromised  ...  dst_host_same_srv_rate  \\\n0                  0          0                0  ...                    0.00   \n1                  0          0                0  ...                    0.10   \n2                  0          1                0  ...                    1.00   \n3                  0          1                0  ...                    1.00   \n4                  0          0                0  ...                    0.07   \n\n   dst_host_diff_srv_rate  dst_host_same_src_port_rate  \\\n0                    0.60                         0.88   \n1                    0.05                         0.00   \n2                    0.00                         0.03   \n3                    0.00                         0.00   \n4                    0.07                         0.00   \n\n   dst_host_srv_diff_host_rate  dst_host_serror_rate  \\\n0                         0.00                  0.00   \n1                         0.00                  1.00   \n2                         0.04                  0.03   \n3                         0.00                  0.00   \n4                         0.00                  0.00   \n\n   dst_host_srv_serror_rate  dst_host_rerror_rate  dst_host_srv_rerror_rate  \\\n0                      0.00                   0.0                      0.00   \n1                      1.00                   0.0                      0.00   \n2                      0.01                   0.0                      0.01   \n3                      0.00                   0.0                      0.00   \n4                      0.00                   1.0                      1.00   \n\n   last_flag  attack_class  \n0         15           0.0  \n1         19           1.0  \n2         21           0.0  \n3         21           0.0  \n4         21           1.0  \n\n[5 rows x 40 columns]",
      "text/html": "<div>\n<style scoped>\n    .dataframe tbody tr th:only-of-type {\n        vertical-align: middle;\n    }\n\n    .dataframe tbody tr th {\n        vertical-align: top;\n    }\n\n    .dataframe thead th {\n        text-align: right;\n    }\n</style>\n<table border=\"1\" class=\"dataframe\">\n  <thead>\n    <tr style=\"text-align: right;\">\n      <th></th>\n      <th>duration</th>\n      <th>src_bytes</th>\n      <th>dst_bytes</th>\n      <th>land</th>\n      <th>wrong_fragment</th>\n      <th>urgent</th>\n      <th>hot</th>\n      <th>num_failed_logins</th>\n      <th>logged_in</th>\n      <th>num_compromised</th>\n      <th>...</th>\n      <th>dst_host_same_srv_rate</th>\n      <th>dst_host_diff_srv_rate</th>\n      <th>dst_host_same_src_port_rate</th>\n      <th>dst_host_srv_diff_host_rate</th>\n      <th>dst_host_serror_rate</th>\n      <th>dst_host_srv_serror_rate</th>\n      <th>dst_host_rerror_rate</th>\n      <th>dst_host_srv_rerror_rate</th>\n      <th>last_flag</th>\n      <th>attack_class</th>\n    </tr>\n  </thead>\n  <tbody>\n    <tr>\n      <th>0</th>\n      <td>0</td>\n      <td>146</td>\n      <td>0</td>\n      <td>0</td>\n      <td>0</td>\n      <td>0</td>\n      <td>0</td>\n      <td>0</td>\n      <td>0</td>\n      <td>0</td>\n      <td>...</td>\n      <td>0.00</td>\n      <td>0.60</td>\n      <td>0.88</td>\n      <td>0.00</td>\n      <td>0.00</td>\n      <td>0.00</td>\n      <td>0.0</td>\n      <td>0.00</td>\n      <td>15</td>\n      <td>0.0</td>\n    </tr>\n    <tr>\n      <th>1</th>\n      <td>0</td>\n      <td>0</td>\n      <td>0</td>\n      <td>0</td>\n      <td>0</td>\n      <td>0</td>\n      <td>0</td>\n      <td>0</td>\n      <td>0</td>\n      <td>0</td>\n      <td>...</td>\n      <td>0.10</td>\n      <td>0.05</td>\n      <td>0.00</td>\n      <td>0.00</td>\n      <td>1.00</td>\n      <td>1.00</td>\n      <td>0.0</td>\n      <td>0.00</td>\n      <td>19</td>\n      <td>1.0</td>\n    </tr>\n    <tr>\n      <th>2</th>\n      <td>0</td>\n      <td>232</td>\n      <td>8153</td>\n      <td>0</td>\n      <td>0</td>\n      <td>0</td>\n      <td>0</td>\n      <td>0</td>\n      <td>1</td>\n      <td>0</td>\n      <td>...</td>\n      <td>1.00</td>\n      <td>0.00</td>\n      <td>0.03</td>\n      <td>0.04</td>\n      <td>0.03</td>\n      <td>0.01</td>\n      <td>0.0</td>\n      <td>0.01</td>\n      <td>21</td>\n      <td>0.0</td>\n    </tr>\n    <tr>\n      <th>3</th>\n      <td>0</td>\n      <td>199</td>\n      <td>420</td>\n      <td>0</td>\n      <td>0</td>\n      <td>0</td>\n      <td>0</td>\n      <td>0</td>\n      <td>1</td>\n      <td>0</td>\n      <td>...</td>\n      <td>1.00</td>\n      <td>0.00</td>\n      <td>0.00</td>\n      <td>0.00</td>\n      <td>0.00</td>\n      <td>0.00</td>\n      <td>0.0</td>\n      <td>0.00</td>\n      <td>21</td>\n      <td>0.0</td>\n    </tr>\n    <tr>\n      <th>4</th>\n      <td>0</td>\n      <td>0</td>\n      <td>0</td>\n      <td>0</td>\n      <td>0</td>\n      <td>0</td>\n      <td>0</td>\n      <td>0</td>\n      <td>0</td>\n      <td>0</td>\n      <td>...</td>\n      <td>0.07</td>\n      <td>0.07</td>\n      <td>0.00</td>\n      <td>0.00</td>\n      <td>0.00</td>\n      <td>0.00</td>\n      <td>1.0</td>\n      <td>1.00</td>\n      <td>21</td>\n      <td>1.0</td>\n    </tr>\n  </tbody>\n</table>\n<p>5 rows × 40 columns</p>\n</div>"
     },
     "execution_count": 67,
     "metadata": {},
     "output_type": "execute_result"
    }
   ],
   "source": [
    "train_num=train[numeric_var_names]\n",
    "test_num=test[numeric_var_names]\n",
    "train_num.head(5)"
   ]
  },
  {
   "cell_type": "code",
   "execution_count": 68,
   "metadata": {},
   "outputs": [
    {
     "data": {
      "text/plain": "  protocol_type  service flag   attack\n0           udp    other   SF   normal\n1           tcp  private   S0  neptune\n2           tcp     http   SF   normal\n3           tcp     http   SF   normal\n4           tcp  private  REJ  neptune",
      "text/html": "<div>\n<style scoped>\n    .dataframe tbody tr th:only-of-type {\n        vertical-align: middle;\n    }\n\n    .dataframe tbody tr th {\n        vertical-align: top;\n    }\n\n    .dataframe thead th {\n        text-align: right;\n    }\n</style>\n<table border=\"1\" class=\"dataframe\">\n  <thead>\n    <tr style=\"text-align: right;\">\n      <th></th>\n      <th>protocol_type</th>\n      <th>service</th>\n      <th>flag</th>\n      <th>attack</th>\n    </tr>\n  </thead>\n  <tbody>\n    <tr>\n      <th>0</th>\n      <td>udp</td>\n      <td>other</td>\n      <td>SF</td>\n      <td>normal</td>\n    </tr>\n    <tr>\n      <th>1</th>\n      <td>tcp</td>\n      <td>private</td>\n      <td>S0</td>\n      <td>neptune</td>\n    </tr>\n    <tr>\n      <th>2</th>\n      <td>tcp</td>\n      <td>http</td>\n      <td>SF</td>\n      <td>normal</td>\n    </tr>\n    <tr>\n      <th>3</th>\n      <td>tcp</td>\n      <td>http</td>\n      <td>SF</td>\n      <td>normal</td>\n    </tr>\n    <tr>\n      <th>4</th>\n      <td>tcp</td>\n      <td>private</td>\n      <td>REJ</td>\n      <td>neptune</td>\n    </tr>\n  </tbody>\n</table>\n</div>"
     },
     "execution_count": 68,
     "metadata": {},
     "output_type": "execute_result"
    }
   ],
   "source": [
    "train_cat=train[cat_var_names]\n",
    "test_cat=test[cat_var_names]\n",
    "train_cat.head(5)"
   ]
  },
  {
   "cell_type": "markdown",
   "metadata": {},
   "source": [
    "### Data Audit Report"
   ]
  },
  {
   "cell_type": "code",
   "execution_count": 69,
   "metadata": {},
   "outputs": [],
   "source": [
    "# Creating Data audit Report\n",
    "def var_summary(x):\n",
    "    return pd.Series([x.count(), x.isnull().sum(), x.sum(), x.mean(), x.median(),  x.std(), x.var(), x.min(), x.dropna().quantile(0.01), x.dropna().quantile(0.05),x.dropna().quantile(0.10),x.dropna().quantile(0.25),x.dropna().quantile(0.50),x.dropna().quantile(0.75), x.dropna().quantile(0.90),x.dropna().quantile(0.95), x.dropna().quantile(0.99),x.max()], \n",
    "                  index=['N', 'NMISS', 'SUM', 'MEAN','MEDIAN', 'STD', 'VAR', 'MIN', 'P1' , 'P5' ,'P10' ,'P25' ,'P50' ,'P75' ,'P90' ,'P95' ,'P99' ,'MAX'])\n",
    "\n",
    "num_summary=train_num.apply(lambda x: var_summary(x)).T"
   ]
  },
  {
   "cell_type": "code",
   "execution_count": 70,
   "metadata": {},
   "outputs": [
    {
     "data": {
      "text/plain": "                                    N  NMISS           SUM          MEAN  \\\nduration                     125972.0    0.0  3.617247e+07    287.146929   \nsrc_bytes                    125972.0    0.0  5.740179e+09  45567.100824   \ndst_bytes                    125972.0    0.0  2.491634e+09  19779.271433   \nland                         125972.0    0.0  2.500000e+01      0.000198   \nwrong_fragment               125972.0    0.0  2.858000e+03      0.022688   \nurgent                       125972.0    0.0  1.400000e+01      0.000111   \nhot                          125972.0    0.0  2.575000e+04      0.204411   \nnum_failed_logins            125972.0    0.0  1.540000e+02      0.001222   \nlogged_in                    125972.0    0.0  4.985200e+04      0.395739   \nnum_compromised              125972.0    0.0  3.517800e+04      0.279253   \nroot_shell                   125972.0    0.0  1.690000e+02      0.001342   \nsu_attempted                 125972.0    0.0  1.390000e+02      0.001103   \nnum_root                     125972.0    0.0  3.806800e+04      0.302194   \nnum_file_creations           125972.0    0.0  1.596000e+03      0.012669   \nnum_shells                   125972.0    0.0  5.200000e+01      0.000413   \nnum_access_files             125972.0    0.0  5.160000e+02      0.004096   \nnum_outbound_cmds            125972.0    0.0  0.000000e+00      0.000000   \nis_host_login                125972.0    0.0  1.000000e+00      0.000008   \nis_guest_login               125972.0    0.0  1.187000e+03      0.009423   \ncount                        125972.0    0.0  1.059528e+07     84.108207   \nsrv_count                    125972.0    0.0  3.494223e+06     27.738093   \nserror_rate                  125972.0    0.0  3.583737e+04      0.284487   \nsrv_serror_rate              125972.0    0.0  3.558553e+04      0.282488   \nrerror_rate                  125972.0    0.0  1.511153e+04      0.119959   \nsrv_rerror_rate              125972.0    0.0  1.526582e+04      0.121184   \nsame_srv_rate                125972.0    0.0  8.325804e+04      0.660925   \ndiff_srv_rate                125972.0    0.0  7.942930e+03      0.063053   \nsrv_diff_host_rate           125972.0    0.0  1.225990e+04      0.097322   \ndst_host_count               125972.0    0.0  2.294570e+07    182.149200   \ndst_host_srv_count           125972.0    0.0  1.456913e+07    115.653725   \ndst_host_same_srv_rate       125972.0    0.0  6.566221e+04      0.521244   \ndst_host_diff_srv_rate       125972.0    0.0  1.044957e+04      0.082952   \ndst_host_same_src_port_rate  125972.0    0.0  1.869156e+04      0.148379   \ndst_host_srv_diff_host_rate  125972.0    0.0  4.099470e+03      0.032543   \ndst_host_serror_rate         125972.0    0.0  3.583333e+04      0.284455   \ndst_host_srv_serror_rate     125972.0    0.0  3.508153e+04      0.278487   \ndst_host_rerror_rate         125972.0    0.0  1.496955e+04      0.118832   \ndst_host_srv_rerror_rate     125972.0    0.0  1.514698e+04      0.120241   \nlast_flag                    125972.0    0.0  2.456965e+06     19.504056   \nattack_class                 125972.0    0.0  7.243200e+04      0.574985   \n\n                             MEDIAN           STD           VAR  MIN    P1  \\\nduration                       0.00  2.604526e+03  6.783553e+06  0.0   0.0   \nsrc_bytes                     44.00  5.870354e+06  3.446106e+13  0.0   0.0   \ndst_bytes                      0.00  4.021285e+06  1.617073e+13  0.0   0.0   \nland                           0.00  1.408613e-02  1.984190e-04  0.0   0.0   \nwrong_fragment                 0.00  2.535310e-01  6.427796e-02  0.0   0.0   \nurgent                         0.00  1.436608e-02  2.063844e-04  0.0   0.0   \nhot                            0.00  2.149977e+00  4.622401e+00  0.0   0.0   \nnum_failed_logins              0.00  4.523932e-02  2.046596e-03  0.0   0.0   \nlogged_in                      0.00  4.890107e-01  2.391315e-01  0.0   0.0   \nnum_compromised                0.00  2.394214e+01  5.732259e+02  0.0   0.0   \nroot_shell                     0.00  3.660299e-02  1.339779e-03  0.0   0.0   \nsu_attempted                   0.00  4.515456e-02  2.038935e-03  0.0   0.0   \nnum_root                       0.00  2.439971e+01  5.953461e+02  0.0   0.0   \nnum_file_creations             0.00  4.839370e-01  2.341950e-01  0.0   0.0   \nnum_shells                     0.00  2.218122e-02  4.920064e-04  0.0   0.0   \nnum_access_files               0.00  9.936995e-02  9.874387e-03  0.0   0.0   \nnum_outbound_cmds              0.00  0.000000e+00  0.000000e+00  0.0   0.0   \nis_host_login                  0.00  2.817494e-03  7.938272e-06  0.0   0.0   \nis_guest_login                 0.00  9.661271e-02  9.334015e-03  0.0   0.0   \ncount                         14.00  1.145088e+02  1.311227e+04  0.0   1.0   \nsrv_count                      8.00  7.263609e+01  5.276002e+03  0.0   1.0   \nserror_rate                    0.00  4.464567e-01  1.993236e-01  0.0   0.0   \nsrv_serror_rate                0.00  4.470236e-01  1.998301e-01  0.0   0.0   \nrerror_rate                    0.00  3.204366e-01  1.026796e-01  0.0   0.0   \nsrv_rerror_rate                0.00  3.236483e-01  1.047482e-01  0.0   0.0   \nsame_srv_rate                  1.00  4.396236e-01  1.932689e-01  0.0   0.0   \ndiff_srv_rate                  0.00  1.803150e-01  3.251351e-02  0.0   0.0   \nsrv_diff_host_rate             0.00  2.598314e-01  6.751235e-02  0.0   0.0   \ndst_host_count               255.00  9.920657e+01  9.841943e+03  0.0   1.0   \ndst_host_srv_count            63.00  1.107029e+02  1.225513e+04  0.0   1.0   \ndst_host_same_srv_rate         0.51  4.489501e-01  2.015562e-01  0.0   0.0   \ndst_host_diff_srv_rate         0.02  1.889225e-01  3.569171e-02  0.0   0.0   \ndst_host_same_src_port_rate    0.00  3.089984e-01  9.547998e-02  0.0   0.0   \ndst_host_srv_diff_host_rate    0.00  1.125642e-01  1.267070e-02  0.0   0.0   \ndst_host_serror_rate           0.00  4.447851e-01  1.978338e-01  0.0   0.0   \ndst_host_srv_serror_rate       0.00  4.456702e-01  1.986219e-01  0.0   0.0   \ndst_host_rerror_rate           0.00  3.065586e-01  9.397818e-02  0.0   0.0   \ndst_host_srv_rerror_rate       0.00  3.194605e-01  1.020550e-01  0.0   0.0   \nlast_flag                     20.00  2.291512e+00  5.251025e+00  0.0  11.0   \nattack_class                   0.00  6.941059e-01  4.817830e-01  0.0   0.0   \n\n                                P5    P10    P25     P50     P75      P90  \\\nduration                      0.00   0.00   0.00    0.00    0.00     0.00   \nsrc_bytes                     0.00   0.00   0.00   44.00  276.00   848.00   \ndst_bytes                     0.00   0.00   0.00    0.00  516.00  3375.90   \nland                          0.00   0.00   0.00    0.00    0.00     0.00   \nwrong_fragment                0.00   0.00   0.00    0.00    0.00     0.00   \nurgent                        0.00   0.00   0.00    0.00    0.00     0.00   \nhot                           0.00   0.00   0.00    0.00    0.00     0.00   \nnum_failed_logins             0.00   0.00   0.00    0.00    0.00     0.00   \nlogged_in                     0.00   0.00   0.00    0.00    1.00     1.00   \nnum_compromised               0.00   0.00   0.00    0.00    0.00     0.00   \nroot_shell                    0.00   0.00   0.00    0.00    0.00     0.00   \nsu_attempted                  0.00   0.00   0.00    0.00    0.00     0.00   \nnum_root                      0.00   0.00   0.00    0.00    0.00     0.00   \nnum_file_creations            0.00   0.00   0.00    0.00    0.00     0.00   \nnum_shells                    0.00   0.00   0.00    0.00    0.00     0.00   \nnum_access_files              0.00   0.00   0.00    0.00    0.00     0.00   \nnum_outbound_cmds             0.00   0.00   0.00    0.00    0.00     0.00   \nis_host_login                 0.00   0.00   0.00    0.00    0.00     0.00   \nis_guest_login                0.00   0.00   0.00    0.00    0.00     0.00   \ncount                         1.00   1.00   2.00   14.00  143.00   256.00   \nsrv_count                     1.00   1.00   2.00    8.00   18.00    40.00   \nserror_rate                   0.00   0.00   0.00    0.00    1.00     1.00   \nsrv_serror_rate               0.00   0.00   0.00    0.00    1.00     1.00   \nrerror_rate                   0.00   0.00   0.00    0.00    0.00     1.00   \nsrv_rerror_rate               0.00   0.00   0.00    0.00    0.00     1.00   \nsame_srv_rate                 0.01   0.03   0.09    1.00    1.00     1.00   \ndiff_srv_rate                 0.00   0.00   0.00    0.00    0.06     0.07   \nsrv_diff_host_rate            0.00   0.00   0.00    0.00    0.00     0.31   \ndst_host_count                3.00  11.00  82.00  255.00  255.00   255.00   \ndst_host_srv_count            1.00   2.00  10.00   63.00  255.00   255.00   \ndst_host_same_srv_rate        0.00   0.01   0.05    0.51    1.00     1.00   \ndst_host_diff_srv_rate        0.00   0.00   0.00    0.02    0.07     0.10   \ndst_host_same_src_port_rate   0.00   0.00   0.00    0.00    0.06     0.84   \ndst_host_srv_diff_host_rate   0.00   0.00   0.00    0.00    0.02     0.05   \ndst_host_serror_rate          0.00   0.00   0.00    0.00    1.00     1.00   \ndst_host_srv_serror_rate      0.00   0.00   0.00    0.00    1.00     1.00   \ndst_host_rerror_rate          0.00   0.00   0.00    0.00    0.00     0.84   \ndst_host_srv_rerror_rate      0.00   0.00   0.00    0.00    0.00     1.00   \nlast_flag                    15.00  17.00  18.00   20.00   21.00    21.00   \nattack_class                  0.00   0.00   0.00    0.00    1.00     2.00   \n\n                                 P95       P99           MAX  \nduration                        4.00   9590.58  4.290800e+04  \nsrc_bytes                    1480.00  54540.00  1.379964e+09  \ndst_bytes                    8314.00  25519.00  1.309937e+09  \nland                            0.00      0.00  1.000000e+00  \nwrong_fragment                  0.00      0.00  3.000000e+00  \nurgent                          0.00      0.00  3.000000e+00  \nhot                             0.00      3.00  7.700000e+01  \nnum_failed_logins               0.00      0.00  5.000000e+00  \nlogged_in                       1.00      1.00  1.000000e+00  \nnum_compromised                 0.00      1.00  7.479000e+03  \nroot_shell                      0.00      0.00  1.000000e+00  \nsu_attempted                    0.00      0.00  2.000000e+00  \nnum_root                        0.00      0.00  7.468000e+03  \nnum_file_creations              0.00      0.00  4.300000e+01  \nnum_shells                      0.00      0.00  2.000000e+00  \nnum_access_files                0.00      0.00  9.000000e+00  \nnum_outbound_cmds               0.00      0.00  0.000000e+00  \nis_host_login                   0.00      0.00  1.000000e+00  \nis_guest_login                  0.00      0.00  1.000000e+00  \ncount                         286.00    511.00  5.110000e+02  \nsrv_count                     158.00    492.00  5.110000e+02  \nserror_rate                     1.00      1.00  1.000000e+00  \nsrv_serror_rate                 1.00      1.00  1.000000e+00  \nrerror_rate                     1.00      1.00  1.000000e+00  \nsrv_rerror_rate                 1.00      1.00  1.000000e+00  \nsame_srv_rate                   1.00      1.00  1.000000e+00  \ndiff_srv_rate                   0.29      1.00  1.000000e+00  \nsrv_diff_host_rate              1.00      1.00  1.000000e+00  \ndst_host_count                255.00    255.00  2.550000e+02  \ndst_host_srv_count            255.00    255.00  2.550000e+02  \ndst_host_same_srv_rate          1.00      1.00  1.000000e+00  \ndst_host_diff_srv_rate          0.56      1.00  1.000000e+00  \ndst_host_same_src_port_rate     1.00      1.00  1.000000e+00  \ndst_host_srv_diff_host_rate     0.18      0.52  1.000000e+00  \ndst_host_serror_rate            1.00      1.00  1.000000e+00  \ndst_host_srv_serror_rate        1.00      1.00  1.000000e+00  \ndst_host_rerror_rate            1.00      1.00  1.000000e+00  \ndst_host_srv_rerror_rate        1.00      1.00  1.000000e+00  \nlast_flag                      21.00     21.00  2.100000e+01  \nattack_class                    2.00      2.00  4.000000e+00  ",
      "text/html": "<div>\n<style scoped>\n    .dataframe tbody tr th:only-of-type {\n        vertical-align: middle;\n    }\n\n    .dataframe tbody tr th {\n        vertical-align: top;\n    }\n\n    .dataframe thead th {\n        text-align: right;\n    }\n</style>\n<table border=\"1\" class=\"dataframe\">\n  <thead>\n    <tr style=\"text-align: right;\">\n      <th></th>\n      <th>N</th>\n      <th>NMISS</th>\n      <th>SUM</th>\n      <th>MEAN</th>\n      <th>MEDIAN</th>\n      <th>STD</th>\n      <th>VAR</th>\n      <th>MIN</th>\n      <th>P1</th>\n      <th>P5</th>\n      <th>P10</th>\n      <th>P25</th>\n      <th>P50</th>\n      <th>P75</th>\n      <th>P90</th>\n      <th>P95</th>\n      <th>P99</th>\n      <th>MAX</th>\n    </tr>\n  </thead>\n  <tbody>\n    <tr>\n      <th>duration</th>\n      <td>125972.0</td>\n      <td>0.0</td>\n      <td>3.617247e+07</td>\n      <td>287.146929</td>\n      <td>0.00</td>\n      <td>2.604526e+03</td>\n      <td>6.783553e+06</td>\n      <td>0.0</td>\n      <td>0.0</td>\n      <td>0.00</td>\n      <td>0.00</td>\n      <td>0.00</td>\n      <td>0.00</td>\n      <td>0.00</td>\n      <td>0.00</td>\n      <td>4.00</td>\n      <td>9590.58</td>\n      <td>4.290800e+04</td>\n    </tr>\n    <tr>\n      <th>src_bytes</th>\n      <td>125972.0</td>\n      <td>0.0</td>\n      <td>5.740179e+09</td>\n      <td>45567.100824</td>\n      <td>44.00</td>\n      <td>5.870354e+06</td>\n      <td>3.446106e+13</td>\n      <td>0.0</td>\n      <td>0.0</td>\n      <td>0.00</td>\n      <td>0.00</td>\n      <td>0.00</td>\n      <td>44.00</td>\n      <td>276.00</td>\n      <td>848.00</td>\n      <td>1480.00</td>\n      <td>54540.00</td>\n      <td>1.379964e+09</td>\n    </tr>\n    <tr>\n      <th>dst_bytes</th>\n      <td>125972.0</td>\n      <td>0.0</td>\n      <td>2.491634e+09</td>\n      <td>19779.271433</td>\n      <td>0.00</td>\n      <td>4.021285e+06</td>\n      <td>1.617073e+13</td>\n      <td>0.0</td>\n      <td>0.0</td>\n      <td>0.00</td>\n      <td>0.00</td>\n      <td>0.00</td>\n      <td>0.00</td>\n      <td>516.00</td>\n      <td>3375.90</td>\n      <td>8314.00</td>\n      <td>25519.00</td>\n      <td>1.309937e+09</td>\n    </tr>\n    <tr>\n      <th>land</th>\n      <td>125972.0</td>\n      <td>0.0</td>\n      <td>2.500000e+01</td>\n      <td>0.000198</td>\n      <td>0.00</td>\n      <td>1.408613e-02</td>\n      <td>1.984190e-04</td>\n      <td>0.0</td>\n      <td>0.0</td>\n      <td>0.00</td>\n      <td>0.00</td>\n      <td>0.00</td>\n      <td>0.00</td>\n      <td>0.00</td>\n      <td>0.00</td>\n      <td>0.00</td>\n      <td>0.00</td>\n      <td>1.000000e+00</td>\n    </tr>\n    <tr>\n      <th>wrong_fragment</th>\n      <td>125972.0</td>\n      <td>0.0</td>\n      <td>2.858000e+03</td>\n      <td>0.022688</td>\n      <td>0.00</td>\n      <td>2.535310e-01</td>\n      <td>6.427796e-02</td>\n      <td>0.0</td>\n      <td>0.0</td>\n      <td>0.00</td>\n      <td>0.00</td>\n      <td>0.00</td>\n      <td>0.00</td>\n      <td>0.00</td>\n      <td>0.00</td>\n      <td>0.00</td>\n      <td>0.00</td>\n      <td>3.000000e+00</td>\n    </tr>\n    <tr>\n      <th>urgent</th>\n      <td>125972.0</td>\n      <td>0.0</td>\n      <td>1.400000e+01</td>\n      <td>0.000111</td>\n      <td>0.00</td>\n      <td>1.436608e-02</td>\n      <td>2.063844e-04</td>\n      <td>0.0</td>\n      <td>0.0</td>\n      <td>0.00</td>\n      <td>0.00</td>\n      <td>0.00</td>\n      <td>0.00</td>\n      <td>0.00</td>\n      <td>0.00</td>\n      <td>0.00</td>\n      <td>0.00</td>\n      <td>3.000000e+00</td>\n    </tr>\n    <tr>\n      <th>hot</th>\n      <td>125972.0</td>\n      <td>0.0</td>\n      <td>2.575000e+04</td>\n      <td>0.204411</td>\n      <td>0.00</td>\n      <td>2.149977e+00</td>\n      <td>4.622401e+00</td>\n      <td>0.0</td>\n      <td>0.0</td>\n      <td>0.00</td>\n      <td>0.00</td>\n      <td>0.00</td>\n      <td>0.00</td>\n      <td>0.00</td>\n      <td>0.00</td>\n      <td>0.00</td>\n      <td>3.00</td>\n      <td>7.700000e+01</td>\n    </tr>\n    <tr>\n      <th>num_failed_logins</th>\n      <td>125972.0</td>\n      <td>0.0</td>\n      <td>1.540000e+02</td>\n      <td>0.001222</td>\n      <td>0.00</td>\n      <td>4.523932e-02</td>\n      <td>2.046596e-03</td>\n      <td>0.0</td>\n      <td>0.0</td>\n      <td>0.00</td>\n      <td>0.00</td>\n      <td>0.00</td>\n      <td>0.00</td>\n      <td>0.00</td>\n      <td>0.00</td>\n      <td>0.00</td>\n      <td>0.00</td>\n      <td>5.000000e+00</td>\n    </tr>\n    <tr>\n      <th>logged_in</th>\n      <td>125972.0</td>\n      <td>0.0</td>\n      <td>4.985200e+04</td>\n      <td>0.395739</td>\n      <td>0.00</td>\n      <td>4.890107e-01</td>\n      <td>2.391315e-01</td>\n      <td>0.0</td>\n      <td>0.0</td>\n      <td>0.00</td>\n      <td>0.00</td>\n      <td>0.00</td>\n      <td>0.00</td>\n      <td>1.00</td>\n      <td>1.00</td>\n      <td>1.00</td>\n      <td>1.00</td>\n      <td>1.000000e+00</td>\n    </tr>\n    <tr>\n      <th>num_compromised</th>\n      <td>125972.0</td>\n      <td>0.0</td>\n      <td>3.517800e+04</td>\n      <td>0.279253</td>\n      <td>0.00</td>\n      <td>2.394214e+01</td>\n      <td>5.732259e+02</td>\n      <td>0.0</td>\n      <td>0.0</td>\n      <td>0.00</td>\n      <td>0.00</td>\n      <td>0.00</td>\n      <td>0.00</td>\n      <td>0.00</td>\n      <td>0.00</td>\n      <td>0.00</td>\n      <td>1.00</td>\n      <td>7.479000e+03</td>\n    </tr>\n    <tr>\n      <th>root_shell</th>\n      <td>125972.0</td>\n      <td>0.0</td>\n      <td>1.690000e+02</td>\n      <td>0.001342</td>\n      <td>0.00</td>\n      <td>3.660299e-02</td>\n      <td>1.339779e-03</td>\n      <td>0.0</td>\n      <td>0.0</td>\n      <td>0.00</td>\n      <td>0.00</td>\n      <td>0.00</td>\n      <td>0.00</td>\n      <td>0.00</td>\n      <td>0.00</td>\n      <td>0.00</td>\n      <td>0.00</td>\n      <td>1.000000e+00</td>\n    </tr>\n    <tr>\n      <th>su_attempted</th>\n      <td>125972.0</td>\n      <td>0.0</td>\n      <td>1.390000e+02</td>\n      <td>0.001103</td>\n      <td>0.00</td>\n      <td>4.515456e-02</td>\n      <td>2.038935e-03</td>\n      <td>0.0</td>\n      <td>0.0</td>\n      <td>0.00</td>\n      <td>0.00</td>\n      <td>0.00</td>\n      <td>0.00</td>\n      <td>0.00</td>\n      <td>0.00</td>\n      <td>0.00</td>\n      <td>0.00</td>\n      <td>2.000000e+00</td>\n    </tr>\n    <tr>\n      <th>num_root</th>\n      <td>125972.0</td>\n      <td>0.0</td>\n      <td>3.806800e+04</td>\n      <td>0.302194</td>\n      <td>0.00</td>\n      <td>2.439971e+01</td>\n      <td>5.953461e+02</td>\n      <td>0.0</td>\n      <td>0.0</td>\n      <td>0.00</td>\n      <td>0.00</td>\n      <td>0.00</td>\n      <td>0.00</td>\n      <td>0.00</td>\n      <td>0.00</td>\n      <td>0.00</td>\n      <td>0.00</td>\n      <td>7.468000e+03</td>\n    </tr>\n    <tr>\n      <th>num_file_creations</th>\n      <td>125972.0</td>\n      <td>0.0</td>\n      <td>1.596000e+03</td>\n      <td>0.012669</td>\n      <td>0.00</td>\n      <td>4.839370e-01</td>\n      <td>2.341950e-01</td>\n      <td>0.0</td>\n      <td>0.0</td>\n      <td>0.00</td>\n      <td>0.00</td>\n      <td>0.00</td>\n      <td>0.00</td>\n      <td>0.00</td>\n      <td>0.00</td>\n      <td>0.00</td>\n      <td>0.00</td>\n      <td>4.300000e+01</td>\n    </tr>\n    <tr>\n      <th>num_shells</th>\n      <td>125972.0</td>\n      <td>0.0</td>\n      <td>5.200000e+01</td>\n      <td>0.000413</td>\n      <td>0.00</td>\n      <td>2.218122e-02</td>\n      <td>4.920064e-04</td>\n      <td>0.0</td>\n      <td>0.0</td>\n      <td>0.00</td>\n      <td>0.00</td>\n      <td>0.00</td>\n      <td>0.00</td>\n      <td>0.00</td>\n      <td>0.00</td>\n      <td>0.00</td>\n      <td>0.00</td>\n      <td>2.000000e+00</td>\n    </tr>\n    <tr>\n      <th>num_access_files</th>\n      <td>125972.0</td>\n      <td>0.0</td>\n      <td>5.160000e+02</td>\n      <td>0.004096</td>\n      <td>0.00</td>\n      <td>9.936995e-02</td>\n      <td>9.874387e-03</td>\n      <td>0.0</td>\n      <td>0.0</td>\n      <td>0.00</td>\n      <td>0.00</td>\n      <td>0.00</td>\n      <td>0.00</td>\n      <td>0.00</td>\n      <td>0.00</td>\n      <td>0.00</td>\n      <td>0.00</td>\n      <td>9.000000e+00</td>\n    </tr>\n    <tr>\n      <th>num_outbound_cmds</th>\n      <td>125972.0</td>\n      <td>0.0</td>\n      <td>0.000000e+00</td>\n      <td>0.000000</td>\n      <td>0.00</td>\n      <td>0.000000e+00</td>\n      <td>0.000000e+00</td>\n      <td>0.0</td>\n      <td>0.0</td>\n      <td>0.00</td>\n      <td>0.00</td>\n      <td>0.00</td>\n      <td>0.00</td>\n      <td>0.00</td>\n      <td>0.00</td>\n      <td>0.00</td>\n      <td>0.00</td>\n      <td>0.000000e+00</td>\n    </tr>\n    <tr>\n      <th>is_host_login</th>\n      <td>125972.0</td>\n      <td>0.0</td>\n      <td>1.000000e+00</td>\n      <td>0.000008</td>\n      <td>0.00</td>\n      <td>2.817494e-03</td>\n      <td>7.938272e-06</td>\n      <td>0.0</td>\n      <td>0.0</td>\n      <td>0.00</td>\n      <td>0.00</td>\n      <td>0.00</td>\n      <td>0.00</td>\n      <td>0.00</td>\n      <td>0.00</td>\n      <td>0.00</td>\n      <td>0.00</td>\n      <td>1.000000e+00</td>\n    </tr>\n    <tr>\n      <th>is_guest_login</th>\n      <td>125972.0</td>\n      <td>0.0</td>\n      <td>1.187000e+03</td>\n      <td>0.009423</td>\n      <td>0.00</td>\n      <td>9.661271e-02</td>\n      <td>9.334015e-03</td>\n      <td>0.0</td>\n      <td>0.0</td>\n      <td>0.00</td>\n      <td>0.00</td>\n      <td>0.00</td>\n      <td>0.00</td>\n      <td>0.00</td>\n      <td>0.00</td>\n      <td>0.00</td>\n      <td>0.00</td>\n      <td>1.000000e+00</td>\n    </tr>\n    <tr>\n      <th>count</th>\n      <td>125972.0</td>\n      <td>0.0</td>\n      <td>1.059528e+07</td>\n      <td>84.108207</td>\n      <td>14.00</td>\n      <td>1.145088e+02</td>\n      <td>1.311227e+04</td>\n      <td>0.0</td>\n      <td>1.0</td>\n      <td>1.00</td>\n      <td>1.00</td>\n      <td>2.00</td>\n      <td>14.00</td>\n      <td>143.00</td>\n      <td>256.00</td>\n      <td>286.00</td>\n      <td>511.00</td>\n      <td>5.110000e+02</td>\n    </tr>\n    <tr>\n      <th>srv_count</th>\n      <td>125972.0</td>\n      <td>0.0</td>\n      <td>3.494223e+06</td>\n      <td>27.738093</td>\n      <td>8.00</td>\n      <td>7.263609e+01</td>\n      <td>5.276002e+03</td>\n      <td>0.0</td>\n      <td>1.0</td>\n      <td>1.00</td>\n      <td>1.00</td>\n      <td>2.00</td>\n      <td>8.00</td>\n      <td>18.00</td>\n      <td>40.00</td>\n      <td>158.00</td>\n      <td>492.00</td>\n      <td>5.110000e+02</td>\n    </tr>\n    <tr>\n      <th>serror_rate</th>\n      <td>125972.0</td>\n      <td>0.0</td>\n      <td>3.583737e+04</td>\n      <td>0.284487</td>\n      <td>0.00</td>\n      <td>4.464567e-01</td>\n      <td>1.993236e-01</td>\n      <td>0.0</td>\n      <td>0.0</td>\n      <td>0.00</td>\n      <td>0.00</td>\n      <td>0.00</td>\n      <td>0.00</td>\n      <td>1.00</td>\n      <td>1.00</td>\n      <td>1.00</td>\n      <td>1.00</td>\n      <td>1.000000e+00</td>\n    </tr>\n    <tr>\n      <th>srv_serror_rate</th>\n      <td>125972.0</td>\n      <td>0.0</td>\n      <td>3.558553e+04</td>\n      <td>0.282488</td>\n      <td>0.00</td>\n      <td>4.470236e-01</td>\n      <td>1.998301e-01</td>\n      <td>0.0</td>\n      <td>0.0</td>\n      <td>0.00</td>\n      <td>0.00</td>\n      <td>0.00</td>\n      <td>0.00</td>\n      <td>1.00</td>\n      <td>1.00</td>\n      <td>1.00</td>\n      <td>1.00</td>\n      <td>1.000000e+00</td>\n    </tr>\n    <tr>\n      <th>rerror_rate</th>\n      <td>125972.0</td>\n      <td>0.0</td>\n      <td>1.511153e+04</td>\n      <td>0.119959</td>\n      <td>0.00</td>\n      <td>3.204366e-01</td>\n      <td>1.026796e-01</td>\n      <td>0.0</td>\n      <td>0.0</td>\n      <td>0.00</td>\n      <td>0.00</td>\n      <td>0.00</td>\n      <td>0.00</td>\n      <td>0.00</td>\n      <td>1.00</td>\n      <td>1.00</td>\n      <td>1.00</td>\n      <td>1.000000e+00</td>\n    </tr>\n    <tr>\n      <th>srv_rerror_rate</th>\n      <td>125972.0</td>\n      <td>0.0</td>\n      <td>1.526582e+04</td>\n      <td>0.121184</td>\n      <td>0.00</td>\n      <td>3.236483e-01</td>\n      <td>1.047482e-01</td>\n      <td>0.0</td>\n      <td>0.0</td>\n      <td>0.00</td>\n      <td>0.00</td>\n      <td>0.00</td>\n      <td>0.00</td>\n      <td>0.00</td>\n      <td>1.00</td>\n      <td>1.00</td>\n      <td>1.00</td>\n      <td>1.000000e+00</td>\n    </tr>\n    <tr>\n      <th>same_srv_rate</th>\n      <td>125972.0</td>\n      <td>0.0</td>\n      <td>8.325804e+04</td>\n      <td>0.660925</td>\n      <td>1.00</td>\n      <td>4.396236e-01</td>\n      <td>1.932689e-01</td>\n      <td>0.0</td>\n      <td>0.0</td>\n      <td>0.01</td>\n      <td>0.03</td>\n      <td>0.09</td>\n      <td>1.00</td>\n      <td>1.00</td>\n      <td>1.00</td>\n      <td>1.00</td>\n      <td>1.00</td>\n      <td>1.000000e+00</td>\n    </tr>\n    <tr>\n      <th>diff_srv_rate</th>\n      <td>125972.0</td>\n      <td>0.0</td>\n      <td>7.942930e+03</td>\n      <td>0.063053</td>\n      <td>0.00</td>\n      <td>1.803150e-01</td>\n      <td>3.251351e-02</td>\n      <td>0.0</td>\n      <td>0.0</td>\n      <td>0.00</td>\n      <td>0.00</td>\n      <td>0.00</td>\n      <td>0.00</td>\n      <td>0.06</td>\n      <td>0.07</td>\n      <td>0.29</td>\n      <td>1.00</td>\n      <td>1.000000e+00</td>\n    </tr>\n    <tr>\n      <th>srv_diff_host_rate</th>\n      <td>125972.0</td>\n      <td>0.0</td>\n      <td>1.225990e+04</td>\n      <td>0.097322</td>\n      <td>0.00</td>\n      <td>2.598314e-01</td>\n      <td>6.751235e-02</td>\n      <td>0.0</td>\n      <td>0.0</td>\n      <td>0.00</td>\n      <td>0.00</td>\n      <td>0.00</td>\n      <td>0.00</td>\n      <td>0.00</td>\n      <td>0.31</td>\n      <td>1.00</td>\n      <td>1.00</td>\n      <td>1.000000e+00</td>\n    </tr>\n    <tr>\n      <th>dst_host_count</th>\n      <td>125972.0</td>\n      <td>0.0</td>\n      <td>2.294570e+07</td>\n      <td>182.149200</td>\n      <td>255.00</td>\n      <td>9.920657e+01</td>\n      <td>9.841943e+03</td>\n      <td>0.0</td>\n      <td>1.0</td>\n      <td>3.00</td>\n      <td>11.00</td>\n      <td>82.00</td>\n      <td>255.00</td>\n      <td>255.00</td>\n      <td>255.00</td>\n      <td>255.00</td>\n      <td>255.00</td>\n      <td>2.550000e+02</td>\n    </tr>\n    <tr>\n      <th>dst_host_srv_count</th>\n      <td>125972.0</td>\n      <td>0.0</td>\n      <td>1.456913e+07</td>\n      <td>115.653725</td>\n      <td>63.00</td>\n      <td>1.107029e+02</td>\n      <td>1.225513e+04</td>\n      <td>0.0</td>\n      <td>1.0</td>\n      <td>1.00</td>\n      <td>2.00</td>\n      <td>10.00</td>\n      <td>63.00</td>\n      <td>255.00</td>\n      <td>255.00</td>\n      <td>255.00</td>\n      <td>255.00</td>\n      <td>2.550000e+02</td>\n    </tr>\n    <tr>\n      <th>dst_host_same_srv_rate</th>\n      <td>125972.0</td>\n      <td>0.0</td>\n      <td>6.566221e+04</td>\n      <td>0.521244</td>\n      <td>0.51</td>\n      <td>4.489501e-01</td>\n      <td>2.015562e-01</td>\n      <td>0.0</td>\n      <td>0.0</td>\n      <td>0.00</td>\n      <td>0.01</td>\n      <td>0.05</td>\n      <td>0.51</td>\n      <td>1.00</td>\n      <td>1.00</td>\n      <td>1.00</td>\n      <td>1.00</td>\n      <td>1.000000e+00</td>\n    </tr>\n    <tr>\n      <th>dst_host_diff_srv_rate</th>\n      <td>125972.0</td>\n      <td>0.0</td>\n      <td>1.044957e+04</td>\n      <td>0.082952</td>\n      <td>0.02</td>\n      <td>1.889225e-01</td>\n      <td>3.569171e-02</td>\n      <td>0.0</td>\n      <td>0.0</td>\n      <td>0.00</td>\n      <td>0.00</td>\n      <td>0.00</td>\n      <td>0.02</td>\n      <td>0.07</td>\n      <td>0.10</td>\n      <td>0.56</td>\n      <td>1.00</td>\n      <td>1.000000e+00</td>\n    </tr>\n    <tr>\n      <th>dst_host_same_src_port_rate</th>\n      <td>125972.0</td>\n      <td>0.0</td>\n      <td>1.869156e+04</td>\n      <td>0.148379</td>\n      <td>0.00</td>\n      <td>3.089984e-01</td>\n      <td>9.547998e-02</td>\n      <td>0.0</td>\n      <td>0.0</td>\n      <td>0.00</td>\n      <td>0.00</td>\n      <td>0.00</td>\n      <td>0.00</td>\n      <td>0.06</td>\n      <td>0.84</td>\n      <td>1.00</td>\n      <td>1.00</td>\n      <td>1.000000e+00</td>\n    </tr>\n    <tr>\n      <th>dst_host_srv_diff_host_rate</th>\n      <td>125972.0</td>\n      <td>0.0</td>\n      <td>4.099470e+03</td>\n      <td>0.032543</td>\n      <td>0.00</td>\n      <td>1.125642e-01</td>\n      <td>1.267070e-02</td>\n      <td>0.0</td>\n      <td>0.0</td>\n      <td>0.00</td>\n      <td>0.00</td>\n      <td>0.00</td>\n      <td>0.00</td>\n      <td>0.02</td>\n      <td>0.05</td>\n      <td>0.18</td>\n      <td>0.52</td>\n      <td>1.000000e+00</td>\n    </tr>\n    <tr>\n      <th>dst_host_serror_rate</th>\n      <td>125972.0</td>\n      <td>0.0</td>\n      <td>3.583333e+04</td>\n      <td>0.284455</td>\n      <td>0.00</td>\n      <td>4.447851e-01</td>\n      <td>1.978338e-01</td>\n      <td>0.0</td>\n      <td>0.0</td>\n      <td>0.00</td>\n      <td>0.00</td>\n      <td>0.00</td>\n      <td>0.00</td>\n      <td>1.00</td>\n      <td>1.00</td>\n      <td>1.00</td>\n      <td>1.00</td>\n      <td>1.000000e+00</td>\n    </tr>\n    <tr>\n      <th>dst_host_srv_serror_rate</th>\n      <td>125972.0</td>\n      <td>0.0</td>\n      <td>3.508153e+04</td>\n      <td>0.278487</td>\n      <td>0.00</td>\n      <td>4.456702e-01</td>\n      <td>1.986219e-01</td>\n      <td>0.0</td>\n      <td>0.0</td>\n      <td>0.00</td>\n      <td>0.00</td>\n      <td>0.00</td>\n      <td>0.00</td>\n      <td>1.00</td>\n      <td>1.00</td>\n      <td>1.00</td>\n      <td>1.00</td>\n      <td>1.000000e+00</td>\n    </tr>\n    <tr>\n      <th>dst_host_rerror_rate</th>\n      <td>125972.0</td>\n      <td>0.0</td>\n      <td>1.496955e+04</td>\n      <td>0.118832</td>\n      <td>0.00</td>\n      <td>3.065586e-01</td>\n      <td>9.397818e-02</td>\n      <td>0.0</td>\n      <td>0.0</td>\n      <td>0.00</td>\n      <td>0.00</td>\n      <td>0.00</td>\n      <td>0.00</td>\n      <td>0.00</td>\n      <td>0.84</td>\n      <td>1.00</td>\n      <td>1.00</td>\n      <td>1.000000e+00</td>\n    </tr>\n    <tr>\n      <th>dst_host_srv_rerror_rate</th>\n      <td>125972.0</td>\n      <td>0.0</td>\n      <td>1.514698e+04</td>\n      <td>0.120241</td>\n      <td>0.00</td>\n      <td>3.194605e-01</td>\n      <td>1.020550e-01</td>\n      <td>0.0</td>\n      <td>0.0</td>\n      <td>0.00</td>\n      <td>0.00</td>\n      <td>0.00</td>\n      <td>0.00</td>\n      <td>0.00</td>\n      <td>1.00</td>\n      <td>1.00</td>\n      <td>1.00</td>\n      <td>1.000000e+00</td>\n    </tr>\n    <tr>\n      <th>last_flag</th>\n      <td>125972.0</td>\n      <td>0.0</td>\n      <td>2.456965e+06</td>\n      <td>19.504056</td>\n      <td>20.00</td>\n      <td>2.291512e+00</td>\n      <td>5.251025e+00</td>\n      <td>0.0</td>\n      <td>11.0</td>\n      <td>15.00</td>\n      <td>17.00</td>\n      <td>18.00</td>\n      <td>20.00</td>\n      <td>21.00</td>\n      <td>21.00</td>\n      <td>21.00</td>\n      <td>21.00</td>\n      <td>2.100000e+01</td>\n    </tr>\n    <tr>\n      <th>attack_class</th>\n      <td>125972.0</td>\n      <td>0.0</td>\n      <td>7.243200e+04</td>\n      <td>0.574985</td>\n      <td>0.00</td>\n      <td>6.941059e-01</td>\n      <td>4.817830e-01</td>\n      <td>0.0</td>\n      <td>0.0</td>\n      <td>0.00</td>\n      <td>0.00</td>\n      <td>0.00</td>\n      <td>0.00</td>\n      <td>1.00</td>\n      <td>2.00</td>\n      <td>2.00</td>\n      <td>2.00</td>\n      <td>4.000000e+00</td>\n    </tr>\n  </tbody>\n</table>\n</div>"
     },
     "execution_count": 70,
     "metadata": {},
     "output_type": "execute_result"
    }
   ],
   "source": [
    "num_summary"
   ]
  },
  {
   "cell_type": "code",
   "execution_count": 71,
   "metadata": {},
   "outputs": [],
   "source": [
    "num_summary.to_csv('num_summary.csv')"
   ]
  },
  {
   "cell_type": "markdown",
   "metadata": {},
   "source": [
    "### Handling Outlier"
   ]
  },
  {
   "cell_type": "code",
   "execution_count": 72,
   "metadata": {},
   "outputs": [],
   "source": [
    "#Handling Outliers\n",
    "def outlier_capping(x):\n",
    "    x = x.clip(upper=x.quantile(0.99))\n",
    "    x = x.clip(lower=x.quantile(0.01))\n",
    "    return x\n",
    "\n",
    "train_num=train_num.apply(outlier_capping)"
   ]
  },
  {
   "cell_type": "markdown",
   "metadata": {},
   "source": [
    "#### No missing in train dataset . So , Missing treatment not required ."
   ]
  },
  {
   "cell_type": "code",
   "execution_count": 73,
   "metadata": {},
   "outputs": [],
   "source": [
    "def cat_summary(x):\n",
    "    return pd.Series([x.count(), x.isnull().sum(), x.value_counts()], \n",
    "                  index=['N', 'NMISS', 'ColumnsNames'])\n",
    "\n",
    "cat_summary=train_cat.apply(cat_summary)"
   ]
  },
  {
   "cell_type": "code",
   "execution_count": 74,
   "metadata": {},
   "outputs": [
    {
     "data": {
      "text/plain": "                                                  protocol_type  \\\nN                                                        125972   \nNMISS                                                         0   \nColumnsNames  tcp     102688\nudp      14993\nicmp      8291\nN...   \n\n                                                        service  \\\nN                                                        125972   \nNMISS                                                         0   \nColumnsNames  http         40338\nprivate      21853\ndomain_u...   \n\n                                                           flag  \\\nN                                                        125972   \nNMISS                                                         0   \nColumnsNames  SF        74944\nS0        34851\nREJ       1123...   \n\n                                                         attack  \nN                                                        125972  \nNMISS                                                         0  \nColumnsNames  normal             67342\nneptune            41...  ",
      "text/html": "<div>\n<style scoped>\n    .dataframe tbody tr th:only-of-type {\n        vertical-align: middle;\n    }\n\n    .dataframe tbody tr th {\n        vertical-align: top;\n    }\n\n    .dataframe thead th {\n        text-align: right;\n    }\n</style>\n<table border=\"1\" class=\"dataframe\">\n  <thead>\n    <tr style=\"text-align: right;\">\n      <th></th>\n      <th>protocol_type</th>\n      <th>service</th>\n      <th>flag</th>\n      <th>attack</th>\n    </tr>\n  </thead>\n  <tbody>\n    <tr>\n      <th>N</th>\n      <td>125972</td>\n      <td>125972</td>\n      <td>125972</td>\n      <td>125972</td>\n    </tr>\n    <tr>\n      <th>NMISS</th>\n      <td>0</td>\n      <td>0</td>\n      <td>0</td>\n      <td>0</td>\n    </tr>\n    <tr>\n      <th>ColumnsNames</th>\n      <td>tcp     102688\nudp      14993\nicmp      8291\nN...</td>\n      <td>http         40338\nprivate      21853\ndomain_u...</td>\n      <td>SF        74944\nS0        34851\nREJ       1123...</td>\n      <td>normal             67342\nneptune            41...</td>\n    </tr>\n  </tbody>\n</table>\n</div>"
     },
     "execution_count": 74,
     "metadata": {},
     "output_type": "execute_result"
    }
   ],
   "source": [
    "cat_summary"
   ]
  },
  {
   "cell_type": "markdown",
   "metadata": {},
   "source": [
    "### Dummy Variable Creation"
   ]
  },
  {
   "cell_type": "code",
   "execution_count": 75,
   "metadata": {},
   "outputs": [],
   "source": [
    "# An utility function to create dummy variable\n",
    "def create_dummies( df, colname ):\n",
    "    col_dummies = pd.get_dummies(df[colname], prefix=colname, drop_first=True)\n",
    "    df = pd.concat([df, col_dummies], axis=1)\n",
    "    df.drop( colname, axis = 1, inplace = True )\n",
    "    return(df)"
   ]
  },
  {
   "cell_type": "code",
   "execution_count": 76,
   "metadata": {},
   "outputs": [
    {
     "data": {
      "text/plain": "   protocol_type_tcp  protocol_type_udp  service_X11  service_Z39_50  \\\n0                  0                  1            0               0   \n1                  1                  0            0               0   \n2                  1                  0            0               0   \n3                  1                  0            0               0   \n4                  1                  0            0               0   \n\n   service_aol  service_auth  service_bgp  service_courier  service_csnet_ns  \\\n0            0             0            0                0                 0   \n1            0             0            0                0                 0   \n2            0             0            0                0                 0   \n3            0             0            0                0                 0   \n4            0             0            0                0                 0   \n\n   service_ctf  ...  attack_phf  attack_pod  attack_portsweep  attack_rootkit  \\\n0            0  ...           0           0                 0               0   \n1            0  ...           0           0                 0               0   \n2            0  ...           0           0                 0               0   \n3            0  ...           0           0                 0               0   \n4            0  ...           0           0                 0               0   \n\n   attack_satan  attack_smurf  attack_spy  attack_teardrop  \\\n0             0             0           0                0   \n1             0             0           0                0   \n2             0             0           0                0   \n3             0             0           0                0   \n4             0             0           0                0   \n\n   attack_warezclient  attack_warezmaster  \n0                   0                   0  \n1                   0                   0  \n2                   0                   0  \n3                   0                   0  \n4                   0                   0  \n\n[5 rows x 103 columns]",
      "text/html": "<div>\n<style scoped>\n    .dataframe tbody tr th:only-of-type {\n        vertical-align: middle;\n    }\n\n    .dataframe tbody tr th {\n        vertical-align: top;\n    }\n\n    .dataframe thead th {\n        text-align: right;\n    }\n</style>\n<table border=\"1\" class=\"dataframe\">\n  <thead>\n    <tr style=\"text-align: right;\">\n      <th></th>\n      <th>protocol_type_tcp</th>\n      <th>protocol_type_udp</th>\n      <th>service_X11</th>\n      <th>service_Z39_50</th>\n      <th>service_aol</th>\n      <th>service_auth</th>\n      <th>service_bgp</th>\n      <th>service_courier</th>\n      <th>service_csnet_ns</th>\n      <th>service_ctf</th>\n      <th>...</th>\n      <th>attack_phf</th>\n      <th>attack_pod</th>\n      <th>attack_portsweep</th>\n      <th>attack_rootkit</th>\n      <th>attack_satan</th>\n      <th>attack_smurf</th>\n      <th>attack_spy</th>\n      <th>attack_teardrop</th>\n      <th>attack_warezclient</th>\n      <th>attack_warezmaster</th>\n    </tr>\n  </thead>\n  <tbody>\n    <tr>\n      <th>0</th>\n      <td>0</td>\n      <td>1</td>\n      <td>0</td>\n      <td>0</td>\n      <td>0</td>\n      <td>0</td>\n      <td>0</td>\n      <td>0</td>\n      <td>0</td>\n      <td>0</td>\n      <td>...</td>\n      <td>0</td>\n      <td>0</td>\n      <td>0</td>\n      <td>0</td>\n      <td>0</td>\n      <td>0</td>\n      <td>0</td>\n      <td>0</td>\n      <td>0</td>\n      <td>0</td>\n    </tr>\n    <tr>\n      <th>1</th>\n      <td>1</td>\n      <td>0</td>\n      <td>0</td>\n      <td>0</td>\n      <td>0</td>\n      <td>0</td>\n      <td>0</td>\n      <td>0</td>\n      <td>0</td>\n      <td>0</td>\n      <td>...</td>\n      <td>0</td>\n      <td>0</td>\n      <td>0</td>\n      <td>0</td>\n      <td>0</td>\n      <td>0</td>\n      <td>0</td>\n      <td>0</td>\n      <td>0</td>\n      <td>0</td>\n    </tr>\n    <tr>\n      <th>2</th>\n      <td>1</td>\n      <td>0</td>\n      <td>0</td>\n      <td>0</td>\n      <td>0</td>\n      <td>0</td>\n      <td>0</td>\n      <td>0</td>\n      <td>0</td>\n      <td>0</td>\n      <td>...</td>\n      <td>0</td>\n      <td>0</td>\n      <td>0</td>\n      <td>0</td>\n      <td>0</td>\n      <td>0</td>\n      <td>0</td>\n      <td>0</td>\n      <td>0</td>\n      <td>0</td>\n    </tr>\n    <tr>\n      <th>3</th>\n      <td>1</td>\n      <td>0</td>\n      <td>0</td>\n      <td>0</td>\n      <td>0</td>\n      <td>0</td>\n      <td>0</td>\n      <td>0</td>\n      <td>0</td>\n      <td>0</td>\n      <td>...</td>\n      <td>0</td>\n      <td>0</td>\n      <td>0</td>\n      <td>0</td>\n      <td>0</td>\n      <td>0</td>\n      <td>0</td>\n      <td>0</td>\n      <td>0</td>\n      <td>0</td>\n    </tr>\n    <tr>\n      <th>4</th>\n      <td>1</td>\n      <td>0</td>\n      <td>0</td>\n      <td>0</td>\n      <td>0</td>\n      <td>0</td>\n      <td>0</td>\n      <td>0</td>\n      <td>0</td>\n      <td>0</td>\n      <td>...</td>\n      <td>0</td>\n      <td>0</td>\n      <td>0</td>\n      <td>0</td>\n      <td>0</td>\n      <td>0</td>\n      <td>0</td>\n      <td>0</td>\n      <td>0</td>\n      <td>0</td>\n    </tr>\n  </tbody>\n</table>\n<p>5 rows × 103 columns</p>\n</div>"
     },
     "execution_count": 76,
     "metadata": {},
     "output_type": "execute_result"
    }
   ],
   "source": [
    "#for c_feature in categorical_features\n",
    "for c_feature in ['protocol_type', 'service', 'flag', 'attack']:\n",
    "    train_cat = create_dummies(train_cat,c_feature)\n",
    "    test_cat = create_dummies(test_cat,c_feature)\n",
    "train_cat.head()"
   ]
  },
  {
   "cell_type": "markdown",
   "metadata": {},
   "source": [
    "### Final file for analysis"
   ]
  },
  {
   "cell_type": "code",
   "execution_count": 77,
   "metadata": {},
   "outputs": [
    {
     "data": {
      "text/plain": "   duration  src_bytes  dst_bytes  land  wrong_fragment  urgent  hot  \\\n0       0.0        146          0     0               0       0    0   \n1       0.0          0          0     0               0       0    0   \n2       0.0        232       8153     0               0       0    0   \n3       0.0        199        420     0               0       0    0   \n4       0.0          0          0     0               0       0    0   \n\n   num_failed_logins  logged_in  num_compromised  ...  attack_phf  attack_pod  \\\n0                  0          0                0  ...           0           0   \n1                  0          0                0  ...           0           0   \n2                  0          1                0  ...           0           0   \n3                  0          1                0  ...           0           0   \n4                  0          0                0  ...           0           0   \n\n   attack_portsweep  attack_rootkit  attack_satan  attack_smurf  attack_spy  \\\n0                 0               0             0             0           0   \n1                 0               0             0             0           0   \n2                 0               0             0             0           0   \n3                 0               0             0             0           0   \n4                 0               0             0             0           0   \n\n   attack_teardrop  attack_warezclient  attack_warezmaster  \n0                0                   0                   0  \n1                0                   0                   0  \n2                0                   0                   0  \n3                0                   0                   0  \n4                0                   0                   0  \n\n[5 rows x 143 columns]",
      "text/html": "<div>\n<style scoped>\n    .dataframe tbody tr th:only-of-type {\n        vertical-align: middle;\n    }\n\n    .dataframe tbody tr th {\n        vertical-align: top;\n    }\n\n    .dataframe thead th {\n        text-align: right;\n    }\n</style>\n<table border=\"1\" class=\"dataframe\">\n  <thead>\n    <tr style=\"text-align: right;\">\n      <th></th>\n      <th>duration</th>\n      <th>src_bytes</th>\n      <th>dst_bytes</th>\n      <th>land</th>\n      <th>wrong_fragment</th>\n      <th>urgent</th>\n      <th>hot</th>\n      <th>num_failed_logins</th>\n      <th>logged_in</th>\n      <th>num_compromised</th>\n      <th>...</th>\n      <th>attack_phf</th>\n      <th>attack_pod</th>\n      <th>attack_portsweep</th>\n      <th>attack_rootkit</th>\n      <th>attack_satan</th>\n      <th>attack_smurf</th>\n      <th>attack_spy</th>\n      <th>attack_teardrop</th>\n      <th>attack_warezclient</th>\n      <th>attack_warezmaster</th>\n    </tr>\n  </thead>\n  <tbody>\n    <tr>\n      <th>0</th>\n      <td>0.0</td>\n      <td>146</td>\n      <td>0</td>\n      <td>0</td>\n      <td>0</td>\n      <td>0</td>\n      <td>0</td>\n      <td>0</td>\n      <td>0</td>\n      <td>0</td>\n      <td>...</td>\n      <td>0</td>\n      <td>0</td>\n      <td>0</td>\n      <td>0</td>\n      <td>0</td>\n      <td>0</td>\n      <td>0</td>\n      <td>0</td>\n      <td>0</td>\n      <td>0</td>\n    </tr>\n    <tr>\n      <th>1</th>\n      <td>0.0</td>\n      <td>0</td>\n      <td>0</td>\n      <td>0</td>\n      <td>0</td>\n      <td>0</td>\n      <td>0</td>\n      <td>0</td>\n      <td>0</td>\n      <td>0</td>\n      <td>...</td>\n      <td>0</td>\n      <td>0</td>\n      <td>0</td>\n      <td>0</td>\n      <td>0</td>\n      <td>0</td>\n      <td>0</td>\n      <td>0</td>\n      <td>0</td>\n      <td>0</td>\n    </tr>\n    <tr>\n      <th>2</th>\n      <td>0.0</td>\n      <td>232</td>\n      <td>8153</td>\n      <td>0</td>\n      <td>0</td>\n      <td>0</td>\n      <td>0</td>\n      <td>0</td>\n      <td>1</td>\n      <td>0</td>\n      <td>...</td>\n      <td>0</td>\n      <td>0</td>\n      <td>0</td>\n      <td>0</td>\n      <td>0</td>\n      <td>0</td>\n      <td>0</td>\n      <td>0</td>\n      <td>0</td>\n      <td>0</td>\n    </tr>\n    <tr>\n      <th>3</th>\n      <td>0.0</td>\n      <td>199</td>\n      <td>420</td>\n      <td>0</td>\n      <td>0</td>\n      <td>0</td>\n      <td>0</td>\n      <td>0</td>\n      <td>1</td>\n      <td>0</td>\n      <td>...</td>\n      <td>0</td>\n      <td>0</td>\n      <td>0</td>\n      <td>0</td>\n      <td>0</td>\n      <td>0</td>\n      <td>0</td>\n      <td>0</td>\n      <td>0</td>\n      <td>0</td>\n    </tr>\n    <tr>\n      <th>4</th>\n      <td>0.0</td>\n      <td>0</td>\n      <td>0</td>\n      <td>0</td>\n      <td>0</td>\n      <td>0</td>\n      <td>0</td>\n      <td>0</td>\n      <td>0</td>\n      <td>0</td>\n      <td>...</td>\n      <td>0</td>\n      <td>0</td>\n      <td>0</td>\n      <td>0</td>\n      <td>0</td>\n      <td>0</td>\n      <td>0</td>\n      <td>0</td>\n      <td>0</td>\n      <td>0</td>\n    </tr>\n  </tbody>\n</table>\n<p>5 rows × 143 columns</p>\n</div>"
     },
     "execution_count": 77,
     "metadata": {},
     "output_type": "execute_result"
    }
   ],
   "source": [
    "train_new = pd.concat([train_num, train_cat], axis=1)\n",
    "test_new = pd.concat([test_num, test_cat], axis=1)\n",
    "train_new.head()"
   ]
  },
  {
   "cell_type": "code",
   "execution_count": 78,
   "metadata": {},
   "outputs": [
    {
     "data": {
      "text/plain": "                    duration  src_bytes  dst_bytes  land  wrong_fragment  \\\nduration            1.000000   0.011740   0.036892   NaN             NaN   \nsrc_bytes           0.011740   1.000000   0.127827   NaN             NaN   \ndst_bytes           0.036892   0.127827   1.000000   NaN             NaN   \nland                     NaN        NaN        NaN   NaN             NaN   \nwrong_fragment           NaN        NaN        NaN   NaN             NaN   \n...                      ...        ...        ...   ...             ...   \nattack_smurf       -0.020279  -0.002928  -0.051676   NaN             NaN   \nattack_spy          0.000605  -0.000555  -0.000156   NaN             NaN   \nattack_teardrop    -0.011691  -0.013779  -0.029791   NaN             NaN   \nattack_warezclient  0.037013   0.047995  -0.011541   NaN             NaN   \nattack_warezmaster -0.001571  -0.002012   0.064962   NaN             NaN   \n\n                    urgent       hot  num_failed_logins  logged_in  \\\nduration               NaN  0.021274                NaN  -0.064538   \nsrc_bytes              NaN  0.379973                NaN   0.163275   \ndst_bytes              NaN  0.127002                NaN   0.421999   \nland                   NaN       NaN                NaN        NaN   \nwrong_fragment         NaN       NaN                NaN        NaN   \n...                    ...       ...                ...        ...   \nattack_smurf           NaN -0.020616                NaN  -0.118539   \nattack_spy             NaN -0.000561                NaN   0.000850   \nattack_teardrop        NaN -0.011886                NaN  -0.068341   \nattack_warezclient     NaN  0.270177                NaN   0.104233   \nattack_warezmaster     NaN  0.003599                NaN  -0.007621   \n\n                    num_compromised  ...  attack_phf  attack_pod  \\\nduration                   0.062081  ...   -0.000757   -0.005534   \nsrc_bytes                  0.603363  ...   -0.000898    0.002845   \ndst_bytes                  0.237363  ...    0.010050   -0.014104   \nland                            NaN  ...         NaN         NaN   \nwrong_fragment                  NaN  ...         NaN         NaN   \n...                             ...  ...         ...         ...   \nattack_smurf              -0.014876  ...   -0.000825   -0.005856   \nattack_spy                -0.000405  ...   -0.000022   -0.000159   \nattack_teardrop           -0.008576  ...   -0.000476   -0.003376   \nattack_warezclient        -0.008567  ...   -0.000475   -0.003372   \nattack_warezmaster        -0.001280  ...   -0.000071   -0.000504   \n\n                    attack_portsweep  attack_rootkit  attack_satan  \\\nduration                    0.408874       -0.000414     -0.023837   \nsrc_bytes                  -0.022114       -0.001067     -0.028784   \ndst_bytes                  -0.053377        0.006873     -0.060374   \nland                             NaN             NaN           NaN   \nwrong_fragment                   NaN             NaN           NaN   \n...                              ...             ...           ...   \nattack_smurf               -0.022607       -0.001305     -0.025242   \nattack_spy                 -0.000615       -0.000036     -0.000687   \nattack_teardrop            -0.013034       -0.000752     -0.014553   \nattack_warezclient         -0.013019       -0.000752     -0.014536   \nattack_warezmaster         -0.001945       -0.000112     -0.002172   \n\n                    attack_smurf  attack_spy  attack_teardrop  \\\nduration               -0.020279    0.000605        -0.011691   \nsrc_bytes              -0.002928   -0.000555        -0.013779   \ndst_bytes              -0.051676   -0.000156        -0.029791   \nland                         NaN         NaN              NaN   \nwrong_fragment               NaN         NaN              NaN   \n...                          ...         ...              ...   \nattack_smurf            1.000000   -0.000584        -0.012370   \nattack_spy             -0.000584    1.000000        -0.000336   \nattack_teardrop        -0.012370   -0.000336         1.000000   \nattack_warezclient     -0.012356   -0.000336        -0.007123   \nattack_warezmaster     -0.001846   -0.000050        -0.001064   \n\n                    attack_warezclient  attack_warezmaster  \nduration                      0.037013           -0.001571  \nsrc_bytes                     0.047995           -0.002012  \ndst_bytes                    -0.011541            0.064962  \nland                               NaN                 NaN  \nwrong_fragment                     NaN                 NaN  \n...                                ...                 ...  \nattack_smurf                 -0.012356           -0.001846  \nattack_spy                   -0.000336           -0.000050  \nattack_teardrop              -0.007123           -0.001064  \nattack_warezclient            1.000000           -0.001063  \nattack_warezmaster           -0.001063            1.000000  \n\n[143 rows x 143 columns]",
      "text/html": "<div>\n<style scoped>\n    .dataframe tbody tr th:only-of-type {\n        vertical-align: middle;\n    }\n\n    .dataframe tbody tr th {\n        vertical-align: top;\n    }\n\n    .dataframe thead th {\n        text-align: right;\n    }\n</style>\n<table border=\"1\" class=\"dataframe\">\n  <thead>\n    <tr style=\"text-align: right;\">\n      <th></th>\n      <th>duration</th>\n      <th>src_bytes</th>\n      <th>dst_bytes</th>\n      <th>land</th>\n      <th>wrong_fragment</th>\n      <th>urgent</th>\n      <th>hot</th>\n      <th>num_failed_logins</th>\n      <th>logged_in</th>\n      <th>num_compromised</th>\n      <th>...</th>\n      <th>attack_phf</th>\n      <th>attack_pod</th>\n      <th>attack_portsweep</th>\n      <th>attack_rootkit</th>\n      <th>attack_satan</th>\n      <th>attack_smurf</th>\n      <th>attack_spy</th>\n      <th>attack_teardrop</th>\n      <th>attack_warezclient</th>\n      <th>attack_warezmaster</th>\n    </tr>\n  </thead>\n  <tbody>\n    <tr>\n      <th>duration</th>\n      <td>1.000000</td>\n      <td>0.011740</td>\n      <td>0.036892</td>\n      <td>NaN</td>\n      <td>NaN</td>\n      <td>NaN</td>\n      <td>0.021274</td>\n      <td>NaN</td>\n      <td>-0.064538</td>\n      <td>0.062081</td>\n      <td>...</td>\n      <td>-0.000757</td>\n      <td>-0.005534</td>\n      <td>0.408874</td>\n      <td>-0.000414</td>\n      <td>-0.023837</td>\n      <td>-0.020279</td>\n      <td>0.000605</td>\n      <td>-0.011691</td>\n      <td>0.037013</td>\n      <td>-0.001571</td>\n    </tr>\n    <tr>\n      <th>src_bytes</th>\n      <td>0.011740</td>\n      <td>1.000000</td>\n      <td>0.127827</td>\n      <td>NaN</td>\n      <td>NaN</td>\n      <td>NaN</td>\n      <td>0.379973</td>\n      <td>NaN</td>\n      <td>0.163275</td>\n      <td>0.603363</td>\n      <td>...</td>\n      <td>-0.000898</td>\n      <td>0.002845</td>\n      <td>-0.022114</td>\n      <td>-0.001067</td>\n      <td>-0.028784</td>\n      <td>-0.002928</td>\n      <td>-0.000555</td>\n      <td>-0.013779</td>\n      <td>0.047995</td>\n      <td>-0.002012</td>\n    </tr>\n    <tr>\n      <th>dst_bytes</th>\n      <td>0.036892</td>\n      <td>0.127827</td>\n      <td>1.000000</td>\n      <td>NaN</td>\n      <td>NaN</td>\n      <td>NaN</td>\n      <td>0.127002</td>\n      <td>NaN</td>\n      <td>0.421999</td>\n      <td>0.237363</td>\n      <td>...</td>\n      <td>0.010050</td>\n      <td>-0.014104</td>\n      <td>-0.053377</td>\n      <td>0.006873</td>\n      <td>-0.060374</td>\n      <td>-0.051676</td>\n      <td>-0.000156</td>\n      <td>-0.029791</td>\n      <td>-0.011541</td>\n      <td>0.064962</td>\n    </tr>\n    <tr>\n      <th>land</th>\n      <td>NaN</td>\n      <td>NaN</td>\n      <td>NaN</td>\n      <td>NaN</td>\n      <td>NaN</td>\n      <td>NaN</td>\n      <td>NaN</td>\n      <td>NaN</td>\n      <td>NaN</td>\n      <td>NaN</td>\n      <td>...</td>\n      <td>NaN</td>\n      <td>NaN</td>\n      <td>NaN</td>\n      <td>NaN</td>\n      <td>NaN</td>\n      <td>NaN</td>\n      <td>NaN</td>\n      <td>NaN</td>\n      <td>NaN</td>\n      <td>NaN</td>\n    </tr>\n    <tr>\n      <th>wrong_fragment</th>\n      <td>NaN</td>\n      <td>NaN</td>\n      <td>NaN</td>\n      <td>NaN</td>\n      <td>NaN</td>\n      <td>NaN</td>\n      <td>NaN</td>\n      <td>NaN</td>\n      <td>NaN</td>\n      <td>NaN</td>\n      <td>...</td>\n      <td>NaN</td>\n      <td>NaN</td>\n      <td>NaN</td>\n      <td>NaN</td>\n      <td>NaN</td>\n      <td>NaN</td>\n      <td>NaN</td>\n      <td>NaN</td>\n      <td>NaN</td>\n      <td>NaN</td>\n    </tr>\n    <tr>\n      <th>...</th>\n      <td>...</td>\n      <td>...</td>\n      <td>...</td>\n      <td>...</td>\n      <td>...</td>\n      <td>...</td>\n      <td>...</td>\n      <td>...</td>\n      <td>...</td>\n      <td>...</td>\n      <td>...</td>\n      <td>...</td>\n      <td>...</td>\n      <td>...</td>\n      <td>...</td>\n      <td>...</td>\n      <td>...</td>\n      <td>...</td>\n      <td>...</td>\n      <td>...</td>\n      <td>...</td>\n    </tr>\n    <tr>\n      <th>attack_smurf</th>\n      <td>-0.020279</td>\n      <td>-0.002928</td>\n      <td>-0.051676</td>\n      <td>NaN</td>\n      <td>NaN</td>\n      <td>NaN</td>\n      <td>-0.020616</td>\n      <td>NaN</td>\n      <td>-0.118539</td>\n      <td>-0.014876</td>\n      <td>...</td>\n      <td>-0.000825</td>\n      <td>-0.005856</td>\n      <td>-0.022607</td>\n      <td>-0.001305</td>\n      <td>-0.025242</td>\n      <td>1.000000</td>\n      <td>-0.000584</td>\n      <td>-0.012370</td>\n      <td>-0.012356</td>\n      <td>-0.001846</td>\n    </tr>\n    <tr>\n      <th>attack_spy</th>\n      <td>0.000605</td>\n      <td>-0.000555</td>\n      <td>-0.000156</td>\n      <td>NaN</td>\n      <td>NaN</td>\n      <td>NaN</td>\n      <td>-0.000561</td>\n      <td>NaN</td>\n      <td>0.000850</td>\n      <td>-0.000405</td>\n      <td>...</td>\n      <td>-0.000022</td>\n      <td>-0.000159</td>\n      <td>-0.000615</td>\n      <td>-0.000036</td>\n      <td>-0.000687</td>\n      <td>-0.000584</td>\n      <td>1.000000</td>\n      <td>-0.000336</td>\n      <td>-0.000336</td>\n      <td>-0.000050</td>\n    </tr>\n    <tr>\n      <th>attack_teardrop</th>\n      <td>-0.011691</td>\n      <td>-0.013779</td>\n      <td>-0.029791</td>\n      <td>NaN</td>\n      <td>NaN</td>\n      <td>NaN</td>\n      <td>-0.011886</td>\n      <td>NaN</td>\n      <td>-0.068341</td>\n      <td>-0.008576</td>\n      <td>...</td>\n      <td>-0.000476</td>\n      <td>-0.003376</td>\n      <td>-0.013034</td>\n      <td>-0.000752</td>\n      <td>-0.014553</td>\n      <td>-0.012370</td>\n      <td>-0.000336</td>\n      <td>1.000000</td>\n      <td>-0.007123</td>\n      <td>-0.001064</td>\n    </tr>\n    <tr>\n      <th>attack_warezclient</th>\n      <td>0.037013</td>\n      <td>0.047995</td>\n      <td>-0.011541</td>\n      <td>NaN</td>\n      <td>NaN</td>\n      <td>NaN</td>\n      <td>0.270177</td>\n      <td>NaN</td>\n      <td>0.104233</td>\n      <td>-0.008567</td>\n      <td>...</td>\n      <td>-0.000475</td>\n      <td>-0.003372</td>\n      <td>-0.013019</td>\n      <td>-0.000752</td>\n      <td>-0.014536</td>\n      <td>-0.012356</td>\n      <td>-0.000336</td>\n      <td>-0.007123</td>\n      <td>1.000000</td>\n      <td>-0.001063</td>\n    </tr>\n    <tr>\n      <th>attack_warezmaster</th>\n      <td>-0.001571</td>\n      <td>-0.002012</td>\n      <td>0.064962</td>\n      <td>NaN</td>\n      <td>NaN</td>\n      <td>NaN</td>\n      <td>0.003599</td>\n      <td>NaN</td>\n      <td>-0.007621</td>\n      <td>-0.001280</td>\n      <td>...</td>\n      <td>-0.000071</td>\n      <td>-0.000504</td>\n      <td>-0.001945</td>\n      <td>-0.000112</td>\n      <td>-0.002172</td>\n      <td>-0.001846</td>\n      <td>-0.000050</td>\n      <td>-0.001064</td>\n      <td>-0.001063</td>\n      <td>1.000000</td>\n    </tr>\n  </tbody>\n</table>\n<p>143 rows × 143 columns</p>\n</div>"
     },
     "execution_count": 78,
     "metadata": {},
     "output_type": "execute_result"
    }
   ],
   "source": [
    "# correlation matrix (ranges from 1 to -1)\n",
    "corrm=train_new.corr()\n",
    "corrm"
   ]
  },
  {
   "cell_type": "code",
   "execution_count": 79,
   "metadata": {},
   "outputs": [],
   "source": [
    "corrm.to_csv('corrm.csv')"
   ]
  },
  {
   "cell_type": "code",
   "execution_count": 80,
   "metadata": {},
   "outputs": [
    {
     "data": {
      "text/plain": "<AxesSubplot:>"
     },
     "execution_count": 80,
     "metadata": {},
     "output_type": "execute_result"
    },
    {
     "data": {
      "text/plain": "<Figure size 432x288 with 2 Axes>",
      "image/png": "[encoded data removed]"
     },
     "metadata": {
      "needs_background": "light"
     },
     "output_type": "display_data"
    }
   ],
   "source": [
    "# visualize correlation matrix in Seaborn using a heatmap\n",
    "sns.heatmap(corrm)"
   ]
  },
  {
   "cell_type": "markdown",
   "metadata": {},
   "source": [
    "#### Dropping columns based on data audit report\n",
    "        - Based on low variance (near zero variance)\n",
    "        - High missings (>25% missings)\n",
    "        - High correlations between two numerical variables"
   ]
  },
  {
   "cell_type": "code",
   "execution_count": 81,
   "metadata": {},
   "outputs": [],
   "source": [
    "train_new.drop(columns=['land','wrong_fragment','urgent','num_failed_logins',\"root_shell\",\"su_attempted\",\"num_root\",\n",
    "                        \"num_file_creations\",\"num_shells\",\"num_access_files\",\"num_outbound_cmds\",\"is_host_login\",\"is_guest_login\",\n",
    "                        'dst_host_rerror_rate','dst_host_serror_rate','dst_host_srv_rerror_rate','dst_host_srv_serror_rate',\n",
    "                        'num_root','num_outbound_cmds','srv_rerror_rate','srv_serror_rate'], axis=1, inplace=True)"
   ]
  },
  {
   "cell_type": "code",
   "execution_count": 82,
   "metadata": {},
   "outputs": [
    {
     "data": {
      "text/plain": "<AxesSubplot:>"
     },
     "execution_count": 82,
     "metadata": {},
     "output_type": "execute_result"
    },
    {
     "data": {
      "text/plain": "<Figure size 432x288 with 2 Axes>",
      "image/png": "[encoded data removed]"
     },
     "metadata": {
      "needs_background": "light"
     },
     "output_type": "display_data"
    }
   ],
   "source": [
    "sns.heatmap(train_new.corr())"
   ]
  },
  {
   "cell_type": "markdown",
   "metadata": {},
   "source": [
    "#### Variable reduction using Select K-Best technique"
   ]
  },
  {
   "cell_type": "code",
   "execution_count": 83,
   "metadata": {},
   "outputs": [
    {
     "name": "stderr",
     "output_type": "stream",
     "text": [
      "D:\\Anaconda3\\envs\\tf1\\lib\\site-packages\\sklearn\\feature_selection\\univariate_selection.py:115: RuntimeWarning: divide by zero encountered in true_divide\n",
      "  f = msb / msw\n"
     ]
    }
   ],
   "source": [
    "X = train_new[train_new.columns.difference(['attack_class'])]\n",
    "X_new = SelectKBest(f_classif, k=15).fit(X, train_new['attack_class'] )"
   ]
  },
  {
   "cell_type": "code",
   "execution_count": 84,
   "metadata": {},
   "outputs": [
    {
     "data": {
      "text/plain": "array([False, False, False, False, False, False, False, False,  True,\n       False,  True, False, False, False, False, False,  True, False,\n       False, False, False, False,  True, False, False, False,  True,\n        True,  True,  True, False, False, False, False, False, False,\n        True, False, False, False,  True, False, False,  True,  True,\n       False, False, False, False,  True,  True, False, False, False,\n       False, False, False, False, False, False, False, False, False,\n       False, False, False, False, False, False, False, False, False,\n       False, False,  True, False, False, False, False, False, False,\n       False, False, False, False, False, False, False, False, False,\n       False, False, False, False, False, False, False, False, False,\n       False, False, False, False, False, False, False, False, False,\n       False, False, False, False, False, False, False, False, False,\n       False, False, False, False, False, False])"
     },
     "execution_count": 84,
     "metadata": {},
     "output_type": "execute_result"
    }
   ],
   "source": [
    "X_new.get_support()"
   ]
  },
  {
   "cell_type": "code",
   "execution_count": 85,
   "metadata": {},
   "outputs": [
    {
     "data": {
      "text/plain": "array([1.34064116e+02, 3.56884766e+01, 2.37277235e+02, 4.90832543e+01,\n       2.23882592e+04, 1.56916475e+01, 4.01526990e+01, 3.12249574e+01,\n       3.49978365e+05, 7.54266680e+03,            inf, 1.33779097e+01,\n       1.78386176e+01, 1.75924658e+02, 1.69864681e+04, 4.46176249e+01,\n       2.26844805e+04, 2.44673212e+03, 8.91790430e+00, 7.92699452e+02,\n       4.26678275e+03, 8.93056079e+01, 4.22698233e+04, 7.97231867e+03,\n       5.76300314e+03, 1.85803691e+04, 2.24895262e+04, 2.75241067e+04,\n       6.70321129e+04, 6.92428333e+04, 1.83320102e+04, 2.42923569e+03,\n       2.92634050e+03, 6.10523702e+02, 4.62953538e+02, 1.01592004e+04,\n       1.10260381e+05, 1.52322078e+02, 4.14807873e+01, 1.57821049e+01,\n       1.10776633e+05, 1.21395725e+03, 1.29054963e+02, 3.23685410e+04,\n       5.75770350e+04, 2.97251093e+02, 5.23057641e+03, 3.77796192e+03,\n       8.06829774e+03, 1.33879527e+05, 1.02833658e+05, 2.34824947e+01,\n       7.35338278e+02, 8.91790430e+00, 2.91628764e+02, 5.98590866e+02,\n       6.28053340e+02, 4.48783675e+02, 4.33959664e+02, 4.12960498e+02,\n       4.27967179e+02, 3.47950926e+02, 4.52628429e+03, 3.36490812e+02,\n       2.22334357e+04, 2.20724409e+03, 4.08267939e+02, 3.93360148e+02,\n       3.47477829e+02, 1.01297525e+02, 6.08963604e+02, 3.77987873e+02,\n       8.91790430e+00, 3.71040488e+02, 2.92310284e+04, 4.45860111e+00,\n       4.48276944e+02, 8.91790430e+00, 5.06913070e+02, 5.75394672e+02,\n       3.59586696e+02, 2.43908769e+02, 3.41788718e+02, 3.65682203e+02,\n       3.53517848e+02, 3.29957961e+02, 3.40390392e+02, 3.22583996e+02,\n       2.76383297e+02, 2.84848566e+02, 2.76319236e+02, 5.34848827e+02,\n       2.22916655e+02, 7.33141203e+01, 2.75955376e+03, 2.23000281e+01,\n       5.12950447e+01, 1.61987407e+01, 4.54807509e+01, 1.60466130e+04,\n       3.48285287e+00, 4.49521588e+01, 4.94904334e+01, 3.19113531e+01,\n       2.97348500e+03, 1.85205765e+02, 2.03894116e+02, 3.03861814e+02,\n       4.38048434e+02, 3.76527682e+02, 1.97728516e+02, 1.30597285e+00,\n       4.65749048e-01, 3.26805585e+02, 4.35369540e+00, 2.58820912e+02,\n       6.61442962e+02, 5.74611246e+02, 5.15422030e+02, 5.53478386e+02,\n       8.83174649e+01, 4.72390790e+02, 7.02273907e+03])"
     },
     "execution_count": 85,
     "metadata": {},
     "output_type": "execute_result"
    }
   ],
   "source": [
    "X_new.scores_"
   ]
  },
  {
   "cell_type": "code",
   "execution_count": 86,
   "metadata": {},
   "outputs": [
    {
     "data": {
      "text/plain": "Index(['attack_neptune', 'attack_normal', 'attack_satan', 'count',\n       'dst_host_diff_srv_rate', 'dst_host_same_src_port_rate',\n       'dst_host_same_srv_rate', 'dst_host_srv_count', 'flag_S0', 'flag_SF',\n       'last_flag', 'logged_in', 'same_srv_rate', 'serror_rate',\n       'service_http'],\n      dtype='object')"
     },
     "execution_count": 86,
     "metadata": {},
     "output_type": "execute_result"
    }
   ],
   "source": [
    "# capturing the important variables\n",
    "KBest_features=X.columns[X_new.get_support()]\n",
    "KBest_features"
   ]
  },
  {
   "cell_type": "markdown",
   "metadata": {},
   "source": [
    "### Final list of variable selected for the model building using Select KBest"
   ]
  },
  {
   "cell_type": "markdown",
   "metadata": {},
   "source": [
    "attack_neptune, attack_normal, attack_satan, count, dst_host_diff_srv_rate, dst_host_same_src_port_rate, dst_host_same_srv_rate, dst_host_srv_count, flag_S0, flag_SF, last_flag, logged_in, same_srv_rate, serror_rate, service_http"
   ]
  },
  {
   "cell_type": "code",
   "execution_count": 87,
   "metadata": {},
   "outputs": [],
   "source": [
    "train=train_new\n",
    "test=test_new"
   ]
  },
  {
   "cell_type": "markdown",
   "metadata": {},
   "source": [
    "## Model Building"
   ]
  },
  {
   "cell_type": "code",
   "execution_count": 88,
   "metadata": {},
   "outputs": [],
   "source": [
    "top_features=['attack_neptune','attack_normal','attack_satan','count','dst_host_diff_srv_rate','dst_host_same_src_port_rate','dst_host_same_srv_rate','dst_host_srv_count','flag_S0','flag_SF','last_flag','logged_in','same_srv_rate','serror_rate','service_http']\n",
    "X_train = train[top_features]\n",
    "y_train = train['attack_class']\n",
    "X_test = test[top_features]\n",
    "y_test = test['attack_class']"
   ]
  },
  {
   "cell_type": "markdown",
   "metadata": {},
   "source": [
    "### Building logistic Regression"
   ]
  },
  {
   "cell_type": "markdown",
   "metadata": {},
   "source": [
    "#### 1) LogisticRegression"
   ]
  },
  {
   "cell_type": "code",
   "execution_count": 89,
   "metadata": {},
   "outputs": [
    {
     "name": "stderr",
     "output_type": "stream",
     "text": [
      "D:\\Anaconda3\\envs\\tf1\\lib\\site-packages\\sklearn\\linear_model\\logistic.py:947: ConvergenceWarning: lbfgs failed to converge. Increase the number of iterations.\n",
      "  \"of iterations.\", ConvergenceWarning)\n"
     ]
    }
   ],
   "source": [
    "lr_clf = LogisticRegression(random_state=0, solver='lbfgs',multi_class='multinomial').fit(X_train, y_train)"
   ]
  },
  {
   "cell_type": "code",
   "execution_count": 90,
   "metadata": {},
   "outputs": [
    {
     "data": {
      "text/plain": "array([1., 0., 2., ..., 1., 0., 2.])"
     },
     "execution_count": 90,
     "metadata": {},
     "output_type": "execute_result"
    }
   ],
   "source": [
    "y_pred=lr_clf.predict(X_test)\n",
    "y_pred"
   ]
  },
  {
   "cell_type": "code",
   "execution_count": 91,
   "metadata": {},
   "outputs": [
    {
     "data": {
      "text/plain": "0.8376879740939538"
     },
     "execution_count": 91,
     "metadata": {},
     "output_type": "execute_result"
    }
   ],
   "source": [
    "from sklearn.metrics import accuracy_score\n",
    "accuracy_score(y_test, y_pred)"
   ]
  },
  {
   "cell_type": "markdown",
   "metadata": {},
   "source": [
    "#### 2) RidgeClassifier"
   ]
  },
  {
   "cell_type": "code",
   "execution_count": 92,
   "metadata": {},
   "outputs": [],
   "source": [
    "from sklearn.linear_model import RidgeClassifier"
   ]
  },
  {
   "cell_type": "code",
   "execution_count": 93,
   "metadata": {},
   "outputs": [],
   "source": [
    "rc_clf = RidgeClassifier().fit(X_train, y_train)"
   ]
  },
  {
   "cell_type": "code",
   "execution_count": 94,
   "metadata": {},
   "outputs": [
    {
     "data": {
      "text/plain": "array([1., 0., 2., ..., 2., 0., 2.])"
     },
     "execution_count": 94,
     "metadata": {},
     "output_type": "execute_result"
    }
   ],
   "source": [
    "y_pred=rc_clf.predict(X_test)\n",
    "y_pred"
   ]
  },
  {
   "cell_type": "code",
   "execution_count": 95,
   "metadata": {},
   "outputs": [
    {
     "data": {
      "text/plain": "0.7605021514439072"
     },
     "execution_count": 95,
     "metadata": {},
     "output_type": "execute_result"
    }
   ],
   "source": [
    "from sklearn.metrics import accuracy_score\n",
    "accuracy_score(y_test, y_pred)"
   ]
  },
  {
   "cell_type": "markdown",
   "metadata": {},
   "source": [
    "### K-Nearest Neighbors"
   ]
  },
  {
   "cell_type": "markdown",
   "metadata": {},
   "source": [
    "#### 1) KNeighborsClassifier"
   ]
  },
  {
   "cell_type": "code",
   "execution_count": 96,
   "metadata": {},
   "outputs": [],
   "source": [
    "from sklearn.neighbors import KNeighborsClassifier"
   ]
  },
  {
   "cell_type": "code",
   "execution_count": 97,
   "metadata": {},
   "outputs": [
    {
     "data": {
      "text/plain": "KNeighborsClassifier(algorithm='auto', leaf_size=30, metric='minkowski',\n                     metric_params=None, n_jobs=None, n_neighbors=3, p=2,\n                     weights='uniform')"
     },
     "execution_count": 97,
     "metadata": {},
     "output_type": "execute_result"
    }
   ],
   "source": [
    "k_neigh = KNeighborsClassifier(n_neighbors=3)\n",
    "k_neigh.fit(X_train, y_train)"
   ]
  },
  {
   "cell_type": "code",
   "execution_count": 98,
   "metadata": {},
   "outputs": [
    {
     "data": {
      "text/plain": "array([1., 0., 2., ..., 1., 0., 0.])"
     },
     "execution_count": 98,
     "metadata": {},
     "output_type": "execute_result"
    }
   ],
   "source": [
    "y_pred=k_neigh.predict(X_test)\n",
    "y_pred"
   ]
  },
  {
   "cell_type": "code",
   "execution_count": 99,
   "metadata": {},
   "outputs": [
    {
     "data": {
      "text/plain": "0.7538482012154549"
     },
     "execution_count": 99,
     "metadata": {},
     "output_type": "execute_result"
    }
   ],
   "source": [
    "from sklearn.metrics import accuracy_score\n",
    "accuracy_score(y_test, y_pred)"
   ]
  },
  {
   "cell_type": "markdown",
   "metadata": {},
   "source": [
    "#### 3) NearestCentroid"
   ]
  },
  {
   "cell_type": "code",
   "execution_count": 100,
   "metadata": {},
   "outputs": [],
   "source": [
    "from sklearn.neighbors.nearest_centroid import NearestCentroid"
   ]
  },
  {
   "cell_type": "code",
   "execution_count": 101,
   "metadata": {},
   "outputs": [
    {
     "data": {
      "text/plain": "NearestCentroid(metric='euclidean', shrink_threshold=None)"
     },
     "execution_count": 101,
     "metadata": {},
     "output_type": "execute_result"
    }
   ],
   "source": [
    "nc = NearestCentroid()\n",
    "nc.fit(X_train, y_train)"
   ]
  },
  {
   "cell_type": "code",
   "execution_count": 102,
   "metadata": {},
   "outputs": [
    {
     "data": {
      "text/plain": "array([1., 2., 2., ..., 0., 0., 2.])"
     },
     "execution_count": 102,
     "metadata": {},
     "output_type": "execute_result"
    }
   ],
   "source": [
    "y_pred=nc.predict(X_test)\n",
    "y_pred"
   ]
  },
  {
   "cell_type": "code",
   "execution_count": 103,
   "metadata": {},
   "outputs": [
    {
     "data": {
      "text/plain": "0.6059087078028657"
     },
     "execution_count": 103,
     "metadata": {},
     "output_type": "execute_result"
    }
   ],
   "source": [
    "from sklearn.metrics import accuracy_score\n",
    "accuracy_score(y_test, y_pred)"
   ]
  },
  {
   "cell_type": "markdown",
   "metadata": {},
   "source": [
    "### Discriminant Analysis"
   ]
  },
  {
   "cell_type": "markdown",
   "metadata": {},
   "source": [
    "#### 1) LinearDiscriminantAnalysis"
   ]
  },
  {
   "cell_type": "code",
   "execution_count": 108,
   "metadata": {},
   "outputs": [],
   "source": [
    "from sklearn.discriminant_analysis import LinearDiscriminantAnalysis"
   ]
  },
  {
   "cell_type": "code",
   "execution_count": 109,
   "metadata": {},
   "outputs": [
    {
     "name": "stderr",
     "output_type": "stream",
     "text": [
      "D:\\Anaconda3\\envs\\tf1\\lib\\site-packages\\sklearn\\discriminant_analysis.py:388: UserWarning: Variables are collinear.\n",
      "  warnings.warn(\"Variables are collinear.\")\n"
     ]
    },
    {
     "data": {
      "text/plain": "LinearDiscriminantAnalysis(n_components=None, priors=None, shrinkage=None,\n                           solver='svd', store_covariance=False, tol=0.0001)"
     },
     "execution_count": 109,
     "metadata": {},
     "output_type": "execute_result"
    }
   ],
   "source": [
    "lda = LinearDiscriminantAnalysis()\n",
    "lda.fit(X_train, y_train) "
   ]
  },
  {
   "cell_type": "code",
   "execution_count": 110,
   "metadata": {},
   "outputs": [
    {
     "data": {
      "text/plain": "array([1., 0., 2., ..., 0., 0., 2.])"
     },
     "execution_count": 110,
     "metadata": {},
     "output_type": "execute_result"
    }
   ],
   "source": [
    "y_pred=lda.predict(X_test)\n",
    "y_pred"
   ]
  },
  {
   "cell_type": "code",
   "execution_count": 111,
   "metadata": {},
   "outputs": [
    {
     "data": {
      "text/plain": "0.7071374706117198"
     },
     "execution_count": 111,
     "metadata": {},
     "output_type": "execute_result"
    }
   ],
   "source": [
    "from sklearn.metrics import accuracy_score\n",
    "accuracy_score(y_test, y_pred)"
   ]
  },
  {
   "cell_type": "markdown",
   "metadata": {},
   "source": [
    "#### 2) QuadraticDiscriminantAnalysis"
   ]
  },
  {
   "cell_type": "code",
   "execution_count": 112,
   "metadata": {},
   "outputs": [],
   "source": [
    "from sklearn.discriminant_analysis import QuadraticDiscriminantAnalysis"
   ]
  },
  {
   "cell_type": "code",
   "execution_count": 113,
   "metadata": {},
   "outputs": [
    {
     "name": "stderr",
     "output_type": "stream",
     "text": [
      "D:\\Anaconda3\\envs\\tf1\\lib\\site-packages\\sklearn\\discriminant_analysis.py:693: UserWarning: Variables are collinear\n",
      "  warnings.warn(\"Variables are collinear\")\n"
     ]
    },
    {
     "data": {
      "text/plain": "QuadraticDiscriminantAnalysis(priors=None, reg_param=0.0,\n                              store_covariance=False, tol=0.0001)"
     },
     "execution_count": 113,
     "metadata": {},
     "output_type": "execute_result"
    }
   ],
   "source": [
    "qda = QuadraticDiscriminantAnalysis()\n",
    "qda.fit(X_train, y_train)"
   ]
  },
  {
   "cell_type": "code",
   "execution_count": 114,
   "metadata": {},
   "outputs": [
    {
     "name": "stderr",
     "output_type": "stream",
     "text": [
      "D:\\Anaconda3\\envs\\tf1\\lib\\site-packages\\sklearn\\discriminant_analysis.py:717: RuntimeWarning: divide by zero encountered in power\n",
      "  X2 = np.dot(Xm, R * (S ** (-0.5)))\n",
      "D:\\Anaconda3\\envs\\tf1\\lib\\site-packages\\sklearn\\discriminant_analysis.py:717: RuntimeWarning: invalid value encountered in multiply\n",
      "  X2 = np.dot(Xm, R * (S ** (-0.5)))\n",
      "D:\\Anaconda3\\envs\\tf1\\lib\\site-packages\\sklearn\\discriminant_analysis.py:720: RuntimeWarning: divide by zero encountered in log\n",
      "  u = np.asarray([np.sum(np.log(s)) for s in self.scalings_])\n"
     ]
    },
    {
     "data": {
      "text/plain": "array([0., 0., 0., ..., 0., 0., 0.])"
     },
     "execution_count": 114,
     "metadata": {},
     "output_type": "execute_result"
    }
   ],
   "source": [
    "y_pred=qda.predict(X_test)\n",
    "y_pred"
   ]
  },
  {
   "cell_type": "code",
   "execution_count": 115,
   "metadata": {},
   "outputs": [
    {
     "data": {
      "text/plain": "0.4307767377900013"
     },
     "execution_count": 115,
     "metadata": {},
     "output_type": "execute_result"
    }
   ],
   "source": [
    "from sklearn.metrics import accuracy_score\n",
    "accuracy_score(y_test, y_pred)"
   ]
  },
  {
   "cell_type": "markdown",
   "metadata": {},
   "source": [
    "### Decision Trees"
   ]
  },
  {
   "cell_type": "code",
   "execution_count": 116,
   "metadata": {},
   "outputs": [],
   "source": [
    "from sklearn.model_selection import cross_val_score\n",
    "from sklearn import metrics\n",
    "import sklearn.tree as dt\n",
    "from sklearn.tree import DecisionTreeClassifier, DecisionTreeRegressor, export_graphviz, export\n",
    "from sklearn.model_selection import GridSearchCV"
   ]
  },
  {
   "cell_type": "code",
   "execution_count": 117,
   "metadata": {},
   "outputs": [],
   "source": [
    "clf_tree = DecisionTreeClassifier( max_depth = 5)\n",
    "clf_tree=clf_tree.fit( X_train, y_train )"
   ]
  },
  {
   "cell_type": "code",
   "execution_count": 118,
   "metadata": {},
   "outputs": [
    {
     "name": "stderr",
     "output_type": "stream",
     "text": [
      "D:\\Anaconda3\\envs\\tf1\\lib\\site-packages\\sklearn\\discriminant_analysis.py:717: RuntimeWarning: divide by zero encountered in power\n",
      "  X2 = np.dot(Xm, R * (S ** (-0.5)))\n",
      "D:\\Anaconda3\\envs\\tf1\\lib\\site-packages\\sklearn\\discriminant_analysis.py:717: RuntimeWarning: invalid value encountered in multiply\n",
      "  X2 = np.dot(Xm, R * (S ** (-0.5)))\n",
      "D:\\Anaconda3\\envs\\tf1\\lib\\site-packages\\sklearn\\discriminant_analysis.py:720: RuntimeWarning: divide by zero encountered in log\n",
      "  u = np.asarray([np.sum(np.log(s)) for s in self.scalings_])\n"
     ]
    },
    {
     "data": {
      "text/plain": "array([0., 0., 0., ..., 0., 0., 0.])"
     },
     "execution_count": 118,
     "metadata": {},
     "output_type": "execute_result"
    }
   ],
   "source": [
    "y_pred=qda.predict(X_test)\n",
    "y_pred"
   ]
  },
  {
   "cell_type": "code",
   "execution_count": 119,
   "metadata": {},
   "outputs": [
    {
     "data": {
      "text/plain": "0.4307767377900013"
     },
     "execution_count": 119,
     "metadata": {},
     "output_type": "execute_result"
    }
   ],
   "source": [
    "from sklearn.metrics import accuracy_score\n",
    "accuracy_score(y_test, y_pred)"
   ]
  },
  {
   "cell_type": "markdown",
   "metadata": {},
   "source": [
    "#### Fine Tuning the parameters"
   ]
  },
  {
   "cell_type": "code",
   "execution_count": 120,
   "metadata": {},
   "outputs": [],
   "source": [
    "param_grid = {'max_depth': np.arange(3, 9),\n",
    "             'max_features': np.arange(3,9)}"
   ]
  },
  {
   "cell_type": "code",
   "execution_count": 121,
   "metadata": {},
   "outputs": [
    {
     "data": {
      "text/plain": "GridSearchCV(cv=5, error_score='raise-deprecating',\n             estimator=DecisionTreeClassifier(class_weight=None,\n                                              criterion='gini', max_depth=None,\n                                              max_features=None,\n                                              max_leaf_nodes=None,\n                                              min_impurity_decrease=0.0,\n                                              min_impurity_split=None,\n                                              min_samples_leaf=1,\n                                              min_samples_split=2,\n                                              min_weight_fraction_leaf=0.0,\n                                              presort=False, random_state=None,\n                                              splitter='best'),\n             iid='warn', n_jobs=None,\n             param_grid={'max_depth': array([3, 4, 5, 6, 7, 8]),\n                         'max_features': array([3, 4, 5, 6, 7, 8])},\n             pre_dispatch='2*n_jobs', refit=True, return_train_score=False,\n             scoring=None, verbose=0)"
     },
     "execution_count": 121,
     "metadata": {},
     "output_type": "execute_result"
    }
   ],
   "source": [
    "tree = GridSearchCV(DecisionTreeClassifier(), param_grid, cv = 5)\n",
    "tree.fit( X_train, y_train )"
   ]
  },
  {
   "cell_type": "code",
   "execution_count": 122,
   "metadata": {},
   "outputs": [
    {
     "data": {
      "text/plain": "0.9980789381767377"
     },
     "execution_count": 122,
     "metadata": {},
     "output_type": "execute_result"
    }
   ],
   "source": [
    "tree.best_score_"
   ]
  },
  {
   "cell_type": "code",
   "execution_count": 123,
   "metadata": {},
   "outputs": [
    {
     "data": {
      "text/plain": "DecisionTreeClassifier(class_weight=None, criterion='gini', max_depth=7,\n                       max_features=8, max_leaf_nodes=None,\n                       min_impurity_decrease=0.0, min_impurity_split=None,\n                       min_samples_leaf=1, min_samples_split=2,\n                       min_weight_fraction_leaf=0.0, presort=False,\n                       random_state=None, splitter='best')"
     },
     "execution_count": 123,
     "metadata": {},
     "output_type": "execute_result"
    }
   ],
   "source": [
    "tree.best_estimator_"
   ]
  },
  {
   "cell_type": "code",
   "execution_count": 124,
   "metadata": {},
   "outputs": [
    {
     "data": {
      "text/plain": "{'max_depth': 7, 'max_features': 8}"
     },
     "execution_count": 124,
     "metadata": {},
     "output_type": "execute_result"
    }
   ],
   "source": [
    "tree.best_params_"
   ]
  },
  {
   "cell_type": "markdown",
   "metadata": {},
   "source": [
    "### Building Final Decision Tree Model"
   ]
  },
  {
   "cell_type": "code",
   "execution_count": 125,
   "metadata": {},
   "outputs": [
    {
     "data": {
      "text/plain": "DecisionTreeClassifier(class_weight=None, criterion='gini', max_depth=8,\n                       max_features=8, max_leaf_nodes=None,\n                       min_impurity_decrease=0.0, min_impurity_split=None,\n                       min_samples_leaf=1, min_samples_split=2,\n                       min_weight_fraction_leaf=0.0, presort=False,\n                       random_state=None, splitter='best')"
     },
     "execution_count": 125,
     "metadata": {},
     "output_type": "execute_result"
    }
   ],
   "source": [
    "clf_tree = DecisionTreeClassifier( max_depth = 8, max_features=8 )\n",
    "clf_tree.fit( X_train, y_train )"
   ]
  },
  {
   "cell_type": "markdown",
   "metadata": {},
   "source": [
    "#### Feature Relative Importance"
   ]
  },
  {
   "cell_type": "code",
   "execution_count": 126,
   "metadata": {},
   "outputs": [
    {
     "data": {
      "text/plain": "array([0.05283933, 0.09663354, 0.08255098, 0.03635048, 0.0017896 ,\n       0.02832736, 0.00335196, 0.0125689 , 0.00128817, 0.00205829,\n       0.16088674, 0.        , 0.51616726, 0.        , 0.00518737])"
     },
     "execution_count": 126,
     "metadata": {},
     "output_type": "execute_result"
    }
   ],
   "source": [
    "clf_tree.feature_importances_"
   ]
  },
  {
   "cell_type": "code",
   "execution_count": 127,
   "metadata": {},
   "outputs": [
    {
     "data": {
      "text/plain": "[('attack_neptune', 0.0528393312553549),\n ('attack_normal', 0.09663353616912765),\n ('attack_satan', 0.08255098026294035),\n ('count', 0.03635047949473235),\n ('dst_host_diff_srv_rate', 0.0017896016881364272),\n ('dst_host_same_src_port_rate', 0.028327364004263136),\n ('dst_host_same_srv_rate', 0.003351964278262801),\n ('dst_host_srv_count', 0.012568901451668606),\n ('flag_S0', 0.0012881742165826138),\n ('flag_SF', 0.0020582930791984404),\n ('last_flag', 0.16088674286190235),\n ('logged_in', 0.0),\n ('same_srv_rate', 0.5161672625195866),\n ('serror_rate', 0.0),\n ('service_http', 0.005187368718244001)]"
     },
     "execution_count": 127,
     "metadata": {},
     "output_type": "execute_result"
    }
   ],
   "source": [
    "# summarize the selection of the attributes\n",
    "import itertools\n",
    "feature_map = [(i, v) for i, v in itertools.zip_longest(X_train.columns, clf_tree.feature_importances_)]\n",
    "\n",
    "feature_map"
   ]
  },
  {
   "cell_type": "code",
   "execution_count": 128,
   "metadata": {},
   "outputs": [
    {
     "data": {
      "text/plain": "                        Feature  importance\n12                same_srv_rate    0.516167\n10                    last_flag    0.160887\n1                 attack_normal    0.096634\n2                  attack_satan    0.082551\n0                attack_neptune    0.052839\n3                         count    0.036350\n5   dst_host_same_src_port_rate    0.028327\n7            dst_host_srv_count    0.012569\n14                 service_http    0.005187\n6        dst_host_same_srv_rate    0.003352\n9                       flag_SF    0.002058\n4        dst_host_diff_srv_rate    0.001790\n8                       flag_S0    0.001288\n11                    logged_in    0.000000\n13                  serror_rate    0.000000",
      "text/html": "<div>\n<style scoped>\n    .dataframe tbody tr th:only-of-type {\n        vertical-align: middle;\n    }\n\n    .dataframe tbody tr th {\n        vertical-align: top;\n    }\n\n    .dataframe thead th {\n        text-align: right;\n    }\n</style>\n<table border=\"1\" class=\"dataframe\">\n  <thead>\n    <tr style=\"text-align: right;\">\n      <th></th>\n      <th>Feature</th>\n      <th>importance</th>\n    </tr>\n  </thead>\n  <tbody>\n    <tr>\n      <th>12</th>\n      <td>same_srv_rate</td>\n      <td>0.516167</td>\n    </tr>\n    <tr>\n      <th>10</th>\n      <td>last_flag</td>\n      <td>0.160887</td>\n    </tr>\n    <tr>\n      <th>1</th>\n      <td>attack_normal</td>\n      <td>0.096634</td>\n    </tr>\n    <tr>\n      <th>2</th>\n      <td>attack_satan</td>\n      <td>0.082551</td>\n    </tr>\n    <tr>\n      <th>0</th>\n      <td>attack_neptune</td>\n      <td>0.052839</td>\n    </tr>\n    <tr>\n      <th>3</th>\n      <td>count</td>\n      <td>0.036350</td>\n    </tr>\n    <tr>\n      <th>5</th>\n      <td>dst_host_same_src_port_rate</td>\n      <td>0.028327</td>\n    </tr>\n    <tr>\n      <th>7</th>\n      <td>dst_host_srv_count</td>\n      <td>0.012569</td>\n    </tr>\n    <tr>\n      <th>14</th>\n      <td>service_http</td>\n      <td>0.005187</td>\n    </tr>\n    <tr>\n      <th>6</th>\n      <td>dst_host_same_srv_rate</td>\n      <td>0.003352</td>\n    </tr>\n    <tr>\n      <th>9</th>\n      <td>flag_SF</td>\n      <td>0.002058</td>\n    </tr>\n    <tr>\n      <th>4</th>\n      <td>dst_host_diff_srv_rate</td>\n      <td>0.001790</td>\n    </tr>\n    <tr>\n      <th>8</th>\n      <td>flag_S0</td>\n      <td>0.001288</td>\n    </tr>\n    <tr>\n      <th>11</th>\n      <td>logged_in</td>\n      <td>0.000000</td>\n    </tr>\n    <tr>\n      <th>13</th>\n      <td>serror_rate</td>\n      <td>0.000000</td>\n    </tr>\n  </tbody>\n</table>\n</div>"
     },
     "execution_count": 128,
     "metadata": {},
     "output_type": "execute_result"
    }
   ],
   "source": [
    "Feature_importance = pd.DataFrame(feature_map, columns=['Feature', 'importance'])\n",
    "Feature_importance.sort_values('importance', inplace=True, ascending=False)\n",
    "Feature_importance"
   ]
  },
  {
   "cell_type": "code",
   "execution_count": 129,
   "metadata": {},
   "outputs": [],
   "source": [
    "tree_test_pred = pd.DataFrame( { 'actual':  y_test,\n",
    "                            'predicted': clf_tree.predict( X_test ) } )"
   ]
  },
  {
   "cell_type": "code",
   "execution_count": 130,
   "metadata": {},
   "outputs": [
    {
     "data": {
      "text/plain": "       actual  predicted\n19498     0.0        0.0\n15413     3.0        2.0\n11264     1.0        1.0\n3194      1.0        1.0\n7878      1.0        1.0\n13062     0.0        0.0\n21867     1.0        1.0\n1704      1.0        1.0\n5450      1.0        1.0\n6410      3.0        2.0",
      "text/html": "<div>\n<style scoped>\n    .dataframe tbody tr th:only-of-type {\n        vertical-align: middle;\n    }\n\n    .dataframe tbody tr th {\n        vertical-align: top;\n    }\n\n    .dataframe thead th {\n        text-align: right;\n    }\n</style>\n<table border=\"1\" class=\"dataframe\">\n  <thead>\n    <tr style=\"text-align: right;\">\n      <th></th>\n      <th>actual</th>\n      <th>predicted</th>\n    </tr>\n  </thead>\n  <tbody>\n    <tr>\n      <th>19498</th>\n      <td>0.0</td>\n      <td>0.0</td>\n    </tr>\n    <tr>\n      <th>15413</th>\n      <td>3.0</td>\n      <td>2.0</td>\n    </tr>\n    <tr>\n      <th>11264</th>\n      <td>1.0</td>\n      <td>1.0</td>\n    </tr>\n    <tr>\n      <th>3194</th>\n      <td>1.0</td>\n      <td>1.0</td>\n    </tr>\n    <tr>\n      <th>7878</th>\n      <td>1.0</td>\n      <td>1.0</td>\n    </tr>\n    <tr>\n      <th>13062</th>\n      <td>0.0</td>\n      <td>0.0</td>\n    </tr>\n    <tr>\n      <th>21867</th>\n      <td>1.0</td>\n      <td>1.0</td>\n    </tr>\n    <tr>\n      <th>1704</th>\n      <td>1.0</td>\n      <td>1.0</td>\n    </tr>\n    <tr>\n      <th>5450</th>\n      <td>1.0</td>\n      <td>1.0</td>\n    </tr>\n    <tr>\n      <th>6410</th>\n      <td>3.0</td>\n      <td>2.0</td>\n    </tr>\n  </tbody>\n</table>\n</div>"
     },
     "execution_count": 130,
     "metadata": {},
     "output_type": "execute_result"
    }
   ],
   "source": [
    "tree_test_pred.sample( n = 10 )"
   ]
  },
  {
   "cell_type": "code",
   "execution_count": 131,
   "metadata": {},
   "outputs": [
    {
     "data": {
      "text/plain": "0.821895932218427"
     },
     "execution_count": 131,
     "metadata": {},
     "output_type": "execute_result"
    }
   ],
   "source": [
    "accuracy_score( tree_test_pred.actual, tree_test_pred.predicted )"
   ]
  },
  {
   "cell_type": "code",
   "execution_count": 132,
   "metadata": {},
   "outputs": [
    {
     "data": {
      "text/plain": "Text(0.5, 15.0, 'Predicted label')"
     },
     "execution_count": 132,
     "metadata": {},
     "output_type": "execute_result"
    },
    {
     "data": {
      "text/plain": "<Figure size 432x288 with 2 Axes>",
      "image/png": "[encoded data removed]"
     },
     "metadata": {
      "needs_background": "light"
     },
     "output_type": "display_data"
    }
   ],
   "source": [
    "tree_cm = metrics.confusion_matrix( tree_test_pred.predicted,\n",
    "                                 tree_test_pred.actual,\n",
    "                                 [1,0] )\n",
    "sns.heatmap(tree_cm, annot=True,\n",
    "         fmt='.2f',\n",
    "         xticklabels = [\"Left\", \"No Left\"] , yticklabels = [\"Left\", \"No Left\"] )\n",
    "\n",
    "plt.ylabel('True label')\n",
    "plt.xlabel('Predicted label')"
   ]
  },
  {
   "cell_type": "markdown",
   "metadata": {},
   "source": [
    "## Naive Bayes Model"
   ]
  },
  {
   "cell_type": "markdown",
   "metadata": {},
   "source": [
    "#### 1) BernoulliNB"
   ]
  },
  {
   "cell_type": "code",
   "execution_count": 133,
   "metadata": {},
   "outputs": [],
   "source": [
    "from sklearn.naive_bayes import BernoulliNB"
   ]
  },
  {
   "cell_type": "code",
   "execution_count": 134,
   "metadata": {},
   "outputs": [
    {
     "data": {
      "text/plain": "BernoulliNB(alpha=1.0, binarize=0.0, class_prior=None, fit_prior=True)"
     },
     "execution_count": 134,
     "metadata": {},
     "output_type": "execute_result"
    }
   ],
   "source": [
    "bnb_clf = BernoulliNB()\n",
    "bnb_clf.fit(X_train, y_train)"
   ]
  },
  {
   "cell_type": "code",
   "execution_count": 135,
   "metadata": {},
   "outputs": [
    {
     "data": {
      "text/plain": "array([1., 0., 2., ..., 0., 0., 2.])"
     },
     "execution_count": 135,
     "metadata": {},
     "output_type": "execute_result"
    }
   ],
   "source": [
    "y_pred=bnb_clf.predict(X_test)\n",
    "y_pred"
   ]
  },
  {
   "cell_type": "code",
   "execution_count": 136,
   "metadata": {},
   "outputs": [
    {
     "data": {
      "text/plain": "Text(0.5, 15.0, 'Predicted label')"
     },
     "execution_count": 136,
     "metadata": {},
     "output_type": "execute_result"
    },
    {
     "data": {
      "text/plain": "<Figure size 432x288 with 2 Axes>",
      "image/png": "[encoded data removed]"
     },
     "metadata": {
      "needs_background": "light"
     },
     "output_type": "display_data"
    }
   ],
   "source": [
    "nb_cm = metrics.confusion_matrix( y_test,y_pred )\n",
    "sns.heatmap(nb_cm, annot=True,  fmt='.2f', xticklabels = [\"no\", \"Yes\"] , yticklabels = [\"No\", \"Yes\"] )\n",
    "plt.ylabel('True label')\n",
    "plt.xlabel('Predicted label')"
   ]
  },
  {
   "cell_type": "code",
   "execution_count": 137,
   "metadata": {},
   "outputs": [
    {
     "data": {
      "text/plain": "0.778379097724349"
     },
     "execution_count": 137,
     "metadata": {},
     "output_type": "execute_result"
    }
   ],
   "source": [
    "accuracy_score( y_test, y_pred )"
   ]
  },
  {
   "cell_type": "markdown",
   "metadata": {},
   "source": [
    "#### 2) GaussianNB"
   ]
  },
  {
   "cell_type": "code",
   "execution_count": 138,
   "metadata": {},
   "outputs": [],
   "source": [
    "from sklearn.naive_bayes import GaussianNB"
   ]
  },
  {
   "cell_type": "code",
   "execution_count": 139,
   "metadata": {},
   "outputs": [
    {
     "data": {
      "text/plain": "GaussianNB(priors=None, var_smoothing=1e-09)"
     },
     "execution_count": 139,
     "metadata": {},
     "output_type": "execute_result"
    }
   ],
   "source": [
    "gnb_clf = GaussianNB()\n",
    "gnb_clf.fit(X_train, y_train)"
   ]
  },
  {
   "cell_type": "code",
   "execution_count": 140,
   "metadata": {},
   "outputs": [
    {
     "data": {
      "text/plain": "array([1., 0., 2., ..., 1., 0., 2.])"
     },
     "execution_count": 140,
     "metadata": {},
     "output_type": "execute_result"
    }
   ],
   "source": [
    "y_pred=gnb_clf.predict(X_test)\n",
    "y_pred"
   ]
  },
  {
   "cell_type": "code",
   "execution_count": 141,
   "metadata": {},
   "outputs": [
    {
     "data": {
      "text/plain": "Text(0.5, 15.0, 'Predicted label')"
     },
     "execution_count": 141,
     "metadata": {},
     "output_type": "execute_result"
    },
    {
     "data": {
      "text/plain": "<Figure size 432x288 with 2 Axes>",
      "image/png": "[encoded data removed]"
     },
     "metadata": {
      "needs_background": "light"
     },
     "output_type": "display_data"
    }
   ],
   "source": [
    "nb_cm = metrics.confusion_matrix( y_test, y_pred )\n",
    "sns.heatmap(nb_cm, annot=True,  fmt='.2f', xticklabels = [\"no\", \"Yes\"] , yticklabels = [\"No\", \"Yes\"] )\n",
    "plt.ylabel('True label')\n",
    "plt.xlabel('Predicted label')"
   ]
  },
  {
   "cell_type": "code",
   "execution_count": 142,
   "metadata": {},
   "outputs": [
    {
     "data": {
      "text/plain": "0.7916869981812537"
     },
     "execution_count": 142,
     "metadata": {},
     "output_type": "execute_result"
    }
   ],
   "source": [
    "accuracy_score( y_test, y_pred )"
   ]
  },
  {
   "cell_type": "markdown",
   "metadata": {},
   "source": [
    "### Support Vector Machine (SVM)"
   ]
  },
  {
   "cell_type": "markdown",
   "metadata": {},
   "source": [
    "#### 1) LinearSVC"
   ]
  },
  {
   "cell_type": "code",
   "execution_count": 143,
   "metadata": {},
   "outputs": [],
   "source": [
    "from sklearn.svm import LinearSVC"
   ]
  },
  {
   "cell_type": "code",
   "execution_count": 144,
   "metadata": {},
   "outputs": [
    {
     "name": "stderr",
     "output_type": "stream",
     "text": [
      "D:\\Anaconda3\\envs\\tf1\\lib\\site-packages\\sklearn\\svm\\base.py:929: ConvergenceWarning: Liblinear failed to converge, increase the number of iterations.\n",
      "  \"the number of iterations.\", ConvergenceWarning)\n"
     ]
    },
    {
     "data": {
      "text/plain": "LinearSVC(C=1.0, class_weight=None, dual=True, fit_intercept=True,\n          intercept_scaling=1, loss='squared_hinge', max_iter=1000,\n          multi_class='ovr', penalty='l2', random_state=0, tol=1e-05,\n          verbose=0)"
     },
     "execution_count": 144,
     "metadata": {},
     "output_type": "execute_result"
    }
   ],
   "source": [
    "svm_clf = LinearSVC(random_state=0, tol=1e-5)\n",
    "svm_clf.fit(X_train, y_train)"
   ]
  },
  {
   "cell_type": "code",
   "execution_count": 145,
   "metadata": {},
   "outputs": [
    {
     "data": {
      "text/plain": "array([1., 0., 2., ..., 1., 0., 2.])"
     },
     "execution_count": 145,
     "metadata": {},
     "output_type": "execute_result"
    }
   ],
   "source": [
    "y_pred=svm_clf.predict(X_test)\n",
    "y_pred"
   ]
  },
  {
   "cell_type": "code",
   "execution_count": 146,
   "metadata": {},
   "outputs": [
    {
     "data": {
      "text/plain": "0.8100519008117819"
     },
     "execution_count": 146,
     "metadata": {},
     "output_type": "execute_result"
    }
   ],
   "source": [
    "accuracy_score( y_test, y_pred )"
   ]
  },
  {
   "cell_type": "markdown",
   "metadata": {},
   "source": [
    "#### 2) SVC"
   ]
  },
  {
   "cell_type": "code",
   "execution_count": 147,
   "metadata": {},
   "outputs": [],
   "source": [
    "from sklearn.svm import SVC\n",
    "from sklearn.pipeline import make_pipeline\n",
    "\n",
    "model = SVC(kernel='rbf', class_weight='balanced',gamma='scale')"
   ]
  },
  {
   "cell_type": "code",
   "execution_count": 148,
   "metadata": {},
   "outputs": [
    {
     "data": {
      "text/plain": "SVC(C=1.0, cache_size=200, class_weight='balanced', coef0=0.0,\n    decision_function_shape='ovr', degree=3, gamma='scale', kernel='rbf',\n    max_iter=-1, probability=False, random_state=None, shrinking=True,\n    tol=0.001, verbose=False)"
     },
     "execution_count": 148,
     "metadata": {},
     "output_type": "execute_result"
    }
   ],
   "source": [
    "model.fit(X_train, y_train)"
   ]
  },
  {
   "cell_type": "code",
   "execution_count": 149,
   "metadata": {},
   "outputs": [
    {
     "data": {
      "text/plain": "array([1., 0., 2., ..., 2., 0., 2.])"
     },
     "execution_count": 149,
     "metadata": {},
     "output_type": "execute_result"
    }
   ],
   "source": [
    "y_pred=model.predict(X_test)\n",
    "y_pred"
   ]
  },
  {
   "cell_type": "code",
   "execution_count": 150,
   "metadata": {},
   "outputs": [
    {
     "data": {
      "text/plain": "0.7109524020760325"
     },
     "execution_count": 150,
     "metadata": {},
     "output_type": "execute_result"
    }
   ],
   "source": [
    "accuracy_score( y_test, y_pred )"
   ]
  },
  {
   "cell_type": "markdown",
   "metadata": {},
   "source": [
    "### Stochastic Gradient Descent (SGD)"
   ]
  },
  {
   "cell_type": "code",
   "execution_count": 151,
   "metadata": {},
   "outputs": [],
   "source": [
    "from sklearn.linear_model import LogisticRegression\n",
    "from sklearn.linear_model import SGDClassifier\n",
    "from sklearn.model_selection import KFold\n",
    "from sklearn.metrics import accuracy_score\n",
    "from sklearn.preprocessing import StandardScaler"
   ]
  },
  {
   "cell_type": "code",
   "execution_count": 152,
   "metadata": {},
   "outputs": [
    {
     "data": {
      "text/plain": "SGDClassifier(alpha=0.0001, average=False, class_weight=None,\n              early_stopping=False, epsilon=0.1, eta0=0.0, fit_intercept=True,\n              l1_ratio=0.15, learning_rate='optimal', loss='hinge',\n              max_iter=1000, n_iter_no_change=5, n_jobs=None, penalty='l2',\n              power_t=0.5, random_state=None, shuffle=True, tol=0.001,\n              validation_fraction=0.1, verbose=0, warm_start=False)"
     },
     "execution_count": 152,
     "metadata": {},
     "output_type": "execute_result"
    }
   ],
   "source": [
    "model = SGDClassifier(loss=\"hinge\", penalty=\"l2\")\n",
    "model.fit(X_train, y_train)"
   ]
  },
  {
   "cell_type": "code",
   "execution_count": 153,
   "metadata": {},
   "outputs": [
    {
     "data": {
      "text/plain": "array([1., 0., 2., ..., 1., 0., 2.])"
     },
     "execution_count": 153,
     "metadata": {},
     "output_type": "execute_result"
    }
   ],
   "source": [
    "y_pred=model.predict(X_test)\n",
    "y_pred"
   ]
  },
  {
   "cell_type": "code",
   "execution_count": 154,
   "metadata": {},
   "outputs": [
    {
     "data": {
      "text/plain": "0.789823892117287"
     },
     "execution_count": 154,
     "metadata": {},
     "output_type": "execute_result"
    }
   ],
   "source": [
    "accuracy_score( y_test, y_pred )"
   ]
  },
  {
   "cell_type": "code",
   "execution_count": 155,
   "metadata": {},
   "outputs": [
    {
     "name": "stderr",
     "output_type": "stream",
     "text": [
      "D:\\Anaconda3\\envs\\tf1\\lib\\site-packages\\sklearn\\linear_model\\stochastic_gradient.py:561: ConvergenceWarning: Maximum number of iteration reached before convergence. Consider increasing max_iter to improve the fit.\n",
      "  ConvergenceWarning)\n",
      "D:\\Anaconda3\\envs\\tf1\\lib\\site-packages\\sklearn\\linear_model\\stochastic_gradient.py:561: ConvergenceWarning: Maximum number of iteration reached before convergence. Consider increasing max_iter to improve the fit.\n",
      "  ConvergenceWarning)\n",
      "D:\\Anaconda3\\envs\\tf1\\lib\\site-packages\\sklearn\\linear_model\\stochastic_gradient.py:561: ConvergenceWarning: Maximum number of iteration reached before convergence. Consider increasing max_iter to improve the fit.\n",
      "  ConvergenceWarning)\n",
      "D:\\Anaconda3\\envs\\tf1\\lib\\site-packages\\sklearn\\linear_model\\stochastic_gradient.py:561: ConvergenceWarning: Maximum number of iteration reached before convergence. Consider increasing max_iter to improve the fit.\n",
      "  ConvergenceWarning)\n",
      "D:\\Anaconda3\\envs\\tf1\\lib\\site-packages\\sklearn\\linear_model\\stochastic_gradient.py:561: ConvergenceWarning: Maximum number of iteration reached before convergence. Consider increasing max_iter to improve the fit.\n",
      "  ConvergenceWarning)\n"
     ]
    },
    {
     "data": {
      "text/plain": "[<matplotlib.lines.Line2D at 0x2a39f42df28>]"
     },
     "execution_count": 155,
     "metadata": {},
     "output_type": "execute_result"
    },
    {
     "data": {
      "text/plain": "<Figure size 432x288 with 1 Axes>",
      "image/png": "[encoded data removed]"
     },
     "metadata": {
      "needs_background": "light"
     },
     "output_type": "display_data"
    }
   ],
   "source": [
    "n_iters = [5, 10, 20, 50, 100, 1000]\n",
    "scores = []\n",
    "for n_iter in n_iters:\n",
    "    model = SGDClassifier(loss=\"hinge\", penalty=\"l2\", max_iter=n_iter)\n",
    "    model.fit(X_train, y_train)\n",
    "    scores.append(model.score(X_test, y_test))\n",
    "\n",
    "plt.title(\"Effect of n_iter\")\n",
    "plt.xlabel(\"n_iter\")\n",
    "plt.ylabel(\"score\")\n",
    "plt.plot(n_iters, scores) "
   ]
  },
  {
   "cell_type": "code",
   "execution_count": 156,
   "metadata": {},
   "outputs": [
    {
     "data": {
      "text/plain": "[<matplotlib.lines.Line2D at 0x2a3bff63c18>]"
     },
     "execution_count": 156,
     "metadata": {},
     "output_type": "execute_result"
    },
    {
     "data": {
      "text/plain": "<Figure size 432x288 with 1 Axes>",
      "image/png": "[encoded data removed]"
     },
     "metadata": {
      "needs_background": "light"
     },
     "output_type": "display_data"
    }
   ],
   "source": [
    "# losses\n",
    "losses = [\"hinge\", \"log\", \"modified_huber\", \"perceptron\", \"squared_hinge\"]\n",
    "scores = []\n",
    "for loss in losses:\n",
    "    model = SGDClassifier(loss=loss, penalty=\"l2\", max_iter=1000)\n",
    "    model.fit(X_train, y_train)\n",
    "    scores.append(model.score(X_test, y_test))\n",
    "\n",
    "plt.xlabel(\"loss\")\n",
    "plt.ylabel(\"score\")\n",
    "plt.title(\"Effect of loss\")\n",
    "x = np.arange(len(losses))\n",
    "plt.xticks(x, losses)\n",
    "plt.plot(x, scores)"
   ]
  },
  {
   "cell_type": "code",
   "execution_count": 157,
   "metadata": {},
   "outputs": [],
   "source": [
    "from sklearn.model_selection import GridSearchCV\n",
    "\n",
    "params = {\n",
    "    \"loss\" : [\"hinge\", \"log\", \"squared_hinge\", \"modified_huber\"],\n",
    "    \"alpha\" : [0.0001, 0.001, 0.01, 0.1],\n",
    "    \"penalty\" : [\"l2\", \"l1\", \"none\"],\n",
    "}\n",
    "\n",
    "model = SGDClassifier(max_iter=100)\n",
    "clf = GridSearchCV(model, param_grid=params)"
   ]
  },
  {
   "cell_type": "code",
   "execution_count": 158,
   "metadata": {},
   "outputs": [
    {
     "name": "stderr",
     "output_type": "stream",
     "text": [
      "D:\\Anaconda3\\envs\\tf1\\lib\\site-packages\\sklearn\\model_selection\\_split.py:1978: FutureWarning: The default value of cv will change from 3 to 5 in version 0.22. Specify it explicitly to silence this warning.\n",
      "  warnings.warn(CV_WARNING, FutureWarning)\n",
      "D:\\Anaconda3\\envs\\tf1\\lib\\site-packages\\sklearn\\linear_model\\stochastic_gradient.py:561: ConvergenceWarning: Maximum number of iteration reached before convergence. Consider increasing max_iter to improve the fit.\n",
      "  ConvergenceWarning)\n",
      "D:\\Anaconda3\\envs\\tf1\\lib\\site-packages\\sklearn\\linear_model\\stochastic_gradient.py:561: ConvergenceWarning: Maximum number of iteration reached before convergence. Consider increasing max_iter to improve the fit.\n",
      "  ConvergenceWarning)\n",
      "D:\\Anaconda3\\envs\\tf1\\lib\\site-packages\\sklearn\\linear_model\\stochastic_gradient.py:561: ConvergenceWarning: Maximum number of iteration reached before convergence. Consider increasing max_iter to improve the fit.\n",
      "  ConvergenceWarning)\n",
      "D:\\Anaconda3\\envs\\tf1\\lib\\site-packages\\sklearn\\linear_model\\stochastic_gradient.py:561: ConvergenceWarning: Maximum number of iteration reached before convergence. Consider increasing max_iter to improve the fit.\n",
      "  ConvergenceWarning)\n",
      "D:\\Anaconda3\\envs\\tf1\\lib\\site-packages\\sklearn\\linear_model\\stochastic_gradient.py:561: ConvergenceWarning: Maximum number of iteration reached before convergence. Consider increasing max_iter to improve the fit.\n",
      "  ConvergenceWarning)\n",
      "D:\\Anaconda3\\envs\\tf1\\lib\\site-packages\\sklearn\\linear_model\\stochastic_gradient.py:561: ConvergenceWarning: Maximum number of iteration reached before convergence. Consider increasing max_iter to improve the fit.\n",
      "  ConvergenceWarning)\n",
      "D:\\Anaconda3\\envs\\tf1\\lib\\site-packages\\sklearn\\linear_model\\stochastic_gradient.py:561: ConvergenceWarning: Maximum number of iteration reached before convergence. Consider increasing max_iter to improve the fit.\n",
      "  ConvergenceWarning)\n",
      "D:\\Anaconda3\\envs\\tf1\\lib\\site-packages\\sklearn\\linear_model\\stochastic_gradient.py:561: ConvergenceWarning: Maximum number of iteration reached before convergence. Consider increasing max_iter to improve the fit.\n",
      "  ConvergenceWarning)\n",
      "D:\\Anaconda3\\envs\\tf1\\lib\\site-packages\\sklearn\\linear_model\\stochastic_gradient.py:561: ConvergenceWarning: Maximum number of iteration reached before convergence. Consider increasing max_iter to improve the fit.\n",
      "  ConvergenceWarning)\n",
      "D:\\Anaconda3\\envs\\tf1\\lib\\site-packages\\sklearn\\linear_model\\stochastic_gradient.py:561: ConvergenceWarning: Maximum number of iteration reached before convergence. Consider increasing max_iter to improve the fit.\n",
      "  ConvergenceWarning)\n",
      "D:\\Anaconda3\\envs\\tf1\\lib\\site-packages\\sklearn\\linear_model\\stochastic_gradient.py:561: ConvergenceWarning: Maximum number of iteration reached before convergence. Consider increasing max_iter to improve the fit.\n",
      "  ConvergenceWarning)\n",
      "D:\\Anaconda3\\envs\\tf1\\lib\\site-packages\\sklearn\\linear_model\\stochastic_gradient.py:561: ConvergenceWarning: Maximum number of iteration reached before convergence. Consider increasing max_iter to improve the fit.\n",
      "  ConvergenceWarning)\n",
      "D:\\Anaconda3\\envs\\tf1\\lib\\site-packages\\sklearn\\linear_model\\stochastic_gradient.py:561: ConvergenceWarning: Maximum number of iteration reached before convergence. Consider increasing max_iter to improve the fit.\n",
      "  ConvergenceWarning)\n",
      "D:\\Anaconda3\\envs\\tf1\\lib\\site-packages\\sklearn\\linear_model\\stochastic_gradient.py:561: ConvergenceWarning: Maximum number of iteration reached before convergence. Consider increasing max_iter to improve the fit.\n",
      "  ConvergenceWarning)\n",
      "D:\\Anaconda3\\envs\\tf1\\lib\\site-packages\\sklearn\\linear_model\\stochastic_gradient.py:561: ConvergenceWarning: Maximum number of iteration reached before convergence. Consider increasing max_iter to improve the fit.\n",
      "  ConvergenceWarning)\n",
      "D:\\Anaconda3\\envs\\tf1\\lib\\site-packages\\sklearn\\linear_model\\stochastic_gradient.py:561: ConvergenceWarning: Maximum number of iteration reached before convergence. Consider increasing max_iter to improve the fit.\n",
      "  ConvergenceWarning)\n",
      "D:\\Anaconda3\\envs\\tf1\\lib\\site-packages\\sklearn\\linear_model\\stochastic_gradient.py:561: ConvergenceWarning: Maximum number of iteration reached before convergence. Consider increasing max_iter to improve the fit.\n",
      "  ConvergenceWarning)\n",
      "D:\\Anaconda3\\envs\\tf1\\lib\\site-packages\\sklearn\\linear_model\\stochastic_gradient.py:561: ConvergenceWarning: Maximum number of iteration reached before convergence. Consider increasing max_iter to improve the fit.\n",
      "  ConvergenceWarning)\n",
      "D:\\Anaconda3\\envs\\tf1\\lib\\site-packages\\sklearn\\linear_model\\stochastic_gradient.py:561: ConvergenceWarning: Maximum number of iteration reached before convergence. Consider increasing max_iter to improve the fit.\n",
      "  ConvergenceWarning)\n",
      "D:\\Anaconda3\\envs\\tf1\\lib\\site-packages\\sklearn\\linear_model\\stochastic_gradient.py:561: ConvergenceWarning: Maximum number of iteration reached before convergence. Consider increasing max_iter to improve the fit.\n",
      "  ConvergenceWarning)\n",
      "D:\\Anaconda3\\envs\\tf1\\lib\\site-packages\\sklearn\\linear_model\\stochastic_gradient.py:561: ConvergenceWarning: Maximum number of iteration reached before convergence. Consider increasing max_iter to improve the fit.\n",
      "  ConvergenceWarning)\n",
      "D:\\Anaconda3\\envs\\tf1\\lib\\site-packages\\sklearn\\linear_model\\stochastic_gradient.py:561: ConvergenceWarning: Maximum number of iteration reached before convergence. Consider increasing max_iter to improve the fit.\n",
      "  ConvergenceWarning)\n",
      "D:\\Anaconda3\\envs\\tf1\\lib\\site-packages\\sklearn\\linear_model\\stochastic_gradient.py:561: ConvergenceWarning: Maximum number of iteration reached before convergence. Consider increasing max_iter to improve the fit.\n",
      "  ConvergenceWarning)\n",
      "D:\\Anaconda3\\envs\\tf1\\lib\\site-packages\\sklearn\\linear_model\\stochastic_gradient.py:561: ConvergenceWarning: Maximum number of iteration reached before convergence. Consider increasing max_iter to improve the fit.\n",
      "  ConvergenceWarning)\n",
      "D:\\Anaconda3\\envs\\tf1\\lib\\site-packages\\sklearn\\linear_model\\stochastic_gradient.py:561: ConvergenceWarning: Maximum number of iteration reached before convergence. Consider increasing max_iter to improve the fit.\n",
      "  ConvergenceWarning)\n",
      "D:\\Anaconda3\\envs\\tf1\\lib\\site-packages\\sklearn\\linear_model\\stochastic_gradient.py:561: ConvergenceWarning: Maximum number of iteration reached before convergence. Consider increasing max_iter to improve the fit.\n",
      "  ConvergenceWarning)\n",
      "D:\\Anaconda3\\envs\\tf1\\lib\\site-packages\\sklearn\\linear_model\\stochastic_gradient.py:561: ConvergenceWarning: Maximum number of iteration reached before convergence. Consider increasing max_iter to improve the fit.\n",
      "  ConvergenceWarning)\n",
      "D:\\Anaconda3\\envs\\tf1\\lib\\site-packages\\sklearn\\linear_model\\stochastic_gradient.py:561: ConvergenceWarning: Maximum number of iteration reached before convergence. Consider increasing max_iter to improve the fit.\n",
      "  ConvergenceWarning)\n",
      "D:\\Anaconda3\\envs\\tf1\\lib\\site-packages\\sklearn\\linear_model\\stochastic_gradient.py:561: ConvergenceWarning: Maximum number of iteration reached before convergence. Consider increasing max_iter to improve the fit.\n",
      "  ConvergenceWarning)\n",
      "D:\\Anaconda3\\envs\\tf1\\lib\\site-packages\\sklearn\\linear_model\\stochastic_gradient.py:561: ConvergenceWarning: Maximum number of iteration reached before convergence. Consider increasing max_iter to improve the fit.\n",
      "  ConvergenceWarning)\n",
      "D:\\Anaconda3\\envs\\tf1\\lib\\site-packages\\sklearn\\linear_model\\stochastic_gradient.py:561: ConvergenceWarning: Maximum number of iteration reached before convergence. Consider increasing max_iter to improve the fit.\n",
      "  ConvergenceWarning)\n",
      "D:\\Anaconda3\\envs\\tf1\\lib\\site-packages\\sklearn\\linear_model\\stochastic_gradient.py:561: ConvergenceWarning: Maximum number of iteration reached before convergence. Consider increasing max_iter to improve the fit.\n",
      "  ConvergenceWarning)\n",
      "D:\\Anaconda3\\envs\\tf1\\lib\\site-packages\\sklearn\\linear_model\\stochastic_gradient.py:561: ConvergenceWarning: Maximum number of iteration reached before convergence. Consider increasing max_iter to improve the fit.\n",
      "  ConvergenceWarning)\n",
      "D:\\Anaconda3\\envs\\tf1\\lib\\site-packages\\sklearn\\linear_model\\stochastic_gradient.py:561: ConvergenceWarning: Maximum number of iteration reached before convergence. Consider increasing max_iter to improve the fit.\n",
      "  ConvergenceWarning)\n",
      "D:\\Anaconda3\\envs\\tf1\\lib\\site-packages\\sklearn\\linear_model\\stochastic_gradient.py:561: ConvergenceWarning: Maximum number of iteration reached before convergence. Consider increasing max_iter to improve the fit.\n",
      "  ConvergenceWarning)\n",
      "D:\\Anaconda3\\envs\\tf1\\lib\\site-packages\\sklearn\\linear_model\\stochastic_gradient.py:561: ConvergenceWarning: Maximum number of iteration reached before convergence. Consider increasing max_iter to improve the fit.\n",
      "  ConvergenceWarning)\n",
      "D:\\Anaconda3\\envs\\tf1\\lib\\site-packages\\sklearn\\linear_model\\stochastic_gradient.py:561: ConvergenceWarning: Maximum number of iteration reached before convergence. Consider increasing max_iter to improve the fit.\n",
      "  ConvergenceWarning)\n",
      "D:\\Anaconda3\\envs\\tf1\\lib\\site-packages\\sklearn\\linear_model\\stochastic_gradient.py:561: ConvergenceWarning: Maximum number of iteration reached before convergence. Consider increasing max_iter to improve the fit.\n",
      "  ConvergenceWarning)\n",
      "D:\\Anaconda3\\envs\\tf1\\lib\\site-packages\\sklearn\\linear_model\\stochastic_gradient.py:561: ConvergenceWarning: Maximum number of iteration reached before convergence. Consider increasing max_iter to improve the fit.\n",
      "  ConvergenceWarning)\n",
      "D:\\Anaconda3\\envs\\tf1\\lib\\site-packages\\sklearn\\linear_model\\stochastic_gradient.py:561: ConvergenceWarning: Maximum number of iteration reached before convergence. Consider increasing max_iter to improve the fit.\n",
      "  ConvergenceWarning)\n",
      "D:\\Anaconda3\\envs\\tf1\\lib\\site-packages\\sklearn\\linear_model\\stochastic_gradient.py:561: ConvergenceWarning: Maximum number of iteration reached before convergence. Consider increasing max_iter to improve the fit.\n",
      "  ConvergenceWarning)\n",
      "D:\\Anaconda3\\envs\\tf1\\lib\\site-packages\\sklearn\\linear_model\\stochastic_gradient.py:561: ConvergenceWarning: Maximum number of iteration reached before convergence. Consider increasing max_iter to improve the fit.\n",
      "  ConvergenceWarning)\n",
      "D:\\Anaconda3\\envs\\tf1\\lib\\site-packages\\sklearn\\linear_model\\stochastic_gradient.py:561: ConvergenceWarning: Maximum number of iteration reached before convergence. Consider increasing max_iter to improve the fit.\n",
      "  ConvergenceWarning)\n",
      "D:\\Anaconda3\\envs\\tf1\\lib\\site-packages\\sklearn\\linear_model\\stochastic_gradient.py:561: ConvergenceWarning: Maximum number of iteration reached before convergence. Consider increasing max_iter to improve the fit.\n",
      "  ConvergenceWarning)\n",
      "D:\\Anaconda3\\envs\\tf1\\lib\\site-packages\\sklearn\\linear_model\\stochastic_gradient.py:561: ConvergenceWarning: Maximum number of iteration reached before convergence. Consider increasing max_iter to improve the fit.\n",
      "  ConvergenceWarning)\n",
      "D:\\Anaconda3\\envs\\tf1\\lib\\site-packages\\sklearn\\linear_model\\stochastic_gradient.py:561: ConvergenceWarning: Maximum number of iteration reached before convergence. Consider increasing max_iter to improve the fit.\n",
      "  ConvergenceWarning)\n",
      "D:\\Anaconda3\\envs\\tf1\\lib\\site-packages\\sklearn\\linear_model\\stochastic_gradient.py:561: ConvergenceWarning: Maximum number of iteration reached before convergence. Consider increasing max_iter to improve the fit.\n",
      "  ConvergenceWarning)\n",
      "D:\\Anaconda3\\envs\\tf1\\lib\\site-packages\\sklearn\\linear_model\\stochastic_gradient.py:561: ConvergenceWarning: Maximum number of iteration reached before convergence. Consider increasing max_iter to improve the fit.\n",
      "  ConvergenceWarning)\n",
      "D:\\Anaconda3\\envs\\tf1\\lib\\site-packages\\sklearn\\linear_model\\stochastic_gradient.py:561: ConvergenceWarning: Maximum number of iteration reached before convergence. Consider increasing max_iter to improve the fit.\n",
      "  ConvergenceWarning)\n",
      "D:\\Anaconda3\\envs\\tf1\\lib\\site-packages\\sklearn\\linear_model\\stochastic_gradient.py:561: ConvergenceWarning: Maximum number of iteration reached before convergence. Consider increasing max_iter to improve the fit.\n",
      "  ConvergenceWarning)\n",
      "D:\\Anaconda3\\envs\\tf1\\lib\\site-packages\\sklearn\\linear_model\\stochastic_gradient.py:561: ConvergenceWarning: Maximum number of iteration reached before convergence. Consider increasing max_iter to improve the fit.\n",
      "  ConvergenceWarning)\n",
      "D:\\Anaconda3\\envs\\tf1\\lib\\site-packages\\sklearn\\linear_model\\stochastic_gradient.py:561: ConvergenceWarning: Maximum number of iteration reached before convergence. Consider increasing max_iter to improve the fit.\n",
      "  ConvergenceWarning)\n",
      "D:\\Anaconda3\\envs\\tf1\\lib\\site-packages\\sklearn\\linear_model\\stochastic_gradient.py:561: ConvergenceWarning: Maximum number of iteration reached before convergence. Consider increasing max_iter to improve the fit.\n",
      "  ConvergenceWarning)\n",
      "D:\\Anaconda3\\envs\\tf1\\lib\\site-packages\\sklearn\\linear_model\\stochastic_gradient.py:561: ConvergenceWarning: Maximum number of iteration reached before convergence. Consider increasing max_iter to improve the fit.\n",
      "  ConvergenceWarning)\n",
      "D:\\Anaconda3\\envs\\tf1\\lib\\site-packages\\sklearn\\linear_model\\stochastic_gradient.py:561: ConvergenceWarning: Maximum number of iteration reached before convergence. Consider increasing max_iter to improve the fit.\n",
      "  ConvergenceWarning)\n",
      "D:\\Anaconda3\\envs\\tf1\\lib\\site-packages\\sklearn\\linear_model\\stochastic_gradient.py:561: ConvergenceWarning: Maximum number of iteration reached before convergence. Consider increasing max_iter to improve the fit.\n",
      "  ConvergenceWarning)\n",
      "D:\\Anaconda3\\envs\\tf1\\lib\\site-packages\\sklearn\\linear_model\\stochastic_gradient.py:561: ConvergenceWarning: Maximum number of iteration reached before convergence. Consider increasing max_iter to improve the fit.\n",
      "  ConvergenceWarning)\n",
      "D:\\Anaconda3\\envs\\tf1\\lib\\site-packages\\sklearn\\linear_model\\stochastic_gradient.py:561: ConvergenceWarning: Maximum number of iteration reached before convergence. Consider increasing max_iter to improve the fit.\n",
      "  ConvergenceWarning)\n",
      "D:\\Anaconda3\\envs\\tf1\\lib\\site-packages\\sklearn\\linear_model\\stochastic_gradient.py:561: ConvergenceWarning: Maximum number of iteration reached before convergence. Consider increasing max_iter to improve the fit.\n",
      "  ConvergenceWarning)\n",
      "D:\\Anaconda3\\envs\\tf1\\lib\\site-packages\\sklearn\\linear_model\\stochastic_gradient.py:561: ConvergenceWarning: Maximum number of iteration reached before convergence. Consider increasing max_iter to improve the fit.\n",
      "  ConvergenceWarning)\n",
      "D:\\Anaconda3\\envs\\tf1\\lib\\site-packages\\sklearn\\linear_model\\stochastic_gradient.py:561: ConvergenceWarning: Maximum number of iteration reached before convergence. Consider increasing max_iter to improve the fit.\n",
      "  ConvergenceWarning)\n",
      "D:\\Anaconda3\\envs\\tf1\\lib\\site-packages\\sklearn\\linear_model\\stochastic_gradient.py:561: ConvergenceWarning: Maximum number of iteration reached before convergence. Consider increasing max_iter to improve the fit.\n",
      "  ConvergenceWarning)\n",
      "D:\\Anaconda3\\envs\\tf1\\lib\\site-packages\\sklearn\\linear_model\\stochastic_gradient.py:561: ConvergenceWarning: Maximum number of iteration reached before convergence. Consider increasing max_iter to improve the fit.\n",
      "  ConvergenceWarning)\n",
      "D:\\Anaconda3\\envs\\tf1\\lib\\site-packages\\sklearn\\linear_model\\stochastic_gradient.py:561: ConvergenceWarning: Maximum number of iteration reached before convergence. Consider increasing max_iter to improve the fit.\n",
      "  ConvergenceWarning)\n",
      "D:\\Anaconda3\\envs\\tf1\\lib\\site-packages\\sklearn\\linear_model\\stochastic_gradient.py:561: ConvergenceWarning: Maximum number of iteration reached before convergence. Consider increasing max_iter to improve the fit.\n",
      "  ConvergenceWarning)\n",
      "D:\\Anaconda3\\envs\\tf1\\lib\\site-packages\\sklearn\\linear_model\\stochastic_gradient.py:561: ConvergenceWarning: Maximum number of iteration reached before convergence. Consider increasing max_iter to improve the fit.\n",
      "  ConvergenceWarning)\n",
      "D:\\Anaconda3\\envs\\tf1\\lib\\site-packages\\sklearn\\linear_model\\stochastic_gradient.py:561: ConvergenceWarning: Maximum number of iteration reached before convergence. Consider increasing max_iter to improve the fit.\n",
      "  ConvergenceWarning)\n",
      "D:\\Anaconda3\\envs\\tf1\\lib\\site-packages\\sklearn\\linear_model\\stochastic_gradient.py:561: ConvergenceWarning: Maximum number of iteration reached before convergence. Consider increasing max_iter to improve the fit.\n",
      "  ConvergenceWarning)\n",
      "D:\\Anaconda3\\envs\\tf1\\lib\\site-packages\\sklearn\\linear_model\\stochastic_gradient.py:561: ConvergenceWarning: Maximum number of iteration reached before convergence. Consider increasing max_iter to improve the fit.\n",
      "  ConvergenceWarning)\n",
      "D:\\Anaconda3\\envs\\tf1\\lib\\site-packages\\sklearn\\linear_model\\stochastic_gradient.py:561: ConvergenceWarning: Maximum number of iteration reached before convergence. Consider increasing max_iter to improve the fit.\n",
      "  ConvergenceWarning)\n",
      "D:\\Anaconda3\\envs\\tf1\\lib\\site-packages\\sklearn\\linear_model\\stochastic_gradient.py:561: ConvergenceWarning: Maximum number of iteration reached before convergence. Consider increasing max_iter to improve the fit.\n",
      "  ConvergenceWarning)\n",
      "D:\\Anaconda3\\envs\\tf1\\lib\\site-packages\\sklearn\\linear_model\\stochastic_gradient.py:561: ConvergenceWarning: Maximum number of iteration reached before convergence. Consider increasing max_iter to improve the fit.\n",
      "  ConvergenceWarning)\n",
      "D:\\Anaconda3\\envs\\tf1\\lib\\site-packages\\sklearn\\linear_model\\stochastic_gradient.py:561: ConvergenceWarning: Maximum number of iteration reached before convergence. Consider increasing max_iter to improve the fit.\n",
      "  ConvergenceWarning)\n",
      "D:\\Anaconda3\\envs\\tf1\\lib\\site-packages\\sklearn\\linear_model\\stochastic_gradient.py:561: ConvergenceWarning: Maximum number of iteration reached before convergence. Consider increasing max_iter to improve the fit.\n",
      "  ConvergenceWarning)\n",
      "D:\\Anaconda3\\envs\\tf1\\lib\\site-packages\\sklearn\\linear_model\\stochastic_gradient.py:561: ConvergenceWarning: Maximum number of iteration reached before convergence. Consider increasing max_iter to improve the fit.\n",
      "  ConvergenceWarning)\n",
      "D:\\Anaconda3\\envs\\tf1\\lib\\site-packages\\sklearn\\linear_model\\stochastic_gradient.py:561: ConvergenceWarning: Maximum number of iteration reached before convergence. Consider increasing max_iter to improve the fit.\n",
      "  ConvergenceWarning)\n",
      "D:\\Anaconda3\\envs\\tf1\\lib\\site-packages\\sklearn\\linear_model\\stochastic_gradient.py:561: ConvergenceWarning: Maximum number of iteration reached before convergence. Consider increasing max_iter to improve the fit.\n",
      "  ConvergenceWarning)\n",
      "D:\\Anaconda3\\envs\\tf1\\lib\\site-packages\\sklearn\\linear_model\\stochastic_gradient.py:561: ConvergenceWarning: Maximum number of iteration reached before convergence. Consider increasing max_iter to improve the fit.\n",
      "  ConvergenceWarning)\n",
      "D:\\Anaconda3\\envs\\tf1\\lib\\site-packages\\sklearn\\linear_model\\stochastic_gradient.py:561: ConvergenceWarning: Maximum number of iteration reached before convergence. Consider increasing max_iter to improve the fit.\n",
      "  ConvergenceWarning)\n",
      "D:\\Anaconda3\\envs\\tf1\\lib\\site-packages\\sklearn\\linear_model\\stochastic_gradient.py:561: ConvergenceWarning: Maximum number of iteration reached before convergence. Consider increasing max_iter to improve the fit.\n",
      "  ConvergenceWarning)\n",
      "D:\\Anaconda3\\envs\\tf1\\lib\\site-packages\\sklearn\\linear_model\\stochastic_gradient.py:561: ConvergenceWarning: Maximum number of iteration reached before convergence. Consider increasing max_iter to improve the fit.\n",
      "  ConvergenceWarning)\n",
      "D:\\Anaconda3\\envs\\tf1\\lib\\site-packages\\sklearn\\linear_model\\stochastic_gradient.py:561: ConvergenceWarning: Maximum number of iteration reached before convergence. Consider increasing max_iter to improve the fit.\n",
      "  ConvergenceWarning)\n",
      "D:\\Anaconda3\\envs\\tf1\\lib\\site-packages\\sklearn\\linear_model\\stochastic_gradient.py:561: ConvergenceWarning: Maximum number of iteration reached before convergence. Consider increasing max_iter to improve the fit.\n",
      "  ConvergenceWarning)\n",
      "D:\\Anaconda3\\envs\\tf1\\lib\\site-packages\\sklearn\\linear_model\\stochastic_gradient.py:561: ConvergenceWarning: Maximum number of iteration reached before convergence. Consider increasing max_iter to improve the fit.\n",
      "  ConvergenceWarning)\n",
      "D:\\Anaconda3\\envs\\tf1\\lib\\site-packages\\sklearn\\linear_model\\stochastic_gradient.py:561: ConvergenceWarning: Maximum number of iteration reached before convergence. Consider increasing max_iter to improve the fit.\n",
      "  ConvergenceWarning)\n"
     ]
    },
    {
     "name": "stdout",
     "output_type": "stream",
     "text": [
      "0.9878703203886579\n"
     ]
    }
   ],
   "source": [
    "clf.fit(X_train, y_train)\n",
    "print(clf.best_score_)"
   ]
  },
  {
   "cell_type": "code",
   "execution_count": 159,
   "metadata": {},
   "outputs": [
    {
     "data": {
      "text/plain": "array([1., 0., 2., ..., 1., 0., 1.])"
     },
     "execution_count": 159,
     "metadata": {},
     "output_type": "execute_result"
    }
   ],
   "source": [
    "y_pred=clf.predict(X_test)\n",
    "y_pred"
   ]
  },
  {
   "cell_type": "code",
   "execution_count": 160,
   "metadata": {},
   "outputs": [
    {
     "data": {
      "text/plain": "0.8078339174022978"
     },
     "execution_count": 160,
     "metadata": {},
     "output_type": "execute_result"
    }
   ],
   "source": [
    "accuracy_score( y_test, y_pred )"
   ]
  },
  {
   "cell_type": "markdown",
   "metadata": {},
   "source": [
    "### Neural Network Model"
   ]
  },
  {
   "cell_type": "code",
   "execution_count": 161,
   "metadata": {},
   "outputs": [
    {
     "data": {
      "text/plain": "StandardScaler(copy=True, with_mean=True, with_std=True)"
     },
     "execution_count": 161,
     "metadata": {},
     "output_type": "execute_result"
    }
   ],
   "source": [
    "from sklearn.preprocessing import StandardScaler\n",
    "from sklearn.neural_network import MLPClassifier\n",
    "scaler = StandardScaler()\n",
    "# Fit only to the training data\n",
    "scaler.fit(X_train)"
   ]
  },
  {
   "cell_type": "code",
   "execution_count": 162,
   "metadata": {},
   "outputs": [],
   "source": [
    "# Now apply the transformations to the data:\n",
    "train_X = scaler.transform(X_train)\n",
    "test_X = scaler.transform(X_test)"
   ]
  },
  {
   "cell_type": "code",
   "execution_count": 163,
   "metadata": {},
   "outputs": [
    {
     "data": {
      "text/plain": "MLPClassifier(activation='relu', alpha=0.0001, batch_size='auto', beta_1=0.9,\n              beta_2=0.999, early_stopping=False, epsilon=1e-08,\n              hidden_layer_sizes=(30, 30, 30), learning_rate='constant',\n              learning_rate_init=0.001, max_iter=200, momentum=0.9,\n              n_iter_no_change=10, nesterovs_momentum=True, power_t=0.5,\n              random_state=None, shuffle=True, solver='adam', tol=0.0001,\n              validation_fraction=0.1, verbose=False, warm_start=False)"
     },
     "execution_count": 163,
     "metadata": {},
     "output_type": "execute_result"
    }
   ],
   "source": [
    "mlp = MLPClassifier(hidden_layer_sizes=(30,30,30))\n",
    "mlp.fit(train_X,y_train)"
   ]
  },
  {
   "cell_type": "code",
   "execution_count": 164,
   "metadata": {},
   "outputs": [
    {
     "data": {
      "text/plain": "array([1., 0., 2., ..., 1., 0., 2.])"
     },
     "execution_count": 164,
     "metadata": {},
     "output_type": "execute_result"
    }
   ],
   "source": [
    "y_pred=mlp.predict(test_X)\n",
    "y_pred"
   ]
  },
  {
   "cell_type": "code",
   "execution_count": 165,
   "metadata": {},
   "outputs": [
    {
     "name": "stdout",
     "output_type": "stream",
     "text": [
      "[[9711    0    0    0    0]\n",
      " [   0 6868  591    0    0]\n",
      " [   0  180 2241    0    0]\n",
      " [   1  440 2444    0    0]\n",
      " [   0    0   67    0    0]]\n"
     ]
    }
   ],
   "source": [
    "from sklearn.metrics import classification_report,confusion_matrix\n",
    "print(confusion_matrix(y_test,y_pred))"
   ]
  },
  {
   "cell_type": "code",
   "execution_count": 166,
   "metadata": {},
   "outputs": [
    {
     "name": "stdout",
     "output_type": "stream",
     "text": [
      "              precision    recall  f1-score   support\n",
      "\n",
      "         0.0       1.00      1.00      1.00      9711\n",
      "         1.0       0.92      0.92      0.92      7459\n",
      "         2.0       0.42      0.93      0.58      2421\n",
      "         3.0       0.00      0.00      0.00      2885\n",
      "         4.0       0.00      0.00      0.00        67\n",
      "\n",
      "    accuracy                           0.83     22543\n",
      "   macro avg       0.47      0.57      0.50     22543\n",
      "weighted avg       0.78      0.83      0.80     22543\n",
      "\n"
     ]
    },
    {
     "name": "stderr",
     "output_type": "stream",
     "text": [
      "D:\\Anaconda3\\envs\\tf1\\lib\\site-packages\\sklearn\\metrics\\classification.py:1437: UndefinedMetricWarning: Precision and F-score are ill-defined and being set to 0.0 in labels with no predicted samples.\n",
      "  'precision', 'predicted', average, warn_for)\n"
     ]
    }
   ],
   "source": [
    "print(classification_report(y_test,y_pred))"
   ]
  },
  {
   "cell_type": "code",
   "execution_count": 167,
   "metadata": {},
   "outputs": [
    {
     "data": {
      "text/plain": "[array([[ 0.23038919, -0.1137052 ,  0.63889871, -0.20664735,  0.09338637,\n          0.26372485, -0.21078682, -0.02986458, -0.27495444, -0.13236765,\n         -0.02840932,  0.31621667,  0.21831902,  0.32367963, -0.27488649,\n          0.24751422,  0.2479791 ,  0.02321989, -0.10505237,  0.27536353,\n          0.01641491,  0.41362633, -0.32102831, -0.06095891, -0.12516611,\n         -0.33163514, -0.2596235 , -0.14039822, -0.18037031,  0.07210915],\n        [ 0.46442013,  0.58742518, -0.04575541,  0.32543217, -0.33122399,\n          0.46627637,  0.24304925,  0.02335374, -0.06007969,  0.19143808,\n         -0.55875071, -0.49855437,  0.08902514,  0.47147177,  0.00331792,\n         -0.09047325, -0.23558812,  0.37439026,  0.24458339,  0.03727713,\n          0.14410417, -0.56019975,  0.08643114, -0.09606246,  0.17034971,\n         -0.52730361,  0.01897307, -0.08826311,  0.4951652 ,  0.29730917],\n        [-0.33771783, -0.08852723, -0.14692155, -0.25537151, -0.1410253 ,\n          0.18176288,  0.13157803, -0.2601853 , -0.22302117, -0.0719319 ,\n          0.41611191, -0.40832724,  0.45786925, -0.41463881,  0.22355919,\n          0.04732166, -0.25271151, -0.24310361, -0.23986469, -0.42717822,\n          0.03840317,  0.11511652, -0.34625706,  0.45046052, -0.27536027,\n          0.58214633, -0.25720514,  0.17105188, -0.39105711,  0.11693165],\n        [ 0.50251168,  0.09046677,  0.1463906 ,  0.5637262 ,  0.63467545,\n         -0.49979222, -0.02629419, -0.26542248, -0.08237688,  0.4674347 ,\n          0.26682738,  0.14179238, -0.53445438, -0.59374834, -0.36360336,\n          0.42962137,  0.60458667, -0.00481593,  0.3023959 , -0.28557211,\n         -0.50270558, -0.02892836,  0.23462429,  0.38771384, -0.82878462,\n         -0.29018539, -0.35063739,  0.03413724, -0.7372879 , -0.36331349],\n        [ 0.35498319, -0.25003428, -0.16794003,  0.26869833,  0.07064092,\n          0.25356654, -0.08820591, -0.27518853, -0.33088872,  0.14242591,\n          0.19864531, -0.15357425, -0.32397655, -0.08681356,  0.23305027,\n         -0.27669532,  0.22419897, -0.11241129,  0.037262  ,  0.01337993,\n         -0.00738843, -0.4050267 , -0.31327541,  0.4017885 , -0.00712462,\n          0.03948501, -0.14789575,  0.10069834,  0.16480083,  0.12020952],\n        [ 0.14032349, -0.34986327, -0.23359803,  0.0967126 ,  0.0669103 ,\n          0.29737889,  0.12940175,  0.01584829, -0.2527563 ,  0.17773571,\n          0.30068713, -0.07463808,  0.34478901,  0.09777875, -0.2823608 ,\n         -0.19988433,  0.239474  ,  0.1508672 , -0.32119504, -0.61771455,\n          0.38594411, -0.23860652,  0.16153832, -0.01889465, -0.02621773,\n          0.04904811, -0.74215844, -0.58462054,  0.25350452,  0.19539522],\n        [ 0.03023332,  0.34691848, -0.02411294, -0.09948769,  0.22999589,\n         -0.01764763,  0.17285005, -0.21487779, -0.21135876, -0.02555643,\n         -0.16635732, -0.37522493,  0.25811203, -0.18730035, -0.15417257,\n          0.07171308, -0.36350625,  0.40922842,  0.05885829, -0.28389817,\n         -0.30432802, -0.02149218, -0.55059075, -0.35111359,  0.26933201,\n          0.2171156 , -0.44977617,  0.16143037, -0.25230256,  0.2189484 ],\n        [ 0.46593669, -0.54831786, -0.13155706,  0.48619952,  0.33530509,\n          0.4540835 ,  0.55744958, -0.30177502,  0.00414922, -0.08396654,\n         -0.23540068,  0.23021459, -0.17053241,  0.27140808,  0.08705563,\n          0.04494391, -0.21145272, -0.26633367, -0.08319157, -0.1012392 ,\n         -0.38955503,  0.08301795, -0.13623698,  0.15223424, -0.04588954,\n         -0.06998024,  0.3623538 , -0.3079088 , -0.00728671, -0.34850204],\n        [-0.39307809, -0.33244615,  0.22622056, -0.08140482,  0.25836855,\n          0.13673907,  0.38079333, -0.19572823,  0.01454473,  0.21795429,\n          0.20742527,  0.30097985, -0.12267633, -0.25359496, -0.20546765,\n         -0.01966326,  0.45548618,  0.12486198, -0.44378134,  0.39876776,\n         -0.2400998 ,  0.11014854,  0.05541144,  0.21520687,  0.0486844 ,\n         -0.04573009, -0.29132946, -0.2041816 , -0.01598712,  0.134723  ],\n        [ 0.46935824, -0.13895137, -0.43252543,  0.54620386,  0.00226707,\n         -0.0904132 ,  0.26078391, -0.25650609, -0.17737803, -0.40177605,\n          0.11739892,  0.20614669,  0.30707029, -0.12787781, -0.20053541,\n          0.38441486,  0.30410323, -0.47798309,  0.55396308,  0.2317618 ,\n         -0.0210891 ,  0.05263148, -0.52764625, -0.30941748, -0.16708898,\n         -0.24860516,  0.34861104, -0.41597929,  0.21750415,  0.24475104],\n        [-0.04769435, -0.07605034,  0.02983932,  0.11634789,  0.66201732,\n         -0.41183164,  0.10869289,  0.18418409,  0.17236484, -0.15283299,\n          0.02225937,  0.22308829, -0.04966476, -0.45412018, -0.35398336,\n          0.09367718, -0.29860654, -0.29616747,  0.29412718,  0.25487695,\n          0.48621674, -0.34795777, -0.09007614,  0.04455659, -0.01359624,\n         -0.22260113,  0.04626709, -0.37960905,  0.60649158, -0.01479122],\n        [ 0.2121928 ,  0.09099281, -0.05424087, -0.03315918, -0.11371769,\n          0.05040443, -0.13936323,  0.54281946,  0.15372421, -0.17756202,\n         -0.24151013, -0.21327291,  0.08150193,  0.24093159, -0.15183432,\n         -0.33432709, -0.21149837,  0.19603941, -0.3939014 , -0.42421786,\n         -0.1819862 ,  0.21686432, -0.14862611,  0.06884179,  0.37471461,\n          0.26269588, -0.18513393,  0.24305538, -0.0709257 ,  0.24222312],\n        [-0.14490516,  0.16439004, -0.30581474,  0.48359564, -0.06245126,\n          0.12460327, -0.41796844,  0.09497311, -0.54711473,  0.41527508,\n         -0.14436131,  0.19340107, -0.2771675 , -0.40307344, -0.50921727,\n         -0.14751374, -0.22603073,  0.05376033,  0.21088811, -0.11695802,\n          0.01129508, -0.03295747, -0.52389919, -0.02739405,  0.2090125 ,\n         -0.01161402,  0.02036978,  0.08024969, -0.0858259 , -0.36685552],\n        [-0.14185543, -0.31227081, -0.45275376, -0.04941495,  0.00479676,\n          0.19845517,  0.24338858, -0.22085845,  0.49076001,  0.07601234,\n         -0.20824212,  0.28492857,  0.34758017,  0.1781542 ,  0.07915294,\n         -0.22519442, -0.04111271,  0.34076738, -0.00124894, -0.06884274,\n         -0.07286132, -0.06061064, -0.08851503, -0.04916958, -0.21724321,\n          0.25406426,  0.28995011,  0.4211947 , -0.27627628, -0.16106173],\n        [ 0.14931648, -0.24387637, -0.22757709, -0.0561707 ,  0.03139799,\n         -0.19520654, -0.34845799, -0.25280822,  0.13792642,  0.13442905,\n         -0.16634864, -0.0218603 , -0.3032625 ,  0.08227605, -0.48178495,\n          0.11919757, -0.20558719,  0.66771808, -0.41851933, -0.32034863,\n          0.21864753,  0.19902812,  0.04896086,  0.50590679, -0.35113321,\n          0.27744848,  0.07884465,  0.1544465 ,  0.13308217,  0.06411271]]),\n array([[-1.27936181e-02,  5.87183046e-02,  3.78240952e-01,\n         -3.01904773e-01,  3.50387323e-01, -1.02124948e-01,\n          4.27127070e-02,  5.54838577e-02,  4.25089932e-01,\n          2.52799847e-01,  2.69603139e-01, -7.40070607e-01,\n         -2.38044845e-01,  7.29130446e-02, -2.57063400e-01,\n          4.31435706e-01,  4.00236541e-01, -1.76257277e-01,\n         -9.74385624e-02, -2.78258302e-02, -1.46186883e-01,\n          1.78941294e-01, -3.73056059e-01,  1.22841262e-01,\n         -3.28544421e-02,  3.91024622e-02, -3.30425937e-02,\n         -7.54625130e-01, -3.09626013e-01,  6.14966264e-02],\n        [ 1.03521884e-01,  2.44168658e-01, -2.74273631e-01,\n         -1.39639708e-01, -1.95115557e-01, -3.19284902e-01,\n         -1.14758112e-01, -2.59988700e-02,  5.13085208e-01,\n         -5.04476741e-01,  2.67310078e-01, -2.07646873e-01,\n          3.05346221e-01, -5.53138016e-01,  9.65859177e-02,\n          4.19179775e-01,  2.66120704e-01,  4.66915798e-02,\n         -1.18280516e-01,  3.47056144e-02,  1.94026685e-01,\n          2.90802943e-01, -8.15923179e-03, -7.73324590e-02,\n         -2.92251000e-01,  2.89307541e-01, -6.53539198e-02,\n         -2.74518740e-01, -1.51015033e-01,  1.72013151e-01],\n        [-5.67775905e-02, -3.09024557e-01, -2.93374926e-01,\n          2.31289834e-01, -8.25427269e-02,  2.48527896e-01,\n          5.05886045e-01, -7.62370333e-03, -4.56352960e-02,\n          1.55393183e-01,  6.86630092e-02, -6.77740629e-02,\n          2.23804138e-02,  9.27642456e-02, -3.92060548e-01,\n          1.24805962e-01, -1.09209237e-01,  2.72103510e-02,\n         -3.45705599e-03, -1.94871643e-01,  2.34965740e-01,\n          3.13431231e-01, -1.29045846e-01,  3.90771708e-02,\n         -1.55625662e-02, -1.12346541e-02, -4.07502726e-02,\n         -1.64423847e-01,  3.18280857e-01,  1.67736728e-01],\n        [-4.84167192e-02, -1.44647550e-01,  6.58473909e-02,\n          1.06806757e-01,  1.54076201e-01, -1.52103020e-03,\n          2.57648920e-01, -1.19155428e-02,  1.19464858e-01,\n          4.04427403e-01,  1.45543765e-01, -4.18827111e-01,\n          4.63900869e-01,  3.74911885e-02, -5.76334971e-01,\n          5.77900839e-01,  4.68296409e-02, -9.66344561e-02,\n         -1.41881214e-01, -3.85264656e-01,  2.33399808e-01,\n         -3.93311569e-02, -4.38233463e-01, -1.07281448e-01,\n          2.67566961e-02, -3.75278702e-01, -6.05658295e-01,\n         -4.20931426e-01,  4.40185205e-01,  3.14759545e-01],\n        [-1.46914988e-01, -5.20819103e-01,  4.20620894e-01,\n          2.30825374e-01, -2.27134422e-01,  2.39951445e-01,\n          7.92203920e-01, -6.02719061e-03,  2.00380930e-01,\n         -8.48139422e-02, -4.06229269e-01, -4.31652044e-01,\n         -4.03565348e-04, -8.39567180e-02, -4.52878545e-01,\n         -3.72154465e-01, -4.04372584e-01,  3.15370293e-01,\n          1.73966359e-02, -4.42480284e-01,  6.27233625e-01,\n          1.49334345e-01, -6.99322653e-03,  3.12423386e-01,\n         -5.23730803e-01,  3.47872892e-01,  3.15474503e-03,\n         -1.45351486e+00,  6.47630529e-01,  6.16343986e-01],\n        [-8.74958549e-02,  5.03710109e-01,  1.99086621e-01,\n         -4.51402353e-02,  8.00621953e-02, -4.06397387e-01,\n          2.62604346e-01,  3.91290812e-03,  6.39912602e-02,\n          2.69748707e-01, -2.87859670e-01,  4.60579478e-02,\n         -3.45782479e-01,  2.22576875e-01,  3.04874718e-02,\n          1.94565389e-01,  3.21611566e-02, -1.78728597e-01,\n          3.43105694e-02, -8.75801978e-02, -1.38077876e-01,\n         -3.65598739e-01, -1.52419335e-01, -3.01254668e-01,\n          2.99534382e-01, -1.61905647e-01, -2.18177975e-01,\n          2.21267076e-02, -4.62345353e-01, -2.64040815e-01],\n        [ 2.52854314e-01,  3.86806845e-01,  1.59004313e-01,\n         -1.27198516e-01, -7.41845339e-02, -1.84313709e-01,\n          2.29590320e-01,  1.21125496e-02,  5.75839893e-03,\n          2.63844640e-01, -1.18221229e+00,  1.34829515e-02,\n         -2.20613546e-01,  2.00300802e-01,  2.13219922e-01,\n          2.69427995e-01, -2.82208967e-01,  3.13437998e-03,\n          1.76395061e-01, -1.49117442e-01,  4.13778199e-01,\n          2.58549021e-02, -4.75541373e-02,  4.28818639e-01,\n          6.75584537e-02, -3.20222919e-01, -4.43530086e-01,\n         -2.66051680e-01, -4.30426513e-02, -2.13366142e-01],\n        [ 2.96978981e-01,  5.88169647e-01,  1.18690471e-01,\n          1.70417350e-02,  4.09349787e-01,  1.09623126e-01,\n          3.35334277e-01,  6.68910033e-02,  1.07270789e-01,\n          3.50781817e-01,  1.49839211e-01,  1.38659191e-01,\n         -2.34141090e-01,  7.61135836e-01,  2.41705390e-02,\n          2.88694354e-01,  3.20972250e-01,  5.04900096e-02,\n          1.29436633e-01,  1.90128610e-01,  2.12606629e-02,\n          4.68318680e-01,  3.00616214e-01,  1.34659491e-01,\n         -1.03055484e-02,  4.97752001e-01,  4.52124329e-01,\n          2.00634555e-01, -8.56920044e-02,  1.37278382e-01],\n        [-1.40590731e-02,  1.99018502e-01,  6.29111476e-01,\n         -1.21057289e-01, -8.48562711e-02, -1.07295288e-01,\n         -1.54358063e-01,  4.46770817e-03,  5.26007804e-02,\n          4.14073142e-04, -1.04750505e-01,  2.61273795e-01,\n         -3.50290847e-02,  1.05663693e-01,  3.68926723e-01,\n          5.30966354e-01, -2.57821811e-02,  4.29394966e-02,\n          5.71802003e-02,  1.04960506e-01, -1.61169986e-01,\n         -1.45139312e-01,  9.94358623e-03,  7.59906106e-03,\n          3.72511064e-01,  4.60679662e-01,  6.70456865e-02,\n          4.33577560e-02, -3.79758140e-01, -2.77533912e-02],\n        [ 8.76936876e-02, -2.90082106e-01,  1.07176089e-01,\n         -8.59486127e-02, -1.25269114e-01,  1.60617945e-01,\n          2.45168770e-01, -7.29722197e-02,  3.78055250e-01,\n         -3.78183983e-02,  1.36498090e-01, -2.16858002e-01,\n         -2.88802515e-02, -2.18647938e-01,  5.46035518e-02,\n          2.87708888e-01,  2.32401139e-01,  1.02647758e-01,\n          1.41753486e-01,  1.08685724e-01,  4.02459050e-01,\n          3.55850299e-01,  1.99527798e-01,  2.70766955e-01,\n          1.93922629e-01,  3.29755778e-01,  1.34987223e-01,\n          1.13655142e-02,  3.02119852e-01, -7.66622975e-02],\n        [-3.19970206e-01, -1.76605809e-01, -1.53329467e-01,\n          3.43591121e-01, -3.84412346e-01,  2.55592581e-01,\n         -1.38424817e-01, -7.95720444e-02, -4.31429585e-01,\n          9.69783101e-02,  1.97591732e-01,  1.63080212e-01,\n         -3.93339553e-01,  4.14691957e-01,  1.24865241e-01,\n         -3.96933536e-01,  4.94261743e-02,  8.56468265e-02,\n         -1.42796501e-01,  1.57270203e-01, -2.46283679e-01,\n          2.81893791e-01,  3.27449341e-01, -1.20059085e-01,\n         -1.98337230e-02,  1.42728618e-01,  1.72140303e-02,\n          6.75719453e-02,  1.05440829e-02, -1.06138356e-01],\n        [ 1.45054479e-01, -1.96283363e-01, -4.11467753e-01,\n         -3.93889735e-02, -3.53229707e-01,  2.90401892e-01,\n          4.30619106e-01,  8.18015909e-02, -3.33119194e-01,\n          1.71458496e-01,  2.26610477e-01,  8.34634075e-02,\n         -8.14953396e-02,  3.70577496e-01, -1.21628303e-01,\n         -3.73499998e-01, -4.68029475e-01,  9.07012316e-02,\n          3.28594323e-02,  4.23958553e-02,  7.81550585e-03,\n          3.79515989e-01, -3.13001788e-01, -2.83434347e-02,\n          2.10681146e-01, -1.09545541e-01, -1.03247509e-01,\n         -5.32013432e-02,  3.69084535e-01,  2.10846981e-01],\n        [-2.17699842e-02, -1.49366839e-01, -4.02330348e-01,\n          2.27336277e-01,  1.08639004e-01, -2.35810851e-01,\n         -2.27506276e-01, -5.12840437e-02,  2.19711196e-01,\n         -3.37496321e-01,  6.73305095e-03,  2.83631019e-01,\n         -1.45345005e-01,  1.07124516e-01,  1.27463002e-01,\n         -3.29025641e-01,  1.79663066e-01, -1.98911001e-01,\n         -4.50801075e-02,  2.54365853e-02,  9.12645614e-02,\n         -2.90334014e-01,  1.13708468e-01, -1.34813586e-01,\n          3.26739932e-01, -3.53155111e-01,  3.30260182e-01,\n          4.34055003e-01, -2.27070373e-01,  1.40294417e-01],\n        [-1.50766656e-01,  4.75921125e-01,  2.77624089e-01,\n         -6.29231986e-01,  3.13441380e-01,  2.17520486e-01,\n         -2.17679766e-01,  2.38124889e-02,  2.07153065e-01,\n         -5.35202772e-01,  1.48966569e-01,  7.31998362e-02,\n         -2.42607851e-02, -5.52267163e-02,  5.29276403e-01,\n         -1.59683961e-01, -4.48689634e-02, -2.77900713e-01,\n         -1.74331771e-01,  4.72275718e-03,  2.40095739e-02,\n         -1.34889128e-01,  3.56448552e-01,  2.50438073e-01,\n         -2.77865737e-01,  2.04222373e-03, -2.12490774e-01,\n         -3.55607104e-02, -1.97711500e-01, -1.60221745e-01],\n        [ 4.26640826e-01,  2.15509628e-01,  2.79638385e-01,\n         -3.47974795e-03, -6.51655874e-02, -2.64938703e-01,\n          1.55433035e-02,  2.06606880e-03,  8.02158314e-03,\n         -1.31496810e-02,  2.56563645e-01,  6.78890486e-02,\n         -4.38552437e-01, -2.68385507e-02, -8.49311460e-02,\n          3.43797232e-01,  2.22082325e-01,  3.31910851e-01,\n          1.26641266e-01,  9.65758623e-02, -2.65948597e-01,\n         -4.85807062e-02,  3.48747894e-01, -1.16370935e-02,\n          3.70168793e-01, -4.59910385e-02,  1.02647088e-01,\n         -8.97769215e-02,  1.62141025e-01,  1.65076657e-01],\n        [ 1.51964269e-01, -2.28362662e-01, -1.16877797e-01,\n          1.81638790e-01,  3.27666250e-01,  2.00366504e-01,\n          1.39759434e-02,  7.25897890e-02,  2.71830716e-01,\n         -2.16452620e-02, -9.22484859e-02,  1.93596829e-01,\n          4.83055747e-02, -2.34632061e-01, -1.49862700e-01,\n          1.29029207e-01, -2.64794335e-01, -4.11633639e-02,\n          1.04961858e-01, -2.04926050e-02,  2.57941460e-01,\n          1.65001162e-02,  8.51718397e-02,  2.65066446e-01,\n         -3.26283638e-01, -2.91820399e-01,  6.24708928e-02,\n          2.34363989e-01,  2.34804888e-01,  3.06627982e-01],\n        [-5.94503048e-02, -1.69562780e-02, -2.14566386e-01,\n          1.94706982e-01, -2.13770131e-01,  7.31672869e-02,\n          1.06088570e-01, -1.99199496e-01,  1.36529151e-01,\n          2.01471089e-01,  1.06990010e-01, -3.69977158e-01,\n         -2.09131584e-01,  2.87223660e-01,  2.65677003e-01,\n         -2.58822470e-01,  2.49999589e-02,  5.76412180e-02,\n          1.04735947e-01,  3.37764208e-02, -7.63272185e-02,\n          3.42635414e-01, -1.76924898e-01, -2.31551629e-01,\n         -1.52884643e-01,  4.46609849e-01,  1.03563504e-01,\n         -2.26949380e-01,  3.64510554e-01,  3.57468781e-01],\n        [-4.96433078e-01, -1.36171657e-01,  1.05137867e-01,\n          1.22983452e-02,  5.47279066e-01,  5.05957613e-01,\n          2.95171440e-01,  2.32280918e-02, -5.54164138e-02,\n          1.87668208e-01, -6.01118837e-03, -3.15611597e-01,\n          1.32691606e-01, -5.70623296e-02, -2.25357007e-01,\n          3.98666559e-01, -7.64776619e-02, -3.42056944e-01,\n          5.46922273e-02, -2.66529288e-01,  4.93615497e-01,\n          5.73251610e-01, -5.62467214e-01,  8.41304571e-02,\n         -4.94309819e-01, -5.39252493e-01,  1.50708373e-02,\n         -3.12378266e-01,  4.06080725e-01,  3.01599493e-01],\n        [-1.97363851e-01, -2.16304451e-01, -1.90124361e-01,\n         -1.01910110e-03,  1.53213230e-01,  2.43716358e-01,\n          7.29884669e-01, -7.91690981e-02,  2.31302496e-01,\n         -2.02593437e-01,  2.23663202e-01, -2.22658919e-01,\n         -2.58883709e-01,  2.98217986e-01, -5.39938068e-01,\n         -7.84101557e-02,  1.54743436e-01, -3.93378608e-01,\n          2.08350112e-02,  5.35371081e-02,  6.49005691e-02,\n          3.22247771e-01, -4.07449318e-01,  7.84490217e-02,\n          2.68969651e-02, -5.70931596e-01,  5.33512338e-02,\n          2.62235017e-01, -2.75308212e-02,  2.25359915e-01],\n        [-3.19205447e-01, -3.22538752e-01, -4.61993767e-02,\n          6.05695374e-02, -1.06524275e-01,  8.47477749e-02,\n          3.13353335e-01, -1.43285834e-02,  6.32598553e-02,\n         -1.47673067e-01, -3.40971517e-02, -3.52779871e-01,\n          6.12348816e-02,  2.30926455e-02, -2.93637975e-01,\n          1.35219980e-01, -2.34687916e-02, -7.90474492e-02,\n          1.47963452e-02, -2.73844446e-01,  3.62689927e-03,\n          3.71670481e-01, -1.20612410e-01,  5.85500787e-02,\n         -3.24095282e-01,  5.15138794e-02, -2.30485123e-01,\n         -2.67507952e-01,  3.88611467e-01,  2.64482833e-03],\n        [ 4.85546810e-01,  5.24699505e-01,  2.60869050e-01,\n         -4.43388728e-01,  2.30792864e-01,  1.33975850e-01,\n         -1.04385139e-01, -2.79652235e-02,  5.82699463e-02,\n         -4.39992333e-01,  2.97938102e-01,  3.05501433e-02,\n         -2.25955148e-01, -3.87659599e-01,  5.45523341e-01,\n         -1.16279789e-01,  2.96232826e-01, -2.46165148e-01,\n          1.34684098e-01,  4.00189038e-01, -4.43980380e-01,\n         -2.41585039e-01, -1.51415773e-03,  1.56868662e-01,\n         -3.80964506e-02,  3.76010817e-01,  3.07578915e-02,\n          8.18619482e-02, -6.93653241e-02, -2.11696971e-01],\n        [-1.33794900e-01, -1.75415559e-01, -4.18572413e-02,\n         -4.66198883e-02, -5.15010935e-01,  6.53532884e-02,\n         -4.81324615e-02, -7.80004162e-02, -7.78600357e-02,\n         -8.97510270e-02, -7.66259883e-02,  9.02183873e-02,\n          3.48321024e-01,  4.67587703e-02, -8.94715025e-02,\n         -6.30507712e-01, -3.99516824e-02,  2.47868412e-01,\n         -9.13309023e-02, -1.58231339e-01,  6.00994281e-02,\n         -6.40538399e-02,  3.09894356e-01, -7.07013215e-02,\n          1.33459765e-02, -6.84799453e-01,  4.81550464e-02,\n         -3.26805553e-02,  3.34960529e-01, -2.00645243e-01],\n        [ 5.54024040e-03,  4.34271811e-01,  3.62602272e-01,\n          2.88010704e-01,  3.34999348e-01, -2.01079213e-01,\n          8.51927609e-02, -7.03879567e-04,  2.13961077e-01,\n         -5.81508518e-01, -2.90524940e-01, -7.84805916e-02,\n         -4.84343695e-01,  2.92624598e-01,  3.07599084e-01,\n          1.34649952e-01, -9.40349831e-03, -2.52663128e-01,\n         -7.05993783e-02,  2.81853264e-01,  3.54265078e-04,\n          1.62025493e-02,  1.51250525e-01,  2.26066581e-01,\n          4.19268297e-02,  5.01206171e-01,  1.20754363e-01,\n         -9.00854568e-02,  1.93212536e-01, -1.45185677e-01],\n        [ 1.95811476e-01, -1.14374885e-02,  1.39698937e-01,\n         -1.48353116e-02, -2.20412428e-01, -1.04449362e-01,\n         -3.79904474e-01,  2.27561357e-03,  1.50802139e-01,\n          6.05107953e-02, -2.96299506e-01,  9.62675491e-02,\n          4.50395781e-02, -2.57113671e-01,  6.37465206e-01,\n          6.11952175e-02,  7.74879832e-02,  2.16056510e-01,\n         -8.33736184e-02, -1.04524182e-01, -4.49569692e-01,\n         -2.65208918e-01,  5.60411554e-01,  1.73813535e-01,\n          4.40206150e-01,  3.36657362e-01,  6.77992107e-02,\n          3.83709103e-02, -3.63751768e-01, -2.98379154e-01],\n        [ 2.39711386e-01,  2.99518676e-01, -2.18197518e-01,\n          9.59429760e-03,  1.30141425e-01, -1.97555556e-02,\n         -5.43841296e-02,  2.19344087e-02, -8.64801573e-02,\n         -5.61243434e-01, -8.26292342e-02, -2.23308865e-02,\n          9.06455738e-02, -3.03317185e-01,  1.42001700e-01,\n         -1.76394924e-01,  2.75567245e-01, -1.72795119e-02,\n          1.22531240e-01,  2.41357769e-01, -2.65943608e-01,\n          1.23901500e-01, -7.95205722e-02, -1.17262099e-02,\n          1.57429388e-02, -2.24320184e-01,  3.38202662e-01,\n          3.50179271e-01, -3.65745774e-01, -4.67542451e-01],\n        [ 1.21481930e-01, -3.27760400e-01, -1.87304567e-01,\n          9.87661148e-02, -9.51057474e-02,  1.56858721e-01,\n         -2.76939446e-01, -1.61979446e-01, -3.44015543e-01,\n         -1.45289517e-01,  3.09640946e-02,  3.49964683e-01,\n          4.48066872e-01,  2.35128991e-01,  2.80844160e-02,\n          1.43558797e-03, -9.44570192e-03,  4.92698044e-02,\n         -3.85309311e-02, -1.34129559e-01, -1.17851681e-01,\n         -1.10121655e-01,  1.90465900e-01, -2.75642430e-01,\n          2.67703279e-01, -3.34768526e-02,  1.54461070e-02,\n          3.02391771e-01,  1.19847946e-01, -1.95387817e-01],\n        [-6.31510589e-02,  3.38649393e-01, -2.31063719e-02,\n         -3.48915180e-02,  3.37211822e-01,  2.09307432e-01,\n          2.96329623e-01,  2.46611163e-03,  3.85451022e-01,\n         -1.28777443e-02, -2.12099598e-01,  3.41991223e-01,\n          1.07600366e-01,  9.54686893e-02,  6.53379757e-02,\n         -8.96753193e-01,  1.28636135e-01, -5.16934336e-02,\n         -1.32139092e-02,  3.72619574e-01,  1.22162758e-01,\n         -1.91364343e-01, -1.62129882e-01, -1.55407436e-01,\n          2.95113185e-01, -6.54486331e-01, -7.52667030e-02,\n         -2.73078684e-01, -2.67650996e-01,  1.38601582e-01],\n        [ 4.41961208e-01,  5.10349378e-02,  1.08779311e-01,\n         -2.33377703e-01,  1.79219473e-01, -4.88427746e-02,\n          7.27269812e-02,  2.10373483e-02,  8.63959267e-02,\n         -7.74149959e-01, -4.38731336e-01,  1.52693208e-01,\n          2.25068942e-01, -2.33079168e-01,  6.26900848e-02,\n          2.17673605e-01, -2.63048770e-01, -2.74810532e-01,\n          2.69609867e-02,  3.75528020e-01, -1.56097039e-01,\n         -2.06445826e-02,  1.84252779e-01,  1.88318800e-01,\n          3.47918988e-02,  5.43070000e-02,  3.75361403e-02,\n         -1.86647837e-01,  2.82707054e-01, -4.30966125e-01],\n        [-3.07499195e-01,  7.14537702e-01,  3.47877312e-01,\n         -3.87287296e-01,  5.52300524e-01,  1.36672174e-01,\n         -4.49824692e-02,  2.67181785e-02, -1.58406104e-02,\n         -6.81224787e-01, -4.59617874e-01,  4.27214764e-01,\n         -2.87030532e-02,  6.48102342e-02,  3.98086091e-01,\n          2.68024909e-01,  2.12791844e-01,  3.73817593e-02,\n          1.72504928e-01,  1.52339831e-01,  1.28145727e-01,\n         -3.74054826e-01,  2.37527891e-01,  2.70308081e-01,\n          6.54239147e-02, -2.46756718e-01,  1.23283544e-01,\n          4.61522048e-01, -1.64326013e-01, -1.99416671e-01],\n        [ 6.32102675e-02, -8.16816043e-02, -2.85319834e-01,\n         -3.64633194e-02,  2.43895444e-01,  1.04874530e-01,\n         -1.23077073e-01,  1.20365728e-01, -4.37960828e-03,\n         -6.00725462e-02,  1.44525402e-01, -2.08890162e-01,\n          2.84645212e-01, -5.57382962e-01,  2.54348161e-01,\n         -1.61177384e-02, -5.12634391e-03, -1.26716925e-01,\n          1.82175381e-01,  1.72094942e-01, -2.07239791e-01,\n         -2.40382511e-01, -8.96589472e-02,  1.08535550e-01,\n          1.81495759e-01, -9.31596627e-02,  1.56078976e-01,\n          1.19978733e-01,  8.15849724e-02,  7.51717517e-02]]),\n array([[-2.51715464e-001,  6.02010576e-001, -2.21186528e-002,\n          5.70011769e-002,  1.04077737e-001,  1.23082785e-001,\n         -1.08917078e-001, -2.76065700e-002,  7.57747918e-002,\n          3.70487221e-001,  1.07967894e-001,  1.39507167e-001,\n         -3.05151505e-002, -7.40511457e-001,  1.15512671e-001,\n          3.60623550e-002, -2.90430258e-001, -1.27473754e-001,\n         -1.25638135e-001,  2.76650572e-001,  2.59530864e-001,\n         -3.15497513e-001,  4.27680623e-001,  5.74728196e-316,\n         -1.57799023e-001, -1.35249319e-001, -2.90092264e-001,\n          1.02217150e-002,  2.87201234e-001, -1.35064764e-001],\n        [ 1.81943218e-001,  4.83101533e-001,  4.37794907e-001,\n          3.69974202e-001,  4.69366430e-001, -3.35396222e-002,\n         -6.41484801e-001,  4.18057336e-001, -4.38670707e-001,\n         -8.50496496e-002, -6.08887710e-001,  1.05411520e-001,\n          5.03398637e-002, -2.28868117e-001,  2.62601476e-001,\n          6.58915147e-001, -2.91924795e-001, -5.20694715e-001,\n         -2.23006866e-001,  4.35434689e-001,  1.03980854e-002,\n         -5.34987887e-001,  5.12678169e-001,  2.07522964e-315,\n          2.79194069e-001, -6.18862190e-001,  3.60141589e-001,\n          6.72336706e-002,  6.47511822e-001, -1.51789982e-001],\n        [-2.77182188e-001,  3.75912705e-001,  1.98984094e-001,\n          1.35532784e-001, -1.77364701e-001, -2.08167250e-002,\n         -2.54172042e-001,  1.52828875e-001, -3.81705986e-001,\n          2.71644224e-001, -5.27006167e-001,  2.76775519e-001,\n         -7.47243885e-002,  1.13109173e-001,  1.25296220e-001,\n          5.46942710e-001, -3.12966413e-001, -3.03911466e-001,\n         -3.73326968e-001, -1.27072337e-001,  1.41903910e-001,\n         -4.63883133e-001,  1.95330915e-001,  4.62151184e-316,\n         -8.90185408e-002, -3.69135010e-001, -5.41342282e-002,\n          4.51227497e-003,  3.29746748e-001, -1.87352153e-001],\n        [-3.24746585e-001,  2.25180596e-001, -8.03868383e-002,\n         -2.94560511e-001,  1.37691631e-001, -6.54770428e-002,\n          3.49310182e-001,  1.74935424e-001,  3.16368823e-001,\n          4.59650379e-003,  2.72938888e-001,  6.42083331e-002,\n         -2.96780497e-001, -4.34147647e-001, -1.96115582e-001,\n         -3.35405932e-001,  2.37612022e-001,  3.02447096e-002,\n         -1.64037803e-002,  3.37891961e-001, -5.82793883e-002,\n          3.73306212e-001, -5.17332235e-001, -2.28416863e-315,\n         -2.67711707e-001,  2.58728655e-001, -3.05300144e-001,\n         -1.14041118e-001,  1.13469238e-001, -1.54729455e-001],\n        [ 1.72242039e-001, -2.48122950e-001,  3.85087283e-001,\n          2.65346713e-001, -1.79393438e-001,  1.99941258e-001,\n         -4.54047697e-002, -3.29561504e-002,  7.16619376e-002,\n          3.69074114e-004, -1.63557131e-001,  4.42447976e-001,\n         -1.33661210e-001,  3.35394738e-001,  4.47407159e-001,\n          7.56336732e-001,  7.32769171e-002, -8.21642794e-002,\n          3.02051793e-001, -2.39063468e-001, -9.25845229e-002,\n          1.79377555e-001,  4.76460161e-001, -1.47064222e-315,\n         -5.70725644e-002, -3.14095696e-001,  1.62303588e-001,\n         -6.15293128e-002,  4.18151005e-001, -2.17737320e-001],\n        [ 1.77066973e-001, -1.30756111e-001,  3.02993625e-002,\n          1.52733968e-001,  4.45514367e-001,  2.98380238e-002,\n          2.01000130e-001, -1.44066241e-001,  2.60173274e-001,\n          9.45750692e-002,  1.26179719e-001, -3.23902643e-001,\n         -2.92978983e-002,  4.26286847e-001,  1.84127805e-001,\n          2.24098351e-001, -1.67613901e-001,  4.08809537e-001,\n          1.15491629e-002,  3.14844603e-001,  5.94108961e-001,\n          2.48707366e-001,  1.01559399e-001, -7.48601350e-318,\n         -1.22337130e-001, -3.05807730e-001, -7.52881179e-002,\n         -3.04068642e-002,  1.07350484e-001,  6.17676494e-002],\n        [ 5.22523123e-001, -4.20253308e-001,  5.92381160e-001,\n          5.55909955e-002,  1.67656648e-001,  2.69393412e-001,\n          3.13461344e-001, -2.67173853e-001,  3.87800195e-001,\n          2.56516778e-001,  3.24030081e-001,  5.02113134e-001,\n          4.33604507e-002, -1.54966389e-001,  3.41494727e-001,\n          2.67675366e-001,  4.22785439e-001, -8.99901085e-002,\n         -1.80834911e-001, -1.48870825e-002,  5.26597939e-001,\n          3.05967452e-001,  1.87559039e-002,  4.07253347e-316,\n          1.22537194e-001,  1.96233755e-001,  2.15418350e-001,\n         -4.73220538e-003,  1.03804168e-001,  1.84613002e-001],\n        [ 1.44993637e-001, -3.66385443e-002,  2.69494416e-002,\n          2.81484002e-002, -4.69487337e-002, -9.31033289e-003,\n          3.94306523e-002, -4.88532899e-002,  1.40147539e-002,\n         -2.20821431e-002, -1.96309235e-002,  7.71008832e-003,\n         -2.08135577e-002,  1.86650273e-004,  3.37592787e-002,\n         -2.55871746e-002, -9.14776148e-002, -8.66332299e-002,\n         -8.94713802e-002, -5.49680443e-002, -6.62494786e-002,\n          3.78486592e-002,  1.00363467e-002,  1.45499161e-315,\n          1.81557089e-002,  1.11446445e-001,  1.21311642e-002,\n         -1.19675436e-005,  3.23900335e-002,  1.67486157e-003],\n        [ 5.04219126e-002, -2.40311169e-001,  4.64835537e-001,\n          3.82571546e-001, -4.22261331e-001,  3.28430006e-001,\n         -2.13841716e-002, -3.57227193e-001, -3.33223671e-001,\n          2.73137747e-001, -4.06297518e-001,  2.80410620e-002,\n          1.27579581e-001,  1.80698437e-001,  1.18669802e-001,\n          5.92706070e-002,  2.40435544e-001, -3.92247417e-001,\n         -4.38279960e-001, -1.57450588e-001, -5.67861543e-001,\n         -5.24816430e-002,  3.06386463e-001,  9.47526650e-316,\n          2.90449248e-001, -1.10067806e-001,  2.23433736e-001,\n          6.07860888e-003,  2.74492399e-001, -3.24159968e-001],\n        [ 5.70761876e-001, -8.93788170e-001, -1.15572426e-001,\n          3.90918758e-002, -1.76214693e-001, -1.55663200e-001,\n          5.18925490e-001, -3.77906511e-001,  3.93972919e-001,\n         -2.05233818e-001,  5.46199795e-001,  7.57095917e-002,\n         -1.16445879e-001,  5.65509324e-006, -5.41825594e-001,\n         -4.75689385e-001,  3.11109377e-001,  5.19832441e-001,\n          5.44397894e-001, -3.51256633e-001,  1.95490268e-001,\n          6.22279284e-001, -4.31598334e-001, -1.50047024e-315,\n         -8.07167384e-002,  7.40921783e-001, -3.68183730e-001,\n          6.97590187e-004, -5.08346959e-001,  2.19873252e-001],\n        [ 6.41377437e-001, -6.18069473e-001, -1.63586886e-001,\n         -1.34907995e-001, -2.77289206e-001, -3.01424087e-001,\n          2.98603283e-001, -6.35447286e-001,  6.15591444e-001,\n         -2.47094637e-001, -2.14391026e-001, -3.08842401e-001,\n         -1.11407695e-001, -2.52909931e-001, -5.99268195e-002,\n         -5.68604120e-001, -7.93608936e-002,  3.98347788e-002,\n          4.89431869e-001, -6.04776002e-001, -1.23499383e-001,\n          3.15516729e-001, -2.81106425e-001,  4.51580992e-315,\n          7.34466275e-002,  2.42673273e-001, -9.23134644e-002,\n         -4.01964175e-002, -6.09431851e-001,  5.76340684e-002],\n        [-2.63112450e-001,  2.67567859e-001, -4.54186108e-001,\n         -3.08852033e-001,  4.00598279e-001,  4.08376241e-002,\n          1.75580540e-001,  3.58328817e-001,  1.65409639e-001,\n         -4.92448739e-002,  2.90007014e-001, -6.78446577e-001,\n          2.01434835e-001,  1.66345765e-001, -1.52833593e-001,\n         -1.38925169e-001, -2.85243204e-001, -4.35114384e-002,\n          2.29128864e-001, -9.12557904e-003,  4.70527089e-001,\n         -5.29108996e-002, -4.67103942e-001,  1.26310129e-315,\n         -3.41333178e-001, -1.47356262e-001, -1.87092151e-001,\n         -4.10497717e-004,  1.51027705e-001, -1.93304313e-001],\n        [-7.30320122e-001,  2.49331662e-001,  6.71945659e-003,\n         -7.46047783e-002,  2.54981449e-001,  3.12503058e-002,\n          3.64349709e-001,  1.15958762e-001, -1.63998671e-001,\n         -3.69796966e-001,  1.44478688e-001, -2.92860118e-002,\n          1.03272358e-001,  5.85123116e-001, -2.55175928e-001,\n         -2.11795611e-001,  1.42293092e-001,  1.55085954e-001,\n          2.52083602e-001,  2.40396393e-001,  2.33891622e-001,\n          3.75610973e-001, -2.59476068e-001, -1.08422978e-315,\n          1.13876134e-001, -5.54975722e-001,  1.10179012e-001,\n          2.13096133e-002, -1.85271813e-001,  6.64920873e-002],\n        [-3.88068704e-003,  2.01724106e-001, -5.60778233e-001,\n         -6.47112858e-001,  4.20481628e-001, -1.73868523e-001,\n          2.77967607e-001,  2.82095487e-001,  2.47752272e-001,\n         -2.66246068e-001, -1.19919350e-002, -3.11258383e-001,\n          5.92820829e-003, -5.32950585e-001, -3.58457534e-001,\n          1.57635585e-001,  2.94968199e-001,  2.71562518e-001,\n          2.35298920e-001,  2.13889064e-001,  6.67598120e-001,\n          1.02645803e-001, -1.10826263e-001,  1.71865580e-315,\n         -1.66717357e-001,  1.70530556e-001, -2.67912459e-001,\n          1.49901014e-002, -1.99026518e-002,  2.21006069e-001],\n        [-3.75481706e-003,  3.23142972e-001,  4.43762726e-001,\n          3.10232432e-001,  2.72444585e-001, -4.00878975e-001,\n         -1.31408641e-001,  1.04216122e-001, -3.51751009e-001,\n          4.05592256e-001, -3.72688319e-001,  1.22012358e-001,\n          1.47980850e-001,  2.65746167e-001,  1.21470469e-001,\n         -4.76227230e-002,  3.52324267e-002, -5.30721608e-001,\n         -7.80114935e-002,  4.03236683e-001, -1.65134116e-001,\n         -7.06814778e-002,  1.35408380e-001,  9.26992417e-316,\n          8.08723484e-002, -1.09236098e-001,  2.58479630e-001,\n         -1.57998045e-002,  1.45887373e-001,  2.10661578e-002],\n        [-1.65096824e-001,  4.29235741e-001, -1.07908754e-002,\n          2.63732744e-001,  2.58678698e-001,  4.30829753e-001,\n         -5.74444039e-001,  4.95354611e-001, -7.07920759e-001,\n          6.50257934e-001, -7.45194282e-001,  3.31667897e-001,\n          6.69271456e-002, -4.80054431e-001,  2.29814719e-001,\n          8.97967685e-001, -1.80971282e-001, -8.43904047e-001,\n         -4.87901489e-001,  5.73924095e-002, -4.43724600e-002,\n         -6.25908744e-001, -6.66913506e-002,  3.93857102e-316,\n          7.82450200e-002, -7.06049644e-001,  3.25308244e-001,\n         -2.07065116e-003,  6.16562836e-001, -3.64337273e-001],\n        [ 1.73844787e-001, -1.93526909e-001, -1.80668476e-001,\n          2.30091340e-001, -6.14529448e-002, -1.16628852e-001,\n          1.06378561e-001,  3.32819907e-001,  7.52029911e-002,\n          2.66258739e-001, -2.07443237e-001, -1.43559303e-001,\n         -3.06180751e-001, -3.06044427e-001, -4.62081774e-002,\n          7.49052346e-002, -1.84983562e-001, -2.55019187e-001,\n         -1.70746779e-001, -1.04868785e-001, -6.30689875e-002,\n          2.23627226e-002, -2.34973416e-001,  1.91774095e-315,\n          2.53081718e-001,  2.57424563e-001,  2.27035352e-002,\n         -2.71907856e-002,  2.53160771e-001, -3.15635694e-001],\n        [ 1.92130947e-001, -2.49572451e-002, -2.08425193e-001,\n         -1.61993079e-001,  3.81157564e-001, -3.79066271e-001,\n          5.09700523e-002,  1.98494669e-001, -1.46187633e-001,\n         -1.66187591e-001,  4.96238610e-003, -2.23124503e-001,\n          1.07851129e-001, -2.22193709e-001, -1.88330343e-001,\n         -4.67910547e-001, -1.17432026e-001,  1.47030231e-001,\n          2.16600771e-001,  3.90395938e-001,  2.40223048e-001,\n          2.58251898e-001, -1.57699195e-001,  1.20585216e-315,\n         -1.62955945e-001,  1.27965123e-001, -2.31827728e-001,\n          1.29086448e-002,  2.12850476e-001,  1.29652289e-001],\n        [-1.35153733e-001,  4.99238756e-002,  1.23748755e-001,\n          1.00624638e-001, -9.31253164e-002, -7.87638945e-002,\n         -2.49324609e-001, -2.30313639e-001,  5.13891628e-002,\n         -2.96577873e-002,  1.63155306e-001, -1.75857834e-001,\n          8.93964075e-002,  3.62686402e-004,  1.01678989e-001,\n          3.85532550e-001, -1.02705720e-001,  5.77284957e-002,\n          7.94602719e-003, -1.88242611e-001,  8.67853129e-002,\n          8.83923933e-002,  1.73949799e-001, -1.76172179e-315,\n          1.51542499e-002, -2.12159176e-002,  2.56266161e-002,\n         -1.89841084e-004, -7.57528312e-002, -2.56482517e-003],\n        [ 1.84006435e-001,  3.41102111e-001,  9.88749244e-002,\n          8.48869936e-002,  1.57176086e-001,  3.27752578e-002,\n          2.78726304e-001,  7.23638993e-002, -2.27730222e-001,\n          1.89357808e-002,  1.68477384e-001,  1.03695832e-001,\n          1.59599315e-001, -6.55410591e-001, -9.84766526e-002,\n         -2.15747625e-002,  4.10759691e-002, -1.35548549e-001,\n         -5.43842332e-001,  3.74743398e-002,  1.01255306e-001,\n          2.62197205e-001,  3.47112208e-001, -2.17581525e-315,\n         -3.52019256e-002, -1.54769368e-001, -1.79227758e-002,\n         -4.01658003e-005,  1.27741354e-001, -6.27153617e-002],\n        [ 1.96867223e-001,  2.35116516e-001,  4.44892394e-001,\n          1.37671756e-001,  1.59422607e-001, -9.05240129e-003,\n         -3.03487754e-001, -1.14435954e-001,  2.01870349e-001,\n         -3.14898563e-001,  2.74743532e-001, -1.16499772e-001,\n          1.98414458e-001,  2.92236282e-002,  3.75921382e-001,\n          8.57330205e-002,  3.16614431e-001,  6.91108834e-002,\n          1.14588407e-001,  1.00185361e-002,  9.28453175e-002,\n         -1.64071446e-001,  3.81182148e-001,  8.13862179e-316,\n          3.39627308e-001, -2.35377948e-001,  3.35118228e-001,\n          2.23507816e-002,  3.55846741e-001, -2.69635222e-002],\n        [ 2.27876575e-001,  1.35192443e-001,  6.61102126e-002,\n          1.83100550e-001, -3.42975979e-004,  2.55868176e-001,\n          2.25984992e-001,  4.75559045e-002,  2.39109282e-001,\n          4.05301857e-001,  4.06209606e-001,  1.54557788e-001,\n         -7.41782892e-002, -2.02847261e-001,  1.51164216e-001,\n          2.23003960e-001,  1.67778560e-001,  4.88750280e-001,\n          1.14635892e-001,  2.38927535e-001,  1.03451465e-001,\n          3.90060130e-002,  1.19396857e-001, -4.74245120e-315,\n          1.60269177e-001,  8.39154418e-002,  1.74278717e-002,\n         -8.74436975e-002, -3.56233525e-001,  3.06932603e-002],\n        [ 3.23994100e-002,  2.15964070e-001, -1.34903744e-001,\n         -2.37402121e-001,  3.54674881e-001,  4.84514257e-002,\n          1.80188069e-001,  2.45549239e-001, -9.09582581e-002,\n         -1.00925675e-001, -2.18987109e-001, -2.98769469e-001,\n          3.34692611e-002,  3.71684855e-001, -1.85735928e-001,\n         -1.14587503e-001,  1.41091591e-002, -1.64610936e-001,\n         -7.87240183e-002,  3.80176831e-001, -2.08091818e-002,\n         -5.41569269e-002, -3.81880028e-002, -2.38968051e-316,\n         -4.15478089e-001,  5.53532083e-002,  1.34515484e-001,\n         -9.82591796e-003,  2.95759769e-001, -4.77516001e-003],\n        [ 2.10220697e-001,  2.71360288e-001,  3.55655217e-001,\n          5.06553521e-001, -6.71429618e-002,  2.08917572e-001,\n          1.26643354e-001,  3.23129994e-001,  2.40632674e-001,\n          1.93621665e-001,  1.55150881e-001, -7.32033363e-002,\n         -2.52429256e-001,  1.81267240e-001,  3.21538413e-001,\n          4.08752914e-001,  2.05358020e-001,  2.50597187e-001,\n         -1.56629484e-001,  3.97290429e-002,  1.55356129e-001,\n         -8.07970069e-002,  3.35300603e-001, -4.46959522e-315,\n          2.52003012e-001, -2.55969814e-001,  2.91090794e-001,\n         -8.14181988e-003,  2.65331071e-001,  7.95886219e-002],\n        [ 1.21395522e-001,  3.77336210e-002, -8.87421421e-002,\n         -3.97423484e-001,  2.97908979e-001,  9.53683732e-002,\n          6.22952027e-002, -2.90631282e-002, -1.62810421e-001,\n          2.68903198e-002, -1.58273726e-001, -1.85458638e-001,\n          7.35613619e-002, -4.65375140e-001, -3.27765123e-001,\n         -1.12470413e-001, -2.13502978e-001,  1.59214478e-001,\n         -2.60541445e-001,  2.29130357e-001,  4.43360636e-001,\n          2.05008578e-001,  5.73824515e-002,  4.26407764e-315,\n         -3.55771656e-001, -1.86152837e-001, -3.84557429e-001,\n          2.60998055e-002,  2.31001911e-002,  5.18284466e-003],\n        [-5.37149671e-001,  2.75200231e-001,  8.38423493e-003,\n          1.43545651e-001,  5.11501238e-001,  4.19619502e-002,\n         -3.86975054e-001,  6.13506502e-001, -6.46574531e-001,\n          4.63719477e-001, -1.68797460e-001,  1.99837164e-001,\n          1.07731190e-001, -2.03284198e-002,  6.90259606e-002,\n          2.94979864e-001, -3.66345124e-001, -3.38128391e-001,\n          5.17721005e-003,  6.93952663e-001,  6.18739531e-001,\n         -2.34446719e-001, -9.99179592e-002,  3.36789576e-315,\n         -1.34395700e-002, -4.79942888e-001,  1.45648218e-001,\n         -2.39573446e-006,  5.28039124e-001, -6.47907577e-002],\n        [ 3.82851787e-001,  1.55603416e-001, -9.09278857e-002,\n          4.31999975e-003,  2.08431990e-001,  3.15464666e-001,\n         -1.54048423e-001,  3.02391264e-002, -9.37198698e-002,\n          2.00498010e-001, -4.81411760e-002,  1.24812454e-001,\n          1.33941061e-002, -3.87456730e-001,  1.92441299e-002,\n          5.40296422e-002, -1.74176919e-001,  2.80321590e-002,\n         -1.33815865e-002,  6.48015959e-002,  7.95735106e-002,\n         -4.92265001e-002, -1.58132984e-001, -4.54094469e-315,\n          5.32255395e-002, -6.74318376e-002, -1.21173697e-001,\n          1.52426872e-002,  7.01618469e-002, -1.69060810e-001],\n        [-1.00736030e-001,  2.01561975e-001, -4.96770425e-002,\n          7.08835473e-002,  2.55525851e-001, -4.12003064e-002,\n         -6.43616021e-002,  4.82571169e-001, -7.40119199e-002,\n          2.60560746e-001, -3.96537009e-001, -4.79137826e-002,\n          5.68100641e-002, -1.03818557e-001, -3.36166472e-001,\n          6.01381694e-001, -7.15501051e-001, -4.90979242e-001,\n         -5.57041324e-001,  5.73579259e-001,  4.26349734e-001,\n         -5.40001677e-001, -1.52114628e-001,  1.64311025e-315,\n          3.65602469e-004, -1.26376204e-001, -1.58304742e-001,\n         -1.40013416e-002,  2.63722666e-001, -4.54580900e-002],\n        [-7.48715125e-002,  1.65114628e-001, -2.12694291e-001,\n         -6.01496358e-002, -7.14583508e-002, -3.59781890e-001,\n          1.35079049e-002, -4.84790082e-002,  2.88571907e-001,\n          2.40014995e-001,  4.35521052e-001, -1.16650088e-001,\n         -9.78060525e-002, -1.06009543e-002, -3.23153719e-001,\n         -3.42710512e-001,  3.55008264e-001,  7.56988646e-002,\n          1.16380071e-001, -1.00710658e-001, -1.29710777e-002,\n          2.05550237e-001, -2.13583319e-001,  1.60880237e-315,\n          9.27912783e-002,  3.58780576e-001, -3.49619855e-001,\n         -2.77292378e-002, -2.32972384e-001,  2.99728921e-002],\n        [ 1.32849771e-001, -5.85819005e-001,  2.93197144e-001,\n          1.68851692e-001, -2.13058270e-001, -1.69606361e-001,\n          4.41943704e-002, -2.08442992e-001,  3.39859184e-001,\n          5.79880770e-002,  5.09185123e-001,  2.59356060e-001,\n          5.88785659e-002,  1.94494591e-002,  5.30632014e-002,\n          3.60612229e-001,  4.06754847e-001,  6.38752428e-001,\n          2.08314164e-001, -2.84856607e-001,  1.35938721e-001,\n         -7.14661422e-002,  2.09259450e-001, -1.51689506e-315,\n          3.44663422e-001,  2.90680038e-001,  1.57253509e-001,\n          1.61047270e-002,  3.26353123e-002,  1.56210489e-002]]),\n array([[ 1.57534809e-001,  1.65269881e-001, -5.43316337e-001],\n        [ 1.01036479e-001, -1.24785783e-001,  5.91973361e-001],\n        [ 5.75721667e-001, -2.31735621e-001, -6.54337619e-001],\n        [ 6.68832134e-001, -3.82604955e-001, -5.06715952e-001],\n        [-1.17498197e+000,  3.21699340e-002,  5.04350253e-001],\n        [ 2.29328541e-001, -4.38122034e-001,  1.71368005e-002],\n        [-9.58920431e-001,  3.78027249e-001,  1.81595432e-002],\n        [-6.26787427e-001, -1.77374172e-001,  4.88259465e-001],\n        [-4.88019944e-001,  4.09344417e-001, -2.52852710e-001],\n        [ 4.69913731e-001, -5.01603753e-001,  3.60095144e-001],\n        [-1.02267443e-001,  5.87149297e-001, -7.55934005e-001],\n        [ 6.75617085e-001, -7.20657260e-001,  1.67960380e-001],\n        [-1.35640003e-001, -1.15433209e-001, -9.25573998e-002],\n        [-1.83437639e-001,  8.09063765e-001, -7.82329108e-001],\n        [ 3.73623435e-001,  2.08566038e-001, -6.06428752e-001],\n        [ 8.33469768e-001, -8.28365196e-001,  2.98348749e-001],\n        [-1.08528409e-002,  4.62383707e-001, -5.91946546e-001],\n        [-2.10516029e-001,  5.15709091e-001, -8.10306619e-001],\n        [-3.03626071e-001,  4.75372322e-001, -6.25070084e-001],\n        [-8.13606264e-001, -3.40702642e-001,  4.73661816e-002],\n        [-1.67106083e+000,  1.81150819e-001,  2.87724778e-001],\n        [-3.85513705e-001,  1.87025556e-001, -2.52104613e-001],\n        [ 4.35219448e-001, -3.02711409e-001, -8.25379050e-001],\n        [-3.57613704e-315,  4.13853439e-315, -3.02333542e-315],\n        [ 2.49965866e-001, -1.28218833e-001, -3.82681246e-001],\n        [ 1.50041260e-001,  4.65027830e-001, -3.17783270e-001],\n        [ 4.08091883e-001, -3.81748555e-001, -5.70261775e-001],\n        [ 1.68327998e-004, -4.22154333e-003,  1.67450461e-002],\n        [-3.05444820e-003, -4.62370663e-001,  1.75703464e-001],\n        [-9.20155480e-002,  3.83630445e-001,  3.69986010e-001]])]"
     },
     "execution_count": 167,
     "metadata": {},
     "output_type": "execute_result"
    }
   ],
   "source": [
    "mlp.coefs_"
   ]
  },
  {
   "cell_type": "code",
   "execution_count": 168,
   "metadata": {},
   "outputs": [
    {
     "data": {
      "text/plain": "0.8348489553298142"
     },
     "execution_count": 168,
     "metadata": {},
     "output_type": "execute_result"
    }
   ],
   "source": [
    "accuracy_score( y_test, y_pred )"
   ]
  },
  {
   "cell_type": "markdown",
   "metadata": {},
   "source": [
    "## Combine Model Predictions Into Ensemble Predictions\n",
    "\n",
    "The three most popular methods for combining the predictions from different models are:\n",
    "\n",
    "Bagging-> Building multiple models (typically of the same type) from different subsamples of the training dataset.\n",
    "\n",
    "Boosting-> Building multiple models (typically of the same type) each of which learns to fix the prediction errors of a prior model in the chain.\n",
    "\n",
    "Voting-> Building multiple models (typically of differing types) and simple statistics (like calculating the mean) are used to combine predictions."
   ]
  },
  {
   "cell_type": "markdown",
   "metadata": {},
   "source": [
    "### Bagging Algorithms\n",
    "\n",
    "Bootstrap Aggregation or bagging involves taking multiple samples from your training dataset (with replacement) and training a model for each sample.\n",
    "\n",
    "The final output prediction is averaged across the predictions of all of the sub-models.\n",
    "\n",
    "The three bagging models covered in this section are as follows:\n",
    "\n",
    "1) Bagged Decision Trees\n",
    "\n",
    "2) Random Forest\n",
    "\n",
    "3) Extra Trees"
   ]
  },
  {
   "cell_type": "markdown",
   "metadata": {},
   "source": [
    "#### 1. Bagged Decision Trees\n",
    "Bagging performs best with algorithms that have high variance. A popular example are decision trees, often constructed without pruning."
   ]
  },
  {
   "cell_type": "code",
   "execution_count": 169,
   "metadata": {},
   "outputs": [],
   "source": [
    "from sklearn import model_selection\n",
    "from sklearn.ensemble import BaggingClassifier\n",
    "from sklearn.tree import DecisionTreeClassifier"
   ]
  },
  {
   "cell_type": "code",
   "execution_count": 170,
   "metadata": {},
   "outputs": [
    {
     "name": "stdout",
     "output_type": "stream",
     "text": [
      "0.9994284441635907\n"
     ]
    }
   ],
   "source": [
    "seed = 7\n",
    "kfold = model_selection.KFold(n_splits=10, random_state=seed)\n",
    "cart = DecisionTreeClassifier()\n",
    "num_trees = 100\n",
    "model = BaggingClassifier(base_estimator=cart, n_estimators=num_trees, random_state=seed)\n",
    "results = model_selection.cross_val_score(model, X_train, y_train, cv=kfold)\n",
    "print(results.mean())"
   ]
  },
  {
   "cell_type": "code",
   "execution_count": 171,
   "metadata": {},
   "outputs": [
    {
     "data": {
      "text/plain": "BaggingClassifier(base_estimator=DecisionTreeClassifier(class_weight=None,\n                                                        criterion='gini',\n                                                        max_depth=None,\n                                                        max_features=None,\n                                                        max_leaf_nodes=None,\n                                                        min_impurity_decrease=0.0,\n                                                        min_impurity_split=None,\n                                                        min_samples_leaf=1,\n                                                        min_samples_split=2,\n                                                        min_weight_fraction_leaf=0.0,\n                                                        presort=False,\n                                                        random_state=None,\n                                                        splitter='best'),\n                  bootstrap=True, bootstrap_features=False, max_features=1.0,\n                  max_samples=1.0, n_estimators=100, n_jobs=None,\n                  oob_score=False, random_state=7, verbose=0, warm_start=False)"
     },
     "execution_count": 171,
     "metadata": {},
     "output_type": "execute_result"
    }
   ],
   "source": [
    "model.fit(X_train, y_train)"
   ]
  },
  {
   "cell_type": "code",
   "execution_count": 172,
   "metadata": {},
   "outputs": [
    {
     "data": {
      "text/plain": "array([1., 0., 2., ..., 1., 0., 2.])"
     },
     "execution_count": 172,
     "metadata": {},
     "output_type": "execute_result"
    }
   ],
   "source": [
    "y_pred=model.predict(X_test)\n",
    "y_pred"
   ]
  },
  {
   "cell_type": "code",
   "execution_count": 173,
   "metadata": {},
   "outputs": [
    {
     "data": {
      "text/plain": "0.8117375682029898"
     },
     "execution_count": 173,
     "metadata": {},
     "output_type": "execute_result"
    }
   ],
   "source": [
    "accuracy_score( y_test, y_pred )"
   ]
  },
  {
   "cell_type": "markdown",
   "metadata": {},
   "source": [
    "#### 2. Random Forest\n",
    "Random forest is an extension of bagged decision trees."
   ]
  },
  {
   "cell_type": "code",
   "execution_count": 174,
   "metadata": {},
   "outputs": [],
   "source": [
    "from sklearn.ensemble import RandomForestClassifier"
   ]
  },
  {
   "cell_type": "code",
   "execution_count": 175,
   "metadata": {},
   "outputs": [
    {
     "name": "stdout",
     "output_type": "stream",
     "text": [
      "0.9995395804757653\n"
     ]
    }
   ],
   "source": [
    "seed = 7\n",
    "num_trees = 100\n",
    "max_features = 3\n",
    "kfold = model_selection.KFold(n_splits=10, random_state=seed)\n",
    "model = RandomForestClassifier(n_estimators=num_trees, max_features=max_features)\n",
    "results = model_selection.cross_val_score(model, X_train, y_train, cv=kfold)\n",
    "print(results.mean())"
   ]
  },
  {
   "cell_type": "code",
   "execution_count": 176,
   "metadata": {},
   "outputs": [
    {
     "data": {
      "text/plain": "RandomForestClassifier(bootstrap=True, class_weight=None, criterion='gini',\n                       max_depth=None, max_features=3, max_leaf_nodes=None,\n                       min_impurity_decrease=0.0, min_impurity_split=None,\n                       min_samples_leaf=1, min_samples_split=2,\n                       min_weight_fraction_leaf=0.0, n_estimators=100,\n                       n_jobs=None, oob_score=False, random_state=None,\n                       verbose=0, warm_start=False)"
     },
     "execution_count": 176,
     "metadata": {},
     "output_type": "execute_result"
    }
   ],
   "source": [
    "model.fit(X_train, y_train)"
   ]
  },
  {
   "cell_type": "code",
   "execution_count": 177,
   "metadata": {},
   "outputs": [
    {
     "data": {
      "text/plain": "array([1., 0., 2., ..., 1., 0., 2.])"
     },
     "execution_count": 177,
     "metadata": {},
     "output_type": "execute_result"
    }
   ],
   "source": [
    "y_pred=model.predict(X_test)\n",
    "y_pred"
   ]
  },
  {
   "cell_type": "code",
   "execution_count": 178,
   "metadata": {},
   "outputs": [
    {
     "data": {
      "text/plain": "0.8251341879962738"
     },
     "execution_count": 178,
     "metadata": {},
     "output_type": "execute_result"
    }
   ],
   "source": [
    "accuracy_score( y_test, y_pred )"
   ]
  },
  {
   "cell_type": "markdown",
   "metadata": {},
   "source": [
    "#### 3. Extra Trees\n",
    "Extra Trees are another modification of bagging where random trees are constructed from samples of the training dataset."
   ]
  },
  {
   "cell_type": "code",
   "execution_count": 179,
   "metadata": {},
   "outputs": [],
   "source": [
    "from sklearn.ensemble import ExtraTreesClassifier"
   ]
  },
  {
   "cell_type": "code",
   "execution_count": 180,
   "metadata": {},
   "outputs": [
    {
     "name": "stdout",
     "output_type": "stream",
     "text": [
      "0.9995078268836401\n"
     ]
    }
   ],
   "source": [
    "seed = 7\n",
    "num_trees = 100\n",
    "max_features = 7\n",
    "kfold = model_selection.KFold(n_splits=10, random_state=seed)\n",
    "model = ExtraTreesClassifier(n_estimators=num_trees, max_features=max_features)\n",
    "results = model_selection.cross_val_score(model, X_train, y_train, cv=kfold)\n",
    "print(results.mean())"
   ]
  },
  {
   "cell_type": "code",
   "execution_count": 181,
   "metadata": {},
   "outputs": [
    {
     "data": {
      "text/plain": "ExtraTreesClassifier(bootstrap=False, class_weight=None, criterion='gini',\n                     max_depth=None, max_features=7, max_leaf_nodes=None,\n                     min_impurity_decrease=0.0, min_impurity_split=None,\n                     min_samples_leaf=1, min_samples_split=2,\n                     min_weight_fraction_leaf=0.0, n_estimators=100,\n                     n_jobs=None, oob_score=False, random_state=None, verbose=0,\n                     warm_start=False)"
     },
     "execution_count": 181,
     "metadata": {},
     "output_type": "execute_result"
    }
   ],
   "source": [
    "model.fit(X_train, y_train)"
   ]
  },
  {
   "cell_type": "code",
   "execution_count": 182,
   "metadata": {},
   "outputs": [
    {
     "data": {
      "text/plain": "array([1., 0., 2., ..., 1., 0., 2.])"
     },
     "execution_count": 182,
     "metadata": {},
     "output_type": "execute_result"
    }
   ],
   "source": [
    "y_pred=model.predict(X_test)\n",
    "y_pred"
   ]
  },
  {
   "cell_type": "code",
   "execution_count": 183,
   "metadata": {},
   "outputs": [
    {
     "data": {
      "text/plain": "0.8062369693474692"
     },
     "execution_count": 183,
     "metadata": {},
     "output_type": "execute_result"
    }
   ],
   "source": [
    "accuracy_score( y_test, y_pred )"
   ]
  },
  {
   "cell_type": "markdown",
   "metadata": {},
   "source": [
    "### Boosting Algorithms\n",
    "\n",
    "Boosting ensemble algorithms creates a sequence of models that attempt to correct the mistakes of the models before them in the sequence.\n",
    "\n",
    "Once created, the models make predictions which may be weighted by their demonstrated accuracy and the results are combined to create a final output prediction.\n",
    "\n",
    "The two most common boosting ensemble machine learning algorithms are:\n",
    "\n",
    "1) AdaBoost\n",
    "\n",
    "2) Stochastic Gradient Boosting"
   ]
  },
  {
   "cell_type": "markdown",
   "metadata": {},
   "source": [
    "#### 1. AdaBoost\n",
    "\n",
    "AdaBoost was perhaps the first successful boosting ensemble algorithm. It generally works by weighting instances in the dataset by how easy or difficult they are to classify, allowing the algorithm to pay or or less attention to them in the construction of subsequent models."
   ]
  },
  {
   "cell_type": "code",
   "execution_count": 184,
   "metadata": {},
   "outputs": [],
   "source": [
    "from sklearn.ensemble import AdaBoostClassifier"
   ]
  },
  {
   "cell_type": "code",
   "execution_count": 185,
   "metadata": {},
   "outputs": [
    {
     "name": "stdout",
     "output_type": "stream",
     "text": [
      "0.9982297655949475\n"
     ]
    }
   ],
   "source": [
    "seed = 7\n",
    "num_trees = 30\n",
    "kfold = model_selection.KFold(n_splits=10, random_state=seed)\n",
    "model = AdaBoostClassifier(n_estimators=num_trees, random_state=seed)\n",
    "results = model_selection.cross_val_score(model, X_train, y_train, cv=kfold)\n",
    "print(results.mean())"
   ]
  },
  {
   "cell_type": "code",
   "execution_count": 186,
   "metadata": {},
   "outputs": [
    {
     "data": {
      "text/plain": "AdaBoostClassifier(algorithm='SAMME.R', base_estimator=None, learning_rate=1.0,\n                   n_estimators=30, random_state=7)"
     },
     "execution_count": 186,
     "metadata": {},
     "output_type": "execute_result"
    }
   ],
   "source": [
    "model.fit(X_train, y_train)"
   ]
  },
  {
   "cell_type": "code",
   "execution_count": 187,
   "metadata": {},
   "outputs": [
    {
     "data": {
      "text/plain": "array([1., 0., 2., ..., 1., 0., 1.])"
     },
     "execution_count": 187,
     "metadata": {},
     "output_type": "execute_result"
    }
   ],
   "source": [
    "y_pred=model.predict(X_test)\n",
    "y_pred"
   ]
  },
  {
   "cell_type": "code",
   "execution_count": 188,
   "metadata": {},
   "outputs": [
    {
     "data": {
      "text/plain": "0.8369782194029188"
     },
     "execution_count": 188,
     "metadata": {},
     "output_type": "execute_result"
    }
   ],
   "source": [
    "accuracy_score( y_test, y_pred )"
   ]
  },
  {
   "cell_type": "markdown",
   "metadata": {},
   "source": [
    "#### 2. Stochastic Gradient Boosting\n",
    "Stochastic Gradient Boosting (also called Gradient Boosting Machines) are one of the most sophisticated ensemble techniques. It is also a technique that is proving to be perhaps of the the best techniques available for improving performance via ensembles."
   ]
  },
  {
   "cell_type": "code",
   "execution_count": 189,
   "metadata": {},
   "outputs": [],
   "source": [
    "from sklearn.ensemble import GradientBoostingClassifier"
   ]
  },
  {
   "cell_type": "code",
   "execution_count": 190,
   "metadata": {},
   "outputs": [
    {
     "name": "stdout",
     "output_type": "stream",
     "text": [
      "0.999023588384522\n"
     ]
    }
   ],
   "source": [
    "seed = 7\n",
    "num_trees = 100\n",
    "kfold = model_selection.KFold(n_splits=10, random_state=seed)\n",
    "model = GradientBoostingClassifier(n_estimators=num_trees, random_state=seed)\n",
    "results = model_selection.cross_val_score(model, X_train, y_train, cv=kfold)\n",
    "print(results.mean())"
   ]
  },
  {
   "cell_type": "code",
   "execution_count": 191,
   "metadata": {},
   "outputs": [
    {
     "data": {
      "text/plain": "GradientBoostingClassifier(criterion='friedman_mse', init=None,\n                           learning_rate=0.1, loss='deviance', max_depth=3,\n                           max_features=None, max_leaf_nodes=None,\n                           min_impurity_decrease=0.0, min_impurity_split=None,\n                           min_samples_leaf=1, min_samples_split=2,\n                           min_weight_fraction_leaf=0.0, n_estimators=100,\n                           n_iter_no_change=None, presort='auto',\n                           random_state=7, subsample=1.0, tol=0.0001,\n                           validation_fraction=0.1, verbose=0,\n                           warm_start=False)"
     },
     "execution_count": 191,
     "metadata": {},
     "output_type": "execute_result"
    }
   ],
   "source": [
    "model.fit(X_train, y_train)"
   ]
  },
  {
   "cell_type": "code",
   "execution_count": 192,
   "metadata": {},
   "outputs": [
    {
     "data": {
      "text/plain": "array([1., 0., 2., ..., 1., 0., 1.])"
     },
     "execution_count": 192,
     "metadata": {},
     "output_type": "execute_result"
    }
   ],
   "source": [
    "y_pred=model.predict(X_test)\n",
    "y_pred"
   ]
  },
  {
   "cell_type": "code",
   "execution_count": 193,
   "metadata": {},
   "outputs": [
    {
     "data": {
      "text/plain": "0.8125360422304041"
     },
     "execution_count": 193,
     "metadata": {},
     "output_type": "execute_result"
    }
   ],
   "source": [
    "accuracy_score( y_test, y_pred )"
   ]
  },
  {
   "cell_type": "markdown",
   "metadata": {},
   "source": [
    "### Voting Ensemble\n",
    "\n",
    "Voting is one of the simplest ways of combining the predictions from multiple machine learning algorithms.\n",
    "\n",
    "It works by first creating two or more standalone models from your training dataset. A Voting Classifier can then be used to wrap your models and average the predictions of the sub-models when asked to make predictions for new data.\n",
    "\n",
    "The predictions of the sub-models can be weighted, but specifying the weights for classifiers manually or even heuristically is difficult. More advanced methods can learn how to best weight the predictions from submodels, but this is called stacking (stacked generalization) and is currently not provided in scikit-learn."
   ]
  },
  {
   "cell_type": "code",
   "execution_count": 194,
   "metadata": {},
   "outputs": [],
   "source": [
    "from sklearn.svm import SVC\n",
    "from sklearn.ensemble import VotingClassifier"
   ]
  },
  {
   "cell_type": "code",
   "execution_count": 196,
   "metadata": {
    "scrolled": true
   },
   "outputs": [
    {
     "name": "stderr",
     "output_type": "stream",
     "text": [
      "D:\\Anaconda3\\envs\\tf1\\lib\\site-packages\\sklearn\\linear_model\\logistic.py:432: FutureWarning: Default solver will be changed to 'lbfgs' in 0.22. Specify a solver to silence this warning.\n",
      "  FutureWarning)\n",
      "D:\\Anaconda3\\envs\\tf1\\lib\\site-packages\\sklearn\\linear_model\\logistic.py:469: FutureWarning: Default multi_class will be changed to 'auto' in 0.22. Specify the multi_class option to silence this warning.\n",
      "  \"this warning.\", FutureWarning)\n",
      "D:\\Anaconda3\\envs\\tf1\\lib\\site-packages\\sklearn\\svm\\base.py:193: FutureWarning: The default value of gamma will change from 'auto' to 'scale' in version 0.22 to account better for unscaled features. Set gamma explicitly to 'auto' or 'scale' to avoid this warning.\n",
      "  \"avoid this warning.\", FutureWarning)\n",
      "D:\\Anaconda3\\envs\\tf1\\lib\\site-packages\\sklearn\\linear_model\\logistic.py:432: FutureWarning: Default solver will be changed to 'lbfgs' in 0.22. Specify a solver to silence this warning.\n",
      "  FutureWarning)\n",
      "D:\\Anaconda3\\envs\\tf1\\lib\\site-packages\\sklearn\\linear_model\\logistic.py:469: FutureWarning: Default multi_class will be changed to 'auto' in 0.22. Specify the multi_class option to silence this warning.\n",
      "  \"this warning.\", FutureWarning)\n",
      "D:\\Anaconda3\\envs\\tf1\\lib\\site-packages\\sklearn\\svm\\base.py:193: FutureWarning: The default value of gamma will change from 'auto' to 'scale' in version 0.22 to account better for unscaled features. Set gamma explicitly to 'auto' or 'scale' to avoid this warning.\n",
      "  \"avoid this warning.\", FutureWarning)\n"
     ]
    },
    {
     "name": "stdout",
     "output_type": "stream",
     "text": [
      "0.9988092592004573\n"
     ]
    }
   ],
   "source": [
    "seed = 7\n",
    "kfold = model_selection.KFold(n_splits=2, random_state=seed)\n",
    "# create the sub models\n",
    "estimators = []\n",
    "model1 = LogisticRegression()\n",
    "estimators.append(('logistic', model1))\n",
    "model2 = DecisionTreeClassifier()\n",
    "estimators.append(('cart', model2))\n",
    "model3 = SVC()\n",
    "estimators.append(('svm', model3))\n",
    "# create the ensemble model\n",
    "ensemble = VotingClassifier(estimators)\n",
    "results = model_selection.cross_val_score(ensemble, X_train, y_train, cv=kfold)\n",
    "print(results.mean())"
   ]
  },
  {
   "cell_type": "code",
   "execution_count": 197,
   "metadata": {},
   "outputs": [
    {
     "name": "stderr",
     "output_type": "stream",
     "text": [
      "D:\\Anaconda3\\envs\\tf1\\lib\\site-packages\\sklearn\\linear_model\\logistic.py:432: FutureWarning: Default solver will be changed to 'lbfgs' in 0.22. Specify a solver to silence this warning.\n",
      "  FutureWarning)\n",
      "D:\\Anaconda3\\envs\\tf1\\lib\\site-packages\\sklearn\\linear_model\\logistic.py:469: FutureWarning: Default multi_class will be changed to 'auto' in 0.22. Specify the multi_class option to silence this warning.\n",
      "  \"this warning.\", FutureWarning)\n",
      "D:\\Anaconda3\\envs\\tf1\\lib\\site-packages\\sklearn\\svm\\base.py:193: FutureWarning: The default value of gamma will change from 'auto' to 'scale' in version 0.22 to account better for unscaled features. Set gamma explicitly to 'auto' or 'scale' to avoid this warning.\n",
      "  \"avoid this warning.\", FutureWarning)\n"
     ]
    },
    {
     "data": {
      "text/plain": "VotingClassifier(estimators=[('logistic',\n                              LogisticRegression(C=1.0, class_weight=None,\n                                                 dual=False, fit_intercept=True,\n                                                 intercept_scaling=1,\n                                                 l1_ratio=None, max_iter=100,\n                                                 multi_class='warn',\n                                                 n_jobs=None, penalty='l2',\n                                                 random_state=None,\n                                                 solver='warn', tol=0.0001,\n                                                 verbose=0, warm_start=False)),\n                             ('cart',\n                              DecisionTreeClassifier(class_weight=None,\n                                                     criterion='gini',\n                                                     max_dep...\n                                                     min_weight_fraction_leaf=0.0,\n                                                     presort=False,\n                                                     random_state=None,\n                                                     splitter='best')),\n                             ('svm',\n                              SVC(C=1.0, cache_size=200, class_weight=None,\n                                  coef0=0.0, decision_function_shape='ovr',\n                                  degree=3, gamma='auto_deprecated',\n                                  kernel='rbf', max_iter=-1, probability=False,\n                                  random_state=None, shrinking=True, tol=0.001,\n                                  verbose=False))],\n                 flatten_transform=True, n_jobs=None, voting='hard',\n                 weights=None)"
     },
     "execution_count": 197,
     "metadata": {},
     "output_type": "execute_result"
    }
   ],
   "source": [
    "ensemble.fit(X_train, y_train)"
   ]
  },
  {
   "cell_type": "code",
   "execution_count": 198,
   "metadata": {},
   "outputs": [
    {
     "data": {
      "text/plain": "array([1., 0., 2., ..., 1., 0., 2.])"
     },
     "execution_count": 198,
     "metadata": {},
     "output_type": "execute_result"
    }
   ],
   "source": [
    "y_pred=ensemble.predict(X_test)\n",
    "y_pred"
   ]
  },
  {
   "cell_type": "code",
   "execution_count": 199,
   "metadata": {},
   "outputs": [
    {
     "data": {
      "text/plain": "0.8115157698620414"
     },
     "execution_count": 199,
     "metadata": {},
     "output_type": "execute_result"
    }
   ],
   "source": [
    "accuracy_score( y_test, y_pred )"
   ]
  },
  {
   "cell_type": "markdown",
   "metadata": {},
   "source": [
    "# Save Model"
   ]
  },
  {
   "cell_type": "code",
   "execution_count": 200,
   "metadata": {},
   "outputs": [],
   "source": [
    "import pickle\n",
    "# Saving model to disk of random forest\n",
    "pickle.dump(lr_clf, open('model.pkl','wb'))"
   ]
  },
  {
   "cell_type": "markdown",
   "metadata": {},
   "source": [
    "# Load Model and Predict"
   ]
  },
  {
   "cell_type": "code",
   "execution_count": 201,
   "metadata": {},
   "outputs": [
    {
     "data": {
      "text/plain": "array([1.])"
     },
     "execution_count": 201,
     "metadata": {},
     "output_type": "execute_result"
    }
   ],
   "source": [
    "import pickle\n",
    "model=pickle.load(open('model.pkl', 'rb'))\n",
    "model.predict([[1,0,0,229,0.06,0.00,0.04,10,0,0,21,0,0.04,0.00,0]])"
   ]
  },
  {
   "cell_type": "code",
   "execution_count": 201,
   "metadata": {},
   "outputs": [],
   "source": []
  }
 ],
 "metadata": {
  "kernelspec": {
   "name": "pycharm-43d6ef98",
   "language": "python",
   "display_name": "PyCharm (数据挖掘)"
  },
  "language_info": {
   "codemirror_mode": {
    "name": "ipython",
    "version": 3
   },
   "file_extension": ".py",
   "mimetype": "text/x-python",
   "name": "python",
   "nbconvert_exporter": "python",
   "pygments_lexer": "ipython3",
   "version": "3.7.7"
  }
 },
 "nbformat": 4,
 "nbformat_minor": 2
}